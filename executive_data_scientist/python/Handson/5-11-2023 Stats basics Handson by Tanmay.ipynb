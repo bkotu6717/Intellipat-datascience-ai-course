{
 "cells": [
  {
   "cell_type": "markdown",
   "id": "af414428",
   "metadata": {},
   "source": [
    "# stats basic Handson/ casestudy"
   ]
  },
  {
   "cell_type": "code",
   "execution_count": 1,
   "id": "e2a48c8a",
   "metadata": {},
   "outputs": [],
   "source": [
    "import numpy as np\n",
    "import pandas as pd\n",
    "import matplotlib.pyplot as plt"
   ]
  },
  {
   "cell_type": "code",
   "execution_count": 2,
   "id": "56488adf",
   "metadata": {},
   "outputs": [],
   "source": [
    "df=pd.read_csv(\"country_profile_variables.csv\")"
   ]
  },
  {
   "cell_type": "code",
   "execution_count": 3,
   "id": "0bb80325",
   "metadata": {},
   "outputs": [
    {
     "data": {
      "text/html": [
       "<div>\n",
       "<style scoped>\n",
       "    .dataframe tbody tr th:only-of-type {\n",
       "        vertical-align: middle;\n",
       "    }\n",
       "\n",
       "    .dataframe tbody tr th {\n",
       "        vertical-align: top;\n",
       "    }\n",
       "\n",
       "    .dataframe thead th {\n",
       "        text-align: right;\n",
       "    }\n",
       "</style>\n",
       "<table border=\"1\" class=\"dataframe\">\n",
       "  <thead>\n",
       "    <tr style=\"text-align: right;\">\n",
       "      <th></th>\n",
       "      <th>country</th>\n",
       "      <th>Region</th>\n",
       "      <th>Surface area (km2)</th>\n",
       "      <th>Population in thousands (2017)</th>\n",
       "      <th>Population density (per km2, 2017)</th>\n",
       "      <th>Sex ratio (m per 100 f, 2017)</th>\n",
       "      <th>GDP: Gross domestic product (million current US$)</th>\n",
       "      <th>GDP growth rate (annual %, const. 2005 prices)</th>\n",
       "      <th>GDP per capita (current US$)</th>\n",
       "      <th>Economy: Agriculture (% of GVA)</th>\n",
       "      <th>...</th>\n",
       "      <th>Mobile-cellular subscriptions (per 100 inhabitants).1</th>\n",
       "      <th>Individuals using the Internet (per 100 inhabitants)</th>\n",
       "      <th>Threatened species (number)</th>\n",
       "      <th>Forested area (% of land area)</th>\n",
       "      <th>CO2 emission estimates (million tons/tons per capita)</th>\n",
       "      <th>Energy production, primary (Petajoules)</th>\n",
       "      <th>Energy supply per capita (Gigajoules)</th>\n",
       "      <th>Pop. using improved drinking water (urban/rural, %)</th>\n",
       "      <th>Pop. using improved sanitation facilities (urban/rural, %)</th>\n",
       "      <th>Net Official Development Assist. received (% of GNI)</th>\n",
       "    </tr>\n",
       "  </thead>\n",
       "  <tbody>\n",
       "    <tr>\n",
       "      <th>0</th>\n",
       "      <td>Afghanistan</td>\n",
       "      <td>SouthernAsia</td>\n",
       "      <td>652864</td>\n",
       "      <td>35530</td>\n",
       "      <td>54.4</td>\n",
       "      <td>106.3</td>\n",
       "      <td>20270</td>\n",
       "      <td>-2.4</td>\n",
       "      <td>623.2</td>\n",
       "      <td>23.3</td>\n",
       "      <td>...</td>\n",
       "      <td>8.3</td>\n",
       "      <td>42</td>\n",
       "      <td>2.1</td>\n",
       "      <td>9.8/0.3</td>\n",
       "      <td>63</td>\n",
       "      <td>5</td>\n",
       "      <td>78.2/47.0</td>\n",
       "      <td>45.1/27.0</td>\n",
       "      <td>21.43</td>\n",
       "      <td>-99</td>\n",
       "    </tr>\n",
       "    <tr>\n",
       "      <th>1</th>\n",
       "      <td>Albania</td>\n",
       "      <td>SouthernEurope</td>\n",
       "      <td>28748</td>\n",
       "      <td>2930</td>\n",
       "      <td>106.9</td>\n",
       "      <td>101.9</td>\n",
       "      <td>11541</td>\n",
       "      <td>2.6</td>\n",
       "      <td>3984.2</td>\n",
       "      <td>22.4</td>\n",
       "      <td>...</td>\n",
       "      <td>63.3</td>\n",
       "      <td>130</td>\n",
       "      <td>28.2</td>\n",
       "      <td>5.7/2.0</td>\n",
       "      <td>84</td>\n",
       "      <td>36</td>\n",
       "      <td>94.9/95.2</td>\n",
       "      <td>95.5/90.2</td>\n",
       "      <td>2.96</td>\n",
       "      <td>-99</td>\n",
       "    </tr>\n",
       "    <tr>\n",
       "      <th>2</th>\n",
       "      <td>Algeria</td>\n",
       "      <td>NorthernAfrica</td>\n",
       "      <td>2381741</td>\n",
       "      <td>41318</td>\n",
       "      <td>17.3</td>\n",
       "      <td>102.0</td>\n",
       "      <td>164779</td>\n",
       "      <td>3.8</td>\n",
       "      <td>4154.1</td>\n",
       "      <td>12.2</td>\n",
       "      <td>...</td>\n",
       "      <td>38.2</td>\n",
       "      <td>135</td>\n",
       "      <td>0.8</td>\n",
       "      <td>145.4/3.7</td>\n",
       "      <td>5900</td>\n",
       "      <td>55</td>\n",
       "      <td>84.3/81.8</td>\n",
       "      <td>89.8/82.2</td>\n",
       "      <td>0.05</td>\n",
       "      <td>-99</td>\n",
       "    </tr>\n",
       "    <tr>\n",
       "      <th>3</th>\n",
       "      <td>American Samoa</td>\n",
       "      <td>Polynesia</td>\n",
       "      <td>199</td>\n",
       "      <td>56</td>\n",
       "      <td>278.2</td>\n",
       "      <td>103.6</td>\n",
       "      <td>-99</td>\n",
       "      <td>-99</td>\n",
       "      <td>-99.0</td>\n",
       "      <td>-99</td>\n",
       "      <td>...</td>\n",
       "      <td>-99</td>\n",
       "      <td>92</td>\n",
       "      <td>87.9</td>\n",
       "      <td>-99</td>\n",
       "      <td>-99</td>\n",
       "      <td>-99</td>\n",
       "      <td>100.0/100.0</td>\n",
       "      <td>62.5/62.5</td>\n",
       "      <td>-99</td>\n",
       "      <td>-99</td>\n",
       "    </tr>\n",
       "    <tr>\n",
       "      <th>4</th>\n",
       "      <td>Andorra</td>\n",
       "      <td>SouthernEurope</td>\n",
       "      <td>468</td>\n",
       "      <td>77</td>\n",
       "      <td>163.8</td>\n",
       "      <td>102.3</td>\n",
       "      <td>2812</td>\n",
       "      <td>0.8</td>\n",
       "      <td>39896.4</td>\n",
       "      <td>0.5</td>\n",
       "      <td>...</td>\n",
       "      <td>96.9</td>\n",
       "      <td>13</td>\n",
       "      <td>34.0</td>\n",
       "      <td>0.5/6.4</td>\n",
       "      <td>1</td>\n",
       "      <td>119</td>\n",
       "      <td>100.0/100.0</td>\n",
       "      <td>100.0/100.0</td>\n",
       "      <td>-99</td>\n",
       "      <td>-99</td>\n",
       "    </tr>\n",
       "    <tr>\n",
       "      <th>...</th>\n",
       "      <td>...</td>\n",
       "      <td>...</td>\n",
       "      <td>...</td>\n",
       "      <td>...</td>\n",
       "      <td>...</td>\n",
       "      <td>...</td>\n",
       "      <td>...</td>\n",
       "      <td>...</td>\n",
       "      <td>...</td>\n",
       "      <td>...</td>\n",
       "      <td>...</td>\n",
       "      <td>...</td>\n",
       "      <td>...</td>\n",
       "      <td>...</td>\n",
       "      <td>...</td>\n",
       "      <td>...</td>\n",
       "      <td>...</td>\n",
       "      <td>...</td>\n",
       "      <td>...</td>\n",
       "      <td>...</td>\n",
       "      <td>...</td>\n",
       "    </tr>\n",
       "    <tr>\n",
       "      <th>224</th>\n",
       "      <td>Wallis and Futuna Islands</td>\n",
       "      <td>Polynesia</td>\n",
       "      <td>142</td>\n",
       "      <td>12</td>\n",
       "      <td>84.1</td>\n",
       "      <td>93.4</td>\n",
       "      <td>-99</td>\n",
       "      <td>-99</td>\n",
       "      <td>-99.0</td>\n",
       "      <td>-99</td>\n",
       "      <td>...</td>\n",
       "      <td>9.0</td>\n",
       "      <td>89</td>\n",
       "      <td>41.6</td>\n",
       "      <td>~0.0/1.6</td>\n",
       "      <td>-99</td>\n",
       "      <td>26</td>\n",
       "      <td>-99</td>\n",
       "      <td>-99</td>\n",
       "      <td>-99</td>\n",
       "      <td>-99</td>\n",
       "    </tr>\n",
       "    <tr>\n",
       "      <th>225</th>\n",
       "      <td>Western Sahara</td>\n",
       "      <td>NorthernAfrica</td>\n",
       "      <td>266000</td>\n",
       "      <td>553</td>\n",
       "      <td>2.1</td>\n",
       "      <td>110.1</td>\n",
       "      <td>-99</td>\n",
       "      <td>-99</td>\n",
       "      <td>-99.0</td>\n",
       "      <td>-99</td>\n",
       "      <td>...</td>\n",
       "      <td>-99</td>\n",
       "      <td>49</td>\n",
       "      <td>2.7</td>\n",
       "      <td>-99</td>\n",
       "      <td>-99</td>\n",
       "      <td>-99</td>\n",
       "      <td>-99</td>\n",
       "      <td>-99</td>\n",
       "      <td>-99</td>\n",
       "      <td>-99</td>\n",
       "    </tr>\n",
       "    <tr>\n",
       "      <th>226</th>\n",
       "      <td>Yemen</td>\n",
       "      <td>WesternAsia</td>\n",
       "      <td>527968</td>\n",
       "      <td>28250</td>\n",
       "      <td>53.5</td>\n",
       "      <td>102.1</td>\n",
       "      <td>29688</td>\n",
       "      <td>-28.1</td>\n",
       "      <td>1106.4</td>\n",
       "      <td>14.7</td>\n",
       "      <td>...</td>\n",
       "      <td>25.1</td>\n",
       "      <td>298</td>\n",
       "      <td>1.0</td>\n",
       "      <td>22.7/0.9</td>\n",
       "      <td>668</td>\n",
       "      <td>12</td>\n",
       "      <td>72.0/46.5</td>\n",
       "      <td>92.5/34.1</td>\n",
       "      <td>2.99</td>\n",
       "      <td>-99</td>\n",
       "    </tr>\n",
       "    <tr>\n",
       "      <th>227</th>\n",
       "      <td>Zambia</td>\n",
       "      <td>EasternAfrica</td>\n",
       "      <td>752612</td>\n",
       "      <td>17094</td>\n",
       "      <td>23.0</td>\n",
       "      <td>98.5</td>\n",
       "      <td>21255</td>\n",
       "      <td>2.9</td>\n",
       "      <td>1311.1</td>\n",
       "      <td>8.2</td>\n",
       "      <td>...</td>\n",
       "      <td>21.0</td>\n",
       "      <td>88</td>\n",
       "      <td>65.6</td>\n",
       "      <td>4.5/0.3</td>\n",
       "      <td>374</td>\n",
       "      <td>26</td>\n",
       "      <td>85.6/51.3</td>\n",
       "      <td>55.6/35.7</td>\n",
       "      <td>3.96</td>\n",
       "      <td>-99</td>\n",
       "    </tr>\n",
       "    <tr>\n",
       "      <th>228</th>\n",
       "      <td>Zimbabwe</td>\n",
       "      <td>EasternAfrica</td>\n",
       "      <td>390757</td>\n",
       "      <td>16530</td>\n",
       "      <td>42.7</td>\n",
       "      <td>95.0</td>\n",
       "      <td>13893</td>\n",
       "      <td>1.1</td>\n",
       "      <td>890.4</td>\n",
       "      <td>13.0</td>\n",
       "      <td>...</td>\n",
       "      <td>16.4</td>\n",
       "      <td>89</td>\n",
       "      <td>37.2</td>\n",
       "      <td>12.0/0.8</td>\n",
       "      <td>482</td>\n",
       "      <td>30</td>\n",
       "      <td>97.0/67.3</td>\n",
       "      <td>49.3/30.8</td>\n",
       "      <td>6.00</td>\n",
       "      <td>-99</td>\n",
       "    </tr>\n",
       "  </tbody>\n",
       "</table>\n",
       "<p>229 rows × 50 columns</p>\n",
       "</div>"
      ],
      "text/plain": [
       "                       country          Region Surface area (km2)  \\\n",
       "0                  Afghanistan    SouthernAsia             652864   \n",
       "1                      Albania  SouthernEurope              28748   \n",
       "2                      Algeria  NorthernAfrica            2381741   \n",
       "3               American Samoa       Polynesia                199   \n",
       "4                      Andorra  SouthernEurope                468   \n",
       "..                         ...             ...                ...   \n",
       "224  Wallis and Futuna Islands       Polynesia                142   \n",
       "225             Western Sahara  NorthernAfrica             266000   \n",
       "226                      Yemen     WesternAsia             527968   \n",
       "227                     Zambia   EasternAfrica             752612   \n",
       "228                   Zimbabwe   EasternAfrica             390757   \n",
       "\n",
       "     Population in thousands (2017)  Population density (per km2, 2017)  \\\n",
       "0                             35530                                54.4   \n",
       "1                              2930                               106.9   \n",
       "2                             41318                                17.3   \n",
       "3                                56                               278.2   \n",
       "4                                77                               163.8   \n",
       "..                              ...                                 ...   \n",
       "224                              12                                84.1   \n",
       "225                             553                                 2.1   \n",
       "226                           28250                                53.5   \n",
       "227                           17094                                23.0   \n",
       "228                           16530                                42.7   \n",
       "\n",
       "     Sex ratio (m per 100 f, 2017)  \\\n",
       "0                            106.3   \n",
       "1                            101.9   \n",
       "2                            102.0   \n",
       "3                            103.6   \n",
       "4                            102.3   \n",
       "..                             ...   \n",
       "224                           93.4   \n",
       "225                          110.1   \n",
       "226                          102.1   \n",
       "227                           98.5   \n",
       "228                           95.0   \n",
       "\n",
       "     GDP: Gross domestic product (million current US$)  \\\n",
       "0                                                20270   \n",
       "1                                                11541   \n",
       "2                                               164779   \n",
       "3                                                  -99   \n",
       "4                                                 2812   \n",
       "..                                                 ...   \n",
       "224                                                -99   \n",
       "225                                                -99   \n",
       "226                                              29688   \n",
       "227                                              21255   \n",
       "228                                              13893   \n",
       "\n",
       "    GDP growth rate (annual %, const. 2005 prices)  \\\n",
       "0                                             -2.4   \n",
       "1                                              2.6   \n",
       "2                                              3.8   \n",
       "3                                              -99   \n",
       "4                                              0.8   \n",
       "..                                             ...   \n",
       "224                                            -99   \n",
       "225                                            -99   \n",
       "226                                          -28.1   \n",
       "227                                            2.9   \n",
       "228                                            1.1   \n",
       "\n",
       "     GDP per capita (current US$) Economy: Agriculture (% of GVA)  ...  \\\n",
       "0                           623.2                            23.3  ...   \n",
       "1                          3984.2                            22.4  ...   \n",
       "2                          4154.1                            12.2  ...   \n",
       "3                           -99.0                             -99  ...   \n",
       "4                         39896.4                             0.5  ...   \n",
       "..                            ...                             ...  ...   \n",
       "224                         -99.0                             -99  ...   \n",
       "225                         -99.0                             -99  ...   \n",
       "226                        1106.4                            14.7  ...   \n",
       "227                        1311.1                             8.2  ...   \n",
       "228                         890.4                            13.0  ...   \n",
       "\n",
       "     Mobile-cellular subscriptions (per 100 inhabitants).1  \\\n",
       "0                                                  8.3       \n",
       "1                                                 63.3       \n",
       "2                                                 38.2       \n",
       "3                                                  -99       \n",
       "4                                                 96.9       \n",
       "..                                                 ...       \n",
       "224                                                9.0       \n",
       "225                                                -99       \n",
       "226                                               25.1       \n",
       "227                                               21.0       \n",
       "228                                               16.4       \n",
       "\n",
       "     Individuals using the Internet (per 100 inhabitants)  \\\n",
       "0                                                   42      \n",
       "1                                                  130      \n",
       "2                                                  135      \n",
       "3                                                   92      \n",
       "4                                                   13      \n",
       "..                                                 ...      \n",
       "224                                                 89      \n",
       "225                                                 49      \n",
       "226                                                298      \n",
       "227                                                 88      \n",
       "228                                                 89      \n",
       "\n",
       "    Threatened species (number) Forested area (% of land area)  \\\n",
       "0                           2.1                        9.8/0.3   \n",
       "1                          28.2                        5.7/2.0   \n",
       "2                           0.8                      145.4/3.7   \n",
       "3                          87.9                            -99   \n",
       "4                          34.0                        0.5/6.4   \n",
       "..                          ...                            ...   \n",
       "224                        41.6                       ~0.0/1.6   \n",
       "225                         2.7                            -99   \n",
       "226                         1.0                       22.7/0.9   \n",
       "227                        65.6                        4.5/0.3   \n",
       "228                        37.2                       12.0/0.8   \n",
       "\n",
       "    CO2 emission estimates (million tons/tons per capita)  \\\n",
       "0                                                   63      \n",
       "1                                                   84      \n",
       "2                                                 5900      \n",
       "3                                                  -99      \n",
       "4                                                    1      \n",
       "..                                                 ...      \n",
       "224                                                -99      \n",
       "225                                                -99      \n",
       "226                                                668      \n",
       "227                                                374      \n",
       "228                                                482      \n",
       "\n",
       "    Energy production, primary (Petajoules)  \\\n",
       "0                                         5   \n",
       "1                                        36   \n",
       "2                                        55   \n",
       "3                                       -99   \n",
       "4                                       119   \n",
       "..                                      ...   \n",
       "224                                      26   \n",
       "225                                     -99   \n",
       "226                                      12   \n",
       "227                                      26   \n",
       "228                                      30   \n",
       "\n",
       "    Energy supply per capita (Gigajoules)  \\\n",
       "0                               78.2/47.0   \n",
       "1                               94.9/95.2   \n",
       "2                               84.3/81.8   \n",
       "3                             100.0/100.0   \n",
       "4                             100.0/100.0   \n",
       "..                                    ...   \n",
       "224                                   -99   \n",
       "225                                   -99   \n",
       "226                             72.0/46.5   \n",
       "227                             85.6/51.3   \n",
       "228                             97.0/67.3   \n",
       "\n",
       "     Pop. using improved drinking water (urban/rural, %)  \\\n",
       "0                                            45.1/27.0     \n",
       "1                                            95.5/90.2     \n",
       "2                                            89.8/82.2     \n",
       "3                                            62.5/62.5     \n",
       "4                                          100.0/100.0     \n",
       "..                                                 ...     \n",
       "224                                                -99     \n",
       "225                                                -99     \n",
       "226                                          92.5/34.1     \n",
       "227                                          55.6/35.7     \n",
       "228                                          49.3/30.8     \n",
       "\n",
       "     Pop. using improved sanitation facilities (urban/rural, %)  \\\n",
       "0                                                21.43            \n",
       "1                                                 2.96            \n",
       "2                                                 0.05            \n",
       "3                                                  -99            \n",
       "4                                                  -99            \n",
       "..                                                 ...            \n",
       "224                                                -99            \n",
       "225                                                -99            \n",
       "226                                               2.99            \n",
       "227                                               3.96            \n",
       "228                                               6.00            \n",
       "\n",
       "    Net Official Development Assist. received (% of GNI)  \n",
       "0                                                  -99    \n",
       "1                                                  -99    \n",
       "2                                                  -99    \n",
       "3                                                  -99    \n",
       "4                                                  -99    \n",
       "..                                                 ...    \n",
       "224                                                -99    \n",
       "225                                                -99    \n",
       "226                                                -99    \n",
       "227                                                -99    \n",
       "228                                                -99    \n",
       "\n",
       "[229 rows x 50 columns]"
      ]
     },
     "execution_count": 3,
     "metadata": {},
     "output_type": "execute_result"
    }
   ],
   "source": [
    "df"
   ]
  },
  {
   "cell_type": "code",
   "execution_count": 4,
   "id": "2992d9c9",
   "metadata": {},
   "outputs": [
    {
     "data": {
      "text/plain": [
       "country                                                       0\n",
       "Region                                                        0\n",
       "Surface area (km2)                                            0\n",
       "Population in thousands (2017)                                0\n",
       "Population density (per km2, 2017)                            0\n",
       "Sex ratio (m per 100 f, 2017)                                 0\n",
       "GDP: Gross domestic product (million current US$)             0\n",
       "GDP growth rate (annual %, const. 2005 prices)                0\n",
       "GDP per capita (current US$)                                  0\n",
       "Economy: Agriculture (% of GVA)                               0\n",
       "Economy: Industry (% of GVA)                                  0\n",
       "Economy: Services and other activity (% of GVA)               0\n",
       "Employment: Agriculture (% of employed)                       0\n",
       "Employment: Industry (% of employed)                          0\n",
       "Employment: Services (% of employed)                          0\n",
       "Unemployment (% of labour force)                              0\n",
       "Labour force participation (female/male pop. %)               0\n",
       "Agricultural production index (2004-2006=100)                 0\n",
       "Food production index (2004-2006=100)                         0\n",
       "International trade: Exports (million US$)                    0\n",
       "International trade: Imports (million US$)                    0\n",
       "International trade: Balance (million US$)                    0\n",
       "Balance of payments, current account (million US$)            0\n",
       "Population growth rate (average annual %)                     0\n",
       "Urban population (% of total population)                      0\n",
       "Urban population growth rate (average annual %)               0\n",
       "Fertility rate, total (live births per woman)                 0\n",
       "Life expectancy at birth (females/males, years)               0\n",
       "Population age distribution (0-14 / 60+ years, %)             0\n",
       "International migrant stock (000/% of total pop.)             0\n",
       "Refugees and others of concern to UNHCR (in thousands)        0\n",
       "Infant mortality rate (per 1000 live births                   0\n",
       "Health: Total expenditure (% of GDP)                          0\n",
       "Health: Physicians (per 1000 pop.)                            0\n",
       "Education: Government expenditure (% of GDP)                  0\n",
       "Education: Primary gross enrol. ratio (f/m per 100 pop.)      0\n",
       "Education: Secondary gross enrol. ratio (f/m per 100 pop.)    0\n",
       "Education: Tertiary gross enrol. ratio (f/m per 100 pop.)     0\n",
       "Seats held by women in national parliaments %                 0\n",
       "Mobile-cellular subscriptions (per 100 inhabitants)           0\n",
       "Mobile-cellular subscriptions (per 100 inhabitants).1         0\n",
       "Individuals using the Internet (per 100 inhabitants)          0\n",
       "Threatened species (number)                                   0\n",
       "Forested area (% of land area)                                0\n",
       "CO2 emission estimates (million tons/tons per capita)         0\n",
       "Energy production, primary (Petajoules)                       0\n",
       "Energy supply per capita (Gigajoules)                         0\n",
       "Pop. using improved drinking water (urban/rural, %)           0\n",
       "Pop. using improved sanitation facilities (urban/rural, %)    0\n",
       "Net Official Development Assist. received (% of GNI)          0\n",
       "dtype: int64"
      ]
     },
     "execution_count": 4,
     "metadata": {},
     "output_type": "execute_result"
    }
   ],
   "source": [
    "# data Cleansing\n",
    "# null values\n",
    "df.isnull().sum()"
   ]
  },
  {
   "cell_type": "code",
   "execution_count": 5,
   "id": "9ca8dd97",
   "metadata": {},
   "outputs": [
    {
     "data": {
      "text/plain": [
       "0"
      ]
     },
     "execution_count": 5,
     "metadata": {},
     "output_type": "execute_result"
    }
   ],
   "source": [
    "# duplicate values\n",
    "df.duplicated().sum()"
   ]
  },
  {
   "cell_type": "markdown",
   "id": "9025f9f5",
   "metadata": {},
   "source": [
    "# let's perform the statistics topics practically"
   ]
  },
  {
   "cell_type": "code",
   "execution_count": null,
   "id": "a7e8a906",
   "metadata": {},
   "outputs": [],
   "source": [
    "central Tendencies:\n",
    "    mean\n",
    "    median\n",
    "    mode\n",
    "variation:\n",
    "    range\n",
    "    percentile\n",
    "    quartiles\n",
    "    IQR\n",
    "    variance\n",
    "    standard deviation\n",
    "correlation\n",
    "probability"
   ]
  },
  {
   "cell_type": "code",
   "execution_count": 6,
   "id": "f62da53b",
   "metadata": {},
   "outputs": [
    {
     "data": {
      "text/plain": [
       "0      35530\n",
       "1       2930\n",
       "2      41318\n",
       "3         56\n",
       "4         77\n",
       "       ...  \n",
       "224       12\n",
       "225      553\n",
       "226    28250\n",
       "227    17094\n",
       "228    16530\n",
       "Name: Population in thousands (2017), Length: 229, dtype: int64"
      ]
     },
     "execution_count": 6,
     "metadata": {},
     "output_type": "execute_result"
    }
   ],
   "source": [
    "df[\"Population in thousands (2017)\"]"
   ]
  },
  {
   "cell_type": "markdown",
   "id": "491af050",
   "metadata": {},
   "source": [
    "# central Tendencies:"
   ]
  },
  {
   "cell_type": "code",
   "execution_count": 9,
   "id": "ea64b1fd",
   "metadata": {},
   "outputs": [
    {
     "data": {
      "text/plain": [
       "32756.794759825327"
      ]
     },
     "execution_count": 9,
     "metadata": {},
     "output_type": "execute_result"
    }
   ],
   "source": [
    "#mean\n",
    "sum(df[\"Population in thousands (2017)\"])/len(df[\"Population in thousands (2017)\"])"
   ]
  },
  {
   "cell_type": "code",
   "execution_count": 10,
   "id": "ba67de29",
   "metadata": {},
   "outputs": [
    {
     "data": {
      "text/plain": [
       "32756.794759825327"
      ]
     },
     "execution_count": 10,
     "metadata": {},
     "output_type": "execute_result"
    }
   ],
   "source": [
    "# python function\n",
    "df[\"Population in thousands (2017)\"].mean()"
   ]
  },
  {
   "cell_type": "code",
   "execution_count": 11,
   "id": "d7ac4d7f",
   "metadata": {},
   "outputs": [],
   "source": [
    "# Median"
   ]
  },
  {
   "cell_type": "code",
   "execution_count": 17,
   "id": "ed6e4162",
   "metadata": {},
   "outputs": [],
   "source": [
    "new_df=df[\"Population in thousands (2017)\"].sort_values().reset_index()"
   ]
  },
  {
   "cell_type": "code",
   "execution_count": 18,
   "id": "69b95e83",
   "metadata": {},
   "outputs": [
    {
     "data": {
      "text/html": [
       "<div>\n",
       "<style scoped>\n",
       "    .dataframe tbody tr th:only-of-type {\n",
       "        vertical-align: middle;\n",
       "    }\n",
       "\n",
       "    .dataframe tbody tr th {\n",
       "        vertical-align: top;\n",
       "    }\n",
       "\n",
       "    .dataframe thead th {\n",
       "        text-align: right;\n",
       "    }\n",
       "</style>\n",
       "<table border=\"1\" class=\"dataframe\">\n",
       "  <thead>\n",
       "    <tr style=\"text-align: right;\">\n",
       "      <th></th>\n",
       "      <th>index</th>\n",
       "      <th>Population in thousands (2017)</th>\n",
       "    </tr>\n",
       "  </thead>\n",
       "  <tbody>\n",
       "    <tr>\n",
       "      <th>0</th>\n",
       "      <td>204</td>\n",
       "      <td>1</td>\n",
       "    </tr>\n",
       "    <tr>\n",
       "      <th>1</th>\n",
       "      <td>91</td>\n",
       "      <td>1</td>\n",
       "    </tr>\n",
       "    <tr>\n",
       "      <th>2</th>\n",
       "      <td>149</td>\n",
       "      <td>2</td>\n",
       "    </tr>\n",
       "    <tr>\n",
       "      <th>3</th>\n",
       "      <td>68</td>\n",
       "      <td>3</td>\n",
       "    </tr>\n",
       "    <tr>\n",
       "      <th>4</th>\n",
       "      <td>169</td>\n",
       "      <td>4</td>\n",
       "    </tr>\n",
       "    <tr>\n",
       "      <th>...</th>\n",
       "      <td>...</td>\n",
       "      <td>...</td>\n",
       "    </tr>\n",
       "    <tr>\n",
       "      <th>224</th>\n",
       "      <td>28</td>\n",
       "      <td>209288</td>\n",
       "    </tr>\n",
       "    <tr>\n",
       "      <th>225</th>\n",
       "      <td>96</td>\n",
       "      <td>263991</td>\n",
       "    </tr>\n",
       "    <tr>\n",
       "      <th>226</th>\n",
       "      <td>217</td>\n",
       "      <td>324460</td>\n",
       "    </tr>\n",
       "    <tr>\n",
       "      <th>227</th>\n",
       "      <td>95</td>\n",
       "      <td>1339180</td>\n",
       "    </tr>\n",
       "    <tr>\n",
       "      <th>228</th>\n",
       "      <td>45</td>\n",
       "      <td>1409517</td>\n",
       "    </tr>\n",
       "  </tbody>\n",
       "</table>\n",
       "<p>229 rows × 2 columns</p>\n",
       "</div>"
      ],
      "text/plain": [
       "     index  Population in thousands (2017)\n",
       "0      204                               1\n",
       "1       91                               1\n",
       "2      149                               2\n",
       "3       68                               3\n",
       "4      169                               4\n",
       "..     ...                             ...\n",
       "224     28                          209288\n",
       "225     96                          263991\n",
       "226    217                          324460\n",
       "227     95                         1339180\n",
       "228     45                         1409517\n",
       "\n",
       "[229 rows x 2 columns]"
      ]
     },
     "execution_count": 18,
     "metadata": {},
     "output_type": "execute_result"
    }
   ],
   "source": [
    "n=229\n",
    "new_df"
   ]
  },
  {
   "cell_type": "code",
   "execution_count": 16,
   "id": "5af38a5f",
   "metadata": {},
   "outputs": [
    {
     "data": {
      "text/plain": [
       "115.0"
      ]
     },
     "execution_count": 16,
     "metadata": {},
     "output_type": "execute_result"
    }
   ],
   "source": [
    "(n+1)/2 # 115th term is median which means 114th index"
   ]
  },
  {
   "cell_type": "code",
   "execution_count": 21,
   "id": "5436a90a",
   "metadata": {},
   "outputs": [
    {
     "data": {
      "text/plain": [
       "5448"
      ]
     },
     "execution_count": 21,
     "metadata": {},
     "output_type": "execute_result"
    }
   ],
   "source": [
    "new_df.loc[114,\"Population in thousands (2017)\"]"
   ]
  },
  {
   "cell_type": "code",
   "execution_count": 22,
   "id": "60e77bc2",
   "metadata": {},
   "outputs": [
    {
     "data": {
      "text/plain": [
       "5448.0"
      ]
     },
     "execution_count": 22,
     "metadata": {},
     "output_type": "execute_result"
    }
   ],
   "source": [
    "# python function\n",
    "df[\"Population in thousands (2017)\"].median()"
   ]
  },
  {
   "cell_type": "code",
   "execution_count": 27,
   "id": "d5d68423",
   "metadata": {},
   "outputs": [
    {
     "data": {
      "text/plain": [
       "Population in thousands (2017)\n",
       "2890      2\n",
       "55        2\n",
       "11        2\n",
       "56        2\n",
       "276       2\n",
       "2930      2\n",
       "1         2\n",
       "108       2\n",
       "283       2\n",
       "105       2\n",
       "35        2\n",
       "5305      1\n",
       "21477     1\n",
       "2         1\n",
       "190886    1\n",
       "Name: count, dtype: int64"
      ]
     },
     "execution_count": 27,
     "metadata": {},
     "output_type": "execute_result"
    }
   ],
   "source": [
    "#mode\n",
    "df[\"Population in thousands (2017)\"].value_counts().head(15)"
   ]
  },
  {
   "cell_type": "code",
   "execution_count": null,
   "id": "ae43bdc5",
   "metadata": {},
   "outputs": [],
   "source": [
    "2890,55,11 ,56 ,276,2930,1,108 ,283 ,105 ,35#mode"
   ]
  },
  {
   "cell_type": "code",
   "execution_count": 28,
   "id": "c0ed958e",
   "metadata": {},
   "outputs": [
    {
     "data": {
      "text/plain": [
       "0        1\n",
       "1       11\n",
       "2       35\n",
       "3       55\n",
       "4       56\n",
       "5      105\n",
       "6      108\n",
       "7      276\n",
       "8      283\n",
       "9     2890\n",
       "10    2930\n",
       "Name: Population in thousands (2017), dtype: int64"
      ]
     },
     "execution_count": 28,
     "metadata": {},
     "output_type": "execute_result"
    }
   ],
   "source": [
    "df[\"Population in thousands (2017)\"].mode()"
   ]
  },
  {
   "cell_type": "markdown",
   "id": "f4b8035c",
   "metadata": {},
   "source": [
    "# variation:"
   ]
  },
  {
   "cell_type": "code",
   "execution_count": 35,
   "id": "dc0362cb",
   "metadata": {},
   "outputs": [],
   "source": [
    "# Range\n",
    "maxi=df[\"Population in thousands (2017)\"].max()"
   ]
  },
  {
   "cell_type": "code",
   "execution_count": 36,
   "id": "15e30267",
   "metadata": {},
   "outputs": [],
   "source": [
    "mini=df[\"Population in thousands (2017)\"].min()"
   ]
  },
  {
   "cell_type": "code",
   "execution_count": 37,
   "id": "b4fb204b",
   "metadata": {},
   "outputs": [],
   "source": [
    "Range=maxi-mini"
   ]
  },
  {
   "cell_type": "code",
   "execution_count": 38,
   "id": "20936c4f",
   "metadata": {},
   "outputs": [
    {
     "data": {
      "text/plain": [
       "1409516"
      ]
     },
     "execution_count": 38,
     "metadata": {},
     "output_type": "execute_result"
    }
   ],
   "source": [
    "Range"
   ]
  },
  {
   "cell_type": "code",
   "execution_count": 39,
   "id": "eb18b77c",
   "metadata": {},
   "outputs": [],
   "source": [
    "# Percentile"
   ]
  },
  {
   "cell_type": "code",
   "execution_count": 40,
   "id": "271da6c3",
   "metadata": {},
   "outputs": [
    {
     "data": {
      "text/plain": [
       "57720.00000000004"
      ]
     },
     "execution_count": 40,
     "metadata": {},
     "output_type": "execute_result"
    }
   ],
   "source": [
    "df[\"Population in thousands (2017)\"].quantile(0.90)#percentile"
   ]
  },
  {
   "cell_type": "code",
   "execution_count": 41,
   "id": "4176bae2",
   "metadata": {},
   "outputs": [
    {
     "data": {
      "text/plain": [
       "233.40000000000006"
      ]
     },
     "execution_count": 41,
     "metadata": {},
     "output_type": "execute_result"
    }
   ],
   "source": [
    "df[\"Population in thousands quantile(2017)\"].quantile(0.20)#percentile"
   ]
  },
  {
   "cell_type": "code",
   "execution_count": 42,
   "id": "8cedd86f",
   "metadata": {},
   "outputs": [
    {
     "data": {
      "text/plain": [
       "5448.0"
      ]
     },
     "execution_count": 42,
     "metadata": {},
     "output_type": "execute_result"
    }
   ],
   "source": [
    "df[\"Population in thousands (2017)\"].quantile(0.50)#percentile or quartile"
   ]
  },
  {
   "cell_type": "code",
   "execution_count": 43,
   "id": "68520509",
   "metadata": {},
   "outputs": [],
   "source": [
    "# Quartiles\n",
    "Q1=df[\"Population in thousands (2017)\"].quantile(0.25)\n",
    "Q2=df[\"Population in thousands (2017)\"].quantile(0.50)\n",
    "Q3=df[\"Population in thousands (2017)\"].quantile(0.75)"
   ]
  },
  {
   "cell_type": "code",
   "execution_count": 44,
   "id": "841b0625",
   "metadata": {},
   "outputs": [
    {
     "data": {
      "text/plain": [
       "(431.0, 5448.0, 19193.0)"
      ]
     },
     "execution_count": 44,
     "metadata": {},
     "output_type": "execute_result"
    }
   ],
   "source": [
    "Q1,Q2,Q3"
   ]
  },
  {
   "cell_type": "code",
   "execution_count": null,
   "id": "ef82c9f6",
   "metadata": {},
   "outputs": [],
   "source": [
    "checking at what percentile 2890 is lies"
   ]
  },
  {
   "cell_type": "code",
   "execution_count": 48,
   "id": "c148181c",
   "metadata": {},
   "outputs": [
    {
     "data": {
      "text/plain": [
       "92"
      ]
     },
     "execution_count": 48,
     "metadata": {},
     "output_type": "execute_result"
    }
   ],
   "source": [
    "len(df[df[\"Population in thousands (2017)\"]<=2890])"
   ]
  },
  {
   "cell_type": "code",
   "execution_count": 49,
   "id": "afe2a1c6",
   "metadata": {},
   "outputs": [
    {
     "data": {
      "text/plain": [
       "229"
      ]
     },
     "execution_count": 49,
     "metadata": {},
     "output_type": "execute_result"
    }
   ],
   "source": [
    "len(df)"
   ]
  },
  {
   "cell_type": "code",
   "execution_count": 50,
   "id": "de652f31",
   "metadata": {},
   "outputs": [
    {
     "data": {
      "text/plain": [
       "40.174672489082965"
      ]
     },
     "execution_count": 50,
     "metadata": {},
     "output_type": "execute_result"
    }
   ],
   "source": [
    "(92/229)*100"
   ]
  },
  {
   "cell_type": "code",
   "execution_count": 52,
   "id": "8d432996",
   "metadata": {},
   "outputs": [
    {
     "data": {
      "text/plain": [
       "18762.0"
      ]
     },
     "execution_count": 52,
     "metadata": {},
     "output_type": "execute_result"
    }
   ],
   "source": [
    "# IQR - interquartile Range\n",
    "IQR=Q3-Q1\n",
    "IQR"
   ]
  },
  {
   "cell_type": "code",
   "execution_count": 55,
   "id": "7d7a6e15",
   "metadata": {},
   "outputs": [
    {
     "data": {
      "image/png": "[encoded data removed]",
      "text/plain": [
       "<Figure size 640x480 with 1 Axes>"
      ]
     },
     "metadata": {},
     "output_type": "display_data"
    }
   ],
   "source": [
    "plt.boxplot(df[\"Individuals using the Internet (per 100 inhabitants)\"])\n",
    "plt.show()"
   ]
  },
  {
   "cell_type": "code",
   "execution_count": 56,
   "id": "eeb235b1",
   "metadata": {},
   "outputs": [],
   "source": [
    "Q1=df[\"Individuals using the Internet (per 100 inhabitants)\"].quantile(0.25)\n",
    "Q3=df[\"Individuals using the Internet (per 100 inhabitants)\"].quantile(0.75)"
   ]
  },
  {
   "cell_type": "code",
   "execution_count": 59,
   "id": "e7cc1313",
   "metadata": {},
   "outputs": [
    {
     "name": "stdout",
     "output_type": "stream",
     "text": [
      "55.0 196.0 141.0\n"
     ]
    }
   ],
   "source": [
    "IQR=Q3-Q1\n",
    "print(Q1,Q3,IQR)"
   ]
  },
  {
   "cell_type": "code",
   "execution_count": 60,
   "id": "be8cc387",
   "metadata": {},
   "outputs": [],
   "source": [
    "UW=Q3+1.5*IQR\n",
    "LW=Q1-1.5*IQR"
   ]
  },
  {
   "cell_type": "code",
   "execution_count": 61,
   "id": "6b00faeb",
   "metadata": {},
   "outputs": [
    {
     "data": {
      "text/plain": [
       "407.5"
      ]
     },
     "execution_count": 61,
     "metadata": {},
     "output_type": "execute_result"
    }
   ],
   "source": [
    "UW"
   ]
  },
  {
   "cell_type": "code",
   "execution_count": 62,
   "id": "8ff78897",
   "metadata": {},
   "outputs": [
    {
     "data": {
      "text/plain": [
       "-156.5"
      ]
     },
     "execution_count": 62,
     "metadata": {},
     "output_type": "execute_result"
    }
   ],
   "source": [
    "LW"
   ]
  },
  {
   "cell_type": "code",
   "execution_count": 63,
   "id": "4eaaee59",
   "metadata": {},
   "outputs": [],
   "source": [
    "df=df[(df[\"Individuals using the Internet (per 100 inhabitants)\"]>=LW) & (df[\"Individuals using the Internet (per 100 inhabitants)\"]<=UW)]"
   ]
  },
  {
   "cell_type": "code",
   "execution_count": 64,
   "id": "056aa10d",
   "metadata": {},
   "outputs": [
    {
     "data": {
      "text/html": [
       "<div>\n",
       "<style scoped>\n",
       "    .dataframe tbody tr th:only-of-type {\n",
       "        vertical-align: middle;\n",
       "    }\n",
       "\n",
       "    .dataframe tbody tr th {\n",
       "        vertical-align: top;\n",
       "    }\n",
       "\n",
       "    .dataframe thead th {\n",
       "        text-align: right;\n",
       "    }\n",
       "</style>\n",
       "<table border=\"1\" class=\"dataframe\">\n",
       "  <thead>\n",
       "    <tr style=\"text-align: right;\">\n",
       "      <th></th>\n",
       "      <th>country</th>\n",
       "      <th>Region</th>\n",
       "      <th>Surface area (km2)</th>\n",
       "      <th>Population in thousands (2017)</th>\n",
       "      <th>Population density (per km2, 2017)</th>\n",
       "      <th>Sex ratio (m per 100 f, 2017)</th>\n",
       "      <th>GDP: Gross domestic product (million current US$)</th>\n",
       "      <th>GDP growth rate (annual %, const. 2005 prices)</th>\n",
       "      <th>GDP per capita (current US$)</th>\n",
       "      <th>Economy: Agriculture (% of GVA)</th>\n",
       "      <th>...</th>\n",
       "      <th>Mobile-cellular subscriptions (per 100 inhabitants).1</th>\n",
       "      <th>Individuals using the Internet (per 100 inhabitants)</th>\n",
       "      <th>Threatened species (number)</th>\n",
       "      <th>Forested area (% of land area)</th>\n",
       "      <th>CO2 emission estimates (million tons/tons per capita)</th>\n",
       "      <th>Energy production, primary (Petajoules)</th>\n",
       "      <th>Energy supply per capita (Gigajoules)</th>\n",
       "      <th>Pop. using improved drinking water (urban/rural, %)</th>\n",
       "      <th>Pop. using improved sanitation facilities (urban/rural, %)</th>\n",
       "      <th>Net Official Development Assist. received (% of GNI)</th>\n",
       "    </tr>\n",
       "  </thead>\n",
       "  <tbody>\n",
       "    <tr>\n",
       "      <th>0</th>\n",
       "      <td>Afghanistan</td>\n",
       "      <td>SouthernAsia</td>\n",
       "      <td>652864</td>\n",
       "      <td>35530</td>\n",
       "      <td>54.4</td>\n",
       "      <td>106.3</td>\n",
       "      <td>20270</td>\n",
       "      <td>-2.4</td>\n",
       "      <td>623.2</td>\n",
       "      <td>23.3</td>\n",
       "      <td>...</td>\n",
       "      <td>8.3</td>\n",
       "      <td>42</td>\n",
       "      <td>2.1</td>\n",
       "      <td>9.8/0.3</td>\n",
       "      <td>63</td>\n",
       "      <td>5</td>\n",
       "      <td>78.2/47.0</td>\n",
       "      <td>45.1/27.0</td>\n",
       "      <td>21.43</td>\n",
       "      <td>-99</td>\n",
       "    </tr>\n",
       "    <tr>\n",
       "      <th>1</th>\n",
       "      <td>Albania</td>\n",
       "      <td>SouthernEurope</td>\n",
       "      <td>28748</td>\n",
       "      <td>2930</td>\n",
       "      <td>106.9</td>\n",
       "      <td>101.9</td>\n",
       "      <td>11541</td>\n",
       "      <td>2.6</td>\n",
       "      <td>3984.2</td>\n",
       "      <td>22.4</td>\n",
       "      <td>...</td>\n",
       "      <td>63.3</td>\n",
       "      <td>130</td>\n",
       "      <td>28.2</td>\n",
       "      <td>5.7/2.0</td>\n",
       "      <td>84</td>\n",
       "      <td>36</td>\n",
       "      <td>94.9/95.2</td>\n",
       "      <td>95.5/90.2</td>\n",
       "      <td>2.96</td>\n",
       "      <td>-99</td>\n",
       "    </tr>\n",
       "    <tr>\n",
       "      <th>2</th>\n",
       "      <td>Algeria</td>\n",
       "      <td>NorthernAfrica</td>\n",
       "      <td>2381741</td>\n",
       "      <td>41318</td>\n",
       "      <td>17.3</td>\n",
       "      <td>102.0</td>\n",
       "      <td>164779</td>\n",
       "      <td>3.8</td>\n",
       "      <td>4154.1</td>\n",
       "      <td>12.2</td>\n",
       "      <td>...</td>\n",
       "      <td>38.2</td>\n",
       "      <td>135</td>\n",
       "      <td>0.8</td>\n",
       "      <td>145.4/3.7</td>\n",
       "      <td>5900</td>\n",
       "      <td>55</td>\n",
       "      <td>84.3/81.8</td>\n",
       "      <td>89.8/82.2</td>\n",
       "      <td>0.05</td>\n",
       "      <td>-99</td>\n",
       "    </tr>\n",
       "    <tr>\n",
       "      <th>3</th>\n",
       "      <td>American Samoa</td>\n",
       "      <td>Polynesia</td>\n",
       "      <td>199</td>\n",
       "      <td>56</td>\n",
       "      <td>278.2</td>\n",
       "      <td>103.6</td>\n",
       "      <td>-99</td>\n",
       "      <td>-99</td>\n",
       "      <td>-99.0</td>\n",
       "      <td>-99</td>\n",
       "      <td>...</td>\n",
       "      <td>-99</td>\n",
       "      <td>92</td>\n",
       "      <td>87.9</td>\n",
       "      <td>-99</td>\n",
       "      <td>-99</td>\n",
       "      <td>-99</td>\n",
       "      <td>100.0/100.0</td>\n",
       "      <td>62.5/62.5</td>\n",
       "      <td>-99</td>\n",
       "      <td>-99</td>\n",
       "    </tr>\n",
       "    <tr>\n",
       "      <th>4</th>\n",
       "      <td>Andorra</td>\n",
       "      <td>SouthernEurope</td>\n",
       "      <td>468</td>\n",
       "      <td>77</td>\n",
       "      <td>163.8</td>\n",
       "      <td>102.3</td>\n",
       "      <td>2812</td>\n",
       "      <td>0.8</td>\n",
       "      <td>39896.4</td>\n",
       "      <td>0.5</td>\n",
       "      <td>...</td>\n",
       "      <td>96.9</td>\n",
       "      <td>13</td>\n",
       "      <td>34.0</td>\n",
       "      <td>0.5/6.4</td>\n",
       "      <td>1</td>\n",
       "      <td>119</td>\n",
       "      <td>100.0/100.0</td>\n",
       "      <td>100.0/100.0</td>\n",
       "      <td>-99</td>\n",
       "      <td>-99</td>\n",
       "    </tr>\n",
       "    <tr>\n",
       "      <th>...</th>\n",
       "      <td>...</td>\n",
       "      <td>...</td>\n",
       "      <td>...</td>\n",
       "      <td>...</td>\n",
       "      <td>...</td>\n",
       "      <td>...</td>\n",
       "      <td>...</td>\n",
       "      <td>...</td>\n",
       "      <td>...</td>\n",
       "      <td>...</td>\n",
       "      <td>...</td>\n",
       "      <td>...</td>\n",
       "      <td>...</td>\n",
       "      <td>...</td>\n",
       "      <td>...</td>\n",
       "      <td>...</td>\n",
       "      <td>...</td>\n",
       "      <td>...</td>\n",
       "      <td>...</td>\n",
       "      <td>...</td>\n",
       "      <td>...</td>\n",
       "    </tr>\n",
       "    <tr>\n",
       "      <th>224</th>\n",
       "      <td>Wallis and Futuna Islands</td>\n",
       "      <td>Polynesia</td>\n",
       "      <td>142</td>\n",
       "      <td>12</td>\n",
       "      <td>84.1</td>\n",
       "      <td>93.4</td>\n",
       "      <td>-99</td>\n",
       "      <td>-99</td>\n",
       "      <td>-99.0</td>\n",
       "      <td>-99</td>\n",
       "      <td>...</td>\n",
       "      <td>9.0</td>\n",
       "      <td>89</td>\n",
       "      <td>41.6</td>\n",
       "      <td>~0.0/1.6</td>\n",
       "      <td>-99</td>\n",
       "      <td>26</td>\n",
       "      <td>-99</td>\n",
       "      <td>-99</td>\n",
       "      <td>-99</td>\n",
       "      <td>-99</td>\n",
       "    </tr>\n",
       "    <tr>\n",
       "      <th>225</th>\n",
       "      <td>Western Sahara</td>\n",
       "      <td>NorthernAfrica</td>\n",
       "      <td>266000</td>\n",
       "      <td>553</td>\n",
       "      <td>2.1</td>\n",
       "      <td>110.1</td>\n",
       "      <td>-99</td>\n",
       "      <td>-99</td>\n",
       "      <td>-99.0</td>\n",
       "      <td>-99</td>\n",
       "      <td>...</td>\n",
       "      <td>-99</td>\n",
       "      <td>49</td>\n",
       "      <td>2.7</td>\n",
       "      <td>-99</td>\n",
       "      <td>-99</td>\n",
       "      <td>-99</td>\n",
       "      <td>-99</td>\n",
       "      <td>-99</td>\n",
       "      <td>-99</td>\n",
       "      <td>-99</td>\n",
       "    </tr>\n",
       "    <tr>\n",
       "      <th>226</th>\n",
       "      <td>Yemen</td>\n",
       "      <td>WesternAsia</td>\n",
       "      <td>527968</td>\n",
       "      <td>28250</td>\n",
       "      <td>53.5</td>\n",
       "      <td>102.1</td>\n",
       "      <td>29688</td>\n",
       "      <td>-28.1</td>\n",
       "      <td>1106.4</td>\n",
       "      <td>14.7</td>\n",
       "      <td>...</td>\n",
       "      <td>25.1</td>\n",
       "      <td>298</td>\n",
       "      <td>1.0</td>\n",
       "      <td>22.7/0.9</td>\n",
       "      <td>668</td>\n",
       "      <td>12</td>\n",
       "      <td>72.0/46.5</td>\n",
       "      <td>92.5/34.1</td>\n",
       "      <td>2.99</td>\n",
       "      <td>-99</td>\n",
       "    </tr>\n",
       "    <tr>\n",
       "      <th>227</th>\n",
       "      <td>Zambia</td>\n",
       "      <td>EasternAfrica</td>\n",
       "      <td>752612</td>\n",
       "      <td>17094</td>\n",
       "      <td>23.0</td>\n",
       "      <td>98.5</td>\n",
       "      <td>21255</td>\n",
       "      <td>2.9</td>\n",
       "      <td>1311.1</td>\n",
       "      <td>8.2</td>\n",
       "      <td>...</td>\n",
       "      <td>21.0</td>\n",
       "      <td>88</td>\n",
       "      <td>65.6</td>\n",
       "      <td>4.5/0.3</td>\n",
       "      <td>374</td>\n",
       "      <td>26</td>\n",
       "      <td>85.6/51.3</td>\n",
       "      <td>55.6/35.7</td>\n",
       "      <td>3.96</td>\n",
       "      <td>-99</td>\n",
       "    </tr>\n",
       "    <tr>\n",
       "      <th>228</th>\n",
       "      <td>Zimbabwe</td>\n",
       "      <td>EasternAfrica</td>\n",
       "      <td>390757</td>\n",
       "      <td>16530</td>\n",
       "      <td>42.7</td>\n",
       "      <td>95.0</td>\n",
       "      <td>13893</td>\n",
       "      <td>1.1</td>\n",
       "      <td>890.4</td>\n",
       "      <td>13.0</td>\n",
       "      <td>...</td>\n",
       "      <td>16.4</td>\n",
       "      <td>89</td>\n",
       "      <td>37.2</td>\n",
       "      <td>12.0/0.8</td>\n",
       "      <td>482</td>\n",
       "      <td>30</td>\n",
       "      <td>97.0/67.3</td>\n",
       "      <td>49.3/30.8</td>\n",
       "      <td>6.00</td>\n",
       "      <td>-99</td>\n",
       "    </tr>\n",
       "  </tbody>\n",
       "</table>\n",
       "<p>205 rows × 50 columns</p>\n",
       "</div>"
      ],
      "text/plain": [
       "                       country          Region Surface area (km2)  \\\n",
       "0                  Afghanistan    SouthernAsia             652864   \n",
       "1                      Albania  SouthernEurope              28748   \n",
       "2                      Algeria  NorthernAfrica            2381741   \n",
       "3               American Samoa       Polynesia                199   \n",
       "4                      Andorra  SouthernEurope                468   \n",
       "..                         ...             ...                ...   \n",
       "224  Wallis and Futuna Islands       Polynesia                142   \n",
       "225             Western Sahara  NorthernAfrica             266000   \n",
       "226                      Yemen     WesternAsia             527968   \n",
       "227                     Zambia   EasternAfrica             752612   \n",
       "228                   Zimbabwe   EasternAfrica             390757   \n",
       "\n",
       "     Population in thousands (2017)  Population density (per km2, 2017)  \\\n",
       "0                             35530                                54.4   \n",
       "1                              2930                               106.9   \n",
       "2                             41318                                17.3   \n",
       "3                                56                               278.2   \n",
       "4                                77                               163.8   \n",
       "..                              ...                                 ...   \n",
       "224                              12                                84.1   \n",
       "225                             553                                 2.1   \n",
       "226                           28250                                53.5   \n",
       "227                           17094                                23.0   \n",
       "228                           16530                                42.7   \n",
       "\n",
       "     Sex ratio (m per 100 f, 2017)  \\\n",
       "0                            106.3   \n",
       "1                            101.9   \n",
       "2                            102.0   \n",
       "3                            103.6   \n",
       "4                            102.3   \n",
       "..                             ...   \n",
       "224                           93.4   \n",
       "225                          110.1   \n",
       "226                          102.1   \n",
       "227                           98.5   \n",
       "228                           95.0   \n",
       "\n",
       "     GDP: Gross domestic product (million current US$)  \\\n",
       "0                                                20270   \n",
       "1                                                11541   \n",
       "2                                               164779   \n",
       "3                                                  -99   \n",
       "4                                                 2812   \n",
       "..                                                 ...   \n",
       "224                                                -99   \n",
       "225                                                -99   \n",
       "226                                              29688   \n",
       "227                                              21255   \n",
       "228                                              13893   \n",
       "\n",
       "    GDP growth rate (annual %, const. 2005 prices)  \\\n",
       "0                                             -2.4   \n",
       "1                                              2.6   \n",
       "2                                              3.8   \n",
       "3                                              -99   \n",
       "4                                              0.8   \n",
       "..                                             ...   \n",
       "224                                            -99   \n",
       "225                                            -99   \n",
       "226                                          -28.1   \n",
       "227                                            2.9   \n",
       "228                                            1.1   \n",
       "\n",
       "     GDP per capita (current US$) Economy: Agriculture (% of GVA)  ...  \\\n",
       "0                           623.2                            23.3  ...   \n",
       "1                          3984.2                            22.4  ...   \n",
       "2                          4154.1                            12.2  ...   \n",
       "3                           -99.0                             -99  ...   \n",
       "4                         39896.4                             0.5  ...   \n",
       "..                            ...                             ...  ...   \n",
       "224                         -99.0                             -99  ...   \n",
       "225                         -99.0                             -99  ...   \n",
       "226                        1106.4                            14.7  ...   \n",
       "227                        1311.1                             8.2  ...   \n",
       "228                         890.4                            13.0  ...   \n",
       "\n",
       "     Mobile-cellular subscriptions (per 100 inhabitants).1  \\\n",
       "0                                                  8.3       \n",
       "1                                                 63.3       \n",
       "2                                                 38.2       \n",
       "3                                                  -99       \n",
       "4                                                 96.9       \n",
       "..                                                 ...       \n",
       "224                                                9.0       \n",
       "225                                                -99       \n",
       "226                                               25.1       \n",
       "227                                               21.0       \n",
       "228                                               16.4       \n",
       "\n",
       "     Individuals using the Internet (per 100 inhabitants)  \\\n",
       "0                                                   42      \n",
       "1                                                  130      \n",
       "2                                                  135      \n",
       "3                                                   92      \n",
       "4                                                   13      \n",
       "..                                                 ...      \n",
       "224                                                 89      \n",
       "225                                                 49      \n",
       "226                                                298      \n",
       "227                                                 88      \n",
       "228                                                 89      \n",
       "\n",
       "    Threatened species (number) Forested area (% of land area)  \\\n",
       "0                           2.1                        9.8/0.3   \n",
       "1                          28.2                        5.7/2.0   \n",
       "2                           0.8                      145.4/3.7   \n",
       "3                          87.9                            -99   \n",
       "4                          34.0                        0.5/6.4   \n",
       "..                          ...                            ...   \n",
       "224                        41.6                       ~0.0/1.6   \n",
       "225                         2.7                            -99   \n",
       "226                         1.0                       22.7/0.9   \n",
       "227                        65.6                        4.5/0.3   \n",
       "228                        37.2                       12.0/0.8   \n",
       "\n",
       "    CO2 emission estimates (million tons/tons per capita)  \\\n",
       "0                                                   63      \n",
       "1                                                   84      \n",
       "2                                                 5900      \n",
       "3                                                  -99      \n",
       "4                                                    1      \n",
       "..                                                 ...      \n",
       "224                                                -99      \n",
       "225                                                -99      \n",
       "226                                                668      \n",
       "227                                                374      \n",
       "228                                                482      \n",
       "\n",
       "    Energy production, primary (Petajoules)  \\\n",
       "0                                         5   \n",
       "1                                        36   \n",
       "2                                        55   \n",
       "3                                       -99   \n",
       "4                                       119   \n",
       "..                                      ...   \n",
       "224                                      26   \n",
       "225                                     -99   \n",
       "226                                      12   \n",
       "227                                      26   \n",
       "228                                      30   \n",
       "\n",
       "    Energy supply per capita (Gigajoules)  \\\n",
       "0                               78.2/47.0   \n",
       "1                               94.9/95.2   \n",
       "2                               84.3/81.8   \n",
       "3                             100.0/100.0   \n",
       "4                             100.0/100.0   \n",
       "..                                    ...   \n",
       "224                                   -99   \n",
       "225                                   -99   \n",
       "226                             72.0/46.5   \n",
       "227                             85.6/51.3   \n",
       "228                             97.0/67.3   \n",
       "\n",
       "     Pop. using improved drinking water (urban/rural, %)  \\\n",
       "0                                            45.1/27.0     \n",
       "1                                            95.5/90.2     \n",
       "2                                            89.8/82.2     \n",
       "3                                            62.5/62.5     \n",
       "4                                          100.0/100.0     \n",
       "..                                                 ...     \n",
       "224                                                -99     \n",
       "225                                                -99     \n",
       "226                                          92.5/34.1     \n",
       "227                                          55.6/35.7     \n",
       "228                                          49.3/30.8     \n",
       "\n",
       "     Pop. using improved sanitation facilities (urban/rural, %)  \\\n",
       "0                                                21.43            \n",
       "1                                                 2.96            \n",
       "2                                                 0.05            \n",
       "3                                                  -99            \n",
       "4                                                  -99            \n",
       "..                                                 ...            \n",
       "224                                                -99            \n",
       "225                                                -99            \n",
       "226                                               2.99            \n",
       "227                                               3.96            \n",
       "228                                               6.00            \n",
       "\n",
       "    Net Official Development Assist. received (% of GNI)  \n",
       "0                                                  -99    \n",
       "1                                                  -99    \n",
       "2                                                  -99    \n",
       "3                                                  -99    \n",
       "4                                                  -99    \n",
       "..                                                 ...    \n",
       "224                                                -99    \n",
       "225                                                -99    \n",
       "226                                                -99    \n",
       "227                                                -99    \n",
       "228                                                -99    \n",
       "\n",
       "[205 rows x 50 columns]"
      ]
     },
     "execution_count": 64,
     "metadata": {},
     "output_type": "execute_result"
    }
   ],
   "source": [
    "df"
   ]
  },
  {
   "cell_type": "code",
   "execution_count": 65,
   "id": "eb73a9bc",
   "metadata": {},
   "outputs": [],
   "source": [
    "#  variance and standard deviation"
   ]
  },
  {
   "cell_type": "code",
   "execution_count": 67,
   "id": "9478de90",
   "metadata": {},
   "outputs": [],
   "source": [
    "v=df[\"Individuals using the Internet (per 100 inhabitants)\"].var()"
   ]
  },
  {
   "cell_type": "code",
   "execution_count": 68,
   "id": "57dec3b9",
   "metadata": {},
   "outputs": [
    {
     "data": {
      "text/plain": [
       "8494.338833094209"
      ]
     },
     "execution_count": 68,
     "metadata": {},
     "output_type": "execute_result"
    }
   ],
   "source": [
    "v"
   ]
  },
  {
   "cell_type": "code",
   "execution_count": 69,
   "id": "ceac3293",
   "metadata": {},
   "outputs": [
    {
     "data": {
      "text/plain": [
       "92.16473747097753"
      ]
     },
     "execution_count": 69,
     "metadata": {},
     "output_type": "execute_result"
    }
   ],
   "source": [
    "np.sqrt(v)#standard deviation"
   ]
  },
  {
   "cell_type": "code",
   "execution_count": 70,
   "id": "94a296e8",
   "metadata": {},
   "outputs": [
    {
     "data": {
      "text/plain": [
       "92.16473747097753"
      ]
     },
     "execution_count": 70,
     "metadata": {},
     "output_type": "execute_result"
    }
   ],
   "source": [
    "df[\"Individuals using the Internet (per 100 inhabitants)\"].std()"
   ]
  },
  {
   "cell_type": "code",
   "execution_count": null,
   "id": "55cd05da",
   "metadata": {},
   "outputs": [],
   "source": [
    "# correlation"
   ]
  },
  {
   "cell_type": "code",
   "execution_count": 77,
   "id": "5b47b693",
   "metadata": {},
   "outputs": [],
   "source": [
    "new_df=df[[\"Population in thousands (2017)\",\"Population density (per km2, 2017)\",\"Sex ratio (m per 100 f, 2017)\"]]"
   ]
  },
  {
   "cell_type": "code",
   "execution_count": 78,
   "id": "4134fefa",
   "metadata": {},
   "outputs": [
    {
     "name": "stdout",
     "output_type": "stream",
     "text": [
      "<class 'pandas.core.frame.DataFrame'>\n",
      "Index: 205 entries, 0 to 228\n",
      "Data columns (total 3 columns):\n",
      " #   Column                              Non-Null Count  Dtype  \n",
      "---  ------                              --------------  -----  \n",
      " 0   Population in thousands (2017)      205 non-null    int64  \n",
      " 1   Population density (per km2, 2017)  205 non-null    float64\n",
      " 2   Sex ratio (m per 100 f, 2017)       205 non-null    float64\n",
      "dtypes: float64(2), int64(1)\n",
      "memory usage: 6.4 KB\n"
     ]
    }
   ],
   "source": [
    "new_df.info()"
   ]
  },
  {
   "cell_type": "code",
   "execution_count": 79,
   "id": "a775bd09",
   "metadata": {},
   "outputs": [
    {
     "data": {
      "text/html": [
       "<div>\n",
       "<style scoped>\n",
       "    .dataframe tbody tr th:only-of-type {\n",
       "        vertical-align: middle;\n",
       "    }\n",
       "\n",
       "    .dataframe tbody tr th {\n",
       "        vertical-align: top;\n",
       "    }\n",
       "\n",
       "    .dataframe thead th {\n",
       "        text-align: right;\n",
       "    }\n",
       "</style>\n",
       "<table border=\"1\" class=\"dataframe\">\n",
       "  <thead>\n",
       "    <tr style=\"text-align: right;\">\n",
       "      <th></th>\n",
       "      <th>Population in thousands (2017)</th>\n",
       "      <th>Population density (per km2, 2017)</th>\n",
       "      <th>Sex ratio (m per 100 f, 2017)</th>\n",
       "    </tr>\n",
       "  </thead>\n",
       "  <tbody>\n",
       "    <tr>\n",
       "      <th>Population in thousands (2017)</th>\n",
       "      <td>1.000000</td>\n",
       "      <td>-0.055169</td>\n",
       "      <td>-0.010215</td>\n",
       "    </tr>\n",
       "    <tr>\n",
       "      <th>Population density (per km2, 2017)</th>\n",
       "      <td>-0.055169</td>\n",
       "      <td>1.000000</td>\n",
       "      <td>-0.004153</td>\n",
       "    </tr>\n",
       "    <tr>\n",
       "      <th>Sex ratio (m per 100 f, 2017)</th>\n",
       "      <td>-0.010215</td>\n",
       "      <td>-0.004153</td>\n",
       "      <td>1.000000</td>\n",
       "    </tr>\n",
       "  </tbody>\n",
       "</table>\n",
       "</div>"
      ],
      "text/plain": [
       "                                    Population in thousands (2017)  \\\n",
       "Population in thousands (2017)                            1.000000   \n",
       "Population density (per km2, 2017)                       -0.055169   \n",
       "Sex ratio (m per 100 f, 2017)                            -0.010215   \n",
       "\n",
       "                                    Population density (per km2, 2017)  \\\n",
       "Population in thousands (2017)                               -0.055169   \n",
       "Population density (per km2, 2017)                            1.000000   \n",
       "Sex ratio (m per 100 f, 2017)                                -0.004153   \n",
       "\n",
       "                                    Sex ratio (m per 100 f, 2017)  \n",
       "Population in thousands (2017)                          -0.010215  \n",
       "Population density (per km2, 2017)                      -0.004153  \n",
       "Sex ratio (m per 100 f, 2017)                            1.000000  "
      ]
     },
     "execution_count": 79,
     "metadata": {},
     "output_type": "execute_result"
    }
   ],
   "source": [
    "new_df.corr()"
   ]
  },
  {
   "cell_type": "code",
   "execution_count": 80,
   "id": "691a0c54",
   "metadata": {},
   "outputs": [
    {
     "data": {
      "text/plain": [
       "0      35530\n",
       "1       2930\n",
       "2      41318\n",
       "3         56\n",
       "4         77\n",
       "       ...  \n",
       "224       12\n",
       "225      553\n",
       "226    28250\n",
       "227    17094\n",
       "228    16530\n",
       "Name: Population in thousands (2017), Length: 205, dtype: int64"
      ]
     },
     "execution_count": 80,
     "metadata": {},
     "output_type": "execute_result"
    }
   ],
   "source": [
    "df[\"Population in thousands (2017)\"]"
   ]
  },
  {
   "cell_type": "code",
   "execution_count": null,
   "id": "5ae1bae4",
   "metadata": {},
   "outputs": [],
   "source": [
    "randomly I have to choose a row, what is the probability that the row i will chose will have population more than 10000"
   ]
  },
  {
   "cell_type": "code",
   "execution_count": 82,
   "id": "ef2cde47",
   "metadata": {},
   "outputs": [
    {
     "data": {
      "text/plain": [
       "65"
      ]
     },
     "execution_count": 82,
     "metadata": {},
     "output_type": "execute_result"
    }
   ],
   "source": [
    "len(df[df[\"Population in thousands (2017)\"]>10000]) #fav outcoms"
   ]
  },
  {
   "cell_type": "code",
   "execution_count": 83,
   "id": "f7202a3c",
   "metadata": {},
   "outputs": [],
   "source": [
    "P=65/205"
   ]
  },
  {
   "cell_type": "code",
   "execution_count": 84,
   "id": "24ac3c91",
   "metadata": {},
   "outputs": [
    {
     "data": {
      "text/plain": [
       "0.3170731707317073"
      ]
     },
     "execution_count": 84,
     "metadata": {},
     "output_type": "execute_result"
    }
   ],
   "source": [
    "P"
   ]
  },
  {
   "cell_type": "code",
   "execution_count": null,
   "id": "34388262",
   "metadata": {},
   "outputs": [],
   "source": [
    "31% chances that the choosen row wil have population more than 10000"
   ]
  }
 ],
 "metadata": {
  "kernelspec": {
   "display_name": "Python 3 (ipykernel)",
   "language": "python",
   "name": "python3"
  },
  "language_info": {
   "codemirror_mode": {
    "name": "ipython",
    "version": 3
   },
   "file_extension": ".py",
   "mimetype": "text/x-python",
   "name": "python",
   "nbconvert_exporter": "python",
   "pygments_lexer": "ipython3",
   "version": "3.11.4"
  }
 },
 "nbformat": 4,
 "nbformat_minor": 5
}
