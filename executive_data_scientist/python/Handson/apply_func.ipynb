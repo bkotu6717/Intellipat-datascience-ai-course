{
 "cells": [
  {
   "cell_type": "code",
   "execution_count": null,
   "metadata": {},
   "outputs": [],
   "source": [
    "# Apply function on a data frame series"
   ]
  },
  {
   "cell_type": "code",
   "execution_count": null,
   "metadata": {},
   "outputs": [],
   "source": [
    "import pandas as pd\n",
    "\n",
    "df = pd.read_csv('./employe.csv')\n",
    "print(df.columns)\n",
    "# print(df.satisfactoryLevel)\n",
    "\n",
    "# print(type(df.numberOfProjects))\n",
    "# print(df.numberOfProjects.min())\n",
    "# print(df.numberOfProjects.max())\n",
    "\n",
    "print(df.numberOfProjects.head())\n",
    "\n",
    "def update_number_of_projects(x, l, h):\n",
    "    if x <= l:\n",
    "        x += l\n",
    "    elif x >= h:\n",
    "        x += h\n",
    "    return x\n",
    "\n",
    "new_df = df.numberOfProjects.head(5).apply(update_number_of_projects, args=[0.01, -0.01])\n",
    "print(new_df)\n"
   ]
  },
  {
   "cell_type": "code",
   "execution_count": null,
   "metadata": {},
   "outputs": [],
   "source": [
    "\n",
    "\n",
    "# print(type(df.satisfactoryLevel))\n",
    "# print(df.satisfactoryLevel.min())\n",
    "# print(df.satisfactoryLevel.max())\n",
    "\n",
    "print(df.satisfactoryLevel.head())\n",
    "\n",
    "def update_satisfactory_level(x, l, h):\n",
    "    if x <= l:\n",
    "        x += l\n",
    "    elif x >= h:\n",
    "        x += h\n",
    "    return x\n",
    "\n",
    "new_df = df.satisfactoryLevel.head(5).apply(update_satisfactory_level, args=[0.1, -0.1])\n",
    "print(new_df)\n"
   ]
  },
  {
   "cell_type": "code",
   "execution_count": null,
   "metadata": {},
   "outputs": [],
   "source": [
    "\n",
    "print(df['timeSpent.company'].head())\n",
    "\n",
    "def update_time_spent_at_company(x, l, h):\n",
    "    if x <= l:\n",
    "        x += l\n",
    "    elif x >= h:\n",
    "        x += h\n",
    "    return x\n",
    "\n",
    "new_df = df['timeSpent.company'].head(5).apply(update_time_spent_at_company, args=[0.1, -0.1])\n",
    "print(new_df)"
   ]
  },
  {
   "cell_type": "code",
   "execution_count": null,
   "metadata": {},
   "outputs": [],
   "source": [
    "\n",
    "print(df['avgMonthlyHours'].head())\n",
    "\n",
    "def increase_or_decrease(x, l, h):\n",
    "    if x <= l:\n",
    "        x += l\n",
    "    elif x >= h:\n",
    "        x += h\n",
    "    return x\n",
    "\n",
    "new_df = df['avgMonthlyHours'].head(5).apply(increase_or_decrease, args=[100, -200])\n",
    "print(new_df)"
   ]
  },
  {
   "cell_type": "code",
   "execution_count": null,
   "metadata": {},
   "outputs": [],
   "source": [
    "def square(x):\n",
    "    return(x * x)\n",
    "\n",
    "# print(df.iloc[0:5,0:8])\n",
    "new_df = df.iloc[0:5,0:8]\n",
    "print(new_df)\n",
    "new_df = new_df.apply(square)\n",
    "print(new_df)\n"
   ]
  },
  {
   "cell_type": "code",
   "execution_count": null,
   "metadata": {},
   "outputs": [],
   "source": [
    "def mode(x):\n",
    "    return x.mode()\n",
    "\n",
    "# print(df.iloc[0:5,0:8])\n",
    "new_df = df.iloc[0:5,0:2]\n",
    "print(new_df)\n",
    "# new_df = new_df.apply(mode, axis=0)\n",
    "# print(new_df)\n",
    "new_df = new_df.apply(mode, axis=1)\n",
    "print(new_df)\n",
    "\n",
    "\n"
   ]
  },
  {
   "cell_type": "code",
   "execution_count": null,
   "metadata": {},
   "outputs": [],
   "source": [
    "import numpy as np\n",
    "df = pd.DataFrame([[4, 9]] * 3, columns=['A', 'B'])\n",
    "print(\"Original Dataframe\")\n",
    "print(df)\n",
    "print('\\n')\n",
    "\n",
    "print(\"Applying square root\")\n",
    "print(df.apply(np.sqrt))\n",
    "print('\\n')\n",
    "\n",
    "print(\"Column-wise Sum\")\n",
    "print(df.apply(np.sum, axis=0))\n",
    "print('\\n')\n",
    "\n",
    "print(\"Row-wise Sum\")\n",
    "print(df.apply(np.sum, axis=1))\n",
    "print('\\n')\n",
    "\n",
    "print(\"Returning a list-like column to each index\")\n",
    "print(df.apply(lambda x: [1, 2], axis=1))\n",
    "print('\\n')"
   ]
  },
  {
   "cell_type": "code",
   "execution_count": null,
   "metadata": {},
   "outputs": [],
   "source": []
  }
 ],
 "metadata": {
  "kernelspec": {
   "display_name": "Python 3",
   "language": "python",
   "name": "python3"
  },
  "language_info": {
   "codemirror_mode": {
    "name": "ipython",
    "version": 3
   },
   "file_extension": ".py",
   "mimetype": "text/x-python",
   "name": "python",
   "nbconvert_exporter": "python",
   "pygments_lexer": "ipython3",
   "version": "3.9.6"
  }
 },
 "nbformat": 4,
 "nbformat_minor": 2
}
