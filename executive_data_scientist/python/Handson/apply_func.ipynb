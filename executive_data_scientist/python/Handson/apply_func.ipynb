{
 "cells": [
  {
   "cell_type": "code",
   "execution_count": null,
   "metadata": {},
   "outputs": [],
   "source": [
    "# Apply function on a data frame series"
   ]
  },
  {
   "cell_type": "code",
   "execution_count": 2,
   "metadata": {},
   "outputs": [
    {
     "name": "stdout",
     "output_type": "stream",
     "text": [
      "Index(['satisfactoryLevel', 'lastEvaluation', 'numberOfProjects',\n",
      "       'avgMonthlyHours', 'timeSpent.company', 'workAccident', 'left',\n",
      "       'promotionInLast5years', 'dept', 'salary'],\n",
      "      dtype='object')\n",
      "0    2\n",
      "1    5\n",
      "2    7\n",
      "3    2\n",
      "4    2\n",
      "Name: numberOfProjects, dtype: int64\n",
      "0    1.99\n",
      "1    4.99\n",
      "2    6.99\n",
      "3    1.99\n",
      "4    1.99\n",
      "Name: numberOfProjects, dtype: float64\n"
     ]
    }
   ],
   "source": [
    "import pandas as pd\n",
    "\n",
    "df = pd.read_csv('./employe.csv')\n",
    "print(df.columns)\n",
    "# print(df.satisfactoryLevel)\n",
    "\n",
    "# print(type(df.numberOfProjects))\n",
    "# print(df.numberOfProjects.min())\n",
    "# print(df.numberOfProjects.max())\n",
    "\n",
    "print(df.numberOfProjects.head())\n",
    "\n",
    "def update_number_of_projects(x, l, h):\n",
    "    if x <= l:\n",
    "        x += l\n",
    "    elif x >= h:\n",
    "        x += h\n",
    "    return x\n",
    "\n",
    "new_df = df.numberOfProjects.head(5).apply(update_number_of_projects, args=[0.01, -0.01])\n",
    "print(new_df)\n"
   ]
  },
  {
   "cell_type": "code",
   "execution_count": null,
   "metadata": {},
   "outputs": [],
   "source": [
    "\n",
    "\n",
    "# print(type(df.satisfactoryLevel))\n",
    "# print(df.satisfactoryLevel.min())\n",
    "# print(df.satisfactoryLevel.max())\n",
    "\n",
    "print(df.satisfactoryLevel.head())\n",
    "\n",
    "def update_satisfactory_level(x, l, h):\n",
    "    if x <= l:\n",
    "        x += l\n",
    "    elif x >= h:\n",
    "        x += h\n",
    "    return x\n",
    "\n",
    "new_df = df.satisfactoryLevel.head(5).apply(update_satisfactory_level, args=[0.1, -0.1])\n",
    "print(new_df)\n"
   ]
  },
  {
   "cell_type": "code",
   "execution_count": null,
   "metadata": {},
   "outputs": [],
   "source": [
    "\n",
    "print(df['timeSpent.company'].head())\n",
    "\n",
    "def update_time_spent_at_company(x, l, h):\n",
    "    if x <= l:\n",
    "        x += l\n",
    "    elif x >= h:\n",
    "        x += h\n",
    "    return x\n",
    "\n",
    "new_df = df['timeSpent.company'].head(5).apply(update_time_spent_at_company, args=[0.1, -0.1])\n",
    "print(new_df)"
   ]
  },
  {
   "cell_type": "code",
   "execution_count": null,
   "metadata": {},
   "outputs": [],
   "source": [
    "\n",
    "print(df['avgMonthlyHours'].head())\n",
    "\n",
    "def increase_or_decrease(x, l, h):\n",
    "    if x <= l:\n",
    "        x += l\n",
    "    elif x >= h:\n",
    "        x += h\n",
    "    return x\n",
    "\n",
    "new_df = df['avgMonthlyHours'].head(5).apply(increase_or_decrease, args=[100, -200])\n",
    "print(new_df)"
   ]
  },
  {
   "cell_type": "code",
   "execution_count": null,
   "metadata": {},
   "outputs": [],
   "source": [
    "def square(x):\n",
    "    return(x * x)\n",
    "\n",
    "# print(df.iloc[0:5,0:8])\n",
    "new_df = df.iloc[0:5,0:8]\n",
    "print(new_df)\n",
    "new_df = new_df.apply(square)\n",
    "print(new_df)\n"
   ]
  },
  {
   "cell_type": "code",
   "execution_count": null,
   "metadata": {},
   "outputs": [],
   "source": [
    "def mode(x):\n",
    "    return x.mode()\n",
    "\n",
    "# print(df.iloc[0:5,0:8])\n",
    "new_df = df.iloc[0:5,0:2]\n",
    "print(new_df)\n",
    "# new_df = new_df.apply(mode, axis=0)\n",
    "# print(new_df)\n",
    "new_df = new_df.apply(mode, axis=1)\n",
    "print(new_df)\n",
    "\n",
    "\n"
   ]
  },
  {
   "cell_type": "code",
   "execution_count": 3,
   "metadata": {},
   "outputs": [
    {
     "name": "stdout",
     "output_type": "stream",
     "text": [
      "Original Dataframe\n",
      "   A  B\n",
      "0  4  9\n",
      "1  4  9\n",
      "2  4  9\n",
      "\n",
      "\n",
      "Applying square root\n",
      "     A    B\n",
      "0  2.0  3.0\n",
      "1  2.0  3.0\n",
      "2  2.0  3.0\n",
      "\n",
      "\n",
      "Column-wise Sum\n",
      "A    12\n",
      "B    27\n",
      "dtype: int64\n",
      "\n",
      "\n",
      "Row-wise Sum\n",
      "0    13\n",
      "1    13\n",
      "2    13\n",
      "dtype: int64\n",
      "\n",
      "\n",
      "Returning a list-like column to each index\n",
      "0    [1, 2]\n",
      "1    [1, 2]\n",
      "2    [1, 2]\n",
      "dtype: object\n",
      "\n",
      "\n"
     ]
    }
   ],
   "source": [
    "import numpy as np\n",
    "df = pd.DataFrame([[4, 9]] * 3, columns=['A', 'B'])\n",
    "print(\"Original Dataframe\")\n",
    "print(df)\n",
    "print('\\n')\n",
    "\n",
    "print(\"Applying square root\")\n",
    "print(df.apply(np.sqrt))\n",
    "print('\\n')\n",
    "\n",
    "print(\"Column-wise Sum\")\n",
    "print(df.apply(np.sum, axis=0))\n",
    "print('\\n')\n",
    "\n",
    "print(\"Row-wise Sum\")\n",
    "print(df.apply(np.sum, axis=1))\n",
    "print('\\n')\n",
    "\n",
    "print(\"Returning a list-like column to each index\")\n",
    "print(df.apply(lambda x: [1, 2], axis=1))\n",
    "print('\\n')"
   ]
  },
  {
   "cell_type": "code",
   "execution_count": null,
   "metadata": {},
   "outputs": [],
   "source": []
  }
 ],
 "metadata": {
  "kernelspec": {
   "display_name": "Python 3",
   "language": "python",
   "name": "python3"
  },
  "language_info": {
   "codemirror_mode": {
    "name": "ipython",
    "version": 3
   },
   "file_extension": ".py",
   "mimetype": "text/x-python",
   "name": "python",
   "nbconvert_exporter": "python",
   "pygments_lexer": "ipython3",
   "version": "3.9.6"
  }
 },
 "nbformat": 4,
 "nbformat_minor": 2
}
