{
 "cells": [
  {
   "cell_type": "code",
   "execution_count": null,
   "metadata": {},
   "outputs": [],
   "source": [
    "import numpy as np\n",
    "(help(np.add))\n",
    "print(dir(np.add))\n",
    "np.info(np.add)\n",
    "\n"
   ]
  },
  {
   "cell_type": "code",
   "execution_count": 24,
   "metadata": {},
   "outputs": [
    {
     "name": "stdout",
     "output_type": "stream",
     "text": [
      "True\n"
     ]
    }
   ],
   "source": [
    "# 3. Write a NumPy program to test whether none of the elements of a given array are zero.\n",
    "# arr = np.array([1,2,3,4,5,0])\n",
    "arr = np.array([1,2,3,4,5])\n",
    "\n",
    "print(np.all(arr))\n",
    "# np.info(arr.any)\n",
    "# print(arr)\n",
    "# filter = (arr == 0)\n",
    "# arr[filter]"
   ]
  },
  {
   "cell_type": "code",
   "execution_count": 26,
   "metadata": {},
   "outputs": [
    {
     "name": "stdout",
     "output_type": "stream",
     "text": [
      "True\n"
     ]
    }
   ],
   "source": [
    "# 3. Write a NumPy program to test whether none of the elements of a given array are zero.\n",
    "# arr = np.array([1,2,3,4,5,0])\n",
    "arr = np.array([1,2,3,4,5,0])\n",
    "\n",
    "print(np.any(arr))\n",
    "# np.info(arr.any)\n",
    "# print(arr)\n",
    "# filter = (arr == 0)\n",
    "# arr[filter]"
   ]
  },
  {
   "cell_type": "code",
   "execution_count": 27,
   "metadata": {},
   "outputs": [
    {
     "name": "stdout",
     "output_type": "stream",
     "text": [
      "Original array\n",
      "[ 1.  0. nan inf]\n",
      "Test a given array element-wise for finiteness :\n",
      "[ True  True False False]\n"
     ]
    }
   ],
   "source": [
    "import numpy as np\n",
    "a = np.array([1, 0, np.nan, np.inf])\n",
    "print(\"Original array\")\n",
    "print(a)\n",
    "print(\"Test a given array element-wise for finiteness :\")\n",
    "print(np.isfinite(a))"
   ]
  },
  {
   "cell_type": "code",
   "execution_count": 28,
   "metadata": {},
   "outputs": [
    {
     "name": "stdout",
     "output_type": "stream",
     "text": [
      "An array of 10 zeros:\n",
      "[0. 0. 0. 0. 0. 0. 0. 0. 0. 0.]\n",
      "An array of 10 ones:\n",
      "[1. 1. 1. 1. 1. 1. 1. 1. 1. 1.]\n",
      "An array of 10 fives:\n",
      "[5. 5. 5. 5. 5. 5. 5. 5. 5. 5.]\n"
     ]
    }
   ],
   "source": [
    "# Write a NumPy program to create an array of 10 zeros, 10 ones, and 10 fives.\n",
    "\n",
    "import numpy as np\n",
    "array=np.zeros(10)\n",
    "print(\"An array of 10 zeros:\")\n",
    "print(array)\n",
    "array=np.ones(10)\n",
    "print(\"An array of 10 ones:\")\n",
    "print(array)\n",
    "array=np.ones(10)*5\n",
    "print(\"An array of 10 fives:\")\n",
    "print(array)"
   ]
  },
  {
   "cell_type": "code",
   "execution_count": 29,
   "metadata": {},
   "outputs": [
    {
     "name": "stdout",
     "output_type": "stream",
     "text": [
      "Original vector:\n",
      "[15 16 17 18 19 20 21 22 23 24 25 26 27 28 29 30 31 32 33 34 35 36 37 38\n",
      " 39 40 41 42 43 44 45 46 47 48 49 50 51 52 53 54]\n",
      "All values except the first and last of the said vector:\n",
      "[16 17 18 19 20 21 22 23 24 25 26 27 28 29 30 31 32 33 34 35 36 37 38 39\n",
      " 40 41 42 43 44 45 46 47 48 49 50 51 52 53]\n"
     ]
    }
   ],
   "source": [
    "import numpy as np\n",
    "v = np.arange(15,55)\n",
    "print(\"Original vector:\")\n",
    "print(v)\n",
    "print(\"All values except the first and last of the said vector:\")\n",
    "print(v[1:-1])"
   ]
  },
  {
   "cell_type": "code",
   "execution_count": 30,
   "metadata": {},
   "outputs": [
    {
     "name": "stdout",
     "output_type": "stream",
     "text": [
      "Original array:\n",
      "[[10 11 12 13]\n",
      " [14 15 16 17]\n",
      " [18 19 20 21]]\n",
      "Each element of the array is:\n",
      "10 11 12 13 14 15 16 17 18 19 20 21 "
     ]
    }
   ],
   "source": [
    "# Write a NumPy program to create a 3X4 array and iterate over it.\n",
    "\n",
    "import numpy as np\n",
    "a = np.arange(10,22).reshape((3, 4))\n",
    "print(\"Original array:\")\n",
    "print(a)\n",
    "print(\"Each element of the array is:\")\n",
    "for x in np.nditer(a):\n",
    "  print(x,end=\" \")"
   ]
  },
  {
   "cell_type": "code",
   "execution_count": 33,
   "metadata": {},
   "outputs": [
    {
     "data": {
      "text/plain": [
       "array([[1., 0., 0.],\n",
       "       [0., 1., 0.],\n",
       "       [0., 0., 1.]])"
      ]
     },
     "execution_count": 33,
     "metadata": {},
     "output_type": "execute_result"
    }
   ],
   "source": [
    "np.identity(3)\n",
    "# np.eye(3)"
   ]
  },
  {
   "cell_type": "code",
   "execution_count": 37,
   "metadata": {},
   "outputs": [
    {
     "name": "stdout",
     "output_type": "stream",
     "text": [
      "[[1. 1. 1. 1. 1. 1. 1. 1. 1. 1.]\n",
      " [1. 0. 0. 0. 0. 0. 0. 0. 0. 1.]\n",
      " [1. 0. 0. 0. 0. 0. 0. 0. 0. 1.]\n",
      " [1. 0. 0. 0. 0. 0. 0. 0. 0. 1.]\n",
      " [1. 0. 0. 0. 0. 0. 0. 0. 0. 1.]\n",
      " [1. 0. 0. 0. 0. 0. 0. 0. 0. 1.]\n",
      " [1. 0. 0. 0. 0. 0. 0. 0. 0. 1.]\n",
      " [1. 0. 0. 0. 0. 0. 0. 0. 0. 1.]\n",
      " [1. 0. 0. 0. 0. 0. 0. 0. 0. 1.]\n",
      " [1. 1. 1. 1. 1. 1. 1. 1. 1. 1.]]\n"
     ]
    }
   ],
   "source": [
    "# Write a NumPy program to create a 10x10 matrix, in which the elements on the borders will be equal to 1, and inside 0.\n",
    "import numpy as np\n",
    "x = np.ones((10, 10))\n",
    "x[1:-1, 1:-1] = 0\n",
    "print(x)"
   ]
  },
  {
   "cell_type": "code",
   "execution_count": 38,
   "metadata": {},
   "outputs": [
    {
     "name": "stdout",
     "output_type": "stream",
     "text": [
      "[[1 0 0 0 0]\n",
      " [0 2 0 0 0]\n",
      " [0 0 3 0 0]\n",
      " [0 0 0 4 0]\n",
      " [0 0 0 0 5]]\n"
     ]
    }
   ],
   "source": [
    "# Write a NumPy program to create a 5x5 zero matrix with elements on the main diagonal equal to 1, 2, 3, 4, 5.\n",
    "\n",
    "import numpy as np\n",
    "x = np.diag([1, 2, 3, 4, 5])\n",
    "print(x)"
   ]
  },
  {
   "cell_type": "code",
   "execution_count": 42,
   "metadata": {},
   "outputs": [
    {
     "data": {
      "text/plain": [
       "array([[[ 1,  2,  3],\n",
       "        [ 4,  5,  6],\n",
       "        [ 7,  8,  9]],\n",
       "\n",
       "       [[10, 11, 12],\n",
       "        [13, 14, 15],\n",
       "        [16, 17, 18]],\n",
       "\n",
       "       [[19, 20, 21],\n",
       "        [22, 23, 24],\n",
       "        [25, 26, 27]]])"
      ]
     },
     "execution_count": 42,
     "metadata": {},
     "output_type": "execute_result"
    }
   ],
   "source": [
    "np.arange(1,28).reshape((3,3,3))"
   ]
  }
 ],
 "metadata": {
  "kernelspec": {
   "display_name": "Python 3",
   "language": "python",
   "name": "python3"
  },
  "language_info": {
   "codemirror_mode": {
    "name": "ipython",
    "version": 3
   },
   "file_extension": ".py",
   "mimetype": "text/x-python",
   "name": "python",
   "nbconvert_exporter": "python",
   "pygments_lexer": "ipython3",
   "version": "3.9.6"
  }
 },
 "nbformat": 4,
 "nbformat_minor": 2
}
