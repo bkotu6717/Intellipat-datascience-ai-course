{
 "cells": [
  {
   "cell_type": "code",
   "execution_count": 15,
   "metadata": {},
   "outputs": [
    {
     "name": "stdout",
     "output_type": "stream",
     "text": [
      "Index(['satisfactoryLevel', 'lastEvaluation', 'numberOfProjects',\n",
      "       'avgMonthlyHours', 'timeSpent.company', 'workAccident', 'left',\n",
      "       'promotionInLast5years', 'dept', 'salary'],\n",
      "      dtype='object')\n",
      "       satisfactoryLevel  lastEvaluation  numberOfProjects  avgMonthlyHours  \\\n",
      "0                 0.1444          0.2809                 4            24649   \n",
      "1                 0.6400          0.7396                25            68644   \n",
      "2                 0.0121          0.7744                49            73984   \n",
      "3                 0.1369          0.2704                 4            25281   \n",
      "4                 0.1681          0.2500                 4            23409   \n",
      "...                  ...             ...               ...              ...   \n",
      "14994             0.0121          0.7225                49            75625   \n",
      "14995             0.9801          0.6889                16            75076   \n",
      "14996             0.5184          0.5184                16            30625   \n",
      "14997             0.0576          0.8281                25            31329   \n",
      "14998             0.5929          0.6889                36            73441   \n",
      "\n",
      "       timeSpent.company  workAccident  left  promotionInLast5years  \n",
      "0                      9             0     1                      0  \n",
      "1                     36             0     1                      0  \n",
      "2                     16             0     1                      0  \n",
      "3                      9             0     1                      0  \n",
      "4                      9             0     1                      0  \n",
      "...                  ...           ...   ...                    ...  \n",
      "14994                 16             0     1                      0  \n",
      "14995                  4             0     0                      0  \n",
      "14996                 16             0     0                      0  \n",
      "14997                 25             0     0                      0  \n",
      "14998                  9             0     0                      0  \n",
      "\n",
      "[14999 rows x 8 columns]\n"
     ]
    }
   ],
   "source": [
    "import pandas as pd\n",
    "\n",
    "def square(x):\n",
    "    return x**2\n",
    "df = pd.read_csv('./employe.csv')\n",
    "print(df.columns)\n",
    "df = df.iloc[:,:-2]\n",
    "# df.apply(square)\n",
    "\n",
    "df = df.map(square)\n",
    "print(df)\n"
   ]
  }
 ],
 "metadata": {
  "kernelspec": {
   "display_name": "Python 3",
   "language": "python",
   "name": "python3"
  },
  "language_info": {
   "codemirror_mode": {
    "name": "ipython",
    "version": 3
   },
   "file_extension": ".py",
   "mimetype": "text/x-python",
   "name": "python",
   "nbconvert_exporter": "python",
   "pygments_lexer": "ipython3",
   "version": "3.9.6"
  }
 },
 "nbformat": 4,
 "nbformat_minor": 2
}
