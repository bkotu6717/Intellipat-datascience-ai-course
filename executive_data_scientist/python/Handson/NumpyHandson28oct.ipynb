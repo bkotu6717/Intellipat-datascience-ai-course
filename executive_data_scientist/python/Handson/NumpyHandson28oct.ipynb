{
  "nbformat": 4,
  "nbformat_minor": 0,
  "metadata": {
    "colab": {
      "provenance": []
    },
    "kernelspec": {
      "name": "python3",
      "display_name": "Python 3"
    },
    "language_info": {
      "name": "python"
    }
  },
  "cells": [
    {
      "cell_type": "markdown",
      "source": [
        "***Numpy Handson -1***"
      ],
      "metadata": {
        "id": "OERTKcyRBFpR"
      }
    },
    {
      "cell_type": "code",
      "source": [
        "# BASICS OF NUMPY -\n",
        "''' Numpy stands for Numerical Python -\n",
        "It is a python library used for performing numerical operations\n",
        "Created in year 2005 by Travis Oliphant why he created ?\n",
        "Bceause Numpy is upto 50x more faster than list to work with arrays'''\n",
        "\n",
        "# How to import numpy\n",
        "\n",
        "import numpy as np"
      ],
      "metadata": {
        "id": "DhAZi3pkKdk8"
      },
      "execution_count": 2,
      "outputs": []
    },
    {
      "cell_type": "code",
      "source": [
        "# HOW TO CREATE A NUMPY ARRAY\n",
        "\n",
        "arr1=np.array([1,2,3,4,5])\n",
        "print(arr1)"
      ],
      "metadata": {
        "colab": {
          "base_uri": "https://localhost:8080/"
        },
        "id": "LfbHAwr4SCFP",
        "outputId": "ac60ab5e-ecd3-4272-b113-e9e7c039cfbc"
      },
      "execution_count": 3,
      "outputs": [
        {
          "output_type": "stream",
          "name": "stdout",
          "text": [
            "[1 2 3 4 5]\n"
          ]
        }
      ]
    },
    {
      "cell_type": "code",
      "source": [
        "array=[1,2,3,4,5]\n",
        "arr2=np.array(array)\n",
        "print(arr2)"
      ],
      "metadata": {
        "colab": {
          "base_uri": "https://localhost:8080/"
        },
        "id": "m7H5-96qSSXp",
        "outputId": "9840b3c3-a6bb-4658-ddbe-57eeadf2484f"
      },
      "execution_count": 4,
      "outputs": [
        {
          "output_type": "stream",
          "name": "stdout",
          "text": [
            "[1 2 3 4 5]\n"
          ]
        }
      ]
    },
    {
      "cell_type": "code",
      "source": [
        "# How to create a numpy array of 0 dimensional to 4th dimensional"
      ],
      "metadata": {
        "id": "T7GK6PK6Swn5"
      },
      "execution_count": null,
      "outputs": []
    },
    {
      "cell_type": "code",
      "source": [
        "# Od array\n",
        "\n",
        "arr1=np.array(22)\n",
        "print(arr1)\n",
        "print(arr1.ndim)"
      ],
      "metadata": {
        "colab": {
          "base_uri": "https://localhost:8080/"
        },
        "id": "kTJX80erS1VT",
        "outputId": "7db9db81-e9cb-4759-dfd5-7548ab627fad"
      },
      "execution_count": 12,
      "outputs": [
        {
          "output_type": "stream",
          "name": "stdout",
          "text": [
            "22\n",
            "0\n"
          ]
        }
      ]
    },
    {
      "cell_type": "code",
      "source": [
        "# 1d array\n",
        "\n",
        "arr1=np.array([1,2,3,4,5])\n",
        "print(arr1)"
      ],
      "metadata": {
        "colab": {
          "base_uri": "https://localhost:8080/"
        },
        "id": "5JATy2U9TFz5",
        "outputId": "b9149481-cf8e-467e-fc01-d50372f34170"
      },
      "execution_count": 6,
      "outputs": [
        {
          "output_type": "stream",
          "name": "stdout",
          "text": [
            "[1 2 3 4 5]\n"
          ]
        }
      ]
    },
    {
      "cell_type": "code",
      "source": [
        "# 2d array\n",
        "\n",
        "arr2=np.array([ [1,2,3],[4,5,6]  ])\n",
        "print(arr2)\n",
        "print(arr2.ndim)\n",
        "print(arr2.shape) # output will be in the format of tuple (rows*column)"
      ],
      "metadata": {
        "colab": {
          "base_uri": "https://localhost:8080/"
        },
        "id": "ixrwW0AsTrGC",
        "outputId": "4be6281c-9723-4f81-d155-7485f93661c5"
      },
      "execution_count": 13,
      "outputs": [
        {
          "output_type": "stream",
          "name": "stdout",
          "text": [
            "[[1 2 3]\n",
            " [4 5 6]]\n",
            "2\n",
            "(2, 3)\n"
          ]
        }
      ]
    },
    {
      "cell_type": "code",
      "source": [
        "# 3d array\n",
        "arr3=np.array( [[ [1,2,3],[4,5,6]],[[7,8,9],[10,11,12] ]] )\n",
        "print(arr3)\n",
        "print(arr3.shape)  # ( no of 2d array ,rows , column)\n"
      ],
      "metadata": {
        "colab": {
          "base_uri": "https://localhost:8080/"
        },
        "id": "zOeDHNSjUBYI",
        "outputId": "b3f4500e-2aca-4726-f764-c3f254756390"
      },
      "execution_count": 14,
      "outputs": [
        {
          "output_type": "stream",
          "name": "stdout",
          "text": [
            "[[[ 1  2  3]\n",
            "  [ 4  5  6]]\n",
            "\n",
            " [[ 7  8  9]\n",
            "  [10 11 12]]]\n",
            "(2, 2, 3)\n"
          ]
        }
      ]
    },
    {
      "cell_type": "code",
      "source": [
        "# 4d array\n",
        "arr4=np.array([[[[1,2,3],[4,5,6]],[[7,8,9],[10,11,12]]],[[[1,2,3],[4,5,6]],[[7,8,9],[10,11,12]]]])\n",
        "print(arr4)\n",
        "print(arr4.ndim)\n",
        "print(arr4.shape) # ( no of layers , no of 2d array you are using inside your layer , rows , column)"
      ],
      "metadata": {
        "colab": {
          "base_uri": "https://localhost:8080/"
        },
        "id": "F25u7fHjUuf9",
        "outputId": "ad1cbe77-776b-4f55-c3bc-8b3dedec85b3"
      },
      "execution_count": 17,
      "outputs": [
        {
          "output_type": "stream",
          "name": "stdout",
          "text": [
            "[[[[ 1  2  3]\n",
            "   [ 4  5  6]]\n",
            "\n",
            "  [[ 7  8  9]\n",
            "   [10 11 12]]]\n",
            "\n",
            "\n",
            " [[[ 1  2  3]\n",
            "   [ 4  5  6]]\n",
            "\n",
            "  [[ 7  8  9]\n",
            "   [10 11 12]]]]\n",
            "4\n",
            "(2, 2, 2, 3)\n"
          ]
        }
      ]
    },
    {
      "cell_type": "code",
      "source": [
        "# indexing\n",
        "\n",
        "arr1=np.array([1,2,3,4,5])\n",
        "# i want to access 4\n",
        "print(arr1[3])"
      ],
      "metadata": {
        "colab": {
          "base_uri": "https://localhost:8080/"
        },
        "id": "MrNGXr0pXwE1",
        "outputId": "db8d5725-7ab0-44e8-caf7-eb9c4361a324"
      },
      "execution_count": 18,
      "outputs": [
        {
          "output_type": "stream",
          "name": "stdout",
          "text": [
            "4\n"
          ]
        }
      ]
    },
    {
      "cell_type": "code",
      "source": [
        "# Acces element in 2d array\n",
        "arr2=np.array([[1,2,3,4,5],[6,7,8,9,10]])\n",
        "print(arr2)\n",
        "print(arr2.shape)\n",
        "\n",
        "# how you will access 9\n",
        "print(arr2[1,3])"
      ],
      "metadata": {
        "colab": {
          "base_uri": "https://localhost:8080/"
        },
        "id": "pkZCU8JnYIb5",
        "outputId": "cc687459-f936-4c70-8866-f56cbf3c7f1a"
      },
      "execution_count": 21,
      "outputs": [
        {
          "output_type": "stream",
          "name": "stdout",
          "text": [
            "[[ 1  2  3  4  5]\n",
            " [ 6  7  8  9 10]]\n",
            "(2, 5)\n",
            "9\n"
          ]
        }
      ]
    },
    {
      "cell_type": "code",
      "source": [
        "# how you will access the element in 3d array\n",
        "arr3=np.array( [[ [1,2,3],[4,5,6]],[[7,8,9],[10,11,12] ]])\n",
        "print(arr3)\n",
        "print(arr3.shape)\n",
        "\n",
        "# i want to acceess 8\n",
        "\n",
        "print(arr3[ 1, 0 ,1 ]) #( no of 2d array , row no , index)\n"
      ],
      "metadata": {
        "colab": {
          "base_uri": "https://localhost:8080/"
        },
        "id": "qEqKgu8EYvCR",
        "outputId": "fe672a7d-aeb9-4946-d521-d572ae9e9ca6"
      },
      "execution_count": 23,
      "outputs": [
        {
          "output_type": "stream",
          "name": "stdout",
          "text": [
            "[[[ 1  2  3]\n",
            "  [ 4  5  6]]\n",
            "\n",
            " [[ 7  8  9]\n",
            "  [10 11 12]]]\n",
            "(2, 2, 3)\n",
            "8\n"
          ]
        }
      ]
    },
    {
      "cell_type": "code",
      "source": [
        "# access element in 2d array using -ve indexing\n",
        "\n",
        "arr2=np.array([[1,2,3,4,5],[6,7,8,9,10]])\n",
        "print(arr2)\n",
        "# i want to access 7 using -ve indexing\n",
        "\n",
        "print(arr2[-1,-4])   #( +ve row number or -ve row number , -ve index number)\n"
      ],
      "metadata": {
        "colab": {
          "base_uri": "https://localhost:8080/"
        },
        "id": "hb_79e0wZyg4",
        "outputId": "a4e4fcb1-a9be-44e3-bf00-447b3b7a46c5"
      },
      "execution_count": 27,
      "outputs": [
        {
          "output_type": "stream",
          "name": "stdout",
          "text": [
            "[[ 1  2  3  4  5]\n",
            " [ 6  7  8  9 10]]\n",
            "7\n"
          ]
        }
      ]
    },
    {
      "cell_type": "code",
      "source": [
        "# Slicing in numpy array\n",
        "\n",
        "# slicing of 1d array\n",
        "arr1=np.array([1,2,3,4,5])\n",
        "print(arr1[ 2:4 ])  #( start index , 1 more than ending index)\n",
        "\n",
        "print(arr1[1:])\n",
        "print(arr1[ :2])"
      ],
      "metadata": {
        "colab": {
          "base_uri": "https://localhost:8080/"
        },
        "id": "J3PvOceba87U",
        "outputId": "76a49cc0-f5eb-4b73-f240-19e44a8769c1"
      },
      "execution_count": 32,
      "outputs": [
        {
          "output_type": "stream",
          "name": "stdout",
          "text": [
            "[3 4]\n",
            "[2 3 4 5]\n",
            "[1 2]\n"
          ]
        }
      ]
    },
    {
      "cell_type": "code",
      "source": [
        "# data type of numpy array\n",
        "arr1=np.array([1,2,3,4,5])\n",
        "print(arr1.dtype)\n",
        "\n",
        "arr2=np.array(['apple','banana','orange'])\n",
        "print(arr2.dtype)\n",
        "# U6 is the string data  type\n",
        "\n",
        "# Type casting\n",
        "arr4=np.array([1,2,3,4,5],dtype='S')\n",
        "print(arr4)"
      ],
      "metadata": {
        "colab": {
          "base_uri": "https://localhost:8080/"
        },
        "id": "gI3slqtCcIOm",
        "outputId": "de311cd8-58f4-4e5c-cbc8-88bfbcb99da7"
      },
      "execution_count": 38,
      "outputs": [
        {
          "output_type": "stream",
          "name": "stdout",
          "text": [
            "int64\n",
            "<U6\n",
            "[b'1' b'2' b'3' b'4' b'5']\n"
          ]
        }
      ]
    },
    {
      "cell_type": "code",
      "source": [
        "# can i reshape my array\n",
        "\n",
        "arr1=np.array([1,2,3,4,5,6,7,8,9,10,11,12])  # 1d array\n",
        "print(arr1)\n",
        "print(arr1.shape)\n",
        "# convert 1 d array to 2d array 3*3\n",
        "newarr=arr1.reshape(2,6)\n",
        "print(newarr)\n"
      ],
      "metadata": {
        "colab": {
          "base_uri": "https://localhost:8080/"
        },
        "id": "wv5flpdJetGq",
        "outputId": "6092486f-3e31-47fa-abbd-c5961caf689d"
      },
      "execution_count": 45,
      "outputs": [
        {
          "output_type": "stream",
          "name": "stdout",
          "text": [
            "[ 1  2  3  4  5  6  7  8  9 10 11 12]\n",
            "(12,)\n",
            "[[ 1  2  3  4  5  6]\n",
            " [ 7  8  9 10 11 12]]\n"
          ]
        }
      ]
    },
    {
      "cell_type": "code",
      "source": [
        "# convert 2d array  to 3d array\n",
        "\n",
        "arr5=np.array([[1,2,3],[4,5,6],[7,8,9],[10,11,12]])\n",
        "# 2d array to 3d array\n",
        "newarray=arr5.reshape(2,2,3)\n",
        "print(newarray)\n",
        "print(newarray.ndim)"
      ],
      "metadata": {
        "colab": {
          "base_uri": "https://localhost:8080/"
        },
        "id": "8H9vw3D-f8Ts",
        "outputId": "9fbfa299-d55c-424d-dceb-ca0fcbc1f329"
      },
      "execution_count": 52,
      "outputs": [
        {
          "output_type": "stream",
          "name": "stdout",
          "text": [
            "[[[ 1  2  3]\n",
            "  [ 4  5  6]]\n",
            "\n",
            " [[ 7  8  9]\n",
            "  [10 11 12]]]\n",
            "3\n"
          ]
        }
      ]
    },
    {
      "cell_type": "markdown",
      "source": [
        " ***HANDS-ON starts from here -**"
      ],
      "metadata": {
        "id": "S4cPwkfpkyMr"
      }
    },
    {
      "cell_type": "code",
      "source": [
        "'''1. Create a numpy array with numpy.array module and with a data type integer and float'''\n",
        "import numpy as np\n",
        "\n",
        "arr1=np.array([1,2,3,4,5],dtype='int')\n",
        "print(arr1)\n",
        "print(arr1.dtype)\n",
        "\n",
        "arr2=np.array([1,2,3,4,5],dtype='float')\n",
        "print(arr2)\n",
        "print(arr2.dtype)\n"
      ],
      "metadata": {
        "colab": {
          "base_uri": "https://localhost:8080/"
        },
        "id": "FOAHXDW2k5LL",
        "outputId": "c267e146-5f4c-41cb-9e79-3a71337d0644"
      },
      "execution_count": 54,
      "outputs": [
        {
          "output_type": "stream",
          "name": "stdout",
          "text": [
            "[1 2 3 4 5]\n",
            "int64\n",
            "[1. 2. 3. 4. 5.]\n",
            "float64\n"
          ]
        }
      ]
    },
    {
      "cell_type": "code",
      "source": [
        "'''2. Create numpy arrays that have zero, one, two, three, Four dimensions respectively.\n",
        "Also, print the shape and dimensions of the numpy arrays created above.\n",
        "'''\n",
        "# Already did"
      ],
      "metadata": {
        "id": "ZzDeUPYGmBEp"
      },
      "execution_count": null,
      "outputs": []
    },
    {
      "cell_type": "code",
      "source": [
        "'''3. Create a 2x3, 3x3, and 4x4 identity matrix using numpy.'''\n",
        "arr2=np.identity(2,dtype='int')\n",
        "print(arr2)\n",
        "\n",
        "arr3=np.identity(3,dtype='int')\n",
        "print(arr3)\n",
        "\n",
        "arr4=np.identity(4,dtype='int')\n",
        "print(arr4)\n",
        "\n",
        "# create indentity matrix of 2,3\n",
        "arrnew=np.eye(2,3,dtype='int')\n",
        "print(arrnew)\n"
      ],
      "metadata": {
        "colab": {
          "base_uri": "https://localhost:8080/"
        },
        "id": "dUywEyFkmn7K",
        "outputId": "e3629b62-09b0-4b7a-c466-907ebdfe3e5e"
      },
      "execution_count": 59,
      "outputs": [
        {
          "output_type": "stream",
          "name": "stdout",
          "text": [
            "[[1 0]\n",
            " [0 1]]\n",
            "[[1 0 0]\n",
            " [0 1 0]\n",
            " [0 0 1]]\n",
            "[[1 0 0 0]\n",
            " [0 1 0 0]\n",
            " [0 0 1 0]\n",
            " [0 0 0 1]]\n",
            "[[1 0 0]\n",
            " [0 1 0]]\n"
          ]
        }
      ]
    },
    {
      "cell_type": "code",
      "source": [
        "'''4. Create a numpy array with shape 2x5 that has all the elements as zero.'''\n",
        "\n",
        "arr=np.zeros((2,5),dtype='int')   # 1st way\n",
        "print(arr)\n",
        "\n",
        "arr2=np.eye(2,5,dtype='int')  # 2nd way\n",
        "print(arr2*0)\n"
      ],
      "metadata": {
        "colab": {
          "base_uri": "https://localhost:8080/"
        },
        "id": "AVMUEy4WoMpE",
        "outputId": "b77ca898-845d-4cab-abfe-cd265593414e"
      },
      "execution_count": 63,
      "outputs": [
        {
          "output_type": "stream",
          "name": "stdout",
          "text": [
            "[[0 0 0 0 0]\n",
            " [0 0 0 0 0]]\n",
            "[[0 0 0 0 0]\n",
            " [0 0 0 0 0]]\n"
          ]
        }
      ]
    },
    {
      "cell_type": "code",
      "source": [
        "'''5. Create a numpy array that has the shape 3x5 and all the elements are 5.'''\n",
        "# 1st way  of ishita\n",
        "arr=np.zeros((3,5),dtype='int')\n",
        "print(arr+5)\n",
        "\n",
        "# 2nd way\n",
        "arr2=np.full((3,5),5,dtype='int')  # first paramater is size , second is the number\n",
        "print(arr2)\n",
        "\n",
        "# 3rd way\n",
        "arr3=np.ones((3,5),dtype='int')\n",
        "print(arr3*5)\n",
        "\n",
        "# 4th way\n",
        "arr4=np.eye(3,5,dtype='int')\n",
        "print(arr4*0+5)"
      ],
      "metadata": {
        "colab": {
          "base_uri": "https://localhost:8080/"
        },
        "id": "9vYu64R0paPh",
        "outputId": "1f227ca9-7171-45a1-ec3d-7e5967d572eb"
      },
      "execution_count": 75,
      "outputs": [
        {
          "output_type": "stream",
          "name": "stdout",
          "text": [
            "[[5 5 5 5 5]\n",
            " [5 5 5 5 5]\n",
            " [5 5 5 5 5]]\n",
            "[[5 5 5 5 5]\n",
            " [5 5 5 5 5]\n",
            " [5 5 5 5 5]]\n",
            "[[5 5 5 5 5]\n",
            " [5 5 5 5 5]\n",
            " [5 5 5 5 5]]\n",
            "[[5 5 5 5 5]\n",
            " [5 5 5 5 5]\n",
            " [5 5 5 5 5]]\n"
          ]
        }
      ]
    },
    {
      "cell_type": "code",
      "source": [
        "'''6. Create a numpy array with random integers in the range 0-100, and the sample size\n",
        "should be 25.\n",
        "'''\n",
        "arr1=np.random.randint(0,101,size=(5,5))  # ( start range , end range+1 , sample size)\n",
        "print(arr1)"
      ],
      "metadata": {
        "colab": {
          "base_uri": "https://localhost:8080/"
        },
        "id": "sYurpT4Mq_7p",
        "outputId": "5a42c259-1615-4b46-943f-421b651cfb32"
      },
      "execution_count": 83,
      "outputs": [
        {
          "output_type": "stream",
          "name": "stdout",
          "text": [
            "[[95 57 13 16  0]\n",
            " [64 19  9 43 55]\n",
            " [92 19 53 21 34]\n",
            " [80 32 11  3 84]\n",
            " [62 32 84 20  5]]\n"
          ]
        }
      ]
    },
    {
      "cell_type": "code",
      "source": [
        "'''7. Create a numpy array with a shape 3x3 that has all elements as 1.'''\n",
        "arr=np.ones((3,3),dtype='int')\n",
        "print(arr)"
      ],
      "metadata": {
        "colab": {
          "base_uri": "https://localhost:8080/"
        },
        "id": "-xiQpUK7sbq5",
        "outputId": "ec26b90a-552d-4db3-8636-636a173f5509"
      },
      "execution_count": 88,
      "outputs": [
        {
          "output_type": "stream",
          "name": "stdout",
          "text": [
            "[[1 1 1]\n",
            " [1 1 1]\n",
            " [1 1 1]]\n"
          ]
        }
      ]
    },
    {
      "cell_type": "code",
      "source": [
        "'''8. Create a numpy array in the shape 2x3 with random integers in the range 0-100.\n",
        "Reshape the array in the shape 3x2 and print the updated shape of the resultant array.\n",
        "'''\n",
        "arr=np.random.randint(0, 101, size=(2, 3))\n",
        "print(arr)\n",
        "newarr=arr.reshape(3,2)\n",
        "print(newarr)"
      ],
      "metadata": {
        "colab": {
          "base_uri": "https://localhost:8080/"
        },
        "id": "Fo-8wjcvtFNn",
        "outputId": "9c823db0-5230-4151-ddb4-694f52fa7abe"
      },
      "execution_count": 92,
      "outputs": [
        {
          "output_type": "stream",
          "name": "stdout",
          "text": [
            "[[13  5 12]\n",
            " [ 2 74 29]]\n",
            "[[13  5]\n",
            " [12  2]\n",
            " [74 29]]\n"
          ]
        }
      ]
    },
    {
      "cell_type": "code",
      "source": [
        "'''9.\n",
        "Step-1 Create a random array, with the range 0-1000, with a size 50 and\n",
        "step 2. Perform the following operations on the same.\n",
        "a. Print the first ten elements of the array.\n",
        "b. Print the last ten elements of the array\n",
        "c. Print the elements from the indexes 10-25\n",
        "d. Print the element at the index 22\n",
        "e. Print the array using negative indexing.\n",
        "f. Print the last ten elements of the array, using negative indexing.'''\n",
        "\n",
        "arr1=np.random.randint(0,1001,50)\n",
        "print(arr1)\n",
        "\n",
        "# a. Print the first ten elements of the array.\n",
        "print(arr1[ :10])\n",
        "\n",
        "#b. Print the last ten elements of the array\n",
        "print(arr1[40:])\n",
        "\n",
        "# c. Print the elements from the indexes 10-25\n",
        "print(arr1[10:26])\n",
        "\n",
        "# d. Print the element at the index 22\n",
        "print(arr1[22])\n",
        "\n",
        "# e. Print the array using negative indexing\n",
        "print(arr1[: : -1])\n",
        "print(arr1[-50:])\n",
        "\n",
        "#f. Print the last ten elements of the array, using negative indexing.'''\n",
        "print(arr1[-1:-11:-1])\n",
        "\n"
      ],
      "metadata": {
        "colab": {
          "base_uri": "https://localhost:8080/"
        },
        "id": "vSDqWuuItuA4",
        "outputId": "8313f520-0f1a-4f96-e365-4b2088be49ac"
      },
      "execution_count": 102,
      "outputs": [
        {
          "output_type": "stream",
          "name": "stdout",
          "text": [
            "[930 498 363 316 746 540 949 630   3  47 581 646  86 586 603 137  56 923\n",
            " 447 188 150 805 270 593 125 465 558 182 323 843 755 390 756 181 469 891\n",
            " 203 738 606 645 561 927 293 821 535 817 349 767  91 147]\n",
            "[930 498 363 316 746 540 949 630   3  47]\n",
            "[561 927 293 821 535 817 349 767  91 147]\n",
            "[581 646  86 586 603 137  56 923 447 188 150 805 270 593 125 465]\n",
            "270\n",
            "[147  91 767 349 817 535 821 293 927 561 645 606 738 203 891 469 181 756\n",
            " 390 755 843 323 182 558 465 125 593 270 805 150 188 447 923  56 137 603\n",
            " 586  86 646 581  47   3 630 949 540 746 316 363 498 930]\n",
            "[930 498 363 316 746 540 949 630   3  47 581 646  86 586 603 137  56 923\n",
            " 447 188 150 805 270 593 125 465 558 182 323 843 755 390 756 181 469 891\n",
            " 203 738 606 645 561 927 293 821 535 817 349 767  91 147]\n",
            "[147  91 767 349 817 535 821 293 927 561]\n"
          ]
        }
      ]
    },
    {
      "cell_type": "code",
      "source": [
        "'''10. Given a numpy array that has values = [1,2,3,4,5]. Perform the following operations.\n",
        "a. Insert the element 6 at the end of the array.\n",
        "b. Insert the element 10 at the beginning of the array.\n",
        "c. Insert the element 30, before 4 index.\n",
        "d. Update the element 5 as 50.\n",
        "e. Delete the element 50 in the updated array.\n",
        "f. Create a function to search for the element 30.\n",
        "g. Sort the array in ascending order'''\n",
        "\n",
        "data= [1,2,3,4,5]\n",
        "arr=np.array(data)\n",
        "\n",
        "#a. Insert the element 6 at the end of the array and store it to new array.\n",
        "newarr=np.append(arr,6)\n",
        "\n",
        "#b-Insert the element 10 at the beginning of the array\n",
        "newarr=np.insert(newarr,0,10)\n",
        "\n",
        "#c. Insert the element 30, before the index 4. ( at 3rd index)\n",
        "newarr=np.insert(newarr,3,30)\n",
        "\n",
        "#d. Update the element 5 as 50.\n",
        "newarr[6]=50\n",
        "\n",
        "print(newarr)\n",
        "\n",
        "# np.where(newarr == 5, 50, newarr)\n",
        "\n",
        "# You can update single value to multiple places\n",
        "# newarr[4:7]=50       # updated the value 50 from index 4 to index 6\n",
        "# print(newarr)\n",
        "\n",
        "# e. Delete the element 50 in the updated array.\n",
        "newarr2=np.delete(newarr,6)\n",
        "print(newarr2)\n",
        "\n",
        "#f. Create a function to search for the element 30.\n",
        "\n",
        "def search(newarr2,ele):\n",
        "  if ele in newarr2:\n",
        "    print(\"present\")\n",
        "  else:\n",
        "    print(\"Not present\")\n",
        "\n",
        "# calling the function\n",
        "search(newarr2,3)\n",
        "\n"
      ],
      "metadata": {
        "colab": {
          "base_uri": "https://localhost:8080/"
        },
        "id": "34iPMknfwml1",
        "outputId": "fd938283-bfe4-4caf-c9e8-53a2fdae9eaf"
      },
      "execution_count": 123,
      "outputs": [
        {
          "output_type": "stream",
          "name": "stdout",
          "text": [
            "[10  1  2 30  3  4 50  6]\n",
            "[10  1  2 30  3  4  6]\n",
            "present\n"
          ]
        }
      ]
    },
    {
      "cell_type": "code",
      "source": [
        "# Where function\n",
        "\n",
        "def search(newarr,elementtosearch):\n",
        "  index=np.where(newarr==elementtosearch) # it will search for index and then store the answer in index variable\n",
        "  if len(index[0])>0:\n",
        "    print(\"element is present at position :\",index[0])\n",
        "  else:\n",
        "    print(\"element in not present\")\n",
        "\n",
        "data=[1,2,3,4,5,6,7,8,9,11,34,656,35,234,244,5,355,2233,5,8]\n",
        "newarr=np.array(data)\n",
        "elementtosearch=8\n",
        "search(newarr,elementtosearch)"
      ],
      "metadata": {
        "colab": {
          "base_uri": "https://localhost:8080/"
        },
        "id": "EUJG7fTb1crz",
        "outputId": "63ad3d98-5214-4332-fe7e-c85352f78765"
      },
      "execution_count": 137,
      "outputs": [
        {
          "output_type": "stream",
          "name": "stdout",
          "text": [
            "element is present at position : [ 7 19]\n"
          ]
        }
      ]
    },
    {
      "cell_type": "code",
      "source": [
        "#g. Sort the array in ascending order'''\n",
        "data=[1,2,3,4,5,6,7,8,9,11,34,656,35,234,244,5,355,2233,5,8]\n",
        "newarr=np.array(data)\n",
        "print(newarr)\n",
        "\n",
        "newarr.sort() # using .sort predefined function\n",
        "print(newarr)\n"
      ],
      "metadata": {
        "colab": {
          "base_uri": "https://localhost:8080/"
        },
        "id": "-od9dDYt5v1m",
        "outputId": "a792bfee-dfe5-41c4-ccde-bf830220e737"
      },
      "execution_count": 139,
      "outputs": [
        {
          "output_type": "stream",
          "name": "stdout",
          "text": [
            "[   1    2    3    4    5    6    7    8    9   11   34  656   35  234\n",
            "  244    5  355 2233    5    8]\n",
            "[   1    2    3    4    5    5    5    6    7    8    8    9   11   34\n",
            "   35  234  244  355  656 2233]\n"
          ]
        }
      ]
    }
  ]
}