{
 "cells": [
  {
   "cell_type": "code",
   "execution_count": null,
   "id": "b7b1ba0e",
   "metadata": {},
   "outputs": [],
   "source": [
    "#Assignment1-Functions\n",
    "1. Create a function named ‘factor’ that can only accept 1 argument. The\n",
    "function should return the factorial of that number.\n",
    "2. Create a function named ‘check_string’, the function should accept a string\n",
    "data from the user and the function should check if the user input contains\n",
    "the letter ‘s’ in it. If it contains the letter ‘s’ then print- ‘The string is\n",
    "containing the letter ‘s’’, if not then print- ‘The string doesn’t contain the\n",
    "letter ‘s’’.\n",
    "3. Create a class named ‘student’ and inside the class, create a function\n",
    "named ‘fun1’- this method should accept the user defined input and return\n",
    "that value:\n",
    "a. Create another method named- message() and that method should print\n",
    "the user defined input that we have defined in ‘fun1’.\n",
    "4. Create a lambda function that should double or multiply the number (that\n",
    "we will be passing in the lambda function) by 2. Store the lambda function\n",
    "in a variable named ‘double_num’.\n",
    "5. Take user input string and check whether that string is palindrome or not"
   ]
  },
  {
   "cell_type": "code",
   "execution_count": null,
   "id": "7700b7f2",
   "metadata": {},
   "outputs": [],
   "source": [
    "#1\n",
    "def factor(num):\n",
    "    if (num < 0): return 'Invalid number' \n",
    "    factorial = 1\n",
    "    for i in range(1, num+1):\n",
    "        factorial = factorial * i\n",
    "    return factorial\n"
   ]
  },
  {
   "cell_type": "code",
   "execution_count": null,
   "id": "329db631",
   "metadata": {},
   "outputs": [],
   "source": [
    "#2\n",
    "def check_string(word):\n",
    "    if 's' in word.lower() or 'a' in word.lower():\n",
    "        print('The string contains letter S or A')\n",
    "    else:\n",
    "        print('The string does not contain letter S or A')"
   ]
  },
  {
   "cell_type": "code",
   "execution_count": null,
   "id": "cc15def8",
   "metadata": {},
   "outputs": [],
   "source": [
    "#3\n",
    "class Student:\n",
    "    def __init__(self):\n",
    "        self.data = None\n",
    "        \n",
    "    def fun1(self):\n",
    "        self.data = input('Enter the word: ')\n",
    "        return self.data\n",
    "    \n",
    "    def message(self):\n",
    "        print('message -> ', self.data)"
   ]
  },
  {
   "cell_type": "code",
   "execution_count": null,
   "id": "6e7b2507",
   "metadata": {},
   "outputs": [],
   "source": [
    "#4\n",
    "double_num = lambda n: n*2\n",
    "print(double_num(5))"
   ]
  },
  {
   "cell_type": "code",
   "execution_count": null,
   "id": "436916a8",
   "metadata": {},
   "outputs": [],
   "source": [
    "#5\n",
    "word = input('Enter the string: ')\n",
    "word = word.lower()\n",
    "\n",
    "if word == word[::-1]:\n",
    "    print('Its a palindrome')\n",
    "else:\n",
    "    print('Not a palindrome')"
   ]
  }
 ],
 "metadata": {
  "kernelspec": {
   "display_name": "Python 3 (ipykernel)",
   "language": "python",
   "name": "python3"
  },
  "language_info": {
   "codemirror_mode": {
    "name": "ipython",
    "version": 3
   },
   "file_extension": ".py",
   "mimetype": "text/x-python",
   "name": "python",
   "nbconvert_exporter": "python",
   "pygments_lexer": "ipython3",
   "version": "3.11.4"
  }
 },
 "nbformat": 4,
 "nbformat_minor": 5
}
