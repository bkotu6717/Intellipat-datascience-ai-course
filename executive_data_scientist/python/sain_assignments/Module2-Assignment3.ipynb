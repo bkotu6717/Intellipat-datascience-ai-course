{
 "cells": [
  {
   "cell_type": "code",
   "execution_count": null,
   "id": "02a6faec",
   "metadata": {},
   "outputs": [],
   "source": [
    "#Import\n",
    "# 1. Create a Python file named Module:\n",
    "# a. Inside the file, define 4 methods named – addition, subtraction,\n",
    "# multiplication, and division.\n",
    "# b. Each method should only accept 2 arguments and should return the\n",
    "# result of operation performed in each method. For e.g., addition() should\n",
    "# return the sum of two arguments.\n",
    "# c. Save the Module file in .py format.\n"
   ]
  },
  {
   "cell_type": "code",
   "execution_count": 3,
   "id": "eadfbe9c",
   "metadata": {},
   "outputs": [
    {
     "name": "stdout",
     "output_type": "stream",
     "text": [
      "9 -1 20 0.8\n"
     ]
    }
   ],
   "source": [
    "# 2. Open a new python file and import the Module.py file\n",
    "# a. Now call the 4 methods from the Module.py file, i.e., addition(),\n",
    "# subtraction(), multiplication(), and division().\n",
    "import module as m\n",
    "\n",
    "add = m.addition(4,5)\n",
    "sub = m.subtraction(4,5)\n",
    "mul = m.multiplication(4,5)\n",
    "div = m.division(4,5)\n",
    "\n",
    "print(add,sub,mul,div)"
   ]
  },
  {
   "cell_type": "code",
   "execution_count": null,
   "id": "19400eed",
   "metadata": {},
   "outputs": [],
   "source": [
    "# 3. From the Module file, import only the addition() and pass the arguments so\n",
    "# that it can display the result from the method.\n",
    "from module import addition\n",
    "print(addition(4,5))"
   ]
  },
  {
   "cell_type": "code",
   "execution_count": null,
   "id": "886001db",
   "metadata": {},
   "outputs": [],
   "source": [
    "# 4. From the Module file, import only the subtraction() and pass the arguments\n",
    "# so that it can display the result from the method.\n",
    "from module import subtraction\n",
    "print(addition(4,5))"
   ]
  },
  {
   "cell_type": "code",
   "execution_count": 8,
   "id": "bef0ad6c",
   "metadata": {},
   "outputs": [
    {
     "name": "stdout",
     "output_type": "stream",
     "text": [
      "20\n",
      "0.8\n"
     ]
    }
   ],
   "source": [
    "# 5. From the Module file, import both the multiplication() and division() and\n",
    "# pass the arguments so that it can display the result from the methods.\n",
    "from module import multiplication, division \n",
    "print(multiplication(4,5))\n",
    "print(division(4,5))"
   ]
  }
 ],
 "metadata": {
  "kernelspec": {
   "display_name": "Python 3 (ipykernel)",
   "language": "python",
   "name": "python3"
  },
  "language_info": {
   "codemirror_mode": {
    "name": "ipython",
    "version": 3
   },
   "file_extension": ".py",
   "mimetype": "text/x-python",
   "name": "python",
   "nbconvert_exporter": "python",
   "pygments_lexer": "ipython3",
   "version": "3.11.4"
  }
 },
 "nbformat": 4,
 "nbformat_minor": 5
}
