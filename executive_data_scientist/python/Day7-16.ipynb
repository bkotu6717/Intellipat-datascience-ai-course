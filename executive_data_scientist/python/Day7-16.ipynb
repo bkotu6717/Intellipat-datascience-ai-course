{
 "cells": [
  {
   "cell_type": "code",
   "execution_count": 2,
   "id": "1aef2a06",
   "metadata": {},
   "outputs": [
    {
     "name": "stdout",
     "output_type": "stream",
     "text": [
      "MONICA\n",
      "1234\n",
      "Username updated\n",
      "Password updated\n",
      "MONICA SINGHAL\n",
      "abcd\n",
      "Unauthorised\n",
      "Unauthorised\n",
      "Unauthorised\n",
      "Unauthorised\n",
      "Unauthorised\n",
      "Unauthorised\n"
     ]
    }
   ],
   "source": [
    "# Encapsulation\n",
    "\n",
    "# In python, by default the properties are public\n",
    "# Inorder to convert into private, we need to add __(double underscore), __private\n",
    "\n",
    "class ATM:\n",
    "    __original_username = 'MONICA'\n",
    "    __original_password = '1234'\n",
    "    \n",
    "    def __init__(self, username, password):\n",
    "        self.username = username\n",
    "        self.password = password\n",
    "        \n",
    "    # getters\n",
    "    def get_original_username(self):\n",
    "        if(self.validate()):\n",
    "            return self.__original_username\n",
    "        return 'Unauthorised'\n",
    "    \n",
    "    def get_original_password(self):\n",
    "        if(self.validate()):\n",
    "            return self.__original_password\n",
    "        return 'Unauthorised'\n",
    "    \n",
    "    # setters\n",
    "    def set_original_username(self, new_username):\n",
    "        if(self.validate()):\n",
    "            ATM.__original_username = new_username\n",
    "            self.username = new_username # to update the current logged in session\n",
    "            return 'Username updated'\n",
    "        return 'Unauthorised'\n",
    "    \n",
    "    def set_original_password(self, new_password):\n",
    "        if(self.validate()):\n",
    "            ATM.__original_password = new_password\n",
    "            self.password = new_password\n",
    "            return 'Password updated'\n",
    "        return 'Unauthorised'\n",
    "        \n",
    "    def validate(self):\n",
    "        if(self.username == ATM.__original_username and self.password == ATM.__original_password):\n",
    "            return True\n",
    "        return False\n",
    "\n",
    "monica = ATM('MONICA', '1234')\n",
    "print(monica.get_original_username())\n",
    "print(monica.get_original_password())\n",
    "print(monica.set_original_username('MONICA SINGHAL'))\n",
    "print(monica.set_original_password('abcd'))\n",
    "print(monica.get_original_username())\n",
    "print(monica.get_original_password())\n",
    "# print(monica.validate())\n",
    "\n",
    "# siva\n",
    "siva = ATM('SHIVA', '3456')\n",
    "print(siva.get_original_username())\n",
    "print(siva.get_original_password())\n",
    "print(siva.set_original_username('SIVAKUMAR'))\n",
    "print(siva.set_original_password('xyz'))\n",
    "print(siva.get_original_username())\n",
    "print(siva.get_original_password())\n",
    "# print(siva.validate())\n",
    "\n",
    "# print(siva.__original_username, siva.__original_password)\n",
    "# print(ATM.__original_username, ATM.__original_password)\n"
   ]
  },
  {
   "cell_type": "code",
   "execution_count": 4,
   "id": "d3994466",
   "metadata": {},
   "outputs": [
    {
     "name": "stdout",
     "output_type": "stream",
     "text": [
      "113600.0\n"
     ]
    }
   ],
   "source": [
    "# Inheritance\n",
    "class Item:\n",
    "    discount = 0.2\n",
    "    \n",
    "    def __init__(self, name, price=0, quantity=1):\n",
    "#         print('Item constructor', self.__dict__)\n",
    "        assert price >= 0, f\"Invalid price {price}. Price should be greater than or equal to 0\"\n",
    "        assert quantity > 0, f\"Invalid quantity {quantity}. Quantity should be greater than 0\"\n",
    "\n",
    "        self.name = name\n",
    "        self.price = price\n",
    "        self.quantity = quantity\n",
    "    \n",
    "    def calculate_total_price(self):\n",
    "        return self.price * self.quantity\n",
    "    \n",
    "    def apply_discount(self):\n",
    "        self.price = self.price - (self.discount * self.price)\n",
    "\n",
    "\n",
    "# Inheritance\n",
    "# class property and methods are automatically inherited\n",
    "class Phone(Item):\n",
    "    def __init__(self, name, price=0, quantity=1, ram='4gb', rom='128gb', camera=''):\n",
    "#         print('Phone constructor')\n",
    "        # super -> parent class -> Item\n",
    "        super().__init__(name, price, quantity)\n",
    "        self.rom = rom\n",
    "        self.ram = ram\n",
    "        self.camera = camera\n",
    "        self.price = price + 1000 # GST\n",
    "\n",
    "Iphone = Phone('Iphone 14', 70000, 2, '6gb', '1tb', 'sony sensor')\n",
    "# print(Iphone.__dict__)\n",
    "Iphone.apply_discount()\n",
    "print(Iphone.calculate_total_price())\n"
   ]
  },
  {
   "cell_type": "code",
   "execution_count": 50,
   "id": "686b2298",
   "metadata": {},
   "outputs": [
    {
     "name": "stdout",
     "output_type": "stream",
     "text": [
      "BMW\n",
      "child\n"
     ]
    }
   ],
   "source": [
    "# types of inheritance -> single level, multi level, multiple, hierarchical\n",
    "\n",
    "# single level inheritance\n",
    "class Parent:\n",
    "    def __init__(self):\n",
    "        self.name = 'parent'\n",
    "        \n",
    "    def display(self):\n",
    "        print(self.name)\n",
    "        \n",
    "class Child(Parent):\n",
    "    def __init__(self):\n",
    "        super().__init__()\n",
    "        self.name = 'child'\n",
    "        self.car = 'BMW'\n",
    "        \n",
    "parent = Parent()\n",
    "# parent.display()\n",
    "# print(parent.car) # attribute error\n",
    "\n",
    "child = Child()\n",
    "print(child.car)\n",
    "child.display()"
   ]
  },
  {
   "cell_type": "code",
   "execution_count": 62,
   "id": "69ef08a7",
   "metadata": {},
   "outputs": [
    {
     "name": "stdout",
     "output_type": "stream",
     "text": [
      "yamaha\n",
      "alto\n",
      "Own house\n"
     ]
    }
   ],
   "source": [
    "# Multilevel inheritance\n",
    "class GrandParent:\n",
    "    def __init__(self):\n",
    "        self.house = 'Own house'\n",
    "        \n",
    "class Parent(GrandParent):\n",
    "    def __init__(self):\n",
    "        super().__init__()\n",
    "        self.car = 'alto'\n",
    "        \n",
    "class Child(Parent):\n",
    "    def __init__(self):\n",
    "        super().__init__()\n",
    "        self.bike = 'yamaha'\n",
    "        \n",
    "# gp = GrandParent()\n",
    "# print(gp.house)\n",
    "\n",
    "# parent = Parent()\n",
    "# print(parent.car)\n",
    "# print(parent.house)\n",
    "# print(parent.bike) # error\n",
    "\n",
    "# child = Child()\n",
    "# print(child.bike)\n",
    "# print(child.car)\n",
    "# print(child.house)"
   ]
  },
  {
   "cell_type": "code",
   "execution_count": 76,
   "id": "3e394da4",
   "metadata": {},
   "outputs": [
    {
     "name": "stdout",
     "output_type": "stream",
     "text": [
      "playing with mother\n"
     ]
    }
   ],
   "source": [
    "# multiple inheritance\n",
    "\n",
    "class Father:\n",
    "    def __init__(self):\n",
    "        self.name = 'Father'\n",
    "    \n",
    "    def play(self):\n",
    "        print('playing with father')\n",
    "        \n",
    "class Mother:\n",
    "    def __init__(self):\n",
    "        self.name = 'Mother'\n",
    "        self.love = \"Mother's love\"\n",
    "        \n",
    "    def play(self):\n",
    "        print('playing with mother')\n",
    "        \n",
    "class Child(Mother, Father):\n",
    "    def __init__(self):\n",
    "        # super -> first parent -> Father\n",
    "        # super().__init__()\n",
    "        Mother.__init__(self)\n",
    "        Father.__init__(self)\n",
    "        \n",
    "# father = Father()\n",
    "# print(father.name)\n",
    "# father.play()\n",
    "\n",
    "# mother = Mother()\n",
    "# print(mother.name, mother.love)\n",
    "\n",
    "child = Child()\n",
    "# print(child.name)\n",
    "# print(child.love)\n",
    "child.play()"
   ]
  },
  {
   "cell_type": "code",
   "execution_count": 84,
   "id": "de4dbac6",
   "metadata": {},
   "outputs": [
    {
     "name": "stdout",
     "output_type": "stream",
     "text": [
      "parent\n",
      "USA\n"
     ]
    }
   ],
   "source": [
    "# hierarchical inheritance\n",
    "class Parent:\n",
    "    def __init__(self):\n",
    "        self.name = 'parent'\n",
    "        \n",
    "class Child1(Parent):\n",
    "    def __init__(self):\n",
    "        super().__init__()\n",
    "        self.country = 'USA'\n",
    "        \n",
    "class Child2(Parent):\n",
    "    def __init__(self):\n",
    "        super().__init__()\n",
    "        self.country = 'India'\n",
    "        \n",
    "parent = Parent()\n",
    "# print(parent.name)\n",
    "# print(parent.country) # error\n",
    "\n",
    "child1 = Child1()\n",
    "print(child1.name)\n",
    "print(child1.country)\n",
    "\n",
    "child2 = Child2()\n",
    "# print(child2.name)\n",
    "# print(child2.country)"
   ]
  },
  {
   "cell_type": "code",
   "execution_count": 94,
   "id": "bf81a4ae",
   "metadata": {},
   "outputs": [
    {
     "name": "stdout",
     "output_type": "stream",
     "text": [
      "child dancing\n",
      "parent playing chennai\n"
     ]
    }
   ],
   "source": [
    "# polymorphism\n",
    "class Parent:\n",
    "    def play(self, place):\n",
    "        print('parent playing', place)\n",
    "        \n",
    "class Child(Parent):\n",
    "    def dance(self):\n",
    "        print('child dancing')\n",
    "        \n",
    "    # method overriding\n",
    "    def play(self):\n",
    "        print('child playing')\n",
    "        \n",
    "# parent = Parent()\n",
    "# parent.play()\n",
    "\n",
    "child = Child()\n",
    "child.dance()\n",
    "child.play('chennai') # error\n",
    "\n",
    "# method overloading is not supported in python"
   ]
  },
  {
   "cell_type": "code",
   "execution_count": 124,
   "id": "c1fab0a3",
   "metadata": {},
   "outputs": [
    {
     "name": "stdout",
     "output_type": "stream",
     "text": [
      "Analysing the data....\n",
      "Doing some process\n",
      "playing video\n"
     ]
    }
   ],
   "source": [
    "# abstraction\n",
    "# abc -> ABC (Abstract Base Class)\n",
    "\n",
    "# Abstract class -> We can't create object\n",
    "# In order to become an abstract class, it should have atleast 1 abstract method\n",
    "\n",
    "from abc import ABC, abstractmethod\n",
    "\n",
    "# abstract class\n",
    "class Computer(ABC):\n",
    "    @abstractmethod\n",
    "    def process(self):\n",
    "        print('This is a base class and this needs to be implemented')\n",
    "        \n",
    "    @abstractmethod\n",
    "    def play_video(self):\n",
    "        print('This is a base class and this needs to be implemented')\n",
    "\n",
    "class Laptop(Computer):\n",
    "    def play_video(self):\n",
    "        print('playing video')\n",
    "        \n",
    "    def process(self):\n",
    "        print('Doing some process')\n",
    "        \n",
    "class DataScientist:\n",
    "    def work(self, device):\n",
    "        print('Analysing the data....')\n",
    "        device.process()\n",
    "        \n",
    "    def watch(self, device):\n",
    "        device.play_video()\n",
    "        \n",
    "# hp = Computer()\n",
    "# print(hp)\n",
    "\n",
    "macbook = Laptop()\n",
    "# macbook.play_video()\n",
    "# macbook.process()\n",
    "\n",
    "vasanth = DataScientist()\n",
    "vasanth.work(macbook)\n",
    "vasanth.watch(macbook)"
   ]
  },
  {
   "cell_type": "code",
   "execution_count": 135,
   "id": "93679262",
   "metadata": {},
   "outputs": [
    {
     "name": "stdout",
     "output_type": "stream",
     "text": [
      "Going to market with 100 rs.\n"
     ]
    }
   ],
   "source": [
    "from abc import ABC, abstractmethod\n",
    "\n",
    "class Market(ABC):\n",
    "    @abstractmethod\n",
    "    def add_cash(self):\n",
    "        raise Exception('This is a base class.')\n",
    "\n",
    "class Human(Market):\n",
    "    def __init__(self):\n",
    "        self.amount = 0\n",
    "        \n",
    "    def go_to_market(self):\n",
    "        if(self.amount > 0): \n",
    "            print(f'Going to market with {self.amount} rs.')\n",
    "        else: print('No money')\n",
    "            \n",
    "    def add_cash(self, amount):\n",
    "        self.amount = amount\n",
    "            \n",
    "ram = Human()\n",
    "ram.add_cash(100)\n",
    "ram.go_to_market()"
   ]
  },
  {
   "cell_type": "code",
   "execution_count": null,
   "id": "05209e18",
   "metadata": {},
   "outputs": [],
   "source": []
  },
  {
   "cell_type": "code",
   "execution_count": null,
   "id": "2440f89a",
   "metadata": {},
   "outputs": [],
   "source": []
  },
  {
   "cell_type": "code",
   "execution_count": null,
   "id": "2a53c476",
   "metadata": {},
   "outputs": [],
   "source": []
  }
 ],
 "metadata": {
  "kernelspec": {
   "display_name": "Python 3 (ipykernel)",
   "language": "python",
   "name": "python3"
  },
  "language_info": {
   "codemirror_mode": {
    "name": "ipython",
    "version": 3
   },
   "file_extension": ".py",
   "mimetype": "text/x-python",
   "name": "python",
   "nbconvert_exporter": "python",
   "pygments_lexer": "ipython3",
   "version": "3.0.0"
  }
 },
 "nbformat": 4,
 "nbformat_minor": 5
}
