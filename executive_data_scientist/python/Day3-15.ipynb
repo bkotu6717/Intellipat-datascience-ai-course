{
 "cells": [
  {
   "cell_type": "code",
   "execution_count": 69,
   "id": "6b6ffb05",
   "metadata": {},
   "outputs": [
    {
     "name": "stdout",
     "output_type": "stream",
     "text": [
      "[]\n"
     ]
    }
   ],
   "source": [
    "# List -> [], duplicates are allowed, indexed, mutable\n",
    "# empty list\n",
    "names = list()  # []\n",
    "print(names)\n",
    "\n",
    "names = ['sanjeev', 'ram', 'shyam', 'sam', 'sita', 'sam']\n",
    "# print(names)\n",
    "# print(names[0], names[1], names[2])\n",
    "# print(names[-1], names[-2], names[-3])\n",
    "\n",
    "names[0] = 'sachin'\n",
    "# print(names)"
   ]
  },
  {
   "cell_type": "code",
   "execution_count": 28,
   "id": "63813fe4",
   "metadata": {},
   "outputs": [],
   "source": [
    "# methods\n",
    "players = ['virat', 'dhoni', 'rohit', 'sachin', 'dravid', 'sachin']\n",
    "# print(players)\n",
    "\n",
    "# remove\n",
    "# removed_player = players.pop() # removes last data\n",
    "# print(players)\n",
    "# print(removed_player)\n",
    "\n",
    "# index_to_be_removed = players.index('raina')\n",
    "# print(index_to_be_removed)\n",
    "# players.pop(index_to_be_removed)\n",
    "# print(players)\n",
    "\n",
    "# remove -> not recommended\n",
    "# players.remove('sachin')\n",
    "# print(players)"
   ]
  },
  {
   "cell_type": "code",
   "execution_count": 115,
   "id": "a1743829",
   "metadata": {},
   "outputs": [
    {
     "name": "stdout",
     "output_type": "stream",
     "text": [
      "['virat', 'dhoni', 'gill', 'rohit', 'sachin', 'dravid']\n"
     ]
    }
   ],
   "source": [
    "players = ['virat', 'dhoni', 'rohit', 'sachin', 'dravid']\n",
    "\n",
    "# add players\n",
    "# players.append('raina') # adds the data at last position\n",
    "# print(players)\n",
    "\n",
    "# insert -> (position, value)\n",
    "# players.insert(2, 'gill')\n",
    "# print(players)\n",
    "\n",
    "# players[1], players[2] = players[2], players[1]\n",
    "# print(players)\n",
    "\n",
    "# # clear\n",
    "# players.clear()\n",
    "# print(players)"
   ]
  },
  {
   "cell_type": "code",
   "execution_count": 60,
   "id": "74a6b502",
   "metadata": {},
   "outputs": [
    {
     "name": "stdout",
     "output_type": "stream",
     "text": [
      "1961484725760\n",
      "1961484725760\n",
      "['ram', 'sam', 'vasi', 'rita', 'gita', 'sita']\n"
     ]
    }
   ],
   "source": [
    "class_a = ['ram', 'sam', 'vasi']\n",
    "class_b = ['rita', 'gita', 'sita']\n",
    "# ['ram', 'sam', 'vasi', 'rita', 'gita', 'sita']\n",
    "\n",
    "print(id(class_a))\n",
    "# class_a = class_a + class_b # not efficient\n",
    "\n",
    "# extend\n",
    "class_a.extend(class_b)\n",
    "print(id(class_a))\n",
    "print(class_a)"
   ]
  },
  {
   "cell_type": "code",
   "execution_count": 48,
   "id": "c34da907",
   "metadata": {},
   "outputs": [
    {
     "name": "stdout",
     "output_type": "stream",
     "text": [
      "[True, 10.5, 10, 'vasi', 'sam', 'ram']\n"
     ]
    }
   ],
   "source": [
    "class_a = ['ram', 'sam', 'vasi', 10, 10.5, True]\n",
    "# reverse\n",
    "class_a.reverse()\n",
    "print(class_a)"
   ]
  },
  {
   "cell_type": "code",
   "execution_count": 58,
   "id": "eea2e5ed",
   "metadata": {},
   "outputs": [
    {
     "name": "stdout",
     "output_type": "stream",
     "text": [
      "['Sridhar', 'Gaurav', 'dolly', 'ankit']\n"
     ]
    }
   ],
   "source": [
    "# sort\n",
    "names = ['Sridhar', 'ankit', 'dolly', 'Gaurav']\n",
    "# names.sort()\n",
    "\n",
    "# names.sort(key=str.upper, reverse=False) # str.lower\n",
    "names.sort(key=str.upper, reverse=True) # desc order\n",
    "print(names)"
   ]
  },
  {
   "cell_type": "code",
   "execution_count": 73,
   "id": "9337fb87",
   "metadata": {},
   "outputs": [
    {
     "name": "stdout",
     "output_type": "stream",
     "text": [
      "10 <class 'list'>\n"
     ]
    }
   ],
   "source": [
    "# count\n",
    "nums = [1, 2, 2, 1, 3, 4, 4, 5, 1, -1]\n",
    "# print(nums.count(1))\n",
    "# print(nums.count(2))\n",
    "# print(nums.count(10))\n",
    "print(len(nums), type(nums))"
   ]
  },
  {
   "cell_type": "code",
   "execution_count": 82,
   "id": "7eab3779",
   "metadata": {},
   "outputs": [
    {
     "name": "stdout",
     "output_type": "stream",
     "text": [
      "2\n"
     ]
    }
   ],
   "source": [
    "# tuple -> (), duplicates are allowed, indexed, immutable\n",
    "# empty tuple\n",
    "# nums = tuple() # ()\n",
    "# print(nums, type(nums))\n",
    "\n",
    "nums = (1, 2, 3, 1, 2, 3, 4) # duplicates are allowed\n",
    "# print(nums)\n",
    "# print(nums[0], nums[1], nums[2], nums[3], nums[4], nums[5], nums[6], nums[7])\n",
    "# print(nums[-1], nums[-2])\n",
    "\n",
    "# immutable\n",
    "# nums[0] = 100\n",
    "# print(nums)\n",
    "\n",
    "# count\n",
    "print(nums.count(1))"
   ]
  },
  {
   "cell_type": "code",
   "execution_count": 95,
   "id": "585ed575",
   "metadata": {},
   "outputs": [
    {
     "name": "stdout",
     "output_type": "stream",
     "text": [
      "{1, 2, 3, 4, 'v', 100, 7, 'True', 10, 'a', 'd', 20, '3'}\n"
     ]
    }
   ],
   "source": [
    "# set -> {}, duplicates are not allowed, not indexed, mutable\n",
    "# empty set\n",
    "# nums = set()\n",
    "# print(nums, type(nums))\n",
    "\n",
    "nums = {1, 2, 3, 1, 2, 4, \"True\", 'a', 'v', 'd', '3', 1, 3, 7, 10, 20, 100}\n",
    "print(nums)\n",
    "# print(nums[0]) # error"
   ]
  },
  {
   "cell_type": "code",
   "execution_count": 117,
   "id": "c3f39463",
   "metadata": {},
   "outputs": [
    {
     "name": "stdout",
     "output_type": "stream",
     "text": [
      "{1, 2, 3}\n"
     ]
    }
   ],
   "source": [
    "# add\n",
    "nums = {1, 2, 3}\n",
    "# nums.add(4)\n",
    "# nums.add(30)\n",
    "# print(nums)\n",
    "\n",
    "# remove\n",
    "# nums.remove(3) # not recommended\n",
    "# nums.remove(10)\n",
    "# print(nums)\n",
    "\n",
    "# discard # recommended\n",
    "# nums.discard(3)\n",
    "# nums.discard(10)\n",
    "# print(nums)\n",
    "\n",
    "# clear\n",
    "# nums.clear()\n",
    "# print(nums)"
   ]
  },
  {
   "cell_type": "code",
   "execution_count": 105,
   "id": "10a1c327",
   "metadata": {},
   "outputs": [
    {
     "name": "stdout",
     "output_type": "stream",
     "text": [
      "[1, 2, 3, 4]\n"
     ]
    }
   ],
   "source": [
    "nums = [1, 2, 3, 4, 1, 2]\n",
    "unique_nums = list(set(nums)) # remove duplicates\n",
    "print(unique_nums)"
   ]
  },
  {
   "cell_type": "code",
   "execution_count": 111,
   "id": "08aa6b74",
   "metadata": {},
   "outputs": [
    {
     "name": "stdout",
     "output_type": "stream",
     "text": [
      "{1, 2}\n",
      "{5, 6}\n"
     ]
    }
   ],
   "source": [
    "set1 = {1, 2, 3, 4}\n",
    "set2 = {3, 4, 5, 6}\n",
    "# print(set1.union(set2))\n",
    "# print(set2.union(set1))\n",
    "# print(set1.intersection(set2))\n",
    "# print(set2.intersection(set1))\n",
    "# print(set1.difference(set2))\n",
    "# print(set2.difference(set1))\n"
   ]
  },
  {
   "cell_type": "code",
   "execution_count": 113,
   "id": "683fd8c0",
   "metadata": {},
   "outputs": [
    {
     "name": "stdout",
     "output_type": "stream",
     "text": [
      "False\n"
     ]
    }
   ],
   "source": [
    "set1 = {1, 2, 3, 4}\n",
    "set2 = {2, 3, 5}\n",
    "print(set2.issubset(set1))"
   ]
  },
  {
   "cell_type": "code",
   "execution_count": 132,
   "id": "f530714b",
   "metadata": {},
   "outputs": [
    {
     "name": "stdout",
     "output_type": "stream",
     "text": [
      "{}\n"
     ]
    }
   ],
   "source": [
    "# dictionary -> {}, key value pair\n",
    "person = {\n",
    "    'name': 'rajini',\n",
    "    'age': 72,\n",
    "    'movie': 'Jailer',\n",
    "    'place': 'chennai'\n",
    "}\n",
    "\n",
    "# print(person)\n",
    "# print(person['name'], person['age'], person['movie'], person['place']) # not recommended\n",
    "# print(person.get('name'), person.get('age'), person.get('place', 'India'))\n",
    "\n",
    "# add\n",
    "# person['daughter'] = 'Aishwarya'\n",
    "# update\n",
    "# person['age'] = 27\n",
    "# print(person)\n",
    "\n",
    "# remove\n",
    "# person.pop('age')\n",
    "# person.pop('place')\n",
    "# print(person)\n",
    "\n",
    "# clear\n",
    "person.clear()\n",
    "print(person)"
   ]
  },
  {
   "cell_type": "code",
   "execution_count": 141,
   "id": "f7464bb6",
   "metadata": {},
   "outputs": [
    {
     "name": "stdout",
     "output_type": "stream",
     "text": [
      "RR\n"
     ]
    }
   ],
   "source": [
    "person = {\n",
    "    'name': 'rajini',\n",
    "    'age': 72,\n",
    "    'movie': 'Jailer',\n",
    "    'place': 'chennai',\n",
    "    'daughter': {\n",
    "        'name': 'Aishwarya',\n",
    "        'husband': 'dhanush'\n",
    "    },\n",
    "    'cars': ['Lambo', 'RR', 'BMW']\n",
    "}\n",
    "# print(person.get('daughter').get('name'), person.get('daughter').get('husband'), person.get('name'))\n",
    "print(person.get('cars')[1])"
   ]
  },
  {
   "cell_type": "code",
   "execution_count": 144,
   "id": "2124a475",
   "metadata": {},
   "outputs": [
    {
     "name": "stdout",
     "output_type": "stream",
     "text": [
      "kunal\n"
     ]
    }
   ],
   "source": [
    "batch = [\n",
    "    {\n",
    "        'name': 'kunal',\n",
    "        'id': 2567\n",
    "    },\n",
    "    {\n",
    "        'name': 'siva',\n",
    "        'id': 2569\n",
    "    },\n",
    "    {\n",
    "        'name': 'Ajinkya',\n",
    "        'id': 2407\n",
    "    }\n",
    "]\n",
    "\n",
    "print(batch[0].get('name'))"
   ]
  },
  {
   "cell_type": "code",
   "execution_count": 154,
   "id": "f2a21d2b",
   "metadata": {},
   "outputs": [
    {
     "name": "stdout",
     "output_type": "stream",
     "text": [
      "dasdasda\n",
      "num2 is greater\n"
     ]
    }
   ],
   "source": [
    "# conditional statements -> if, else, if else, elif\n",
    "num1 = 10\n",
    "num2 = 20\n",
    "\n",
    "# greater\n",
    "if (num1 > num2): \n",
    "    print('num1 is greater')\n",
    "else:\n",
    "    print('num2 is greater')"
   ]
  },
  {
   "cell_type": "code",
   "execution_count": 157,
   "id": "1d8b90d2",
   "metadata": {},
   "outputs": [
    {
     "name": "stdout",
     "output_type": "stream",
     "text": [
      "num1 is greater\n"
     ]
    }
   ],
   "source": [
    "# greatest of 3 nums\n",
    "num1 = 1000\n",
    "num2 = 200\n",
    "num3 = 30\n",
    "\n",
    "# if(num1 > num2):\n",
    "#     if(num1 > num3):\n",
    "#         print('num1 is greater')\n",
    "#     else:\n",
    "#         print('num3 is greater')\n",
    "# else:\n",
    "#     if(num2 > num3):\n",
    "#         print('num2 is greater')\n",
    "#     else:\n",
    "#         print('num3 is greater')\n",
    "\n",
    "if(num1 > num2 and num1 > num3):\n",
    "    print('num1 is greater')\n",
    "elif(num2 > num1 and num2 > num3):\n",
    "    print('num2 is greater')\n",
    "else:\n",
    "    print('num3 is greater')"
   ]
  },
  {
   "cell_type": "code",
   "execution_count": 175,
   "id": "ad562232",
   "metadata": {},
   "outputs": [
    {
     "name": "stdout",
     "output_type": "stream",
     "text": [
      "[0, 1, 2, 3, 4, 5, 6, 7, 8, 9]\n"
     ]
    }
   ],
   "source": [
    "# loops -> for, while\n",
    "\n",
    "# range(start=0, end-1, step=1)\n",
    "# print(list(range(3, 20)), type(range(3, 10)))\n",
    "# print(list(range(1, 11, 2)))\n",
    "# print(list(range(11, 1, -1)))\n",
    "# print(list(range(11, 1, -2)))\n",
    "print(list(range(10))) # end -> 10, start=0, step=1"
   ]
  },
  {
   "cell_type": "code",
   "execution_count": 190,
   "id": "d7b19b7b",
   "metadata": {},
   "outputs": [
    {
     "name": "stdout",
     "output_type": "stream",
     "text": [
      "1\n",
      "2\n",
      "3\n",
      "4\n"
     ]
    }
   ],
   "source": [
    "# for loop\n",
    "# nums -> 1 to 10\n",
    "# for num in range(1, 11):\n",
    "#     print(num, end= ' ')\n",
    "\n",
    "# except 5 -> continue\n",
    "# for num in range(1, 11):\n",
    "# #     print('num', num)\n",
    "#     if num in [5, 9]: continue\n",
    "#     print(num, end=\" \")\n",
    "\n",
    "# stop at 5 -> break\n",
    "for num in range(1, 11):\n",
    "    if num == 5: break\n",
    "    print(num)"
   ]
  },
  {
   "cell_type": "code",
   "execution_count": 204,
   "id": "b550c3a6",
   "metadata": {},
   "outputs": [
    {
     "name": "stdout",
     "output_type": "stream",
     "text": [
      "ramramram\n"
     ]
    }
   ],
   "source": [
    "# print(8 * 3)\n",
    "# print('ram' * 3) # ramramram"
   ]
  },
  {
   "cell_type": "code",
   "execution_count": 206,
   "id": "05fc8d3d",
   "metadata": {},
   "outputs": [
    {
     "name": "stdout",
     "output_type": "stream",
     "text": [
      "jam\n",
      "sam\n",
      "dam\n",
      "mam\n",
      "ram\n"
     ]
    }
   ],
   "source": [
    "nums = [1, 2, 3, 4, 5]\n",
    "# print(nums)\n",
    "\n",
    "# for num in nums:\n",
    "#     print(num)\n",
    "\n",
    "# names = ['ram', 'sam', 'jam', 'dam']\n",
    "# names = ('ram', 'sam', 'jam', 'dam')\n",
    "names = {'ram', 'sam', 'jam', 'dam', 'mam'}\n",
    "for name in names:\n",
    "    print(name)"
   ]
  },
  {
   "cell_type": "code",
   "execution_count": 222,
   "id": "8a9d88c5",
   "metadata": {},
   "outputs": [
    {
     "name": "stdout",
     "output_type": "stream",
     "text": [
      "dict_items([('name', 'rajini'), ('age', 72), ('movie', 'Jailer'), ('place', 'chennai')])\n"
     ]
    }
   ],
   "source": [
    "person = {\n",
    "    'name': 'rajini',\n",
    "    'age': 72,\n",
    "    'movie': 'Jailer',\n",
    "    'place': 'chennai'\n",
    "}\n",
    "\n",
    "# for key in person:\n",
    "#     print(key, person.get(key))\n",
    "\n",
    "# keys\n",
    "# for key in person.keys():\n",
    "#     print(key)\n",
    "\n",
    "# values\n",
    "# for value in person.values():\n",
    "#     print(value)\n",
    "\n",
    "# items\n",
    "# print(list(person.items())) -> [tuples]\n",
    "# for key, value in person.items():\n",
    "#     print(key, value)"
   ]
  },
  {
   "cell_type": "code",
   "execution_count": 219,
   "id": "b3070d5c",
   "metadata": {},
   "outputs": [
    {
     "ename": "ValueError",
     "evalue": "not enough values to unpack (expected 3, got 2)",
     "output_type": "error",
     "traceback": [
      "\u001b[1;31m---------------------------------------------------------------------------\u001b[0m",
      "\u001b[1;31mValueError\u001b[0m                                Traceback (most recent call last)",
      "Input \u001b[1;32mIn [219]\u001b[0m, in \u001b[0;36m<cell line: 2>\u001b[1;34m()\u001b[0m\n\u001b[0;32m      1\u001b[0m \u001b[38;5;66;03m# unpacking the data\u001b[39;00m\n\u001b[1;32m----> 2\u001b[0m a, b, c \u001b[38;5;241m=\u001b[39m [\u001b[38;5;241m1\u001b[39m, \u001b[38;5;241m2\u001b[39m]\n\u001b[0;32m      3\u001b[0m \u001b[38;5;28mprint\u001b[39m(a, b)\n",
      "\u001b[1;31mValueError\u001b[0m: not enough values to unpack (expected 3, got 2)"
     ]
    }
   ],
   "source": [
    "# unpacking the data\n",
    "# a, b = [1, 2]\n",
    "# print(a, b)"
   ]
  },
  {
   "cell_type": "code",
   "execution_count": null,
   "id": "d155222b",
   "metadata": {},
   "outputs": [],
   "source": []
  }
 ],
 "metadata": {
  "kernelspec": {
   "display_name": "Python 3 (ipykernel)",
   "language": "python",
   "name": "python3"
  },
  "language_info": {
   "codemirror_mode": {
    "name": "ipython",
    "version": 3
   },
   "file_extension": ".py",
   "mimetype": "text/x-python",
   "name": "python",
   "nbconvert_exporter": "python",
   "pygments_lexer": "ipython3",
   "version": "3.9.12"
  }
 },
 "nbformat": 4,
 "nbformat_minor": 5
}
