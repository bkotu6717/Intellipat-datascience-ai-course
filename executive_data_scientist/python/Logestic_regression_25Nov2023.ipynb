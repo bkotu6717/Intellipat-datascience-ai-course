{
 "cells": [
  {
   "cell_type": "code",
   "execution_count": 1,
   "id": "3930d590",
   "metadata": {},
   "outputs": [],
   "source": [
    "## import packages\n",
    "import pandas as pd"
   ]
  },
  {
   "cell_type": "code",
   "execution_count": 2,
   "id": "71cf673f",
   "metadata": {},
   "outputs": [
    {
     "data": {
      "text/html": [
       "<div>\n",
       "<style scoped>\n",
       "    .dataframe tbody tr th:only-of-type {\n",
       "        vertical-align: middle;\n",
       "    }\n",
       "\n",
       "    .dataframe tbody tr th {\n",
       "        vertical-align: top;\n",
       "    }\n",
       "\n",
       "    .dataframe thead th {\n",
       "        text-align: right;\n",
       "    }\n",
       "</style>\n",
       "<table border=\"1\" class=\"dataframe\">\n",
       "  <thead>\n",
       "    <tr style=\"text-align: right;\">\n",
       "      <th></th>\n",
       "      <th>ri</th>\n",
       "      <th>na</th>\n",
       "      <th>mg</th>\n",
       "      <th>al</th>\n",
       "      <th>si</th>\n",
       "      <th>k</th>\n",
       "      <th>ca</th>\n",
       "      <th>ba</th>\n",
       "      <th>fe</th>\n",
       "      <th>glass_type</th>\n",
       "    </tr>\n",
       "  </thead>\n",
       "  <tbody>\n",
       "    <tr>\n",
       "      <th>0</th>\n",
       "      <td>1.51966</td>\n",
       "      <td>14.77</td>\n",
       "      <td>3.75</td>\n",
       "      <td>0.29</td>\n",
       "      <td>72.02</td>\n",
       "      <td>0.03</td>\n",
       "      <td>9.00</td>\n",
       "      <td>0.0</td>\n",
       "      <td>0.00</td>\n",
       "      <td>1</td>\n",
       "    </tr>\n",
       "    <tr>\n",
       "      <th>1</th>\n",
       "      <td>1.51115</td>\n",
       "      <td>17.38</td>\n",
       "      <td>0.00</td>\n",
       "      <td>0.34</td>\n",
       "      <td>75.41</td>\n",
       "      <td>0.00</td>\n",
       "      <td>6.65</td>\n",
       "      <td>0.0</td>\n",
       "      <td>0.00</td>\n",
       "      <td>6</td>\n",
       "    </tr>\n",
       "    <tr>\n",
       "      <th>2</th>\n",
       "      <td>1.52213</td>\n",
       "      <td>14.21</td>\n",
       "      <td>3.82</td>\n",
       "      <td>0.47</td>\n",
       "      <td>71.77</td>\n",
       "      <td>0.11</td>\n",
       "      <td>9.57</td>\n",
       "      <td>0.0</td>\n",
       "      <td>0.00</td>\n",
       "      <td>1</td>\n",
       "    </tr>\n",
       "    <tr>\n",
       "      <th>3</th>\n",
       "      <td>1.52213</td>\n",
       "      <td>14.21</td>\n",
       "      <td>3.82</td>\n",
       "      <td>0.47</td>\n",
       "      <td>71.77</td>\n",
       "      <td>0.11</td>\n",
       "      <td>9.57</td>\n",
       "      <td>0.0</td>\n",
       "      <td>0.00</td>\n",
       "      <td>1</td>\n",
       "    </tr>\n",
       "    <tr>\n",
       "      <th>4</th>\n",
       "      <td>1.52320</td>\n",
       "      <td>13.72</td>\n",
       "      <td>3.72</td>\n",
       "      <td>0.51</td>\n",
       "      <td>71.75</td>\n",
       "      <td>0.09</td>\n",
       "      <td>10.06</td>\n",
       "      <td>0.0</td>\n",
       "      <td>0.16</td>\n",
       "      <td>1</td>\n",
       "    </tr>\n",
       "  </tbody>\n",
       "</table>\n",
       "</div>"
      ],
      "text/plain": [
       "        ri     na    mg    al     si     k     ca   ba    fe  glass_type\n",
       "0  1.51966  14.77  3.75  0.29  72.02  0.03   9.00  0.0  0.00           1\n",
       "1  1.51115  17.38  0.00  0.34  75.41  0.00   6.65  0.0  0.00           6\n",
       "2  1.52213  14.21  3.82  0.47  71.77  0.11   9.57  0.0  0.00           1\n",
       "3  1.52213  14.21  3.82  0.47  71.77  0.11   9.57  0.0  0.00           1\n",
       "4  1.52320  13.72  3.72  0.51  71.75  0.09  10.06  0.0  0.16           1"
      ]
     },
     "execution_count": 2,
     "metadata": {},
     "output_type": "execute_result"
    }
   ],
   "source": [
    "glass = pd.read_excel('glass_df.xlsx')\n",
    "glass.head()"
   ]
  },
  {
   "cell_type": "code",
   "execution_count": 20,
   "id": "b02f5a56",
   "metadata": {},
   "outputs": [
    {
     "data": {
      "text/plain": [
       "ri                         0\n",
       "na                         0\n",
       "mg                         0\n",
       "al                         0\n",
       "si                         0\n",
       "k                          0\n",
       "ca                         0\n",
       "ba                         0\n",
       "fe                         0\n",
       "glass_type                 0\n",
       "Linear_model_prediction    0\n",
       "dtype: int64"
      ]
     },
     "execution_count": 20,
     "metadata": {},
     "output_type": "execute_result"
    }
   ],
   "source": [
    "glass.isnull().sum()"
   ]
  },
  {
   "cell_type": "code",
   "execution_count": 3,
   "id": "f0066c07",
   "metadata": {},
   "outputs": [
    {
     "data": {
      "text/plain": [
       "2    76\n",
       "1    70\n",
       "7    29\n",
       "3    17\n",
       "5    13\n",
       "6     9\n",
       "Name: glass_type, dtype: int64"
      ]
     },
     "execution_count": 3,
     "metadata": {},
     "output_type": "execute_result"
    }
   ],
   "source": [
    "glass['glass_type'].value_counts()"
   ]
  },
  {
   "cell_type": "code",
   "execution_count": 4,
   "id": "573beb74",
   "metadata": {},
   "outputs": [
    {
     "data": {
      "text/plain": [
       "0    163\n",
       "1     51\n",
       "Name: glass_type, dtype: int64"
      ]
     },
     "execution_count": 4,
     "metadata": {},
     "output_type": "execute_result"
    }
   ],
   "source": [
    "## Make it binary\n",
    "glass['glass_type'] = glass['glass_type'].map({1:0, 2:0, 3:0, 5:1, 6:1, 7:1})\n",
    "glass['glass_type'].value_counts()"
   ]
  },
  {
   "cell_type": "code",
   "execution_count": 5,
   "id": "337e371d",
   "metadata": {},
   "outputs": [
    {
     "name": "stderr",
     "output_type": "stream",
     "text": [
      "C:\\Users\\navee\\anaconda3\\lib\\site-packages\\seaborn\\_decorators.py:36: FutureWarning: Pass the following variables as keyword args: x, y. From version 0.12, the only valid positional argument will be `data`, and passing other arguments without an explicit keyword will result in an error or misinterpretation.\n",
      "  warnings.warn(\n"
     ]
    },
    {
     "data": {
      "image/png": "[encoded data removed]",
      "text/plain": [
       "<Figure size 640x480 with 1 Axes>"
      ]
     },
     "metadata": {},
     "output_type": "display_data"
    }
   ],
   "source": [
    "## Distribution plot\n",
    "import seaborn as sns\n",
    "from matplotlib import pyplot as plt\n",
    "\n",
    "sns.scatterplot(glass['al'], glass['glass_type'])\n",
    "plt.xlabel('AL')\n",
    "plt.ylabel('Glass Type')\n",
    "plt.show()"
   ]
  },
  {
   "cell_type": "code",
   "execution_count": 6,
   "id": "a7d150e2",
   "metadata": {},
   "outputs": [
    {
     "data": {
      "text/plain": [
       "LinearRegression()"
      ]
     },
     "execution_count": 6,
     "metadata": {},
     "output_type": "execute_result"
    }
   ],
   "source": [
    "## Import logistic regression package\n",
    "from sklearn.linear_model import LinearRegression\n",
    "X = glass[['al']]\n",
    "y = glass['glass_type']\n",
    "\n",
    "linear_model = LinearRegression()\n",
    "linear_model.fit(X, y)"
   ]
  },
  {
   "cell_type": "code",
   "execution_count": 7,
   "id": "b8942257",
   "metadata": {},
   "outputs": [
    {
     "data": {
      "text/html": [
       "<div>\n",
       "<style scoped>\n",
       "    .dataframe tbody tr th:only-of-type {\n",
       "        vertical-align: middle;\n",
       "    }\n",
       "\n",
       "    .dataframe tbody tr th {\n",
       "        vertical-align: top;\n",
       "    }\n",
       "\n",
       "    .dataframe thead th {\n",
       "        text-align: right;\n",
       "    }\n",
       "</style>\n",
       "<table border=\"1\" class=\"dataframe\">\n",
       "  <thead>\n",
       "    <tr style=\"text-align: right;\">\n",
       "      <th></th>\n",
       "      <th>glass_type</th>\n",
       "      <th>Linear_model_prediction</th>\n",
       "    </tr>\n",
       "  </thead>\n",
       "  <tbody>\n",
       "    <tr>\n",
       "      <th>0</th>\n",
       "      <td>0</td>\n",
       "      <td>-0.340495</td>\n",
       "    </tr>\n",
       "    <tr>\n",
       "      <th>1</th>\n",
       "      <td>1</td>\n",
       "      <td>-0.315436</td>\n",
       "    </tr>\n",
       "    <tr>\n",
       "      <th>2</th>\n",
       "      <td>0</td>\n",
       "      <td>-0.250283</td>\n",
       "    </tr>\n",
       "    <tr>\n",
       "      <th>3</th>\n",
       "      <td>0</td>\n",
       "      <td>-0.250283</td>\n",
       "    </tr>\n",
       "    <tr>\n",
       "      <th>4</th>\n",
       "      <td>0</td>\n",
       "      <td>-0.230236</td>\n",
       "    </tr>\n",
       "    <tr>\n",
       "      <th>...</th>\n",
       "      <td>...</td>\n",
       "      <td>...</td>\n",
       "    </tr>\n",
       "    <tr>\n",
       "      <th>209</th>\n",
       "      <td>1</td>\n",
       "      <td>0.912448</td>\n",
       "    </tr>\n",
       "    <tr>\n",
       "      <th>210</th>\n",
       "      <td>1</td>\n",
       "      <td>0.957554</td>\n",
       "    </tr>\n",
       "    <tr>\n",
       "      <th>211</th>\n",
       "      <td>1</td>\n",
       "      <td>1.027718</td>\n",
       "    </tr>\n",
       "    <tr>\n",
       "      <th>212</th>\n",
       "      <td>1</td>\n",
       "      <td>1.037742</td>\n",
       "    </tr>\n",
       "    <tr>\n",
       "      <th>213</th>\n",
       "      <td>1</td>\n",
       "      <td>1.268283</td>\n",
       "    </tr>\n",
       "  </tbody>\n",
       "</table>\n",
       "<p>214 rows × 2 columns</p>\n",
       "</div>"
      ],
      "text/plain": [
       "     glass_type  Linear_model_prediction\n",
       "0             0                -0.340495\n",
       "1             1                -0.315436\n",
       "2             0                -0.250283\n",
       "3             0                -0.250283\n",
       "4             0                -0.230236\n",
       "..          ...                      ...\n",
       "209           1                 0.912448\n",
       "210           1                 0.957554\n",
       "211           1                 1.027718\n",
       "212           1                 1.037742\n",
       "213           1                 1.268283\n",
       "\n",
       "[214 rows x 2 columns]"
      ]
     },
     "execution_count": 7,
     "metadata": {},
     "output_type": "execute_result"
    }
   ],
   "source": [
    "glass['Linear_model_prediction'] = linear_model.predict(X)\n",
    "glass[['glass_type', 'Linear_model_prediction']]"
   ]
  },
  {
   "cell_type": "code",
   "execution_count": 8,
   "id": "e7cddfad",
   "metadata": {},
   "outputs": [
    {
     "name": "stderr",
     "output_type": "stream",
     "text": [
      "C:\\Users\\navee\\anaconda3\\lib\\site-packages\\seaborn\\_decorators.py:36: FutureWarning: Pass the following variables as keyword args: x, y. From version 0.12, the only valid positional argument will be `data`, and passing other arguments without an explicit keyword will result in an error or misinterpretation.\n",
      "  warnings.warn(\n"
     ]
    },
    {
     "data": {
      "image/png": "[encoded data removed]",
      "text/plain": [
       "<Figure size 640x480 with 1 Axes>"
      ]
     },
     "metadata": {},
     "output_type": "display_data"
    }
   ],
   "source": [
    "sns.scatterplot(glass['al'], glass['glass_type'])\n",
    "plt.plot(glass['al'], glass['Linear_model_prediction'], color='red')\n",
    "plt.xlabel('AL')\n",
    "plt.ylabel('Glass Type')\n",
    "plt.show()"
   ]
  },
  {
   "cell_type": "code",
   "execution_count": 9,
   "id": "b507d78f",
   "metadata": {},
   "outputs": [],
   "source": [
    "## Implement Logestic regression\n",
    "## Import logistic regression package\n",
    "from sklearn.linear_model import LogisticRegression\n",
    "X = glass[['al']]\n",
    "y = glass['glass_type']"
   ]
  },
  {
   "cell_type": "code",
   "execution_count": 10,
   "id": "3ecfe8ee",
   "metadata": {},
   "outputs": [
    {
     "data": {
      "text/plain": [
       "array([0.0060241 , 0.00703229, 0.01050637, 0.01050637, 0.01188403,\n",
       "       0.01385926, 0.01385926, 0.01473708, 0.0182624 , 0.01882938,\n",
       "       0.01941362, 0.02193337, 0.02261169, 0.0247719 , 0.0247719 ,\n",
       "       0.02632245, 0.02713275, 0.02796727, 0.03062309, 0.03156149,\n",
       "       0.03156149, 0.0356007 , 0.0356007 , 0.03668586, 0.03780279,\n",
       "       0.03895236, 0.03895236, 0.04013542, 0.05244267, 0.05244267,\n",
       "       0.06074468, 0.06254655, 0.0643982 , 0.0663008 , 0.07026349,\n",
       "       0.07232598, 0.07232598, 0.07232598, 0.07444415, 0.07444415,\n",
       "       0.07444415, 0.07885246, 0.07885246, 0.08114506, 0.08114506,\n",
       "       0.08349827, 0.08349827, 0.08591334, 0.08591334, 0.08839152,\n",
       "       0.08839152, 0.08839152, 0.09093408, 0.09093408, 0.09093408,\n",
       "       0.09093408, 0.09093408, 0.09093408, 0.09354227, 0.09621736,\n",
       "       0.09621736, 0.09896059, 0.10177322, 0.10177322, 0.10177322,\n",
       "       0.10177322, 0.10177322, 0.10465651, 0.10465651, 0.1076117 ,\n",
       "       0.1076117 , 0.1076117 , 0.11064002, 0.11064002, 0.11064002,\n",
       "       0.11374271, 0.11374271, 0.11374271, 0.11692096, 0.11692096,\n",
       "       0.11692096, 0.11692096, 0.12017597, 0.12017597, 0.12017597,\n",
       "       0.12017597, 0.12017597, 0.12350894, 0.12350894, 0.126921  ,\n",
       "       0.126921  , 0.126921  , 0.1304133 , 0.1304133 , 0.1304133 ,\n",
       "       0.13398694, 0.13398694, 0.13398694, 0.13764302, 0.13764302,\n",
       "       0.14138256, 0.14138256, 0.14138256, 0.14138256, 0.1452066 ,\n",
       "       0.1452066 , 0.1452066 , 0.1452066 , 0.1491161 , 0.15311201,\n",
       "       0.15311201, 0.16136657, 0.16136657, 0.16562686, 0.16562686,\n",
       "       0.17441716, 0.17441716, 0.17441716, 0.17441716, 0.17441716,\n",
       "       0.17894848, 0.17894848, 0.18357135, 0.19309362, 0.19309362,\n",
       "       0.19309362, 0.19799378, 0.19799378, 0.20298702, 0.20298702,\n",
       "       0.20298702, 0.21325335, 0.21325335, 0.21852657, 0.21852657,\n",
       "       0.21852657, 0.22389306, 0.22935267, 0.22935267, 0.22935267,\n",
       "       0.22935267, 0.22935267, 0.22935267, 0.22935267, 0.22935267,\n",
       "       0.23490512, 0.24055002, 0.24055002, 0.24055002, 0.24055002,\n",
       "       0.24055002, 0.24628691, 0.24628691, 0.2521152 , 0.2521152 ,\n",
       "       0.27014098, 0.27632681, 0.27632681, 0.27632681, 0.28259944,\n",
       "       0.28259944, 0.28259944, 0.28895761, 0.29539992, 0.30192488,\n",
       "       0.30853085, 0.32197875, 0.3357282 , 0.3357282 , 0.35687945,\n",
       "       0.35687945, 0.3713031 , 0.3713031 , 0.39336839, 0.39336839,\n",
       "       0.4008263 , 0.40833043, 0.40833043, 0.41587755, 0.42346431,\n",
       "       0.44642827, 0.45413906, 0.45413906, 0.46187191, 0.47738907,\n",
       "       0.50852461, 0.53959415, 0.5473231 , 0.5473231 , 0.5550293 ,\n",
       "       0.57035901, 0.60058981, 0.61543744, 0.61543744, 0.62278326,\n",
       "       0.6300731 , 0.64447352, 0.67930789, 0.71225307, 0.73102069,\n",
       "       0.74309373, 0.7824793 , 0.8029414 , 0.82191672, 0.85933213,\n",
       "       0.87025432, 0.90695679, 0.91208273, 0.92596134, 0.93595636,\n",
       "       0.95084489, 0.96765748, 0.96955156, 0.99256269])"
      ]
     },
     "execution_count": 10,
     "metadata": {},
     "output_type": "execute_result"
    }
   ],
   "source": [
    "log_model = LogisticRegression()\n",
    "log_model.fit(X, y)\n",
    "\n",
    "log_model.predict_proba(X)[:,1]"
   ]
  },
  {
   "cell_type": "code",
   "execution_count": 11,
   "id": "e925b777",
   "metadata": {},
   "outputs": [
    {
     "data": {
      "text/plain": [
       "array([0, 0, 0, 0, 0, 0, 0, 0, 0, 0, 0, 0, 0, 0, 0, 0, 0, 0, 0, 0, 0, 0,\n",
       "       0, 0, 0, 0, 0, 0, 0, 0, 0, 0, 0, 0, 0, 0, 0, 0, 0, 0, 0, 0, 0, 0,\n",
       "       0, 0, 0, 0, 0, 0, 0, 0, 0, 0, 0, 0, 0, 0, 0, 0, 0, 0, 0, 0, 0, 0,\n",
       "       0, 0, 0, 0, 0, 0, 0, 0, 0, 0, 0, 0, 0, 0, 0, 0, 0, 0, 0, 0, 0, 0,\n",
       "       0, 0, 0, 0, 0, 0, 0, 0, 0, 0, 0, 0, 0, 0, 0, 0, 0, 0, 0, 0, 0, 0,\n",
       "       0, 0, 0, 0, 0, 0, 0, 0, 0, 0, 0, 0, 0, 0, 0, 0, 0, 0, 0, 0, 0, 0,\n",
       "       0, 0, 0, 0, 0, 0, 0, 0, 0, 0, 0, 0, 0, 0, 0, 0, 0, 0, 0, 0, 0, 0,\n",
       "       0, 0, 0, 0, 0, 0, 0, 0, 0, 0, 0, 0, 0, 0, 0, 0, 0, 0, 0, 0, 0, 0,\n",
       "       0, 0, 0, 0, 0, 0, 0, 0, 0, 1, 1, 1, 1, 1, 1, 1, 1, 1, 1, 1, 1, 1,\n",
       "       1, 1, 1, 1, 1, 1, 1, 1, 1, 1, 1, 1, 1, 1, 1, 1], dtype=int64)"
      ]
     },
     "execution_count": 11,
     "metadata": {},
     "output_type": "execute_result"
    }
   ],
   "source": [
    "log_model.predict(X)"
   ]
  },
  {
   "cell_type": "code",
   "execution_count": 13,
   "id": "7ade70dc",
   "metadata": {},
   "outputs": [
    {
     "name": "stderr",
     "output_type": "stream",
     "text": [
      "C:\\Users\\navee\\anaconda3\\lib\\site-packages\\seaborn\\_decorators.py:36: FutureWarning: Pass the following variables as keyword args: x, y. From version 0.12, the only valid positional argument will be `data`, and passing other arguments without an explicit keyword will result in an error or misinterpretation.\n",
      "  warnings.warn(\n"
     ]
    },
    {
     "data": {
      "image/png": "[encoded data removed]",
      "text/plain": [
       "<Figure size 640x480 with 1 Axes>"
      ]
     },
     "metadata": {},
     "output_type": "display_data"
    }
   ],
   "source": [
    "sns.scatterplot(glass['al'], glass['glass_type'])\n",
    "plt.plot(glass['al'], log_model.predict_proba(X)[:,1], color='blue')\n",
    "plt.xlabel('AL')\n",
    "plt.ylabel('Glass Type')\n",
    "plt.show()"
   ]
  },
  {
   "cell_type": "code",
   "execution_count": 14,
   "id": "13d0202c",
   "metadata": {},
   "outputs": [],
   "source": [
    "# sns.scatterplot(x = 'al', y='glass_type', data=glass)"
   ]
  },
  {
   "cell_type": "code",
   "execution_count": null,
   "id": "332fc6a0",
   "metadata": {},
   "outputs": [],
   "source": []
  },
  {
   "cell_type": "code",
   "execution_count": 21,
   "id": "938bb684",
   "metadata": {},
   "outputs": [
    {
     "data": {
      "text/plain": [
       "array([[160,   3],\n",
       "       [ 25,  26]], dtype=int64)"
      ]
     },
     "execution_count": 21,
     "metadata": {},
     "output_type": "execute_result"
    }
   ],
   "source": [
    "from sklearn.metrics import confusion_matrix, classification_report, accuracy_score\n",
    "\n",
    "confusion_matrix(y, log_model.predict(X))"
   ]
  },
  {
   "cell_type": "code",
   "execution_count": 18,
   "id": "dd2028b7",
   "metadata": {},
   "outputs": [
    {
     "data": {
      "text/plain": [
       "214"
      ]
     },
     "execution_count": 18,
     "metadata": {},
     "output_type": "execute_result"
    }
   ],
   "source": [
    "len(y)"
   ]
  },
  {
   "cell_type": "code",
   "execution_count": 17,
   "id": "6449a817",
   "metadata": {},
   "outputs": [
    {
     "data": {
      "text/plain": [
       "0.8691588785046729"
      ]
     },
     "execution_count": 17,
     "metadata": {},
     "output_type": "execute_result"
    }
   ],
   "source": [
    "(160+26)/len(y)"
   ]
  },
  {
   "cell_type": "code",
   "execution_count": 22,
   "id": "d4230223",
   "metadata": {},
   "outputs": [
    {
     "data": {
      "text/plain": [
       "0.8691588785046729"
      ]
     },
     "execution_count": 22,
     "metadata": {},
     "output_type": "execute_result"
    }
   ],
   "source": [
    "accuracy_score(y, log_model.predict(X))"
   ]
  },
  {
   "cell_type": "code",
   "execution_count": 24,
   "id": "3a92cc3b",
   "metadata": {},
   "outputs": [
    {
     "name": "stdout",
     "output_type": "stream",
     "text": [
      "              precision    recall  f1-score   support\n",
      "\n",
      "           0       0.86      0.98      0.92       163\n",
      "           1       0.90      0.51      0.65        51\n",
      "\n",
      "    accuracy                           0.87       214\n",
      "   macro avg       0.88      0.75      0.78       214\n",
      "weighted avg       0.87      0.87      0.86       214\n",
      "\n"
     ]
    }
   ],
   "source": [
    "print(classification_report(y, log_model.predict(X)))"
   ]
  },
  {
   "cell_type": "code",
   "execution_count": null,
   "id": "30c80e7b",
   "metadata": {},
   "outputs": [],
   "source": [
    "## F1 score = (Precision*recall)/(precision+recall)"
   ]
  }
 ],
 "metadata": {
  "kernelspec": {
   "display_name": "Python 3 (ipykernel)",
   "language": "python",
   "name": "python3"
  },
  "language_info": {
   "codemirror_mode": {
    "name": "ipython",
    "version": 3
   },
   "file_extension": ".py",
   "mimetype": "text/x-python",
   "name": "python",
   "nbconvert_exporter": "python",
   "pygments_lexer": "ipython3",
   "version": "3.9.13"
  }
 },
 "nbformat": 4,
 "nbformat_minor": 5
}
