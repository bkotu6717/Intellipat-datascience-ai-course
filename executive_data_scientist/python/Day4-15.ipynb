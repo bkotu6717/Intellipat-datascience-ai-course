{
 "cells": [
  {
   "cell_type": "code",
   "execution_count": 1,
   "id": "5eed6301",
   "metadata": {},
   "outputs": [
    {
     "name": "stdout",
     "output_type": "stream",
     "text": [
      "0\n",
      "1\n",
      "2\n"
     ]
    }
   ],
   "source": [
    "# nested loops\n",
    "for i in range(3):\n",
    "    print(i)"
   ]
  },
  {
   "cell_type": "code",
   "execution_count": 23,
   "id": "700a89af",
   "metadata": {},
   "outputs": [
    {
     "name": "stdout",
     "output_type": "stream",
     "text": [
      "0 ------------------------------\n",
      "00 01 02 03 \n",
      "1 ------------------------------\n",
      "10 11 12 13 \n",
      "2 ------------------------------\n",
      "20 21 22 23 \n"
     ]
    }
   ],
   "source": [
    "for row in range(3):\n",
    "#     print(row, '-'*30)\n",
    "    for col in range(4):\n",
    "        print(row,col, sep='', end=' ')\n",
    "    print()"
   ]
  },
  {
   "cell_type": "code",
   "execution_count": 6,
   "id": "7cf0bc8e",
   "metadata": {},
   "outputs": [
    {
     "name": "stdout",
     "output_type": "stream",
     "text": [
      "ramramram\n"
     ]
    }
   ],
   "source": [
    "# print(8 * 3)\n",
    "print('ram' * 3)"
   ]
  },
  {
   "cell_type": "code",
   "execution_count": 33,
   "id": "18a267c6",
   "metadata": {},
   "outputs": [
    {
     "name": "stdout",
     "output_type": "stream",
     "text": [
      "* * * * * \n",
      "* * * * * \n",
      "* * * * * \n",
      "* * * * * \n",
      "* * * * * \n"
     ]
    }
   ],
   "source": [
    "# * * *\n",
    "# * * *\n",
    "# * * *\n",
    "\n",
    "# num = 5\n",
    "# count = 0\n",
    "# for row in range(1, num+1):\n",
    "#     for col in range(1, num+1):\n",
    "#         print('*', sep='', end=' ')\n",
    "#         count += 1\n",
    "#     print()\n",
    "    \n",
    "# num = 5\n",
    "# for i in range(1, num+1):\n",
    "#     print('* ' * num)"
   ]
  },
  {
   "cell_type": "code",
   "execution_count": 36,
   "id": "7d9ccda5",
   "metadata": {},
   "outputs": [
    {
     "name": "stdout",
     "output_type": "stream",
     "text": [
      "* * * * \n",
      "* * * * \n",
      "* * * * \n"
     ]
    }
   ],
   "source": [
    "# * * * *\n",
    "# * * * *\n",
    "# * * * *\n",
    "\n",
    "rows = 3\n",
    "cols = 4\n",
    "for i in range(1, rows+1):\n",
    "    print('* ' * cols)"
   ]
  },
  {
   "cell_type": "code",
   "execution_count": 43,
   "id": "035cd2f2",
   "metadata": {},
   "outputs": [
    {
     "name": "stdout",
     "output_type": "stream",
     "text": [
      "* \n",
      "* * \n",
      "* * * \n",
      "* * * * \n",
      "* * * * * \n"
     ]
    }
   ],
   "source": [
    "# *\n",
    "# * *\n",
    "# * * *\n",
    "# * * * *\n",
    "# * * * * *\n",
    "num = 5\n",
    "for i in range(1, num+1):\n",
    "    print('* ' * i)"
   ]
  },
  {
   "cell_type": "code",
   "execution_count": 54,
   "id": "6de5a370",
   "metadata": {},
   "outputs": [
    {
     "name": "stdout",
     "output_type": "stream",
     "text": [
      "         * \n",
      "       * * \n",
      "     * * * \n",
      "   * * * * \n",
      " * * * * * \n"
     ]
    }
   ],
   "source": [
    "#         *\n",
    "#       * *\n",
    "#     * * *\n",
    "#   * * * *\n",
    "# * * * * *\n",
    "\n",
    "num = 5\n",
    "for i in range(1, num+1):\n",
    "    print('  ' * (num-i), '* '*i)"
   ]
  },
  {
   "cell_type": "code",
   "execution_count": 56,
   "id": "128a5d87",
   "metadata": {},
   "outputs": [
    {
     "name": "stdout",
     "output_type": "stream",
     "text": [
      "1\n",
      "2\n",
      "3\n",
      "4\n",
      "5\n",
      "6\n",
      "7\n",
      "8\n",
      "9\n",
      "10\n"
     ]
    }
   ],
   "source": [
    "# while loop -> 1 to 10\n",
    "i = 1\n",
    "while(i <= 10):\n",
    "    print(i)\n",
    "    i += 1"
   ]
  },
  {
   "cell_type": "code",
   "execution_count": 58,
   "id": "371d188c",
   "metadata": {},
   "outputs": [
    {
     "name": "stdout",
     "output_type": "stream",
     "text": [
      "vasi~ add\n",
      "adding\n",
      "vasi~ mul\n",
      "multiplying\n",
      "vasi~ sub\n",
      "subtracting\n",
      "vasi~ dbahjdbas\n",
      "invalid command.. Please try again\n",
      "vasi~ exit\n",
      "tata bye bye...\n"
     ]
    }
   ],
   "source": [
    "# terminal\n",
    "while True:\n",
    "    command = input('vasi~ ')\n",
    "    if(command == 'add'):\n",
    "        print('adding')\n",
    "    elif(command == 'sub'):\n",
    "        print('subtracting')\n",
    "    elif(command == 'mul'):\n",
    "        print('multiplying')\n",
    "    elif(command == 'exit'):\n",
    "        print('tata bye bye...')\n",
    "        break\n",
    "    else:\n",
    "        print('invalid command.. Please try again')"
   ]
  },
  {
   "cell_type": "code",
   "execution_count": 104,
   "id": "980aeaaf",
   "metadata": {},
   "outputs": [
    {
     "name": "stdout",
     "output_type": "stream",
     "text": [
      "('A', 'N', 'J', 'A', 'N', 'A')\n",
      "('A', 'N', 'J', 'A')\n",
      "('N', 'J', 'A', 'N')\n",
      "('N', 'J', 'A', 'N', 'A')\n",
      "()\n",
      "('J', 'A', 'N', 'A')\n",
      "('A', 'N', 'J', 'A')\n",
      "('N', 'A')\n",
      "('A', 'J', 'N')\n",
      "('N', 'A', 'A')\n",
      "('N', 'A', 'A')\n",
      "()\n",
      "('A', 'N', 'A')\n",
      "('A', 'N', 'J', 'A', 'N', 'A')\n",
      "()\n",
      "('A', 'N', 'A')\n",
      "('A', 'A')\n",
      "('J', 'A')\n",
      "()\n",
      "()\n",
      "()\n",
      "('A', 'N', 'J')\n",
      "('A', 'N')\n",
      "('A', 'J', 'N')\n",
      "('A', 'N', 'A', 'J', 'N', 'A')\n"
     ]
    }
   ],
   "source": [
    "# slicing -> [start=0, end-1, step=1]\n",
    "# If step is +ve, default start = 0\n",
    "# If step is -ve, default start = -1\n",
    "\n",
    "# name = 'ANJANA'\n",
    "# name = ['A', 'N', 'J', 'A', 'N', 'A']\n",
    "# name = ('A', 'N', 'J', 'A', 'N', 'A')\n",
    "# name = {'A', 'N', 'J', 'A', 'N', 'A'} # error\n",
    "\n",
    "print(name)\n",
    "# print(name[0], name[1], name[2], name[3], name[4], name[5], name[6])\n",
    "# print(name[-1], name[-2], name[-3], name[-4], name[-5], name[-6], name[-7])\n",
    "\n",
    "# in order to get group of chars -> slicing\n",
    "\n",
    "print(name[0:4])\n",
    "print(name[1:5])\n",
    "print(name[1:10])\n",
    "print(name[3:2]) # empty string\n",
    "print(name[2:])\n",
    "print(name[:4])\n",
    "print(name[1:5:2])\n",
    "print(name[0:5:2])\n",
    "print(name[1::2])\n",
    "print(name[1:6:2])\n",
    "print(name[2:5:-1])\n",
    "print(name[5:2:-1])\n",
    "print(name[:])\n",
    "\n",
    "# negative indexing\n",
    "print(name[-1:-4])\n",
    "print(name[-1:-4:-1])\n",
    "print(name[-1:-5:-2])\n",
    "print(name[2:-2])\n",
    "print(name[-3:0])\n",
    "\n",
    "print(name[2:-4:1])\n",
    "print(name[2:-4:-1])\n",
    "\n",
    "print(name[:-3:])\n",
    "print(name[:-3:-1])\n",
    "\n",
    "print(name[::2])\n",
    "print(name[::-1]) # reverse of the string"
   ]
  },
  {
   "cell_type": "code",
   "execution_count": 99,
   "id": "601df656",
   "metadata": {},
   "outputs": [
    {
     "name": "stdout",
     "output_type": "stream",
     "text": [
      "htnasav\n"
     ]
    }
   ],
   "source": [
    "# reverse\n",
    "name = 'vasanth'\n",
    "print(name[::-1])"
   ]
  },
  {
   "cell_type": "code",
   "execution_count": 107,
   "id": "b7f0ec9d",
   "metadata": {},
   "outputs": [
    {
     "name": "stdout",
     "output_type": "stream",
     "text": [
      "120\n",
      "5040\n",
      "24\n"
     ]
    }
   ],
   "source": [
    "# functions -> action verbs\n",
    "\n",
    "# factorial -> 5! = 1 * 2 * 3 * 4 * 5 = 120\n",
    "num = 5\n",
    "factorial = 1\n",
    "for i in range(1, num+1):\n",
    "    factorial = factorial * i\n",
    "#     print(f'i={i}, factorial={factorial}')\n",
    "print(factorial)\n",
    "\n",
    "# lines of code.....\n",
    "num = 7\n",
    "factorial = 1\n",
    "for i in range(1, num+1):\n",
    "    factorial = factorial * i\n",
    "print(factorial)\n",
    "\n",
    "# lines of code....\n",
    "num = 4\n",
    "factorial = 1\n",
    "for i in range(1, num+1):\n",
    "    factorial = factorial * i\n",
    "print(factorial)"
   ]
  },
  {
   "cell_type": "code",
   "execution_count": 117,
   "id": "cff50109",
   "metadata": {},
   "outputs": [
    {
     "name": "stdout",
     "output_type": "stream",
     "text": [
      "factorial -> 6\n"
     ]
    }
   ],
   "source": [
    "def get_factorial(num): # num -> parameter\n",
    "    factorial = 1\n",
    "    for i in range(1, num+1):\n",
    "        factorial = factorial * i\n",
    "    # print(factorial)\n",
    "    return factorial\n",
    "    \n",
    "# get_factorial(5)\n",
    "# get_factorial(7)\n",
    "# get_factorial(10)\n",
    "# get_factorial(120)\n",
    "\n",
    "factorial = get_factorial(3) # arg -> 3\n",
    "print('factorial ->', factorial)"
   ]
  },
  {
   "cell_type": "code",
   "execution_count": 124,
   "id": "ef765575",
   "metadata": {},
   "outputs": [
    {
     "name": "stdout",
     "output_type": "stream",
     "text": [
      "Welcome to Intellipaat!!! tata bye bye\n",
      "None\n"
     ]
    }
   ],
   "source": [
    "# 4 types of functions\n",
    "# 1. with arg without return value\n",
    "# nums = [1, 2, 3]\n",
    "# return_value = nums.append(4)\n",
    "# print(return_value)\n",
    "\n",
    "# 2. without arg with return value\n",
    "# nums = [1, 2, 3]\n",
    "# return_value = nums.pop()\n",
    "# print(return_value)\n",
    "\n",
    "\n",
    "# 3. with arg with return value\n",
    "# nums = [1, 2, 3, 4, 1]\n",
    "# count = nums.count(1)\n",
    "# print(count)\n",
    "\n",
    "\n",
    "# 4. without arg without return value\n",
    "# def greet():\n",
    "#     print('Welcome to Intellipaat!!! tata bye bye')\n",
    "# return_value = greet()\n",
    "# print(return_value)"
   ]
  },
  {
   "cell_type": "code",
   "execution_count": 137,
   "id": "6fce27c9",
   "metadata": {},
   "outputs": [],
   "source": [
    "# add nums\n",
    "\n",
    "def add_nums(n1=0, n2=0):\n",
    "#     print(n1, n2)\n",
    "    return n1 + n2\n",
    "\n",
    "\n",
    "# total = add_nums(10, 20)\n",
    "# total = add_nums(10)\n",
    "# total = add_nums()\n",
    "# total = add_nums(10, 20, 30) # error\n",
    "# print(total)"
   ]
  },
  {
   "cell_type": "code",
   "execution_count": 158,
   "id": "b141413f",
   "metadata": {},
   "outputs": [
    {
     "name": "stdout",
     "output_type": "stream",
     "text": [
      "100\n"
     ]
    }
   ],
   "source": [
    "# *args -> arguments\n",
    "def add_nums(*nums):\n",
    "    # print('nums ->', nums, type(nums))\n",
    "    total = 0\n",
    "    for num in nums:\n",
    "        total += num\n",
    "    return total\n",
    "    \n",
    "# total = add_nums(10, 20)\n",
    "# total = add_nums(10)\n",
    "# total = add_nums()\n",
    "total = add_nums(10, 20, 30, 40)\n",
    "print(total)"
   ]
  },
  {
   "cell_type": "code",
   "execution_count": 159,
   "id": "a5c91f05",
   "metadata": {},
   "outputs": [],
   "source": [
    "def greet(name, roll_no):\n",
    "    print(f'Welcome to Intellipaat {name}. Your id is {roll_no}')\n",
    "    \n",
    "# greet('vasanth', 10)\n",
    "# greet('nila', 18)\n",
    "\n",
    "# greet(roll_no = 20, name = 'ravi')\n",
    "# greet(roll_no = 20, name = 'ravi', place='chennai') # error"
   ]
  },
  {
   "cell_type": "code",
   "execution_count": 160,
   "id": "d1d04aeb",
   "metadata": {},
   "outputs": [],
   "source": [
    "# **kwargs -> keyword arguments\n",
    "def greet(**data):\n",
    "    # print(data)\n",
    "    print(f\"Welcome to Intellipaat {data.get('name')}. Your id is {data.get('roll_no')}\")\n",
    "    \n",
    "# greet(roll_no = 20, name = 'ravi')\n",
    "# greet(roll_no = 20, name = 'ravi', place='chennai')"
   ]
  },
  {
   "cell_type": "code",
   "execution_count": 161,
   "id": "e4b3f542",
   "metadata": {},
   "outputs": [
    {
     "name": "stdout",
     "output_type": "stream",
     "text": [
      "30\n"
     ]
    }
   ],
   "source": [
    "total = add_nums(10, 20)\n",
    "print(total)"
   ]
  },
  {
   "cell_type": "code",
   "execution_count": 174,
   "id": "ae4a8d1f",
   "metadata": {},
   "outputs": [
    {
     "name": "stdout",
     "output_type": "stream",
     "text": [
      "30\n",
      "-10\n",
      "200\n"
     ]
    }
   ],
   "source": [
    "# modules\n",
    "import arithmetic as a\n",
    "\n",
    "print(arithmetic.add(10, 20))\n",
    "print(a.sub(10, 20))\n",
    "print(a.mul(10, 20))"
   ]
  },
  {
   "cell_type": "code",
   "execution_count": 168,
   "id": "6ebfe9b5",
   "metadata": {},
   "outputs": [
    {
     "name": "stdout",
     "output_type": "stream",
     "text": [
      "40\n",
      "20\n"
     ]
    }
   ],
   "source": [
    "from arithmetic import add, sub\n",
    "\n",
    "print(add(10, 30))\n",
    "print(sub(40, 20))"
   ]
  },
  {
   "cell_type": "code",
   "execution_count": 172,
   "id": "11f5d2f8",
   "metadata": {},
   "outputs": [
    {
     "name": "stdout",
     "output_type": "stream",
     "text": [
      "30\n"
     ]
    }
   ],
   "source": [
    "from demo.arithmetic import add\n",
    "print(add(10, 20))"
   ]
  },
  {
   "cell_type": "code",
   "execution_count": 175,
   "id": "5995f2e5",
   "metadata": {},
   "outputs": [],
   "source": [
    "# from mathematics.linalg.data.arithmetic import add, sub"
   ]
  },
  {
   "cell_type": "code",
   "execution_count": 179,
   "id": "d65a1ab0",
   "metadata": {},
   "outputs": [
    {
     "name": "stdout",
     "output_type": "stream",
     "text": [
      "120\n",
      "5\n",
      "5\n",
      "0.00015592575073242188\n"
     ]
    }
   ],
   "source": [
    "import math\n",
    "from time import time\n",
    "\n",
    "start = time()\n",
    "print(math.factorial(5))\n",
    "print(math.ceil(5))\n",
    "print(math.floor(5))\n",
    "end = time()\n",
    "print(end - start)"
   ]
  },
  {
   "cell_type": "code",
   "execution_count": 183,
   "id": "be914c9e",
   "metadata": {},
   "outputs": [
    {
     "name": "stdout",
     "output_type": "stream",
     "text": [
      "even\n",
      "odd\n"
     ]
    }
   ],
   "source": [
    "# lambda -> 1 line fns\n",
    "# def add(n1, n2):\n",
    "#     return n1 + n2\n",
    "\n",
    "# add = lambda n1, n2: n1 + n2\n",
    "# print(add(10, 20))\n",
    "\n",
    "# even or odd\n",
    "# def odd_or_even(num):\n",
    "#     if(num % 2 == 0):\n",
    "#         return 'even'\n",
    "#     return 'odd'\n",
    "\n",
    "odd_or_even = lambda num: 'even' if num % 2 == 0 else 'odd'\n",
    "\n",
    "print(odd_or_even(10))\n",
    "print(odd_or_even(7))"
   ]
  },
  {
   "cell_type": "code",
   "execution_count": null,
   "id": "b509b0b2",
   "metadata": {},
   "outputs": [],
   "source": []
  }
 ],
 "metadata": {
  "kernelspec": {
   "display_name": "Python 3 (ipykernel)",
   "language": "python",
   "name": "python3"
  },
  "language_info": {
   "codemirror_mode": {
    "name": "ipython",
    "version": 3
   },
   "file_extension": ".py",
   "mimetype": "text/x-python",
   "name": "python",
   "nbconvert_exporter": "python",
   "pygments_lexer": "ipython3",
   "version": "3.11.4"
  }
 },
 "nbformat": 4,
 "nbformat_minor": 5
}
