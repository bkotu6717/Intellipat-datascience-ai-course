{
 "cells": [
  {
   "cell_type": "markdown",
   "id": "a43605ae",
   "metadata": {},
   "source": [
    "# Anova"
   ]
  },
  {
   "cell_type": "code",
   "execution_count": 1,
   "id": "146e246e",
   "metadata": {},
   "outputs": [],
   "source": [
    "## Anova = variance between the groups/variance within the group\n",
    "## F-Test --> for decision"
   ]
  },
  {
   "cell_type": "code",
   "execution_count": 2,
   "id": "2b7ed68c",
   "metadata": {},
   "outputs": [],
   "source": [
    "import numpy as np\n",
    "import pandas as pd"
   ]
  },
  {
   "cell_type": "code",
   "execution_count": 3,
   "id": "967c8a0d",
   "metadata": {},
   "outputs": [
    {
     "name": "stdout",
     "output_type": "stream",
     "text": [
      "[8 7 6 6 2 5 8 4 9 5]\n",
      "[7 7 8 2 3 6 4 3 9 1]\n",
      "[3 1 9 1 4 6 9 2 4 2]\n"
     ]
    }
   ],
   "source": [
    "train_1 = np.random.randint(1, 10, 10)\n",
    "print(train_1)\n",
    "train_2 = np.random.randint(1, 10, 10)\n",
    "print(train_2)\n",
    "train_3 = np.random.randint(1, 10, 10)\n",
    "print(train_3)"
   ]
  },
  {
   "cell_type": "code",
   "execution_count": 4,
   "id": "d8cac4b6",
   "metadata": {},
   "outputs": [
    {
     "data": {
      "text/html": [
       "<div>\n",
       "<style scoped>\n",
       "    .dataframe tbody tr th:only-of-type {\n",
       "        vertical-align: middle;\n",
       "    }\n",
       "\n",
       "    .dataframe tbody tr th {\n",
       "        vertical-align: top;\n",
       "    }\n",
       "\n",
       "    .dataframe thead th {\n",
       "        text-align: right;\n",
       "    }\n",
       "</style>\n",
       "<table border=\"1\" class=\"dataframe\">\n",
       "  <thead>\n",
       "    <tr style=\"text-align: right;\">\n",
       "      <th></th>\n",
       "      <th>Train_A</th>\n",
       "      <th>Train_B</th>\n",
       "      <th>Train_C</th>\n",
       "    </tr>\n",
       "  </thead>\n",
       "  <tbody>\n",
       "    <tr>\n",
       "      <th>0</th>\n",
       "      <td>8</td>\n",
       "      <td>7</td>\n",
       "      <td>3</td>\n",
       "    </tr>\n",
       "    <tr>\n",
       "      <th>1</th>\n",
       "      <td>7</td>\n",
       "      <td>7</td>\n",
       "      <td>1</td>\n",
       "    </tr>\n",
       "    <tr>\n",
       "      <th>2</th>\n",
       "      <td>6</td>\n",
       "      <td>8</td>\n",
       "      <td>9</td>\n",
       "    </tr>\n",
       "    <tr>\n",
       "      <th>3</th>\n",
       "      <td>6</td>\n",
       "      <td>2</td>\n",
       "      <td>1</td>\n",
       "    </tr>\n",
       "    <tr>\n",
       "      <th>4</th>\n",
       "      <td>2</td>\n",
       "      <td>3</td>\n",
       "      <td>4</td>\n",
       "    </tr>\n",
       "    <tr>\n",
       "      <th>5</th>\n",
       "      <td>5</td>\n",
       "      <td>6</td>\n",
       "      <td>6</td>\n",
       "    </tr>\n",
       "    <tr>\n",
       "      <th>6</th>\n",
       "      <td>8</td>\n",
       "      <td>4</td>\n",
       "      <td>9</td>\n",
       "    </tr>\n",
       "    <tr>\n",
       "      <th>7</th>\n",
       "      <td>4</td>\n",
       "      <td>3</td>\n",
       "      <td>2</td>\n",
       "    </tr>\n",
       "    <tr>\n",
       "      <th>8</th>\n",
       "      <td>9</td>\n",
       "      <td>9</td>\n",
       "      <td>4</td>\n",
       "    </tr>\n",
       "    <tr>\n",
       "      <th>9</th>\n",
       "      <td>5</td>\n",
       "      <td>1</td>\n",
       "      <td>2</td>\n",
       "    </tr>\n",
       "  </tbody>\n",
       "</table>\n",
       "</div>"
      ],
      "text/plain": [
       "   Train_A  Train_B  Train_C\n",
       "0        8        7        3\n",
       "1        7        7        1\n",
       "2        6        8        9\n",
       "3        6        2        1\n",
       "4        2        3        4\n",
       "5        5        6        6\n",
       "6        8        4        9\n",
       "7        4        3        2\n",
       "8        9        9        4\n",
       "9        5        1        2"
      ]
     },
     "execution_count": 4,
     "metadata": {},
     "output_type": "execute_result"
    }
   ],
   "source": [
    "## Create a table\n",
    "anova_df = pd.DataFrame({'Train_A': train_1, 'Train_B': train_2, 'Train_C': train_3})\n",
    "anova_df"
   ]
  },
  {
   "cell_type": "code",
   "execution_count": 5,
   "id": "f66f75bd",
   "metadata": {},
   "outputs": [],
   "source": [
    "## Anova = variance between the groups/variance within the group"
   ]
  },
  {
   "cell_type": "code",
   "execution_count": null,
   "id": "c9a0a69e",
   "metadata": {},
   "outputs": [],
   "source": []
  },
  {
   "cell_type": "code",
   "execution_count": 6,
   "id": "aa1a53b7",
   "metadata": {},
   "outputs": [],
   "source": [
    "## F_stat = MSbetween/MSwithin"
   ]
  },
  {
   "cell_type": "code",
   "execution_count": 7,
   "id": "e1ff63f8",
   "metadata": {},
   "outputs": [],
   "source": [
    "## SS between, SSwithin\n",
    "sample_count = 10"
   ]
  },
  {
   "cell_type": "code",
   "execution_count": 9,
   "id": "b88e8f13",
   "metadata": {},
   "outputs": [
    {
     "data": {
      "text/plain": [
       "Train_A    60\n",
       "Train_B    50\n",
       "Train_C    41\n",
       "dtype: int64"
      ]
     },
     "execution_count": 9,
     "metadata": {},
     "output_type": "execute_result"
    }
   ],
   "source": [
    "## Sum of each groups\n",
    "anova_df.sum()"
   ]
  },
  {
   "cell_type": "code",
   "execution_count": 10,
   "id": "cb3602a9",
   "metadata": {},
   "outputs": [
    {
     "data": {
      "text/plain": [
       "Train_A    360.0\n",
       "Train_B    250.0\n",
       "Train_C    168.1\n",
       "dtype: float64"
      ]
     },
     "execution_count": 10,
     "metadata": {},
     "output_type": "execute_result"
    }
   ],
   "source": [
    "## Sum of squares/N\n",
    "sum_sq_each_grp = anova_df.sum()**2/sample_count\n",
    "sum_sq_each_grp"
   ]
  },
  {
   "cell_type": "code",
   "execution_count": 11,
   "id": "05c49856",
   "metadata": {},
   "outputs": [
    {
     "data": {
      "text/plain": [
       "778.1"
      ]
     },
     "execution_count": 11,
     "metadata": {},
     "output_type": "execute_result"
    }
   ],
   "source": [
    "sum_sq = sum_sq_each_grp.sum()\n",
    "sum_sq"
   ]
  },
  {
   "cell_type": "code",
   "execution_count": 14,
   "id": "59dbd654",
   "metadata": {},
   "outputs": [
    {
     "data": {
      "text/plain": [
       "967"
      ]
     },
     "execution_count": 14,
     "metadata": {},
     "output_type": "execute_result"
    }
   ],
   "source": [
    "## Sum of sum of square of each CGPA\n",
    "sum_sum_sqr_cgpa = anova_df.applymap(lambda x: x**2).sum().sum()\n",
    "sum_sum_sqr_cgpa"
   ]
  },
  {
   "cell_type": "code",
   "execution_count": 19,
   "id": "fb04832e",
   "metadata": {},
   "outputs": [
    {
     "data": {
      "text/plain": [
       "760.0333333333333"
      ]
     },
     "execution_count": 19,
     "metadata": {},
     "output_type": "execute_result"
    }
   ],
   "source": [
    "sum_sum_sqr_all = (anova_df.sum().sum()**2)/30\n",
    "sum_sum_sqr_all"
   ]
  },
  {
   "cell_type": "code",
   "execution_count": 20,
   "id": "a0e5191b",
   "metadata": {},
   "outputs": [],
   "source": [
    "## Degree of freedom\n",
    "dfbetween = 3-1\n",
    "dfwithin = (10*3) - 3"
   ]
  },
  {
   "cell_type": "code",
   "execution_count": 21,
   "id": "cd0810a8",
   "metadata": {},
   "outputs": [
    {
     "data": {
      "text/plain": [
       "188.89999999999998"
      ]
     },
     "execution_count": 21,
     "metadata": {},
     "output_type": "execute_result"
    }
   ],
   "source": [
    "# Sum of square within (SSwithin)\n",
    "sswithin = sum_sum_sqr_cgpa - sum_sq\n",
    "sswithin"
   ]
  },
  {
   "cell_type": "code",
   "execution_count": 23,
   "id": "e2c62ab8",
   "metadata": {},
   "outputs": [
    {
     "data": {
      "text/plain": [
       "18.06666666666672"
      ]
     },
     "execution_count": 23,
     "metadata": {},
     "output_type": "execute_result"
    }
   ],
   "source": [
    "## Sum of square between\n",
    "ssbetween = sum_sq - sum_sum_sqr_all\n",
    "ssbetween"
   ]
  },
  {
   "cell_type": "code",
   "execution_count": 24,
   "id": "122ff4d3",
   "metadata": {},
   "outputs": [
    {
     "data": {
      "text/plain": [
       "9.03333333333336"
      ]
     },
     "execution_count": 24,
     "metadata": {},
     "output_type": "execute_result"
    }
   ],
   "source": [
    "## Mean sum of square between\n",
    "msb = ssbetween/dfbetween\n",
    "msb"
   ]
  },
  {
   "cell_type": "code",
   "execution_count": 25,
   "id": "1ae1e353",
   "metadata": {},
   "outputs": [
    {
     "data": {
      "text/plain": [
       "6.996296296296295"
      ]
     },
     "execution_count": 25,
     "metadata": {},
     "output_type": "execute_result"
    }
   ],
   "source": [
    "## Mean sum of square within\n",
    "msw = sswithin/dfwithin\n",
    "msw"
   ]
  },
  {
   "cell_type": "code",
   "execution_count": 26,
   "id": "9cb110ec",
   "metadata": {},
   "outputs": [
    {
     "data": {
      "text/plain": [
       "1.2911593435680295"
      ]
     },
     "execution_count": 26,
     "metadata": {},
     "output_type": "execute_result"
    }
   ],
   "source": [
    "f_stat = msb/msw\n",
    "f_stat"
   ]
  },
  {
   "cell_type": "code",
   "execution_count": null,
   "id": "eed0ca91",
   "metadata": {},
   "outputs": [],
   "source": []
  },
  {
   "cell_type": "code",
   "execution_count": 27,
   "id": "fc69eab5",
   "metadata": {},
   "outputs": [
    {
     "data": {
      "text/plain": [
       "F_onewayResult(statistic=1.2911593435680255, pvalue=0.2913908851752782)"
      ]
     },
     "execution_count": 27,
     "metadata": {},
     "output_type": "execute_result"
    }
   ],
   "source": [
    "from scipy.stats import f_oneway\n",
    "\n",
    "f_oneway(train_1, train_2, train_3)"
   ]
  },
  {
   "cell_type": "code",
   "execution_count": 28,
   "id": "04a20ab6",
   "metadata": {},
   "outputs": [],
   "source": [
    "## Final decision --> Accept H0 --> All the means are equal"
   ]
  },
  {
   "cell_type": "code",
   "execution_count": null,
   "id": "36c449db",
   "metadata": {},
   "outputs": [],
   "source": []
  },
  {
   "cell_type": "code",
   "execution_count": 30,
   "id": "692afec7",
   "metadata": {},
   "outputs": [
    {
     "data": {
      "text/html": [
       "<div>\n",
       "<style scoped>\n",
       "    .dataframe tbody tr th:only-of-type {\n",
       "        vertical-align: middle;\n",
       "    }\n",
       "\n",
       "    .dataframe tbody tr th {\n",
       "        vertical-align: top;\n",
       "    }\n",
       "\n",
       "    .dataframe thead th {\n",
       "        text-align: right;\n",
       "    }\n",
       "</style>\n",
       "<table border=\"1\" class=\"dataframe\">\n",
       "  <thead>\n",
       "    <tr style=\"text-align: right;\">\n",
       "      <th></th>\n",
       "      <th>Fertilizer</th>\n",
       "      <th>Climate</th>\n",
       "      <th>Height</th>\n",
       "    </tr>\n",
       "  </thead>\n",
       "  <tbody>\n",
       "    <tr>\n",
       "      <th>0</th>\n",
       "      <td>A</td>\n",
       "      <td>Winter</td>\n",
       "      <td>19</td>\n",
       "    </tr>\n",
       "    <tr>\n",
       "      <th>1</th>\n",
       "      <td>A</td>\n",
       "      <td>Winter</td>\n",
       "      <td>17</td>\n",
       "    </tr>\n",
       "    <tr>\n",
       "      <th>2</th>\n",
       "      <td>A</td>\n",
       "      <td>Winter</td>\n",
       "      <td>19</td>\n",
       "    </tr>\n",
       "    <tr>\n",
       "      <th>3</th>\n",
       "      <td>A</td>\n",
       "      <td>Winter</td>\n",
       "      <td>14</td>\n",
       "    </tr>\n",
       "    <tr>\n",
       "      <th>4</th>\n",
       "      <td>A</td>\n",
       "      <td>Winter</td>\n",
       "      <td>13</td>\n",
       "    </tr>\n",
       "    <tr>\n",
       "      <th>5</th>\n",
       "      <td>A</td>\n",
       "      <td>Winter</td>\n",
       "      <td>16</td>\n",
       "    </tr>\n",
       "    <tr>\n",
       "      <th>6</th>\n",
       "      <td>A</td>\n",
       "      <td>Winter</td>\n",
       "      <td>15</td>\n",
       "    </tr>\n",
       "    <tr>\n",
       "      <th>7</th>\n",
       "      <td>A</td>\n",
       "      <td>Winter</td>\n",
       "      <td>14</td>\n",
       "    </tr>\n",
       "    <tr>\n",
       "      <th>8</th>\n",
       "      <td>A</td>\n",
       "      <td>Winter</td>\n",
       "      <td>15</td>\n",
       "    </tr>\n",
       "    <tr>\n",
       "      <th>9</th>\n",
       "      <td>A</td>\n",
       "      <td>Winter</td>\n",
       "      <td>17</td>\n",
       "    </tr>\n",
       "    <tr>\n",
       "      <th>10</th>\n",
       "      <td>A</td>\n",
       "      <td>Winter</td>\n",
       "      <td>16</td>\n",
       "    </tr>\n",
       "    <tr>\n",
       "      <th>11</th>\n",
       "      <td>A</td>\n",
       "      <td>Winter</td>\n",
       "      <td>19</td>\n",
       "    </tr>\n",
       "    <tr>\n",
       "      <th>12</th>\n",
       "      <td>A</td>\n",
       "      <td>Winter</td>\n",
       "      <td>17</td>\n",
       "    </tr>\n",
       "    <tr>\n",
       "      <th>13</th>\n",
       "      <td>A</td>\n",
       "      <td>Winter</td>\n",
       "      <td>14</td>\n",
       "    </tr>\n",
       "    <tr>\n",
       "      <th>14</th>\n",
       "      <td>A</td>\n",
       "      <td>Winter</td>\n",
       "      <td>18</td>\n",
       "    </tr>\n",
       "    <tr>\n",
       "      <th>15</th>\n",
       "      <td>B</td>\n",
       "      <td>Summer</td>\n",
       "      <td>13</td>\n",
       "    </tr>\n",
       "    <tr>\n",
       "      <th>16</th>\n",
       "      <td>B</td>\n",
       "      <td>Summer</td>\n",
       "      <td>19</td>\n",
       "    </tr>\n",
       "    <tr>\n",
       "      <th>17</th>\n",
       "      <td>B</td>\n",
       "      <td>Summer</td>\n",
       "      <td>16</td>\n",
       "    </tr>\n",
       "    <tr>\n",
       "      <th>18</th>\n",
       "      <td>B</td>\n",
       "      <td>Summer</td>\n",
       "      <td>19</td>\n",
       "    </tr>\n",
       "    <tr>\n",
       "      <th>19</th>\n",
       "      <td>B</td>\n",
       "      <td>Summer</td>\n",
       "      <td>18</td>\n",
       "    </tr>\n",
       "    <tr>\n",
       "      <th>20</th>\n",
       "      <td>B</td>\n",
       "      <td>Summer</td>\n",
       "      <td>14</td>\n",
       "    </tr>\n",
       "    <tr>\n",
       "      <th>21</th>\n",
       "      <td>B</td>\n",
       "      <td>Summer</td>\n",
       "      <td>14</td>\n",
       "    </tr>\n",
       "    <tr>\n",
       "      <th>22</th>\n",
       "      <td>B</td>\n",
       "      <td>Summer</td>\n",
       "      <td>13</td>\n",
       "    </tr>\n",
       "    <tr>\n",
       "      <th>23</th>\n",
       "      <td>B</td>\n",
       "      <td>Summer</td>\n",
       "      <td>15</td>\n",
       "    </tr>\n",
       "    <tr>\n",
       "      <th>24</th>\n",
       "      <td>B</td>\n",
       "      <td>Summer</td>\n",
       "      <td>16</td>\n",
       "    </tr>\n",
       "    <tr>\n",
       "      <th>25</th>\n",
       "      <td>B</td>\n",
       "      <td>Summer</td>\n",
       "      <td>15</td>\n",
       "    </tr>\n",
       "    <tr>\n",
       "      <th>26</th>\n",
       "      <td>B</td>\n",
       "      <td>Summer</td>\n",
       "      <td>14</td>\n",
       "    </tr>\n",
       "    <tr>\n",
       "      <th>27</th>\n",
       "      <td>B</td>\n",
       "      <td>Summer</td>\n",
       "      <td>17</td>\n",
       "    </tr>\n",
       "    <tr>\n",
       "      <th>28</th>\n",
       "      <td>B</td>\n",
       "      <td>Summer</td>\n",
       "      <td>19</td>\n",
       "    </tr>\n",
       "    <tr>\n",
       "      <th>29</th>\n",
       "      <td>B</td>\n",
       "      <td>Summer</td>\n",
       "      <td>16</td>\n",
       "    </tr>\n",
       "  </tbody>\n",
       "</table>\n",
       "</div>"
      ],
      "text/plain": [
       "   Fertilizer Climate  Height\n",
       "0           A  Winter      19\n",
       "1           A  Winter      17\n",
       "2           A  Winter      19\n",
       "3           A  Winter      14\n",
       "4           A  Winter      13\n",
       "5           A  Winter      16\n",
       "6           A  Winter      15\n",
       "7           A  Winter      14\n",
       "8           A  Winter      15\n",
       "9           A  Winter      17\n",
       "10          A  Winter      16\n",
       "11          A  Winter      19\n",
       "12          A  Winter      17\n",
       "13          A  Winter      14\n",
       "14          A  Winter      18\n",
       "15          B  Summer      13\n",
       "16          B  Summer      19\n",
       "17          B  Summer      16\n",
       "18          B  Summer      19\n",
       "19          B  Summer      18\n",
       "20          B  Summer      14\n",
       "21          B  Summer      14\n",
       "22          B  Summer      13\n",
       "23          B  Summer      15\n",
       "24          B  Summer      16\n",
       "25          B  Summer      15\n",
       "26          B  Summer      14\n",
       "27          B  Summer      17\n",
       "28          B  Summer      19\n",
       "29          B  Summer      16"
      ]
     },
     "execution_count": 30,
     "metadata": {},
     "output_type": "execute_result"
    }
   ],
   "source": [
    "## Two way anova\n",
    "df = pd.DataFrame({'Fertilizer': np.repeat(['A','B'], 15),\n",
    "                   'Climate': np.repeat(['Winter','Summer'], 15),\n",
    "                   'Height': np.random.randint(13,20,30)})\n",
    "\n",
    "df"
   ]
  },
  {
   "cell_type": "code",
   "execution_count": 31,
   "id": "db623c02",
   "metadata": {},
   "outputs": [
    {
     "name": "stdout",
     "output_type": "stream",
     "text": [
      "                            df      sum_sq   mean_sq         F    PR(>F)\n",
      "C(Fertilizer)              1.0    0.833333  0.833333  0.194229  0.662804\n",
      "C(Climate)                 1.0    8.794941  8.794941  2.049875  0.163288\n",
      "C(Fertilizer):C(Climate)   1.0    6.616239  6.616239  1.542076  0.224611\n",
      "Residual                  28.0  120.133333  4.290476       NaN       NaN\n"
     ]
    }
   ],
   "source": [
    "from statsmodels.formula.api import ols\n",
    "import statsmodels.api as sm\n",
    "\n",
    "two_way_anova = ols('Height ~ C(Fertilizer) + C(Climate) + C(Fertilizer):C(Climate)', data=df).fit()\n",
    "result = sm.stats.anova_lm(two_way_anova, type=2)\n",
    "\n",
    "print(result)"
   ]
  },
  {
   "cell_type": "code",
   "execution_count": null,
   "id": "51b9ce6f",
   "metadata": {},
   "outputs": [],
   "source": [
    "how can we decide no impact pls explain once\n",
    "## >0.05 ---> Avg is same"
   ]
  },
  {
   "cell_type": "code",
   "execution_count": null,
   "id": "d13092f0",
   "metadata": {},
   "outputs": [],
   "source": [
    "## two medicine --> weight\n",
    "## --> 3 -->avg weight --> A-78, B-79, C-77 --> 0.876"
   ]
  },
  {
   "cell_type": "code",
   "execution_count": null,
   "id": "e72dee77",
   "metadata": {},
   "outputs": [],
   "source": []
  },
  {
   "cell_type": "code",
   "execution_count": null,
   "id": "0d0b765c",
   "metadata": {},
   "outputs": [],
   "source": []
  },
  {
   "cell_type": "markdown",
   "id": "c85d840a",
   "metadata": {},
   "source": [
    "# Z-Test"
   ]
  },
  {
   "cell_type": "code",
   "execution_count": null,
   "id": "e3ce9e72",
   "metadata": {},
   "outputs": [],
   "source": [
    "## Compare two sample mean >> 30 samples"
   ]
  },
  {
   "cell_type": "code",
   "execution_count": 35,
   "id": "43490b05",
   "metadata": {},
   "outputs": [],
   "source": [
    "from random import sample"
   ]
  },
  {
   "cell_type": "code",
   "execution_count": 36,
   "id": "0f9410d2",
   "metadata": {},
   "outputs": [
    {
     "name": "stdout",
     "output_type": "stream",
     "text": [
      "[153, 182, 119, 156, 168, 111, 127, 174, 101, 163, 108, 152, 140, 166, 199, 103, 189, 139, 133, 181, 169, 198, 109, 180, 175, 132, 137, 122, 157, 158, 186, 115, 141, 136, 106, 173, 172, 162, 114, 125, 184, 107, 120, 197, 105, 183, 138, 131, 177, 159, 128, 142, 164, 117, 148, 188, 185, 104, 100, 135, 116, 118, 102, 155, 134, 146, 165, 191, 193, 160, 150, 195, 171, 170, 113, 176, 190, 112, 130, 129]\n"
     ]
    }
   ],
   "source": [
    "## Average height of indian adult male is 165 cm\n",
    "\n",
    "## H0 = \"Avg height is 165\"\n",
    "## H1 = \"Avg height is not 165\"\n",
    "\n",
    "sample_heights = sample(range(100, 200), 80)\n",
    "print(sample_heights)"
   ]
  },
  {
   "cell_type": "code",
   "execution_count": 38,
   "id": "a9bb2ec0",
   "metadata": {},
   "outputs": [
    {
     "data": {
      "text/plain": [
       "(-5.061278798942744, 4.164537124818011e-07)"
      ]
     },
     "execution_count": 38,
     "metadata": {},
     "output_type": "execute_result"
    }
   ],
   "source": [
    "from statsmodels.stats.weightstats import ztest\n",
    "\n",
    "ztest(sample_heights, value=165)"
   ]
  },
  {
   "cell_type": "code",
   "execution_count": null,
   "id": "b9cd0fd2",
   "metadata": {},
   "outputs": [],
   "source": [
    "### p <<<o.o5 --> Reject H0 --> Avg height is not 165"
   ]
  },
  {
   "cell_type": "code",
   "execution_count": null,
   "id": "e91a8267",
   "metadata": {},
   "outputs": [],
   "source": []
  },
  {
   "cell_type": "markdown",
   "id": "e56dd602",
   "metadata": {},
   "source": [
    "# Two sample z test"
   ]
  },
  {
   "cell_type": "code",
   "execution_count": 40,
   "id": "16f54ad7",
   "metadata": {},
   "outputs": [
    {
     "name": "stdout",
     "output_type": "stream",
     "text": [
      "[59, 43, 29, 72, 67, 90, 36, 70, 95, 93, 66, 57, 62, 89, 74, 81, 41, 98, 68, 75, 26, 39, 94, 42, 47, 99, 92, 23, 35, 24, 73, 44, 48, 51, 54, 31, 49, 21, 60, 55, 25, 40, 77, 38, 46, 79, 86, 82, 87, 83, 50, 30, 88, 63, 78, 28, 91, 27, 97, 52, 58, 45, 80, 65, 34, 64, 71, 33, 76, 61, 85, 32, 53, 96, 69, 20, 84, 22, 37, 56]\n",
      "[83, 91, 68, 76, 90, 81, 72, 24, 43, 80, 92, 50, 96, 45, 34, 41, 52, 99, 95, 29, 61, 46, 60, 23, 79, 55, 85, 86, 44, 67, 65, 78, 71, 54, 97, 20, 31, 21, 35, 58, 69, 89, 82, 88, 40, 51, 77, 87, 98, 30, 75, 32, 57, 63, 26, 66, 39, 28, 38, 25, 53, 74, 84, 94, 70, 93, 22, 27, 42, 47, 56, 73, 64, 62, 48, 49, 59, 33, 37, 36]\n"
     ]
    }
   ],
   "source": [
    "school_a = sample(range(20, 100), 80)\n",
    "print(school_a)\n",
    "school_b = sample(range(20, 100), 80)\n",
    "print(school_b)"
   ]
  },
  {
   "cell_type": "code",
   "execution_count": 41,
   "id": "96a89799",
   "metadata": {},
   "outputs": [
    {
     "data": {
      "text/plain": [
       "(0.0, 1.0)"
      ]
     },
     "execution_count": 41,
     "metadata": {},
     "output_type": "execute_result"
    }
   ],
   "source": [
    "ztest(school_a, school_b)"
   ]
  },
  {
   "cell_type": "code",
   "execution_count": 42,
   "id": "85c6c4a8",
   "metadata": {},
   "outputs": [],
   "source": [
    "## conclusion --> Accept h0 --> \"Avg marks are same\""
   ]
  },
  {
   "cell_type": "code",
   "execution_count": null,
   "id": "605c05eb",
   "metadata": {},
   "outputs": [],
   "source": []
  },
  {
   "cell_type": "markdown",
   "id": "b113c126",
   "metadata": {},
   "source": [
    "# Z Test for proportion"
   ]
  },
  {
   "cell_type": "markdown",
   "id": "7902d445",
   "metadata": {},
   "source": [
    "# One sample"
   ]
  },
  {
   "cell_type": "code",
   "execution_count": 43,
   "id": "8bc9e2a0",
   "metadata": {},
   "outputs": [],
   "source": [
    "p = 0.35"
   ]
  },
  {
   "cell_type": "code",
   "execution_count": 45,
   "id": "51198fc4",
   "metadata": {},
   "outputs": [
    {
     "name": "stdout",
     "output_type": "stream",
     "text": [
      "[10490, 10480, 9236, 9819, 9740, 10430, 9036, 10603, 9944, 9630, 10953, 9937, 10280, 9259, 9412, 10631, 10788, 10815, 10827, 9100, 10607, 9831, 10356, 10331, 9098, 10848, 10302, 10875, 10326, 10558, 9140, 9974, 10442, 9078, 10542, 9548, 9512, 9130, 10243, 10549, 9314, 9306, 9043, 9964, 9766, 9409, 10509, 10889, 10739, 10709, 9461, 9454, 9239, 10412, 10487, 10422, 10453, 10649, 10127, 10071, 10839, 9169, 9253, 10679, 10977, 10592, 9782, 10007, 9421, 9345, 10500, 10306, 10704, 10911, 9560, 9304, 10031, 10986, 10872, 9495, 10029, 10865, 10538, 9712, 9101, 10519, 10510, 10880, 9697, 9521, 9732, 9240, 10195, 10042, 9511, 10292, 9494, 9079, 9841, 10263, 10402, 9206, 9334, 9339, 9048, 9827, 10385, 10983, 9405, 9067, 10107, 10353, 9464, 10171, 10497, 10535, 9195, 9806, 9196, 9116, 10148, 9038, 10531, 10240, 9228, 9034, 9439, 9814, 9175, 9354, 9741, 9489, 9446, 10266, 10478, 10992, 10149, 10854, 10142, 10351, 10720, 9331, 10069, 9394, 9233, 10617, 9997, 10960, 10382, 9780, 9645, 9840, 10802, 9742, 9445, 10927, 9751, 10738, 9434, 9938, 9160, 9391, 10177, 10164, 9252, 9772, 9408, 9939, 9251, 10214, 9903, 10713, 9608, 9013, 9558, 10530, 9443, 9133, 9148, 10406, 10252, 10715, 10284, 10948, 10565, 10423, 10618, 10364, 9493, 10689, 9888, 10591, 10220, 10366, 9930, 10387, 9906, 9798, 10150, 9501]\n"
     ]
    }
   ],
   "source": [
    "sample_purchase_amount_for_women = sample(range(9000, 11000), 200)\n",
    "print(sample_purchase_amount_for_women)"
   ]
  },
  {
   "cell_type": "code",
   "execution_count": 46,
   "id": "1049a3c3",
   "metadata": {},
   "outputs": [],
   "source": [
    "### from 200 samples, I'm drawing a coclusion about poplation that,\n",
    "### 35% of womens have a purchase amount more than 10000 or not\n",
    "\n",
    "## H0 = proprtion is 35%\n",
    "## H1 = proportion is not 35%"
   ]
  },
  {
   "cell_type": "code",
   "execution_count": 47,
   "id": "cc1e0fae",
   "metadata": {},
   "outputs": [
    {
     "data": {
      "text/plain": [
       "101"
      ]
     },
     "execution_count": 47,
     "metadata": {},
     "output_type": "execute_result"
    }
   ],
   "source": [
    "count_of_women_have_purchase_amount_greater_than_10000 = len([i for i in sample_purchase_amount_for_women if i>10000])\n",
    "count_of_women_have_purchase_amount_greater_than_10000"
   ]
  },
  {
   "cell_type": "code",
   "execution_count": 48,
   "id": "2f81b6ba",
   "metadata": {},
   "outputs": [
    {
     "data": {
      "text/plain": [
       "(4.384281262900366, 1.1636934315532383e-05)"
      ]
     },
     "execution_count": 48,
     "metadata": {},
     "output_type": "execute_result"
    }
   ],
   "source": [
    "from statsmodels.stats.proportion import proportions_ztest\n",
    "\n",
    "proportions_ztest(count=count_of_women_have_purchase_amount_greater_than_10000, nobs = 200, value=0.35)"
   ]
  },
  {
   "cell_type": "code",
   "execution_count": null,
   "id": "c8877d83",
   "metadata": {},
   "outputs": [],
   "source": []
  },
  {
   "cell_type": "markdown",
   "id": "eccfcdb8",
   "metadata": {},
   "source": [
    "# Two sample"
   ]
  },
  {
   "cell_type": "code",
   "execution_count": 49,
   "id": "0a5e9b7f",
   "metadata": {},
   "outputs": [
    {
     "name": "stdout",
     "output_type": "stream",
     "text": [
      "[7428, 5670, 4528, 6256, 5081, 5032, 4218, 5015, 5519, 7518, 5526, 4882, 3935, 6318, 7130, 3206, 5140, 6883, 4583, 5042, 7559, 3634, 4080, 7940, 3850, 3878, 7552, 4862, 5462, 3961, 3158, 6611, 3550, 6782, 5973, 3080, 3647, 3618, 3608, 6149, 5566, 6021, 6570, 4697, 7261, 3073, 6767, 5934, 3772, 4576, 5426, 6336, 3676, 5685, 5558, 7735, 7933, 5570, 5037, 5629, 7747, 7074, 5155, 4046, 5701, 6709, 3161, 3013, 5872, 5664, 7777, 4326, 6181, 5028, 7136, 3622, 6444, 7168, 7020, 5367, 7652, 6164, 6214, 4807, 7803, 7474, 6679, 4783, 4905, 5871, 6483, 5671, 7982, 3381, 5361, 5170, 4500, 7647, 6855, 3886, 4782, 3699, 6794, 6881, 5753, 3661, 7209, 4065, 6309, 3754, 3071, 4469, 7521, 6666, 7665, 4943, 5084, 5373, 6643, 4271, 7205, 5731, 3088, 5709, 4168, 7828, 7266, 6032, 5991, 3059, 5435, 4535, 7377, 4683, 5318, 5277, 5306, 5770, 7615, 6205, 3868, 7595, 5887, 6504, 5362, 5879, 5949, 5987, 5999, 5008, 5297, 6633, 7510, 7862, 6914, 6539, 4004, 5585, 7190, 7953, 7813, 5393, 6621, 4199, 5984, 7504, 6476, 6626, 5364, 4913, 5287, 4787, 4767, 7446, 6652, 5467, 7259, 3213, 7692, 5594, 7723, 6488, 7575, 5958, 7393, 4474, 6480, 7239, 7486, 6042, 4433, 7749, 7778, 4720, 5406, 5118, 4263, 3136, 5346, 3556]\n",
      "[9941, 6327, 6395, 6903, 4218, 7027, 5903, 5959, 5267, 7047, 7025, 7683, 5957, 7336, 8071, 7583, 7099, 7797, 5494, 7519, 7388, 8583, 6774, 9742, 9499, 8147, 4307, 6746, 5180, 5003, 6417, 6134, 9284, 8516, 8896, 4334, 4162, 5785, 8531, 4861, 6173, 9540, 5602, 6462, 6253, 6413, 6630, 4393, 4068, 8002, 5009, 7910, 5129, 6553, 4685, 8548, 8479, 5741, 4511, 5836, 9958, 7730, 7457, 7097, 4834, 8200, 8735, 9713, 8779, 4354, 6818, 4592, 6412, 5611, 5286, 9088, 8927, 4668, 4604, 9997, 5441, 7052, 7905, 8840, 4426, 4112, 9259, 8468, 4899, 5478, 8242, 7135, 9434, 4559, 6658, 9922, 6504, 9274, 6482, 5701, 7007, 7948, 6330, 7079, 7950, 5035, 9769, 5247, 7490, 7222, 8882, 9728, 7558, 9084, 7672, 6723, 9287, 5215, 7307, 5177, 9358, 8345, 4314, 4200, 7463, 6441, 6189, 5230, 9513, 9150, 8192, 7934, 9318, 8711, 6131, 4855, 9012, 6321, 7610, 9694, 5479, 5637, 8874, 9395, 8657, 9568, 9475, 6608, 7833, 8438, 8536, 7055, 4445, 4858, 6737, 8832, 9447, 9712, 6429, 4910, 7888, 5905, 9806, 6725, 4484, 5500, 6929, 5119, 8260, 9493, 6675, 6655, 4041, 6893, 8467, 7627, 7768, 6645, 6872, 6533, 5864, 9719, 4212, 6452, 9580, 5334, 5140, 7182, 5107, 6100, 9413, 4052, 6722, 9960, 5322, 6607, 9768, 9525, 6999, 5965]\n"
     ]
    }
   ],
   "source": [
    "sample_purchase_amt_18_25 = sample(range(3000, 8000), 200)\n",
    "print(sample_purchase_amt_18_25)\n",
    "sample_purchase_amt_26_35 = sample(range(4000, 10000), 200)\n",
    "print(sample_purchase_amt_26_35)"
   ]
  },
  {
   "cell_type": "code",
   "execution_count": 50,
   "id": "d32ac70c",
   "metadata": {},
   "outputs": [],
   "source": [
    "## From the 200 samples, I'm drawing the conclusion about population that, \n",
    "## age groups 18 to 25 and 26 to 35 have same proportion in purchase amount > 5000\n",
    "\n",
    "H0 = \"proprtion are same\"\n",
    "H1 = \"Proprtion is not same\""
   ]
  },
  {
   "cell_type": "code",
   "execution_count": 52,
   "id": "6e6dab75",
   "metadata": {},
   "outputs": [
    {
     "name": "stdout",
     "output_type": "stream",
     "text": [
      "139 172\n"
     ]
    }
   ],
   "source": [
    "count_of_customers_have_grt_5000_18_25 = len([i for i in sample_purchase_amt_18_25 if i>5000])\n",
    "count_of_customers_have_grt_5000_26_35 = len([i for i in sample_purchase_amt_26_35 if i>5000])\n",
    "\n",
    "print(count_of_customers_have_grt_5000_18_25, count_of_customers_have_grt_5000_26_35)"
   ]
  },
  {
   "cell_type": "code",
   "execution_count": 54,
   "id": "0c411882",
   "metadata": {},
   "outputs": [
    {
     "data": {
      "text/plain": [
       "0.695"
      ]
     },
     "execution_count": 54,
     "metadata": {},
     "output_type": "execute_result"
    }
   ],
   "source": [
    "139/200"
   ]
  },
  {
   "cell_type": "code",
   "execution_count": 55,
   "id": "5c61d808",
   "metadata": {},
   "outputs": [
    {
     "data": {
      "text/plain": [
       "0.86"
      ]
     },
     "execution_count": 55,
     "metadata": {},
     "output_type": "execute_result"
    }
   ],
   "source": [
    "172/200"
   ]
  },
  {
   "cell_type": "code",
   "execution_count": 53,
   "id": "d1f8b2d2",
   "metadata": {},
   "outputs": [
    {
     "data": {
      "text/plain": [
       "(-3.9670597138462105, 7.276476622318882e-05)"
      ]
     },
     "execution_count": 53,
     "metadata": {},
     "output_type": "execute_result"
    }
   ],
   "source": [
    "proportions_ztest(count=[count_of_customers_have_grt_5000_18_25, count_of_customers_have_grt_5000_26_35],\n",
    "                  nobs=[200, 200])"
   ]
  },
  {
   "cell_type": "code",
   "execution_count": null,
   "id": "a15b45a1",
   "metadata": {},
   "outputs": [],
   "source": [
    "## Final conclusion --> Reject H0 since p<<0.05 --> significant difference in the purchase pattern for two age groups"
   ]
  },
  {
   "cell_type": "code",
   "execution_count": null,
   "id": "007e3e0c",
   "metadata": {},
   "outputs": [],
   "source": []
  },
  {
   "cell_type": "markdown",
   "id": "1a79e68a",
   "metadata": {},
   "source": [
    "# Chi-Sqaure Test"
   ]
  },
  {
   "cell_type": "code",
   "execution_count": 56,
   "id": "3d79e855",
   "metadata": {},
   "outputs": [],
   "source": [
    "H0 = 'No relation between Gender and Fav sports'\n",
    "H0 = 'There is a relation exists between Gender and Fav sports'"
   ]
  },
  {
   "cell_type": "code",
   "execution_count": 59,
   "id": "44e33f55",
   "metadata": {},
   "outputs": [
    {
     "data": {
      "text/html": [
       "<div>\n",
       "<style scoped>\n",
       "    .dataframe tbody tr th:only-of-type {\n",
       "        vertical-align: middle;\n",
       "    }\n",
       "\n",
       "    .dataframe tbody tr th {\n",
       "        vertical-align: top;\n",
       "    }\n",
       "\n",
       "    .dataframe thead th {\n",
       "        text-align: right;\n",
       "    }\n",
       "</style>\n",
       "<table border=\"1\" class=\"dataframe\">\n",
       "  <thead>\n",
       "    <tr style=\"text-align: right;\">\n",
       "      <th></th>\n",
       "      <th>Gender</th>\n",
       "      <th>Fav-Sports</th>\n",
       "    </tr>\n",
       "  </thead>\n",
       "  <tbody>\n",
       "    <tr>\n",
       "      <th>0</th>\n",
       "      <td>Female</td>\n",
       "      <td>Badminton</td>\n",
       "    </tr>\n",
       "    <tr>\n",
       "      <th>1</th>\n",
       "      <td>Female</td>\n",
       "      <td>Football</td>\n",
       "    </tr>\n",
       "    <tr>\n",
       "      <th>2</th>\n",
       "      <td>Female</td>\n",
       "      <td>Badminton</td>\n",
       "    </tr>\n",
       "    <tr>\n",
       "      <th>3</th>\n",
       "      <td>Male</td>\n",
       "      <td>Football</td>\n",
       "    </tr>\n",
       "    <tr>\n",
       "      <th>4</th>\n",
       "      <td>Male</td>\n",
       "      <td>Football</td>\n",
       "    </tr>\n",
       "    <tr>\n",
       "      <th>5</th>\n",
       "      <td>Female</td>\n",
       "      <td>Football</td>\n",
       "    </tr>\n",
       "    <tr>\n",
       "      <th>6</th>\n",
       "      <td>Female</td>\n",
       "      <td>Football</td>\n",
       "    </tr>\n",
       "    <tr>\n",
       "      <th>7</th>\n",
       "      <td>Male</td>\n",
       "      <td>Badminton</td>\n",
       "    </tr>\n",
       "    <tr>\n",
       "      <th>8</th>\n",
       "      <td>Male</td>\n",
       "      <td>Football</td>\n",
       "    </tr>\n",
       "    <tr>\n",
       "      <th>9</th>\n",
       "      <td>Male</td>\n",
       "      <td>Football</td>\n",
       "    </tr>\n",
       "  </tbody>\n",
       "</table>\n",
       "</div>"
      ],
      "text/plain": [
       "   Gender Fav-Sports\n",
       "0  Female  Badminton\n",
       "1  Female   Football\n",
       "2  Female  Badminton\n",
       "3    Male   Football\n",
       "4    Male   Football\n",
       "5  Female   Football\n",
       "6  Female   Football\n",
       "7    Male  Badminton\n",
       "8    Male   Football\n",
       "9    Male   Football"
      ]
     },
     "execution_count": 59,
     "metadata": {},
     "output_type": "execute_result"
    }
   ],
   "source": [
    "import random\n",
    "\n",
    "chi_df = pd.DataFrame({\"Gender\": random.choices(['Female', 'Male'], k=10),\n",
    "                       'Fav-Sports': random.choices(['Football', 'Badminton'], k=10)})\n",
    "\n",
    "chi_df"
   ]
  },
  {
   "cell_type": "code",
   "execution_count": 60,
   "id": "e075bc5b",
   "metadata": {},
   "outputs": [
    {
     "data": {
      "text/html": [
       "<div>\n",
       "<style scoped>\n",
       "    .dataframe tbody tr th:only-of-type {\n",
       "        vertical-align: middle;\n",
       "    }\n",
       "\n",
       "    .dataframe tbody tr th {\n",
       "        vertical-align: top;\n",
       "    }\n",
       "\n",
       "    .dataframe thead th {\n",
       "        text-align: right;\n",
       "    }\n",
       "</style>\n",
       "<table border=\"1\" class=\"dataframe\">\n",
       "  <thead>\n",
       "    <tr style=\"text-align: right;\">\n",
       "      <th></th>\n",
       "      <th>Gender</th>\n",
       "      <th>Fav-Sports</th>\n",
       "    </tr>\n",
       "  </thead>\n",
       "  <tbody>\n",
       "    <tr>\n",
       "      <th>0</th>\n",
       "      <td>Female</td>\n",
       "      <td>Badminton</td>\n",
       "    </tr>\n",
       "    <tr>\n",
       "      <th>1</th>\n",
       "      <td>Female</td>\n",
       "      <td>Football</td>\n",
       "    </tr>\n",
       "    <tr>\n",
       "      <th>2</th>\n",
       "      <td>Female</td>\n",
       "      <td>Badminton</td>\n",
       "    </tr>\n",
       "    <tr>\n",
       "      <th>3</th>\n",
       "      <td>Male</td>\n",
       "      <td>Football</td>\n",
       "    </tr>\n",
       "    <tr>\n",
       "      <th>4</th>\n",
       "      <td>Male</td>\n",
       "      <td>Football</td>\n",
       "    </tr>\n",
       "    <tr>\n",
       "      <th>5</th>\n",
       "      <td>Female</td>\n",
       "      <td>Football</td>\n",
       "    </tr>\n",
       "    <tr>\n",
       "      <th>6</th>\n",
       "      <td>Female</td>\n",
       "      <td>Football</td>\n",
       "    </tr>\n",
       "    <tr>\n",
       "      <th>7</th>\n",
       "      <td>Male</td>\n",
       "      <td>Badminton</td>\n",
       "    </tr>\n",
       "    <tr>\n",
       "      <th>8</th>\n",
       "      <td>Male</td>\n",
       "      <td>Football</td>\n",
       "    </tr>\n",
       "    <tr>\n",
       "      <th>9</th>\n",
       "      <td>Male</td>\n",
       "      <td>Football</td>\n",
       "    </tr>\n",
       "  </tbody>\n",
       "</table>\n",
       "</div>"
      ],
      "text/plain": [
       "   Gender Fav-Sports\n",
       "0  Female  Badminton\n",
       "1  Female   Football\n",
       "2  Female  Badminton\n",
       "3    Male   Football\n",
       "4    Male   Football\n",
       "5  Female   Football\n",
       "6  Female   Football\n",
       "7    Male  Badminton\n",
       "8    Male   Football\n",
       "9    Male   Football"
      ]
     },
     "execution_count": 60,
     "metadata": {},
     "output_type": "execute_result"
    }
   ],
   "source": [
    "## Male -- Badminton --> 1\n",
    "## FeMale -- Badminton --> 2\n",
    "## Male -- Football --> 4\n",
    "## FeMale -- Football --> 3\n",
    "\n",
    "chi_df"
   ]
  },
  {
   "cell_type": "code",
   "execution_count": 62,
   "id": "b5562eef",
   "metadata": {},
   "outputs": [
    {
     "data": {
      "text/html": [
       "<div>\n",
       "<style scoped>\n",
       "    .dataframe tbody tr th:only-of-type {\n",
       "        vertical-align: middle;\n",
       "    }\n",
       "\n",
       "    .dataframe tbody tr th {\n",
       "        vertical-align: top;\n",
       "    }\n",
       "\n",
       "    .dataframe thead th {\n",
       "        text-align: right;\n",
       "    }\n",
       "</style>\n",
       "<table border=\"1\" class=\"dataframe\">\n",
       "  <thead>\n",
       "    <tr style=\"text-align: right;\">\n",
       "      <th>Fav-Sports</th>\n",
       "      <th>Badminton</th>\n",
       "      <th>Football</th>\n",
       "    </tr>\n",
       "    <tr>\n",
       "      <th>Gender</th>\n",
       "      <th></th>\n",
       "      <th></th>\n",
       "    </tr>\n",
       "  </thead>\n",
       "  <tbody>\n",
       "    <tr>\n",
       "      <th>Female</th>\n",
       "      <td>2</td>\n",
       "      <td>3</td>\n",
       "    </tr>\n",
       "    <tr>\n",
       "      <th>Male</th>\n",
       "      <td>1</td>\n",
       "      <td>4</td>\n",
       "    </tr>\n",
       "  </tbody>\n",
       "</table>\n",
       "</div>"
      ],
      "text/plain": [
       "Fav-Sports  Badminton  Football\n",
       "Gender                         \n",
       "Female              2         3\n",
       "Male                1         4"
      ]
     },
     "execution_count": 62,
     "metadata": {},
     "output_type": "execute_result"
    }
   ],
   "source": [
    "cross_tab_data = pd.crosstab(chi_df['Gender'], chi_df['Fav-Sports'])\n",
    "cross_tab_data"
   ]
  },
  {
   "cell_type": "code",
   "execution_count": 63,
   "id": "962ff3b4",
   "metadata": {},
   "outputs": [],
   "source": [
    "## Chi_val = (Observed-Expected)**2/Expected\n",
    "## Expected Val = Row*col/N"
   ]
  },
  {
   "cell_type": "code",
   "execution_count": 64,
   "id": "ab41e8ac",
   "metadata": {},
   "outputs": [
    {
     "data": {
      "text/plain": [
       "(0.0,\n",
       " 1.0,\n",
       " 1,\n",
       " array([[1.5, 3.5],\n",
       "        [1.5, 3.5]]))"
      ]
     },
     "execution_count": 64,
     "metadata": {},
     "output_type": "execute_result"
    }
   ],
   "source": [
    "from scipy.stats import chi2_contingency\n",
    "\n",
    "chi2_contingency(cross_tab_data)"
   ]
  },
  {
   "cell_type": "code",
   "execution_count": null,
   "id": "de5f65b8",
   "metadata": {},
   "outputs": [],
   "source": [
    "## Final conclusion --> Accept H0 --> No relation"
   ]
  }
 ],
 "metadata": {
  "kernelspec": {
   "display_name": "Python 3 (ipykernel)",
   "language": "python",
   "name": "python3"
  },
  "language_info": {
   "codemirror_mode": {
    "name": "ipython",
    "version": 3
   },
   "file_extension": ".py",
   "mimetype": "text/x-python",
   "name": "python",
   "nbconvert_exporter": "python",
   "pygments_lexer": "ipython3",
   "version": "3.9.13"
  }
 },
 "nbformat": 4,
 "nbformat_minor": 5
}
