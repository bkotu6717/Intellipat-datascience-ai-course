{
 "cells": [
  {
   "cell_type": "code",
   "execution_count": 27,
   "metadata": {},
   "outputs": [
    {
     "name": "stderr",
     "output_type": "stream",
     "text": [
      "/var/folders/vg/mhm89jn94z5g6j6bd9h1flbm0000gn/T/ipykernel_26646/2217834920.py:2: DtypeWarning: Columns (58,59) have mixed types. Specify dtype option on import or set low_memory=False.\n",
      "  df = pd.read_csv('~/Downloads/upload(30)-2023-11-22T15_47_11.145Z.csv')\n"
     ]
    },
    {
     "data": {
      "text/plain": [
       "Quality Score            NaN                                                                 \n",
       "Size Score               NaN                                                                 \n",
       "Total Score              NaN                                                                 \n",
       "Currency                 NaN                                                                 \n",
       "Shape                    Cushion                                                             \n",
       "Carat                    5.01                                                                \n",
       "Clarity                  SI1                                                                 \n",
       "Color                    D                                                                   \n",
       "Fluorescence             Strong                                                              \n",
       "Cost                     71029.41                                                            \n",
       "Depth%                   65.9                                                                \n",
       "Length                   12.42                                                               \n",
       "Width                    9.07                                                                \n",
       "Depth                    5.98                                                                \n",
       "Girdle                   Medium - V. Thick                                                   \n",
       "Culet                    NaN                                                                 \n",
       "Crown Angle              32.7                                                                \n",
       "Crown Height             NaN                                                                 \n",
       "Pavilion Depth           NaN                                                                 \n",
       "Cut Grade                Ideal                                                               \n",
       "Polish                   Excellent                                                           \n",
       "Symmetry                 Excellent                                                           \n",
       "Table%                   68.0                                                                \n",
       "Video URL                NaN                                                                 \n",
       "Vision URL               http://diamondmedia.s3.amazonaws.com/B2C/imaged/1112066801/video.mp4\n",
       "Certificate URL          http://diamondmedia.s3.amazonaws.com/CERTPDF/6224627826.pdf         \n",
       "GIA Number               622462****                                                          \n",
       "Ratio                    1.37                                                                \n",
       "Lab                      GIA                                                                 \n",
       "Supplier ID              FS                                                                  \n",
       "Diamond ID               1112066801FS                                                        \n",
       "Type                     Natural                                                             \n",
       "Location                 USA                                                                 \n",
       "Wholesale                60120.0                                                             \n",
       "Supplier Girdle          NaN                                                                 \n",
       "Supplier Cut Grade       NaN                                                                 \n",
       "Supplier Shape           NaN                                                                 \n",
       "Supplier Fluorescence    NaN                                                                 \n",
       "Internal Cut Grade       NaN                                                                 \n",
       "Ideal Polish             NaN                                                                 \n",
       "Ideal Symmetry           NaN                                                                 \n",
       "Ideal Depth              NaN                                                                 \n",
       "Ideal Table              NaN                                                                 \n",
       "Ideal Girdle             NaN                                                                 \n",
       "Clarity Name             SI1                                                                 \n",
       "Color Selector Name      D                                                                   \n",
       "Color Intensity          NaN                                                                 \n",
       "Color Name               D                                                                   \n",
       "Supplier Stage           1                                                                   \n",
       "See In Person            No                                                                  \n",
       "Email                    vicky@finestardiamonds.com                                          \n",
       "rapLookup                NaN                                                                 \n",
       "rapPerCarat              NaN                                                                 \n",
       "minRetail                NaN                                                                 \n",
       "defaultRetail            NaN                                                                 \n",
       "Stock Number             1112066801                                                          \n",
       "salePrice                NaN                                                                 \n",
       "onSale                   0.0                                                                 \n",
       "videoUrlAset             NaN                                                                 \n",
       "videoUrlOnHand           NaN                                                                 \n",
       "Name: 189746, dtype: object"
      ]
     },
     "metadata": {},
     "output_type": "display_data"
    }
   ],
   "source": [
    "import pandas as pd\n",
    "df = pd.read_csv('~/Downloads/upload(30)-2023-11-22T15_47_11.145Z.csv')\n",
    "pd.set_option('display.max_rows', None)\n",
    "pd.set_option('display.max_columns', None)\n",
    "pd.set_option('display.width', None)\n",
    "\n",
    "filt = df['Diamond ID'] == '1112066801FS'\n",
    "series = df[filt].squeeze()\n",
    "display(series)"
   ]
  }
 ],
 "metadata": {
  "kernelspec": {
   "display_name": "Python 3",
   "language": "python",
   "name": "python3"
  },
  "language_info": {
   "codemirror_mode": {
    "name": "ipython",
    "version": 3
   },
   "file_extension": ".py",
   "mimetype": "text/x-python",
   "name": "python",
   "nbconvert_exporter": "python",
   "pygments_lexer": "ipython3",
   "version": "3.9.6"
  }
 },
 "nbformat": 4,
 "nbformat_minor": 2
}
