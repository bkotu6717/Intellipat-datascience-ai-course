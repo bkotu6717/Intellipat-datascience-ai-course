{
 "cells": [
  {
   "cell_type": "code",
   "execution_count": null,
   "id": "77907ffa",
   "metadata": {},
   "outputs": [],
   "source": [
    "# pip install pandas\n",
    "# conda install pandas"
   ]
  },
  {
   "cell_type": "code",
   "execution_count": null,
   "id": "562f49ca",
   "metadata": {},
   "outputs": [],
   "source": [
    "import pandas\n",
    "print(pandas.__version__)"
   ]
  },
  {
   "cell_type": "code",
   "execution_count": null,
   "id": "ef2906d8",
   "metadata": {},
   "outputs": [],
   "source": [
    "# PANDAS -> large data set, multiple file formats\n",
    "# n dimensions\n",
    "# clean the data or data wrangling"
   ]
  },
  {
   "cell_type": "code",
   "execution_count": null,
   "id": "773ae143",
   "metadata": {},
   "outputs": [],
   "source": [
    "# 3 data structures\n",
    "# 1. Series -> 1d\n",
    "# 2. DataFrame -> 2d\n",
    "# 3. Panels -> 3d or nd"
   ]
  },
  {
   "cell_type": "code",
   "execution_count": null,
   "id": "409e9e6f",
   "metadata": {},
   "outputs": [],
   "source": [
    "# Series\n",
    "import pandas as pd\n",
    "nums = pd.Series([1, 2, 3, 4])\n",
    "# print(nums, type(nums))\n",
    "# print(nums[0], nums[1], nums[2], nums[3], nums[4]) # key error \n",
    "# print(nums[-1]) # negative indexing not supported"
   ]
  },
  {
   "cell_type": "code",
   "execution_count": null,
   "id": "19162f4f",
   "metadata": {},
   "outputs": [],
   "source": [
    "# list_nums = [10, 20, 30, 40]\n",
    "# nums = pd.Series(list_nums, index=['a', 'b', 'c', 'd'])\n",
    "# print(nums)\n",
    "# print(nums['a'], nums['b'], nums['c'], nums['d'])\n",
    "# print(nums[0], nums[1], nums[2], nums[3])"
   ]
  },
  {
   "cell_type": "code",
   "execution_count": null,
   "id": "98afc759",
   "metadata": {},
   "outputs": [],
   "source": [
    "# dictionary to Series\n",
    "person = {\n",
    "    \"name\": \"Sachin Tendulkar\",\n",
    "    \"job\": \"cricketer\",\n",
    "    \"runs\": 16000,\n",
    "    \"centuries\": 100,\n",
    "    \"son\": {\n",
    "        \"name\": \"Arjun tendulkar\",\n",
    "        \"job\": \"bowler\"\n",
    "    },\n",
    "    'cars': ['BMW', 'Mercedez', 'ferrari']\n",
    "}\n",
    "\n",
    "person_series = pd.Series(person)\n",
    "print(person_series)"
   ]
  },
  {
   "cell_type": "code",
   "execution_count": null,
   "id": "33c4ddf8",
   "metadata": {},
   "outputs": [],
   "source": [
    "# 2d -> DataFrames\n",
    "person = {\n",
    "    \"cars\": ['BMW', 'Mercedez', 'ferrari', 'Audi'],\n",
    "    \"bikes\": [\"honda\", \"yamaha\", \"ducati\", \"TVS\"]\n",
    "}\n",
    "\n",
    "person_series = pd.Series(person)\n",
    "print(person_series)"
   ]
  },
  {
   "cell_type": "code",
   "execution_count": null,
   "id": "488e5129",
   "metadata": {},
   "outputs": [],
   "source": [
    "# dataframe\n",
    "person_df = pd.DataFrame(person)\n",
    "# print(person_df)\n",
    "person_df"
   ]
  },
  {
   "cell_type": "code",
   "execution_count": null,
   "id": "016572f2",
   "metadata": {},
   "outputs": [],
   "source": [
    "# error\n",
    "\n",
    "person = {\n",
    "    \"name\": \"Sachin Tendulkar\",\n",
    "    \"job\": \"cricketer\",\n",
    "    \"runs\": 16000,\n",
    "    \"centuries\": 100,\n",
    "    \"son\": {\n",
    "        \"name\": \"Arjun tendulkar\",\n",
    "        \"job\": \"bowler\"\n",
    "    },\n",
    "    'cars': ['BMW', 'Mercedez', 'ferrari']\n",
    "}\n",
    "\n",
    "person_df = pd.DataFrame(person)\n",
    "person_df"
   ]
  },
  {
   "cell_type": "code",
   "execution_count": null,
   "id": "c92a5762",
   "metadata": {},
   "outputs": [],
   "source": [
    "# read csv\n",
    "# df = pd.read_csv('./mtcars.csv')\n",
    "# df\n",
    "\n",
    "# read excel\n",
    "# df = pd.read_excel('./file_example_XLSX_10.xlsx')\n",
    "# df"
   ]
  },
  {
   "cell_type": "code",
   "execution_count": 4,
   "id": "eacc0614",
   "metadata": {},
   "outputs": [
    {
     "name": "stdout",
     "output_type": "stream",
     "text": [
      "<class 'pandas.core.indexes.base.Index'>\n"
     ]
    }
   ],
   "source": [
    "df = pd.read_csv('./mtcars.csv')\n",
    "# df\n",
    "\n",
    "# columns\n",
    "df.columns\n",
    "print(type(df.columns))\n",
    "\n",
    "# cyl\n",
    "# df.cyl\n",
    "# df.hp # not recommended\n",
    "# df[\"Unnamed: 1\"] # recommended\n",
    "# df['hp']\n",
    "\n",
    "# multiple cols\n",
    "# columns = ['mpg', 'hp', 'gear']\n",
    "# df[columns]\n",
    "\n",
    "# rows\n",
    "# df.shape # 32 rows and 13 cols\n",
    "# df.head() # first 5 data by default\n",
    "# df.head(10)\n",
    "# df.head(-3) # from the beginning except last 3 data\n",
    "\n",
    "# df.tail() # last 5 data by default\n",
    "# df.tail(3)\n",
    "# df.tail(-5) # except top 5"
   ]
  },
  {
   "cell_type": "code",
   "execution_count": null,
   "id": "250b543e",
   "metadata": {},
   "outputs": [],
   "source": [
    "# slicing -> locators\n",
    "# index based locators -> iloc [rows, cols] -> iloc[(start=0, end-1, step=1), (start=0, end-1, step=1)]\n",
    "\n",
    "# df.iloc[0]\n",
    "# df.iloc[0, 7]\n",
    "\n",
    "# single row and multiple cols\n",
    "# df.iloc[0, 1:4]\n",
    "# df.iloc[2, 2:8:2]\n",
    "# df.iloc[4, -1:-6:1]\n",
    "# df.iloc[4, -1:-6:-1]\n",
    "\n",
    "# multiple rows and multiple cols\n",
    "# df.iloc[1:4, 3:7]\n",
    "# df.iloc[-1:-5, 4:8]\n",
    "# df.iloc[-1:-5:-1, 4:8]\n",
    "\n",
    "\n",
    "# label (column) -> loc[rows, cols] -> [rows_key, column_names]\n",
    "# df.loc[0, 'mpg':'qsec']\n",
    "# df.loc[0:3, 'mpg':'qsec'] # last index is also included\n",
    "# df.loc[-1] # negative index is not supported\n",
    "df.loc[0:5:2, 'mpg':'qsec':2] # step is included\n",
    "df.loc[5:0:-1, 'carb':'qsec':-1] # step is included"
   ]
  },
  {
   "cell_type": "code",
   "execution_count": 16,
   "id": "068afce0",
   "metadata": {},
   "outputs": [],
   "source": [
    "# GROUP BY VALUE based on col\n",
    "\n",
    "# set index -> return new df\n",
    "df = pd.read_csv('./mtcars.csv')\n",
    "df = df.set_index('gear')\n",
    "# print(df)\n",
    "# df = df.set_index('Unnamed: 1')\n",
    "# df = df.set_index('carb')\n",
    "# df.set_index('gear', inplace=True) # same as above \n",
    "\n",
    "# SELECT * FROM cars GROUP BY carb HAVING carb = 4\n",
    "df.loc[4]\n",
    "\n",
    "# SELECT mpg, cyl, drat, gear, hp FROM cars GROUP BY carb HAVING carb = 4\n",
    "# cols = ['mpg', 'cyl', 'drat', 'gear', 'hp']\n",
    "# df[cols].loc[3]\n",
    "\n",
    "# reset index\n",
    "df = df.reset_index()\n",
    "# df\n",
    "\n",
    "# df['hp'].max() # (SELECT max(hp) FROM cars)\n",
    "# df['hp'].min()\n",
    "# df['hp'].mean()\n",
    "# df['hp'].median()"
   ]
  },
  {
   "cell_type": "code",
   "execution_count": null,
   "id": "d858c96d",
   "metadata": {},
   "outputs": [],
   "source": [
    "# SELECT * FROM cars WHERE hp = (SELECT max(hp) FROM cars)\n",
    "\n",
    "# filtering the data\n",
    "# df['hp'] == df['hp'].max() # WHERE hp = (SELECT max(hp) FROM cars)\n",
    "\n",
    "# df[condition]\n",
    "# max_hp = (df['hp'] == df['hp'].max())\n",
    "# df[max_hp]\n",
    "\n",
    "# SELECT * FROM cars WHERE hp > 200\n",
    "# df[df['hp'] > 200]\n",
    "\n",
    "# SELECT mpg, cyl, hp, gear FROM cars WHERE gear > 4\n",
    "cols = ['gear', 'mpg', 'cyl', 'hp']\n",
    "df[cols][df['gear'] > 4]"
   ]
  },
  {
   "cell_type": "code",
   "execution_count": null,
   "id": "109c556d",
   "metadata": {},
   "outputs": [],
   "source": [
    "# SELECT COUNT(hp) FROM cars\n",
    "# df.shape\n",
    "# df['hp'].count()\n",
    "\n",
    "# sorting\n",
    "# SELECT * FROM cars ORDER BY gear ASC\n",
    "# df = df.sort_values('gear')  # ascending order\n",
    "# df = df.sort_values('gear', ascending=True)\n",
    "\n",
    "# SELECT * FROM cars ORDER BY gear DESC\n",
    "# df = df.sort_values('gear', ascending=False)\n",
    "\n",
    "# SELECT * FROM cars ORDER BY gear DESC, hp ASC\n",
    "df = df.sort_values(['gear', 'hp'], ascending=[False, True])\n",
    "\n",
    "# df = df.sort_values(['gear', 'hp'], ascending=False) # both desc\n",
    "# df\n",
    "\n"
   ]
  },
  {
   "cell_type": "code",
   "execution_count": 17,
   "id": "ecc5df2d",
   "metadata": {},
   "outputs": [
    {
     "data": {
      "text/plain": [
       "30"
      ]
     },
     "execution_count": 17,
     "metadata": {},
     "output_type": "execute_result"
    }
   ],
   "source": [
    "# rename the cols\n",
    "# df = df.rename(columns = {\n",
    "#     'Unnamed: 1': 'model_name',\n",
    "#     'qsec': 'kmph',\n",
    "#     'mpg': 'mileage'\n",
    "# })\n",
    "\n",
    "\n",
    "# SELECT name, price, discount, (price - price * discount) AS discounted_price FROM product\n",
    "# SELECT hp, gear, model_name, (hp * gear) AS power FROM cars\n",
    "\n",
    "# create a col\n",
    "df['power'] = df['hp'] * df['gear']\n",
    "# cols = ['hp', 'gear', 'power', 'model_name']\n",
    "# df[cols]\n",
    "\n",
    "df['power'].count()\n",
    "\n",
    "\n",
    "# save the csv\n",
    "# df.to_csv('./newcars.csv')\n",
    "# df.to_excel('./newcars.xlsx')\n",
    "\n",
    "# override\n",
    "# df.to_csv('./mtcars copy.csv')"
   ]
  },
  {
   "cell_type": "code",
   "execution_count": null,
   "id": "94e41f48",
   "metadata": {},
   "outputs": [],
   "source": [
    "df.head(3)"
   ]
  },
  {
   "cell_type": "code",
   "execution_count": null,
   "id": "85fa3b84",
   "metadata": {},
   "outputs": [],
   "source": []
  },
  {
   "cell_type": "code",
   "execution_count": null,
   "id": "5437af2d",
   "metadata": {},
   "outputs": [],
   "source": []
  },
  {
   "cell_type": "code",
   "execution_count": null,
   "id": "8fead24c",
   "metadata": {},
   "outputs": [],
   "source": []
  },
  {
   "cell_type": "code",
   "execution_count": null,
   "id": "fe928b7b",
   "metadata": {},
   "outputs": [],
   "source": []
  }
 ],
 "metadata": {
  "kernelspec": {
   "display_name": "Python 3 (ipykernel)",
   "language": "python",
   "name": "python3"
  },
  "language_info": {
   "codemirror_mode": {
    "name": "ipython",
    "version": 3
   },
   "file_extension": ".py",
   "mimetype": "text/x-python",
   "name": "python",
   "nbconvert_exporter": "python",
   "pygments_lexer": "ipython3",
   "version": "3.9.6"
  }
 },
 "nbformat": 4,
 "nbformat_minor": 5
}
