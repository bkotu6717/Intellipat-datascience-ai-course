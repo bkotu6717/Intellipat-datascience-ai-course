{
 "cells": [
  {
   "cell_type": "code",
   "execution_count": 2,
   "id": "581a8051",
   "metadata": {},
   "outputs": [],
   "source": [
    "import numpy as np"
   ]
  },
  {
   "cell_type": "code",
   "execution_count": 45,
   "id": "80b9434b",
   "metadata": {},
   "outputs": [
    {
     "name": "stdout",
     "output_type": "stream",
     "text": [
      "[40 50]\n"
     ]
    }
   ],
   "source": [
    "# slicing -> (start=0, end-1, step=1)\n",
    "# If step is +ve, default start = 0\n",
    "# If step is -ve, default start = -1\n",
    "\n",
    "nums = np.array([10, 20, 30, 40, 50])\n",
    "# print(nums)\n",
    "# print(nums[0], nums[1], nums[2], nums[3], nums[4], nums[5])\n",
    "# print(nums[-1], nums[-2], nums[-3], nums[-4], nums[-5], nums[-6])\n",
    "\n",
    "# print(nums[0:4])\n",
    "# print(nums[4:1])\n",
    "# print(nums[:3])\n",
    "# print(nums[1:])\n",
    "# print(nums[1:10])\n",
    "# print(nums[:])\n",
    "# print(nums[0:4:2])\n",
    "# print(nums[1::2])\n",
    "# print(nums[0::2])\n",
    "\n",
    "# print(nums[-3:-1])\n",
    "# print(nums[-2:-5])\n",
    "# print(nums[-2:-5:-1])\n",
    "# print(nums[-5:-1:2])\n",
    "# print(nums[:1:-1])\n",
    "# print(nums[4:-3])\n",
    "# print(nums[4:1:-1])\n",
    "# print(nums[:2:-1])\n",
    "# print(nums[-1:0:2])\n",
    "# print(nums[::1])\n",
    "# print(nums[::-1])"
   ]
  },
  {
   "cell_type": "code",
   "execution_count": 5,
   "id": "45349553",
   "metadata": {},
   "outputs": [
    {
     "name": "stdout",
     "output_type": "stream",
     "text": [
      "[[21 22 23 24 25 26 27 28]]\n",
      "[[21 22 23 24 25 26 27 28]\n",
      " [11 12 13 14 15 16 17 18]]\n"
     ]
    }
   ],
   "source": [
    "# 2d array -> [rows, cols] -> [(start=0, end-1, step=1), (start=0, end-1, step=1)]\n",
    "nums = np.array([\n",
    "    [11, 12, 13, 14, 15, 16, 17, 18],\n",
    "    [21, 22, 23, 24, 25, 26, 27, 28]\n",
    "])\n",
    "\n",
    "# print(nums)\n",
    "# print(nums[0], nums[1])\n",
    "# print(nums[-1], nums[-2])\n",
    "\n",
    "# <------ multiple rows ------>\n",
    "# print(nums[:])\n",
    "# print(nums[:1])\n",
    "# print(nums[0:])\n",
    "# print(nums[1::2])\n",
    "# print(nums[-1:])\n",
    "# print(nums[-1::-1])\n",
    "\n",
    "# <------- one row and multiple cols ------>\n",
    "# print(nums[0, 1:5])\n",
    "# print(nums[-2, 2:6])\n",
    "# print(nums[-1, -6:-2:-1])\n",
    "# print(nums[-1, -6:-2:1])\n",
    "# print(nums[-2, :-7:])\n",
    "# print(nums[-1, 2:-6:-1])\n",
    "# print(nums[-1, 2:-6:1])\n",
    "\n",
    "# <------ multiple rows and multiple cols ------->\n",
    "# print(nums[:, 2:7])\n",
    "# print(nums[:1, -6:4])\n",
    "# print(nums[::-1, 2:-3])\n",
    "# print(nums[:2:, 1])\n",
    "# print(nums[0:, -6:4])\n",
    "\n",
    "# print(nums[:, 5])"
   ]
  },
  {
   "cell_type": "code",
   "execution_count": 86,
   "id": "ada62d48",
   "metadata": {},
   "outputs": [
    {
     "name": "stdout",
     "output_type": "stream",
     "text": [
      "[[ 11 100  13  14 100  16  17 100]\n",
      " [ 21  22  23  24  25  26  27  28]]\n"
     ]
    }
   ],
   "source": [
    "# change the data using slicing\n",
    "\n",
    "nums = np.array([\n",
    "    [11, 12, 13, 14, 15, 16, 17, 18],\n",
    "    [21, 22, 23, 24, 25, 26, 27, 28]\n",
    "])\n",
    "\n",
    "# nums[0, 5] = 100\n",
    "# print(nums)\n",
    "\n",
    "# 12, 15, 18 -> 100\n",
    "nums[-2, -7:10:3] = 100\n",
    "print(nums)"
   ]
  },
  {
   "cell_type": "code",
   "execution_count": 7,
   "id": "eea5aad7",
   "metadata": {},
   "outputs": [
    {
     "name": "stdout",
     "output_type": "stream",
     "text": [
      "[[1 2 3]\n",
      " [4 4 5]\n",
      " [6 7 6]\n",
      " [7 8 9]]\n"
     ]
    }
   ],
   "source": [
    "# reshaping the array\n",
    "nums = np.array([1, 2, 3, 4, 5, 6])\n",
    "# print(nums, nums.shape)\n",
    "# print(nums.reshape(2,3))\n",
    "# print(nums.reshape(3,2))\n",
    "# print(nums.reshape(1, 6))\n",
    "# print(nums.reshape(2, 4)) # value error\n",
    "\n",
    "# 2d array\n",
    "nums = np.array([\n",
    "    [1, 2, 3, 4],\n",
    "    [4, 5, 6, 7],\n",
    "    [6, 7, 8, 9]\n",
    "])\n",
    "\n",
    "# print(np.reshape(nums, (4,3)))\n",
    "\n",
    "# print(nums.shape)\n",
    "# print(nums.reshape(1, 12))\n",
    "# print(nums.reshape(2, 6))\n",
    "# print(nums.reshape(4, 3))\n",
    "# print(nums.reshape(6, 2))\n",
    "# print(nums.reshape(12, 1))"
   ]
  },
  {
   "cell_type": "code",
   "execution_count": 9,
   "id": "d078876a",
   "metadata": {},
   "outputs": [
    {
     "name": "stdout",
     "output_type": "stream",
     "text": [
      "[[1 2 3 4]\n",
      " [5 6 7 8]\n",
      " [1 2 3 4]\n",
      " [1 2 3 4]\n",
      " [5 6 7 8]]\n"
     ]
    }
   ],
   "source": [
    "# stacking the data\n",
    "# horizontal stack\n",
    "n1 = np.array([1, 2, 3, 4])\n",
    "n2 = np.array([5, 6, 7, 8])\n",
    "\n",
    "# print(np.hstack([n1, n2, n1, n1, n2]))\n",
    "\n",
    "# vertical stack\n",
    "print(np.vstack([n1, n2, n1, n1, n2]))"
   ]
  },
  {
   "cell_type": "code",
   "execution_count": 19,
   "id": "34f1d879",
   "metadata": {},
   "outputs": [
    {
     "name": "stdout",
     "output_type": "stream",
     "text": [
      "[array([[1, 2, 3, 4],\n",
      "       [5, 6, 7, 8]]),\n",
      " array([[ 9, 10, 11, 12],\n",
      "       [ 1,  2,  3,  4]]),\n",
      " array([[ 5,  6,  7,  8],\n",
      "       [ 9, 10, 11, 12]])]\n"
     ]
    }
   ],
   "source": [
    "# splitting the data -> vertical splitting\n",
    "nums = np.array([\n",
    "    [1,  2,  3,  4],\n",
    "    [5,  6,  7,  8],\n",
    "\n",
    "    [9, 10, 11, 12],\n",
    "    [1,  2,  3,  4],\n",
    "    \n",
    "    [5,  6,  7,  8],\n",
    "    [9, 10, 11, 12]\n",
    "])\n",
    "\n",
    "# print(nums.shape)\n",
    "\n",
    "# <------- uniform splitting ------->\n",
    "from pprint import pprint\n",
    "# pprint(np.vsplit(nums, 3))\n",
    "# pprint(np.vsplit(nums, 3)[0])\n",
    "# pprint(np.vsplit(nums, 3)[1])\n",
    "# pprint(np.vsplit(nums, 3)[2])\n",
    "# pprint(np.vsplit(nums, 3)[3]) # index error\n",
    "\n",
    "# pprint(np.vsplit(nums, 4))\n",
    "\n",
    "# pprint(np.vsplit(nums, 2))\n",
    "# pprint(np.vsplit(nums, 2)[0])\n",
    "# pprint(np.vsplit(nums, 2)[1])\n",
    "\n",
    "\n",
    "# custom cut\n",
    "pprint(np.vsplit(nums, [2,4]))\n",
    "# pprint(np.vsplit(nums, [1, 3])[0])\n",
    "# pprint(np.vsplit(nums, [1, 3])[1])\n",
    "# pprint(np.vsplit(nums, [1, 3])[2])\n",
    "\n",
    "# pprint(np.vsplit(nums, [0, 2, 4]))\n",
    "# pprint(np.vsplit(nums, [0, 2, 4])[0])\n",
    "# pprint(np.vsplit(nums, [0, 2, 4])[1])\n",
    "# pprint(np.vsplit(nums, [0, 2, 4])[2])\n",
    "# pprint(np.vsplit(nums, [0, 2, 4])[3])"
   ]
  },
  {
   "cell_type": "code",
   "execution_count": 157,
   "id": "060bf18e",
   "metadata": {},
   "outputs": [
    {
     "name": "stdout",
     "output_type": "stream",
     "text": [
      "1 4\n",
      "[4 3 2 1]\n"
     ]
    }
   ],
   "source": [
    "# nums = np.array([1, 2, 3, 4])\n",
    "# print(nums[0], nums[-1])\n",
    "# nums[0], nums[-1], nums[-2], nums[-3] = nums[-1], nums[0], nums[1], nums[2]\n",
    "# print(nums)"
   ]
  },
  {
   "cell_type": "code",
   "execution_count": 173,
   "id": "073bcecf",
   "metadata": {},
   "outputs": [
    {
     "name": "stdout",
     "output_type": "stream",
     "text": [
      "[array([], shape=(3, 0), dtype=int64),\n",
      " array([[ 1,  2],\n",
      "       [ 5,  6],\n",
      "       [ 9, 10]]),\n",
      " array([[ 3,  4],\n",
      "       [ 7,  8],\n",
      "       [11, 12]]),\n",
      " array([], shape=(3, 0), dtype=int64)]\n"
     ]
    }
   ],
   "source": [
    "# horizontal splitting\n",
    "nums = np.array([\n",
    "    [1,  2,  3,  4],\n",
    "    [5,  6,  7,  8],\n",
    "    [9, 10, 11, 12]\n",
    "])\n",
    "\n",
    "# uniform splitting\n",
    "# pprint(np.hsplit(nums, 2))\n",
    "# pprint(np.hsplit(nums, 2)[0])\n",
    "# pprint(np.hsplit(nums, 2)[1])\n",
    "# pprint(np.hsplit(nums, 3))\n",
    "\n",
    "# custom \n",
    "# pprint(np.hsplit(nums, (2, 3)))\n",
    "# pprint(np.hsplit(nums, (2, 3))[0])\n",
    "# pprint(np.hsplit(nums, (2, 3))[1])\n",
    "# pprint(np.hsplit(nums, (2, 3))[2])\n",
    "\n",
    "pprint(np.hsplit(nums, (0, 2, 4)))"
   ]
  },
  {
   "cell_type": "code",
   "execution_count": 188,
   "id": "d10a4a8b",
   "metadata": {},
   "outputs": [
    {
     "name": "stdout",
     "output_type": "stream",
     "text": [
      "[[False  True False  True]\n",
      " [False  True False  True]]\n",
      "[2 4 6 8]\n",
      "[1 3 5 7]\n"
     ]
    }
   ],
   "source": [
    "# comparison operators -> boolean\n",
    "nums = np.array([\n",
    "    [1, 2, 3, 4],\n",
    "    [5, 6, 7, 8]\n",
    "])\n",
    "\n",
    "# print(nums > 5)\n",
    "# print(nums >= 5)\n",
    "# print(nums < 5)\n",
    "# print(nums <= 5)\n",
    "# print(nums == 5)\n",
    "# print(nums != 5)\n",
    "\n",
    "# filtering the data -> array[condition]\n",
    "# print(nums[nums > 5])\n",
    "# print(nums[nums != 5])\n",
    "\n",
    "# even nums\n",
    "even_nos = (nums % 2 == 0)\n",
    "odd_nos = (nums % 2 != 0)\n",
    "print(even_nos)\n",
    "print(nums[even_nos])\n",
    "print(nums[odd_nos])"
   ]
  },
  {
   "cell_type": "code",
   "execution_count": 190,
   "id": "0c0e28c8",
   "metadata": {},
   "outputs": [
    {
     "name": "stdout",
     "output_type": "stream",
     "text": [
      "[[-2.   1. ]\n",
      " [ 1.5 -0.5]]\n"
     ]
    }
   ],
   "source": [
    "# linear alg\n",
    "# determinant\n",
    "nums = np.array([\n",
    "    [1, 2],\n",
    "    [3, 4]\n",
    "])\n",
    "# print(np.linalg.det(nums))\n",
    "\n",
    "# inverse of a matrix -> [Adj(nums)/det(nums)] -> adj(nums) = |d -b|\n",
    "#                                                             |-c a|\n",
    "print(np.linalg.inv(nums))\n",
    " "
   ]
  },
  {
   "cell_type": "code",
   "execution_count": 196,
   "id": "dc3c6bb6",
   "metadata": {},
   "outputs": [
    {
     "name": "stdout",
     "output_type": "stream",
     "text": [
      "[[1]\n",
      " [2]\n",
      " [3]\n",
      " [4]]\n"
     ]
    }
   ],
   "source": [
    "# transpose\n",
    "nums = np.array([\n",
    "    [1, 2, 3, 4],\n",
    "    [5, 6, 7, 8]\n",
    "])\n",
    "\n",
    "print(np.transpose(nums))"
   ]
  },
  {
   "cell_type": "code",
   "execution_count": 194,
   "id": "306de1c8",
   "metadata": {},
   "outputs": [
    {
     "name": "stdout",
     "output_type": "stream",
     "text": [
      "[[33  6  1 59]\n",
      " [69 60 22 74]\n",
      " [76 87 57 90]]\n"
     ]
    }
   ],
   "source": [
    "# sorting\n",
    "nums = np.array([\n",
    "    [33, 87, 22, 59],\n",
    "    [76, 60, 1, 74],\n",
    "    [69, 6, 57, 90]\n",
    "])\n",
    "\n",
    "# print(np.sort(nums))\n",
    "# print(np.sort(nums, axis=1)) # same as above\n",
    "# print(np.sort(nums, axis=0))"
   ]
  },
  {
   "cell_type": "code",
   "execution_count": 20,
   "id": "82ce79c3",
   "metadata": {},
   "outputs": [
    {
     "name": "stdout",
     "output_type": "stream",
     "text": [
      "[[34 88 23 60]\n",
      " [78 62  3 76]\n",
      " [72  9 60 93]]\n"
     ]
    }
   ],
   "source": [
    "# broadcasting\n",
    "a = np.array([\n",
    "    [33, 87, 22, 59],\n",
    "    [76, 60, 1, 74],\n",
    "    [69, 6, 57, 90]\n",
    "])\n",
    "\n",
    "# b = np.array([1, 2, 3, 4])\n",
    "b = np.array([\n",
    "    [1],\n",
    "    [2],\n",
    "    [3]\n",
    "])\n",
    "\n",
    "print(a + b)"
   ]
  },
  {
   "cell_type": "code",
   "execution_count": 209,
   "id": "00ac1f04",
   "metadata": {},
   "outputs": [
    {
     "name": "stdout",
     "output_type": "stream",
     "text": [
      "13.833333333333334\n",
      "6.5\n",
      "26.15604880116431\n",
      "684.138888888889\n"
     ]
    }
   ],
   "source": [
    "# stats\n",
    "nums = np.array([\n",
    "    [1, 2, 3, 4],\n",
    "    [5, 6, 7, 8],\n",
    "    [9, 10, 11, 100]\n",
    "])\n",
    "\n",
    "print(np.mean(nums))\n",
    "print(np.median(nums))\n",
    "print(np.std(nums))\n",
    "print(np.var(nums)) # -> var = (std dev) ** 2"
   ]
  },
  {
   "cell_type": "code",
   "execution_count": null,
   "id": "5a872d6c",
   "metadata": {},
   "outputs": [],
   "source": []
  },
  {
   "cell_type": "code",
   "execution_count": null,
   "id": "2ffad6e2",
   "metadata": {},
   "outputs": [],
   "source": []
  },
  {
   "cell_type": "code",
   "execution_count": null,
   "id": "6ce1c436",
   "metadata": {},
   "outputs": [],
   "source": []
  },
  {
   "cell_type": "code",
   "execution_count": null,
   "id": "ae295315",
   "metadata": {},
   "outputs": [],
   "source": []
  },
  {
   "cell_type": "code",
   "execution_count": null,
   "id": "3d6064d2",
   "metadata": {},
   "outputs": [],
   "source": []
  },
  {
   "cell_type": "code",
   "execution_count": null,
   "id": "ad3af4e0",
   "metadata": {},
   "outputs": [],
   "source": []
  },
  {
   "cell_type": "code",
   "execution_count": null,
   "id": "ff562310",
   "metadata": {},
   "outputs": [],
   "source": []
  },
  {
   "cell_type": "code",
   "execution_count": null,
   "id": "de0bd994",
   "metadata": {},
   "outputs": [],
   "source": []
  },
  {
   "cell_type": "code",
   "execution_count": null,
   "id": "0e71adb3",
   "metadata": {},
   "outputs": [],
   "source": []
  }
 ],
 "metadata": {
  "kernelspec": {
   "display_name": "Python 3 (ipykernel)",
   "language": "python",
   "name": "python3"
  },
  "language_info": {
   "codemirror_mode": {
    "name": "ipython",
    "version": 3
   },
   "file_extension": ".py",
   "mimetype": "text/x-python",
   "name": "python",
   "nbconvert_exporter": "python",
   "pygments_lexer": "ipython3",
   "version": "3.9.6"
  }
 },
 "nbformat": 4,
 "nbformat_minor": 5
}
