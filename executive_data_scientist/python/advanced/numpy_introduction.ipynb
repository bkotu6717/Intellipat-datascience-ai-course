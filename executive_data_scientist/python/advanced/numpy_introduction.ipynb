{
 "cells": [
  {
   "cell_type": "code",
   "execution_count": 1,
   "id": "b0f7ad78",
   "metadata": {},
   "outputs": [],
   "source": [
    "# variables, datatypes, collections, loops, conditional statements, functions, modules\n",
    "# OOPs -> class, object, property, methods, polymorphism, encapsulation, inheritance and abstraction"
   ]
  },
  {
   "cell_type": "code",
   "execution_count": 2,
   "id": "6cef6ebe",
   "metadata": {},
   "outputs": [],
   "source": [
    "# NUMPY -> numerical python\n",
    "# collect the data(product -> DB) -> Preprocessing the data (Numpy, Pandas)"
   ]
  },
  {
   "cell_type": "code",
   "execution_count": 5,
   "id": "81a1327d",
   "metadata": {},
   "outputs": [
    {
     "ename": "SyntaxError",
     "evalue": "invalid syntax (1976035388.py, line 10)",
     "output_type": "error",
     "traceback": [
      "\u001b[0;36m  Cell \u001b[0;32mIn[5], line 10\u001b[0;36m\u001b[0m\n\u001b[0;31m    pip install numpy\u001b[0m\n\u001b[0m        ^\u001b[0m\n\u001b[0;31mSyntaxError\u001b[0m\u001b[0;31m:\u001b[0m invalid syntax\n"
     ]
    }
   ],
   "source": [
    "# N dimensions\n",
    "heros = ['srk', 'kamal', 'surya'] # 1d\n",
    "\n",
    "# hero-director pair # 2d\n",
    "pairs = [\n",
    "    ['srk', 'atlee', 'nayan'],\n",
    "    ['kamal', 'lokesh', 'kajal'],\n",
    "    ['surya', 'ssr', 'anushka']\n",
    "]"
   ]
  },
  {
   "cell_type": "code",
   "execution_count": 4,
   "id": "c2ed4942",
   "metadata": {},
   "outputs": [
    {
     "name": "stdout",
     "output_type": "stream",
     "text": [
      "Requirement already satisfied: numpy in /Users/vasizebron/anaconda3/lib/python3.11/site-packages (1.24.3)\n",
      "Note: you may need to restart the kernel to use updated packages.\n"
     ]
    }
   ],
   "source": [
    "# pip install numpy\n",
    "# conda install numpy"
   ]
  },
  {
   "cell_type": "code",
   "execution_count": 6,
   "id": "570b8e4a",
   "metadata": {},
   "outputs": [
    {
     "name": "stdout",
     "output_type": "stream",
     "text": [
      "1.24.3\n"
     ]
    }
   ],
   "source": [
    "import numpy\n",
    "print(numpy.__version__)"
   ]
  },
  {
   "cell_type": "code",
   "execution_count": 8,
   "id": "f50500d7",
   "metadata": {},
   "outputs": [
    {
     "name": "stdout",
     "output_type": "stream",
     "text": [
      "['10' 'True' 'vasanth' '10.5']\n"
     ]
    }
   ],
   "source": [
    "# numpy -> only datatype -> typed array\n",
    "# nums = [10, True, 'vasanth', 10.5]\n",
    "# print(nums)\n",
    "\n",
    "import numpy as np\n",
    "\n",
    "nums = np.array([10, True, 'vasanth', 10.5])\n",
    "print(nums)"
   ]
  },
  {
   "cell_type": "code",
   "execution_count": 12,
   "id": "5dff6cc0",
   "metadata": {},
   "outputs": [
    {
     "name": "stdout",
     "output_type": "stream",
     "text": [
      "[1 2 3 4] <class 'numpy.ndarray'>\n"
     ]
    }
   ],
   "source": [
    "nums_list = [1, 2, 3, 4]\n",
    "# print(nums_list)\n",
    "\n",
    "nums = np.array(nums_list)\n",
    "print(nums, type(nums)) # n dimensional array"
   ]
  },
  {
   "cell_type": "code",
   "execution_count": 68,
   "id": "c9b9dee5",
   "metadata": {},
   "outputs": [
    {
     "name": "stdout",
     "output_type": "stream",
     "text": [
      "6\n"
     ]
    }
   ],
   "source": [
    "nums = np.array([1, 2, 3], dtype='int64')\n",
    "# print(nums, nums[0], nums[1], nums[2])\n",
    "# print(nums[-1], nums[-2], nums[-3], nums[-4])\n",
    "\n",
    "# print(type(nums), nums.dtype) # int64 -> 8 bytes, int32 -> 4 bytes\n",
    "# print(nums.itemsize, 'bytes')\n",
    "# print(nums.shape)\n",
    "# print(nums.ndim) # n dimension\n",
    "# print(len(nums), nums.size) # no of elements\n",
    "# print(sum(nums))\n",
    "print(np.sum(nums))"
   ]
  },
  {
   "cell_type": "code",
   "execution_count": 69,
   "id": "4c3c7b1b",
   "metadata": {},
   "outputs": [
    {
     "name": "stdout",
     "output_type": "stream",
     "text": [
      "[11 14 17 20]\n",
      "62\n"
     ]
    }
   ],
   "source": [
    "# 2d\n",
    "nums = np.array([\n",
    "    [1, 2, 3, 4],\n",
    "    [5, 6, 7, 8],\n",
    "    [5, 6, 7, 8]\n",
    "])\n",
    "\n",
    "# print(nums, type(nums), nums.dtype)\n",
    "# print(nums[0], nums[1])\n",
    "# print(nums[0][0], nums[0][1], nums[0][2], nums[0][3])\n",
    "# print(nums[1][0], nums[1][1], nums[1][2], nums[1][3])\n",
    "# print(nums[0, 0], nums[0, 1], nums[1, 2])\n",
    "\n",
    "# print(nums.itemsize, 'bytes')\n",
    "# print(nums.shape) # (3, 4)\n",
    "# print(nums.ndim) # 2d data\n",
    "# print(len(nums), len(nums[0]), nums.size) # len -> no of sub elements, size -> total no of elements\n",
    "# print(sum(nums))\n",
    "# print(np.sum(nums))"
   ]
  },
  {
   "cell_type": "code",
   "execution_count": 102,
   "id": "43c687a2",
   "metadata": {},
   "outputs": [
    {
     "name": "stdout",
     "output_type": "stream",
     "text": [
      "144 bytes\n"
     ]
    }
   ],
   "source": [
    "# 3d\n",
    "\n",
    "nums = np.array([\n",
    "    [\n",
    "        [1, 2, 3],\n",
    "        [4, 5, 6]\n",
    "    ],\n",
    "    [\n",
    "        [4, 5, 6],\n",
    "        [4, 5, 6]\n",
    "    ],\n",
    "    [\n",
    "        [5, 16, 7],\n",
    "        [7, 8, 9]\n",
    "    ]\n",
    "])\n",
    "\n",
    "# print(nums, type(nums), nums.dtype)\n",
    "# print(nums.shape) # (3, 2, 3)\n",
    "# print(nums.itemsize) # 8 \n",
    "# print(nums.ndim)\n",
    "\n",
    "from pprint import pprint # pretty print\n",
    "# pprint(nums[0])\n",
    "# pprint(nums[1])\n",
    "# pprint(nums[2])\n",
    "\n",
    "# print(nums[0, 0], nums[0, 1])\n",
    "# print(nums[1, 0], nums[1, 1])\n",
    "# print(nums[2, 0], nums[2, 1])\n",
    "\n",
    "# print(nums[0, 0, 0], nums[0, 0, 1])\n",
    "\n",
    "# 16\n",
    "# print(nums[2, 0, 1])\n",
    "\n",
    "# print(np.sum(nums))\n",
    "# print(nums.size, len(nums), len(nums[0]), len(nums[0, 0]))\n",
    "\n",
    "# total memory space\n",
    "# print(nums.size * nums.itemsize, 'bytes')"
   ]
  },
  {
   "cell_type": "code",
   "execution_count": 126,
   "id": "8c348a0c",
   "metadata": {},
   "outputs": [
    {
     "name": "stdout",
     "output_type": "stream",
     "text": [
      "[]\n"
     ]
    }
   ],
   "source": [
    "# zero matrix -> float\n",
    "# nums = np.zeros((5, 5), dtype='int64')\n",
    "# print(nums)\n",
    "\n",
    "# ones matrix -> float\n",
    "# nums = np.ones((3, 3), dtype='int64')\n",
    "# print(nums)\n",
    "\n",
    "# identity matrix\n",
    "# nums = np.identity(4, dtype='int64')\n",
    "# print(nums)\n",
    "\n",
    "# full matrix\n",
    "# nums = np.full((4, 3), 5)\n",
    "# print(nums)\n",
    "\n",
    "# full_like\n",
    "# db data\n",
    "nums = np.array([\n",
    "    [1, 2, 3],\n",
    "    [3, 4, 4],\n",
    "    [3, 4, 4],\n",
    "])\n",
    "\n",
    "default = np.full_like(nums, 0)\n",
    "print(default)"
   ]
  },
  {
   "cell_type": "code",
   "execution_count": 125,
   "id": "ac1df6b4",
   "metadata": {},
   "outputs": [
    {
     "name": "stdout",
     "output_type": "stream",
     "text": [
      "[[1 2 3 4]\n",
      " [1 2 3 4]]\n"
     ]
    }
   ],
   "source": [
    "data = np.array([\n",
    "    [1, 2, 3, 4],\n",
    "    [1, 2, 3, 4],\n",
    "])\n",
    "\n",
    "# print(data.ndim) # n dim\n",
    "\n",
    "# ndmin -> nd minimum\n",
    "# nums = np.array(data, ndmin=10)\n",
    "# print(nums, nums.ndim)\n",
    "\n",
    "nums = np.array(data, ndmin=1)\n",
    "print(nums)"
   ]
  },
  {
   "cell_type": "code",
   "execution_count": 136,
   "id": "02b5ec92",
   "metadata": {},
   "outputs": [
    {
     "name": "stdout",
     "output_type": "stream",
     "text": [
      "[6 7 8 9]\n",
      "[-4 -3 -2 -1]\n",
      "[ 5 10 15 20]\n",
      "[0.2 0.4 0.6 0.8]\n",
      "[0 0 0 0]\n",
      "[1 2 3 4]\n",
      "[   1   32  243 1024]\n"
     ]
    }
   ],
   "source": [
    "# list_nums = [1, 2, 3, 4]\n",
    "# print(list_nums + 5)\n",
    "\n",
    "# arithmetic operations\n",
    "# nums = np.array([1, 2, 3, 4])\n",
    "# print(nums + 5)\n",
    "# print(nums - 5)\n",
    "# print(nums * 5)\n",
    "# print(nums / 5)\n",
    "# print(nums // 5)\n",
    "# print(nums % 5)\n",
    "# print(nums ** 5)"
   ]
  },
  {
   "cell_type": "code",
   "execution_count": 146,
   "id": "b8f6ae05",
   "metadata": {},
   "outputs": [
    {
     "name": "stdout",
     "output_type": "stream",
     "text": [
      "[-30   0  10]\n"
     ]
    }
   ],
   "source": [
    "num1 = np.array([\n",
    "    [1, 2],\n",
    "    [3, 4]\n",
    "])\n",
    "\n",
    "num2 = np.array([\n",
    "    [1, 2],\n",
    "    [3, 4]\n",
    "])\n",
    "\n",
    "# print(num1 + num2)\n",
    "# print(num1 - num2)\n",
    "# print(num1 * num2)\n",
    "# print(num1 / num2)\n",
    "# print(num1 // num2)\n",
    "# print(num1 ** num2)\n",
    "\n",
    "# dot product\n",
    "# print(np.dot(num1, num2))\n",
    "\n",
    "# cross product\n",
    "n1 = np.array([10, 20, 30])\n",
    "n2 = np.array([4, 9, 12])\n",
    "\n",
    "print(np.cross(n1, n2))"
   ]
  },
  {
   "cell_type": "code",
   "execution_count": 156,
   "id": "38cbf09a",
   "metadata": {},
   "outputs": [],
   "source": [
    "# repeat\n",
    "nums = np.array([1, 2, 3])\n",
    "# print(np.repeat(nums, 3))\n",
    "# print(np.repeat(nums, 3, axis=0))\n",
    "# print(np.repeat(nums, 3, axis=1)) # axis error\n",
    "\n",
    "nums = np.array([\n",
    "    [1, 2, 3],\n",
    "    [4, 5, 6]\n",
    "])\n",
    "# print(np.repeat(nums, 3))\n",
    "# print(np.repeat(nums, 3, axis=0))\n",
    "# print(np.repeat(nums, 3, axis=1))"
   ]
  },
  {
   "cell_type": "code",
   "execution_count": 160,
   "id": "a64a842a",
   "metadata": {},
   "outputs": [
    {
     "name": "stdout",
     "output_type": "stream",
     "text": [
      "[1, 2, 3] [1, 2, 3]\n",
      "[1, 2, 3] [10, 2, 3]\n"
     ]
    }
   ],
   "source": [
    "nums = [1, 2, 3]\n",
    "copy = nums\n",
    "print(nums, copy)\n",
    "copy[0] = 10\n",
    "print(nums, copy)"
   ]
  },
  {
   "cell_type": "code",
   "execution_count": null,
   "id": "7a7cc985",
   "metadata": {},
   "outputs": [],
   "source": [
    "# list vs array\n",
    "# list -> size, data type(object), obj value, referrence count, \n",
    "# array -> less memory and continuous memory "
   ]
  },
  {
   "cell_type": "code",
   "execution_count": 171,
   "id": "b1fad2b5",
   "metadata": {},
   "outputs": [
    {
     "name": "stdout",
     "output_type": "stream",
     "text": [
      "[[53 34 14]\n",
      " [31 66 84]\n",
      " [26 88 83]]\n"
     ]
    }
   ],
   "source": [
    "# random data\n",
    "# nums = np.random.randint(low=10, high=100, size=(3, 3))\n",
    "# nums = np.random.uniform(low=10, high=100, size=(5, 5))\n",
    "# print(nums)"
   ]
  },
  {
   "cell_type": "code",
   "execution_count": 181,
   "id": "6233ab2a",
   "metadata": {},
   "outputs": [
    {
     "name": "stdout",
     "output_type": "stream",
     "text": [
      "list ->  6.975256167002954\n",
      "numpy ->  0.09373125003185123\n"
     ]
    }
   ],
   "source": [
    "# speed test\n",
    "\n",
    "from timeit import default_timer as timer\n",
    "\n",
    "a = np.random.random(1000) # 0 - 1\n",
    "b = np.random.random(1000)\n",
    "\n",
    "list_a = list(a)\n",
    "list_b = list(b)\n",
    "\n",
    "# dot product\n",
    "def find_dot():\n",
    "    return np.dot(a, b)\n",
    "\n",
    "# logic of dot product using list\n",
    "def find_product():\n",
    "    dot = 0\n",
    "    for i in range(len(list_a)):\n",
    "        dot += list_a[i] * list_b[i]\n",
    "    return dot\n",
    "\n",
    "\n",
    "start = timer()\n",
    "for i in range(100000):\n",
    "    find_product()\n",
    "end = timer()\n",
    "print('list -> ', end - start)\n",
    "\n",
    "start = timer()\n",
    "for i in range(100000):\n",
    "    find_dot()\n",
    "end = timer()\n",
    "print('numpy -> ', end - start)"
   ]
  },
  {
   "cell_type": "code",
   "execution_count": null,
   "id": "6f997af9",
   "metadata": {},
   "outputs": [],
   "source": []
  },
  {
   "cell_type": "code",
   "execution_count": null,
   "id": "cc366fd3",
   "metadata": {},
   "outputs": [],
   "source": []
  }
 ],
 "metadata": {
  "kernelspec": {
   "display_name": "Python 3 (ipykernel)",
   "language": "python",
   "name": "python3"
  },
  "language_info": {
   "codemirror_mode": {
    "name": "ipython",
    "version": 3
   },
   "file_extension": ".py",
   "mimetype": "text/x-python",
   "name": "python",
   "nbconvert_exporter": "python",
   "pygments_lexer": "ipython3",
   "version": "3.11.4"
  }
 },
 "nbformat": 4,
 "nbformat_minor": 5
}
