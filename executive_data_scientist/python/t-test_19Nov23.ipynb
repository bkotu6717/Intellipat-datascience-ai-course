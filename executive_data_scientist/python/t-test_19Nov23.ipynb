{
 "cells": [
  {
   "cell_type": "code",
   "execution_count": 46,
   "id": "b5517ac8",
   "metadata": {},
   "outputs": [],
   "source": [
    "from scipy.stats import ttest_1samp\n",
    "from random import sample\n",
    "import numpy as np"
   ]
  },
  {
   "cell_type": "code",
   "execution_count": 47,
   "id": "2059ae1b",
   "metadata": {},
   "outputs": [],
   "source": [
    "## This has given\n",
    "pop_height = 165"
   ]
  },
  {
   "cell_type": "code",
   "execution_count": 48,
   "id": "331113aa",
   "metadata": {},
   "outputs": [
    {
     "data": {
      "text/plain": [
       "array([157, 154, 161, 178, 176, 174, 160, 150, 173, 167, 164, 159, 154,\n",
       "       161, 166, 170, 169, 170, 153, 170, 178, 160, 169, 155, 151, 155,\n",
       "       172, 173, 158, 166])"
      ]
     },
     "execution_count": 48,
     "metadata": {},
     "output_type": "execute_result"
    }
   ],
   "source": [
    "## random numbers\n",
    "samples = np.random.randint(150, 180, 30)\n",
    "samples"
   ]
  },
  {
   "cell_type": "code",
   "execution_count": 49,
   "id": "27049bce",
   "metadata": {},
   "outputs": [
    {
     "data": {
      "text/plain": [
       "164.1"
      ]
     },
     "execution_count": 49,
     "metadata": {},
     "output_type": "execute_result"
    }
   ],
   "source": [
    "sample_mean = np.mean(samples)\n",
    "sample_mean"
   ]
  },
  {
   "cell_type": "code",
   "execution_count": 53,
   "id": "81e27634",
   "metadata": {},
   "outputs": [
    {
     "data": {
      "text/plain": [
       "8.366600265340756"
      ]
     },
     "execution_count": 53,
     "metadata": {},
     "output_type": "execute_result"
    }
   ],
   "source": [
    "import statistics\n",
    "\n",
    "sd = statistics.stdev(samples)\n",
    "sd"
   ]
  },
  {
   "cell_type": "code",
   "execution_count": 54,
   "id": "2c2b4922",
   "metadata": {},
   "outputs": [],
   "source": [
    "# sd = np.std(samples)"
   ]
  },
  {
   "cell_type": "code",
   "execution_count": 55,
   "id": "95b61c4c",
   "metadata": {},
   "outputs": [
    {
     "data": {
      "text/plain": [
       "1.5275252316519468"
      ]
     },
     "execution_count": 55,
     "metadata": {},
     "output_type": "execute_result"
    }
   ],
   "source": [
    "error = sd/np.sqrt(len(samples))\n",
    "error"
   ]
  },
  {
   "cell_type": "code",
   "execution_count": 56,
   "id": "9c7bc454",
   "metadata": {},
   "outputs": [
    {
     "data": {
      "text/plain": [
       "-0.5891883036371831"
      ]
     },
     "execution_count": 56,
     "metadata": {},
     "output_type": "execute_result"
    }
   ],
   "source": [
    "## T test\n",
    "t_value = (sample_mean-pop_height)/error\n",
    "t_value"
   ]
  },
  {
   "cell_type": "code",
   "execution_count": null,
   "id": "65eb5d59",
   "metadata": {},
   "outputs": [],
   "source": []
  },
  {
   "cell_type": "code",
   "execution_count": 57,
   "id": "cd2b43a7",
   "metadata": {},
   "outputs": [
    {
     "data": {
      "text/plain": [
       "Ttest_1sampResult(statistic=-0.5870665520188032, pvalue=0.5617021007858997)"
      ]
     },
     "execution_count": 57,
     "metadata": {},
     "output_type": "execute_result"
    }
   ],
   "source": [
    "ttest_1samp(a = samples, popmean=pop_height)"
   ]
  },
  {
   "cell_type": "code",
   "execution_count": null,
   "id": "f55a68c4",
   "metadata": {},
   "outputs": [],
   "source": [
    "critical_val_95% = (-2.045, 2.045)\n",
    "## in between -> no difference in mean"
   ]
  },
  {
   "cell_type": "code",
   "execution_count": null,
   "id": "f148860f",
   "metadata": {},
   "outputs": [],
   "source": [
    "# !pip install --upgrade statistics"
   ]
  },
  {
   "cell_type": "code",
   "execution_count": 16,
   "id": "7a3238e7",
   "metadata": {},
   "outputs": [],
   "source": [
    "# np.__version__"
   ]
  },
  {
   "cell_type": "code",
   "execution_count": null,
   "id": "ac5152f3",
   "metadata": {},
   "outputs": [],
   "source": [
    "# !pip install numpy==1.21"
   ]
  },
  {
   "cell_type": "code",
   "execution_count": null,
   "id": "665a4b9c",
   "metadata": {},
   "outputs": [],
   "source": []
  },
  {
   "cell_type": "markdown",
   "id": "891c7d9a",
   "metadata": {},
   "source": [
    "# Two sample T Test"
   ]
  },
  {
   "cell_type": "code",
   "execution_count": 62,
   "id": "adbead45",
   "metadata": {},
   "outputs": [
    {
     "name": "stdout",
     "output_type": "stream",
     "text": [
      "School A: [166, 171, 150, 149, 161, 173, 141, 156, 143, 162, 159, 144, 174, 168, 169, 157, 152, 175, 140, 179, 178, 151, 154, 146, 145, 142, 158, 170, 163, 176]\n",
      "School B: [145, 156, 153, 178, 175, 173, 165, 158, 171, 142, 169, 166, 179, 146, 154, 170, 141, 152, 155, 174, 168, 167, 143, 160, 176, 150, 157, 177, 140, 163]\n"
     ]
    }
   ],
   "source": [
    "### Two sample T-Test\n",
    "## H0 = \"Avg height of school A and school B adults are same\"\n",
    "## H1 = \"Avg height of school A and school B adults are not same\"\n",
    "\n",
    "school_a = sample(range(140,180), 30)\n",
    "print(f\"School A: {school_a}\")\n",
    "school_b = sample(range(140,180), 30)\n",
    "print(f\"School B: {school_b}\")"
   ]
  },
  {
   "cell_type": "code",
   "execution_count": 63,
   "id": "75f6a046",
   "metadata": {},
   "outputs": [
    {
     "name": "stdout",
     "output_type": "stream",
     "text": [
      "146.79555555555558 146.17888888888885\n"
     ]
    }
   ],
   "source": [
    "print(np.var(school_a), np.var(school_b))"
   ]
  },
  {
   "cell_type": "code",
   "execution_count": 64,
   "id": "36feb3ab",
   "metadata": {},
   "outputs": [],
   "source": [
    "## formula - t test\n",
    "## t_val = (school_a_mean - school_b_mean)/(sqrt(SE1 + SE2))"
   ]
  },
  {
   "cell_type": "code",
   "execution_count": 65,
   "id": "69be9d37",
   "metadata": {},
   "outputs": [
    {
     "name": "stdout",
     "output_type": "stream",
     "text": [
      "159.06666666666666 160.76666666666668\n"
     ]
    }
   ],
   "source": [
    "print(np.mean(school_a), np.mean(school_b))"
   ]
  },
  {
   "cell_type": "code",
   "execution_count": 66,
   "id": "ae676ab3",
   "metadata": {},
   "outputs": [
    {
     "data": {
      "text/plain": [
       "Ttest_indResult(statistic=-0.534851293719156, pvalue=0.5947973257045308)"
      ]
     },
     "execution_count": 66,
     "metadata": {},
     "output_type": "execute_result"
    }
   ],
   "source": [
    "## Import package for two sample t test\n",
    "from scipy.stats import ttest_ind\n",
    "\n",
    "ttest_ind(school_a, school_b)"
   ]
  },
  {
   "cell_type": "code",
   "execution_count": 67,
   "id": "40cc575f",
   "metadata": {},
   "outputs": [],
   "source": [
    "## conclusion --> Accept null -> No difference"
   ]
  },
  {
   "cell_type": "code",
   "execution_count": null,
   "id": "f14799e8",
   "metadata": {},
   "outputs": [],
   "source": []
  },
  {
   "cell_type": "code",
   "execution_count": 68,
   "id": "9aea5336",
   "metadata": {},
   "outputs": [
    {
     "name": "stdout",
     "output_type": "stream",
     "text": [
      "School A: [132, 149, 128, 151, 136, 131, 147, 139, 156, 124, 146, 129, 145, 159, 123, 120, 135, 158, 137, 122, 134, 144, 152, 150, 138, 127, 140, 157, 121, 133]\n",
      "School B: [157, 143, 154, 148, 165, 177, 150, 141, 155, 172, 169, 156, 140, 147, 178, 171, 151, 166, 163, 149, 170, 153, 142, 173, 159, 174, 167, 160, 176, 145]\n"
     ]
    }
   ],
   "source": [
    "school_a = sample(range(120,160), 30)\n",
    "print(f\"School A: {school_a}\")\n",
    "school_b = sample(range(140,180), 30)\n",
    "print(f\"School B: {school_b}\")"
   ]
  },
  {
   "cell_type": "code",
   "execution_count": 69,
   "id": "ccf735ff",
   "metadata": {},
   "outputs": [
    {
     "name": "stdout",
     "output_type": "stream",
     "text": [
      "138.76666666666668 159.03333333333333\n"
     ]
    }
   ],
   "source": [
    "print(np.mean(school_a), np.mean(school_b))"
   ]
  },
  {
   "cell_type": "code",
   "execution_count": 70,
   "id": "88dbe71a",
   "metadata": {},
   "outputs": [
    {
     "data": {
      "text/plain": [
       "Ttest_indResult(statistic=-6.590810110171819, pvalue=1.4217357507685602e-08)"
      ]
     },
     "execution_count": 70,
     "metadata": {},
     "output_type": "execute_result"
    }
   ],
   "source": [
    "ttest_ind(school_a, school_b)"
   ]
  },
  {
   "cell_type": "code",
   "execution_count": null,
   "id": "ce6c100d",
   "metadata": {},
   "outputs": [],
   "source": []
  },
  {
   "cell_type": "markdown",
   "id": "85fef2ff",
   "metadata": {},
   "source": [
    "# Paired sample T Test"
   ]
  },
  {
   "cell_type": "code",
   "execution_count": 73,
   "id": "bab0620b",
   "metadata": {},
   "outputs": [
    {
     "name": "stdout",
     "output_type": "stream",
     "text": [
      "[89, 98, 87, 56, 67, 78, 100, 78, 55, 71]\n"
     ]
    }
   ],
   "source": [
    "sample_before_diet = [89,98,87,56,67,78,100,78,55,71]\n",
    "print(sample_before_diet)"
   ]
  },
  {
   "cell_type": "code",
   "execution_count": 74,
   "id": "7ec920b4",
   "metadata": {},
   "outputs": [
    {
     "name": "stdout",
     "output_type": "stream",
     "text": [
      "[85, 90, 86, 51, 67, 78, 101, 72, 51, 64]\n"
     ]
    }
   ],
   "source": [
    "sample_after_diet = [85,90,86,51,67,78,101,72,51,64]\n",
    "print(sample_after_diet)"
   ]
  },
  {
   "cell_type": "code",
   "execution_count": 75,
   "id": "91b84599",
   "metadata": {},
   "outputs": [],
   "source": [
    "## Hypothesios\n",
    "# H0 = \"No change in average weight after the diet\"\n",
    "# H1 = \"Significant difference in average weight after diet\""
   ]
  },
  {
   "cell_type": "code",
   "execution_count": 76,
   "id": "8f7e36d8",
   "metadata": {},
   "outputs": [
    {
     "data": {
      "text/plain": [
       "Ttest_relResult(statistic=3.3555536442948215, pvalue=0.008448636843606697)"
      ]
     },
     "execution_count": 76,
     "metadata": {},
     "output_type": "execute_result"
    }
   ],
   "source": [
    "## import package\n",
    "from scipy.stats import ttest_rel\n",
    "\n",
    "ttest_rel(sample_before_diet, sample_after_diet)"
   ]
  },
  {
   "cell_type": "code",
   "execution_count": null,
   "id": "2db80665",
   "metadata": {},
   "outputs": [],
   "source": [
    "## Conclution -> \"Reject Null hypothesis\" -> \"There is a significant difference\""
   ]
  },
  {
   "cell_type": "code",
   "execution_count": null,
   "id": "ea21c27d",
   "metadata": {},
   "outputs": [],
   "source": [
    "# TtestResult(statistic=-0.024374138351354734, pvalue=0.9810860477538697, df=9)"
   ]
  },
  {
   "cell_type": "code",
   "execution_count": null,
   "id": "d262d2ae",
   "metadata": {},
   "outputs": [],
   "source": []
  },
  {
   "cell_type": "code",
   "execution_count": null,
   "id": "890cf34e",
   "metadata": {},
   "outputs": [],
   "source": []
  }
 ],
 "metadata": {
  "kernelspec": {
   "display_name": "Python 3 (ipykernel)",
   "language": "python",
   "name": "python3"
  },
  "language_info": {
   "codemirror_mode": {
    "name": "ipython",
    "version": 3
   },
   "file_extension": ".py",
   "mimetype": "text/x-python",
   "name": "python",
   "nbconvert_exporter": "python",
   "pygments_lexer": "ipython3",
   "version": "3.9.13"
  }
 },
 "nbformat": 4,
 "nbformat_minor": 5
}
