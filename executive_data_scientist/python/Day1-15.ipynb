{
 "cells": [
  {
   "cell_type": "code",
   "execution_count": 2,
   "id": "c11fc0ec",
   "metadata": {},
   "outputs": [
    {
     "name": "stdout",
     "output_type": "stream",
     "text": [
      "Welcome to Intellipaat\n"
     ]
    }
   ],
   "source": [
    "print('Welcome to Intellipaat')\n",
    "# shift + enter -> comment"
   ]
  },
  {
   "cell_type": "markdown",
   "id": "77e94338",
   "metadata": {},
   "source": [
    "## heading2"
   ]
  },
  {
   "cell_type": "markdown",
   "id": "2bf5fee2",
   "metadata": {},
   "source": [
    "### heading3"
   ]
  },
  {
   "cell_type": "markdown",
   "id": "545a5480",
   "metadata": {},
   "source": [
    "This is a text box"
   ]
  },
  {
   "cell_type": "code",
   "execution_count": 11,
   "id": "c8baa67d",
   "metadata": {},
   "outputs": [
    {
     "name": "stdout",
     "output_type": "stream",
     "text": [
      "30\n"
     ]
    },
    {
     "ename": "NameError",
     "evalue": "name 'bdambdkabdasbdkaskdja' is not defined",
     "output_type": "error",
     "traceback": [
      "\u001b[1;31m---------------------------------------------------------------------------\u001b[0m",
      "\u001b[1;31mNameError\u001b[0m                                 Traceback (most recent call last)",
      "Input \u001b[1;32mIn [11]\u001b[0m, in \u001b[0;36m<cell line: 2>\u001b[1;34m()\u001b[0m\n\u001b[0;32m      1\u001b[0m \u001b[38;5;28mprint\u001b[39m(\u001b[38;5;241m10\u001b[39m \u001b[38;5;241m+\u001b[39m \u001b[38;5;241m20\u001b[39m)\n\u001b[1;32m----> 2\u001b[0m \u001b[38;5;28mprint\u001b[39m(\u001b[43mbdambdkabdasbdkaskdja\u001b[49m)\n",
      "\u001b[1;31mNameError\u001b[0m: name 'bdambdkabdasbdkaskdja' is not defined"
     ]
    }
   ],
   "source": [
    "print(10 + 20)\n",
    "print('bdambdkabdasbdkaskdja')"
   ]
  },
  {
   "cell_type": "code",
   "execution_count": 23,
   "id": "a2d9778a",
   "metadata": {},
   "outputs": [
    {
     "name": "stdout",
     "output_type": "stream",
     "text": [
      "20 <class 'int'>\n",
      "10.59 <class 'float'>\n",
      "algebra <class 'str'>\n",
      "True <class 'bool'>\n",
      "(5+2j) <class 'complex'>\n"
     ]
    }
   ],
   "source": [
    "# variable -> values are varying\n",
    "num = 20\n",
    "print(num, type(num)) # int -> integer (4 bytes) (32 bits)\n",
    "num = 10.59\n",
    "print(num, type(num)) # float -> decimal (8 bytes)\n",
    "num = 'algebra'\n",
    "print(num, type(num)) # str -> string (each and every char takes a byte)\n",
    "num = True # False \n",
    "print(num, type(num)) # bool -> boolean (1 byte)\n",
    "num = 2j + 5\n",
    "print(num, type(num)) # complex -> complex"
   ]
  },
  {
   "cell_type": "code",
   "execution_count": null,
   "id": "d9ec7f1b",
   "metadata": {},
   "outputs": [],
   "source": [
    "#  data types -> int, str, float, bool, complex"
   ]
  },
  {
   "cell_type": "code",
   "execution_count": null,
   "id": "6beb848f",
   "metadata": {},
   "outputs": [],
   "source": [
    "# statically -> C, C++, JAVA, C#\n",
    "int num = 10\n",
    "num = 'vsabsasa' # error"
   ]
  },
  {
   "cell_type": "code",
   "execution_count": 26,
   "id": "0059da2a",
   "metadata": {},
   "outputs": [
    {
     "name": "stdout",
     "output_type": "stream",
     "text": [
      "10 2206813088336\n",
      "vasanth 2206929772208\n"
     ]
    }
   ],
   "source": [
    "# memory is dynamic -> dynamically typed language\n",
    "num = 10\n",
    "print(num, id(num)) # id -> memory location\n",
    "num = 'vasanth'\n",
    "print(num, id(num))"
   ]
  },
  {
   "cell_type": "code",
   "execution_count": 35,
   "id": "3b9f94ca",
   "metadata": {},
   "outputs": [
    {
     "name": "stdout",
     "output_type": "stream",
     "text": [
      "10 2206813088336\n",
      "10 2206813088336\n",
      "10 2206813088336\n",
      "10 2206813088336\n",
      "15 2206813088496\n"
     ]
    }
   ],
   "source": [
    "num = 10\n",
    "num2 = 10\n",
    "num3 = 10\n",
    "num4 = 10\n",
    "print(num, id(num))\n",
    "print(num2, id(num2))\n",
    "print(num3, id(num3))\n",
    "print(num4, id(num4))\n",
    "\n",
    "num3 = 15\n",
    "print(num3, id(num3))"
   ]
  },
  {
   "cell_type": "code",
   "execution_count": 37,
   "id": "0595cfc6",
   "metadata": {},
   "outputs": [
    {
     "name": "stdout",
     "output_type": "stream",
     "text": [
      "257 2206929778800\n",
      "257 2206929778704\n"
     ]
    }
   ],
   "source": [
    "num = 257\n",
    "num2 = 257\n",
    "print(num, id(num))\n",
    "print(num2, id(num2))"
   ]
  },
  {
   "cell_type": "code",
   "execution_count": 45,
   "id": "39f3a523",
   "metadata": {},
   "outputs": [
    {
     "name": "stdout",
     "output_type": "stream",
     "text": [
      "vasanth is_a_good_boy 2206929623440\n",
      "vasanth is_a_good_boy 2206929835072\n"
     ]
    }
   ],
   "source": [
    "name = 'vasanth is_a_good_boy'\n",
    "fname = 'vasanth is_a_good_boy'\n",
    "print(name, id(name))\n",
    "print(fname, id(fname))"
   ]
  },
  {
   "cell_type": "code",
   "execution_count": 52,
   "id": "3c4f1604",
   "metadata": {},
   "outputs": [
    {
     "name": "stdout",
     "output_type": "stream",
     "text": [
      "13\n",
      "7\n",
      "30\n",
      "3.3333333333333335\n",
      "3\n",
      "1\n",
      "1000\n"
     ]
    }
   ],
   "source": [
    "# operators\n",
    "# Arithmetic operator -> +, -, *, /, //, %, **\n",
    "num1 = 10\n",
    "num2 = 3\n",
    "\n",
    "\n",
    "print(num1 + num2)\n",
    "print(num1 - num2)\n",
    "print(num1 * num2)\n",
    "print(num1 / num2) # float\n",
    "print(num1 // num2) # floor division or double division\n",
    "print(num1 % num2) # modulus -> remainder\n",
    "print(num1 ** num2) # exponential -> 10 ^ 3"
   ]
  },
  {
   "cell_type": "code",
   "execution_count": 65,
   "id": "6373c8db",
   "metadata": {},
   "outputs": [
    {
     "name": "stdout",
     "output_type": "stream",
     "text": [
      "2\n",
      "-4.333333333333333\n"
     ]
    }
   ],
   "source": [
    "print(-13 % 3)\n",
    "\n",
    "# num = (div * quo) + rem\n",
    "\n",
    "print(-13 // 3)"
   ]
  },
  {
   "cell_type": "code",
   "execution_count": 62,
   "id": "67319a36",
   "metadata": {},
   "outputs": [
    {
     "name": "stdout",
     "output_type": "stream",
     "text": [
      "4\n",
      "5\n",
      "5\n",
      "4\n"
     ]
    }
   ],
   "source": [
    "import math\n",
    "\n",
    "# print(math.floor(4.3))\n",
    "# print(math.floor(4.9999999999999999))\n",
    "# print(math.ceil(4.3))\n",
    "# print(math.ceil(4.00000000000000001))\n",
    "\n",
    "print(math.floor(-4.3))\n",
    "print(math.ceil(-4.3))"
   ]
  },
  {
   "cell_type": "code",
   "execution_count": null,
   "id": "83a40801",
   "metadata": {},
   "outputs": [],
   "source": []
  }
 ],
 "metadata": {
  "kernelspec": {
   "display_name": "Python 3 (ipykernel)",
   "language": "python",
   "name": "python3"
  },
  "language_info": {
   "codemirror_mode": {
    "name": "ipython",
    "version": 3
   },
   "file_extension": ".py",
   "mimetype": "text/x-python",
   "name": "python",
   "nbconvert_exporter": "python",
   "pygments_lexer": "ipython3",
   "version": "3.9.12"
  }
 },
 "nbformat": 4,
 "nbformat_minor": 5
}
