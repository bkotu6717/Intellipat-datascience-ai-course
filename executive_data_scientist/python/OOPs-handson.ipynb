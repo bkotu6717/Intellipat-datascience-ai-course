{
 "cells": [
  {
   "cell_type": "code",
   "execution_count": 4,
   "id": "34e96073",
   "metadata": {},
   "outputs": [
    {
     "name": "stdout",
     "output_type": "stream",
     "text": [
      "Invalid number\n",
      "3628800\n"
     ]
    }
   ],
   "source": [
    "# 1. Create a function named ‘factor’ that can only accept 1 argument. The function should\n",
    "# return the factorial of that number.\n",
    "\n",
    "def factor(num):\n",
    "    # always handle negative and base cases first\n",
    "    if (num < 0): return 'Invalid number'\n",
    "    \n",
    "    factorial = 1\n",
    "    for i in range(1, num+1):\n",
    "        factorial = factorial * i\n",
    "    return factorial\n",
    "\n",
    "print(factor(-5))\n",
    "print(factor(10))"
   ]
  },
  {
   "cell_type": "code",
   "execution_count": 14,
   "id": "9ff14be4",
   "metadata": {},
   "outputs": [
    {
     "name": "stdout",
     "output_type": "stream",
     "text": [
      "3\n",
      "2\n",
      "1\n"
     ]
    }
   ],
   "source": [
    "# recursion -> calling the same fn\n",
    "\n",
    "# print 10 to 1\n",
    "\n",
    "def display(num):\n",
    "    # BASE CONDITION\n",
    "    if num == 0: return\n",
    "    print(num)\n",
    "    display(num - 1)\n",
    "\n",
    "display(3)"
   ]
  },
  {
   "cell_type": "code",
   "execution_count": 15,
   "id": "4c1b46e1",
   "metadata": {},
   "outputs": [
    {
     "name": "stdout",
     "output_type": "stream",
     "text": [
      "3\n",
      "2\n",
      "1\n",
      "1\n",
      "2\n",
      "3\n"
     ]
    }
   ],
   "source": [
    "# recursion 1\n",
    "def fun(n):\n",
    "    if n == 0:\n",
    "        return\n",
    "    print(n)\n",
    "    fun(n-1)\n",
    "    print(n)\n",
    "    \n",
    "fun(3)"
   ]
  },
  {
   "cell_type": "code",
   "execution_count": 16,
   "id": "ad1e8b59",
   "metadata": {},
   "outputs": [
    {
     "name": "stdout",
     "output_type": "stream",
     "text": [
      "1\n",
      "2\n",
      "1\n",
      "3\n",
      "1\n",
      "2\n",
      "1\n"
     ]
    }
   ],
   "source": [
    "# recursion 2\n",
    "def fun(n):\n",
    "    if n == 0:\n",
    "        return\n",
    "    fun(n-1)\n",
    "    print(n)\n",
    "    fun(n-1)\n",
    "    \n",
    "fun(3)"
   ]
  },
  {
   "cell_type": "code",
   "execution_count": 19,
   "id": "238c50bc",
   "metadata": {},
   "outputs": [
    {
     "name": "stdout",
     "output_type": "stream",
     "text": [
      "1\n",
      "1\n",
      "0\n",
      "1\n"
     ]
    }
   ],
   "source": [
    "# logic to convert any decimal into binary\n",
    "\n",
    "def fun(n):\n",
    "    if n == 0:\n",
    "        return\n",
    "    fun(n//2)\n",
    "    print(n % 2)\n",
    "    \n",
    "fun(13)"
   ]
  },
  {
   "cell_type": "code",
   "execution_count": 23,
   "id": "4ce84bd9",
   "metadata": {},
   "outputs": [
    {
     "name": "stdout",
     "output_type": "stream",
     "text": [
      "25\n"
     ]
    }
   ],
   "source": [
    "# sum of digits\n",
    "# num = 243\n",
    "# total = 0\n",
    "# # sum -> 9\n",
    "# while(num > 0):\n",
    "#     digit = num % 10\n",
    "#     total += digit\n",
    "#     num = num // 10\n",
    "# print(total)\n",
    "\n",
    "\n",
    "def get_sum(n):\n",
    "    if n < 10: return n\n",
    "    return get_sum(n // 10) + n % 10"
   ]
  },
  {
   "cell_type": "code",
   "execution_count": 24,
   "id": "0665d47a",
   "metadata": {},
   "outputs": [
    {
     "name": "stdout",
     "output_type": "stream",
     "text": [
      "120\n"
     ]
    }
   ],
   "source": [
    "# factorial recursion\n",
    "\n",
    "def factor(num):\n",
    "    if num == 0: return 1\n",
    "    else: return num * factor(num-1)\n",
    "    \n",
    "print(factor(5))"
   ]
  },
  {
   "cell_type": "code",
   "execution_count": null,
   "id": "b9dac00e",
   "metadata": {},
   "outputs": [],
   "source": [
    "65 5 43 77 99 73 87 1"
   ]
  },
  {
   "cell_type": "code",
   "execution_count": 33,
   "id": "35480b83",
   "metadata": {},
   "outputs": [
    {
     "name": "stdout",
     "output_type": "stream",
     "text": [
      "Enter the string to be checked: xsadas\n",
      "The string contains letter S or A\n"
     ]
    }
   ],
   "source": [
    "# 2. Create a function named ‘check_string’, the function should accept a string data from the\n",
    "# user and the function should check if the user input contains the letter ‘s’ in it. If it contains\n",
    "# the letter ‘s’ then print- ‘The string is containing the letter ‘s’’, if not then print- ‘The string\n",
    "# doesn’t contain the letter ‘s’’.\n",
    "\n",
    "def check_string(word):\n",
    "    if 's' in word.lower() or 'a' in word.lower():\n",
    "        print('The string contains letter S or A')\n",
    "    else:\n",
    "        print('The string not contains letter S or A')\n",
    "    \n",
    "    \n",
    "word = input('Enter the string to be checked: ')\n",
    "check_string(word)"
   ]
  },
  {
   "cell_type": "code",
   "execution_count": 42,
   "id": "f8a4c61d",
   "metadata": {},
   "outputs": [
    {
     "name": "stdout",
     "output_type": "stream",
     "text": [
      "Enter the word: dsadsadasdsadsadsa\n",
      "dsadsadasdsadsadsa\n",
      "message ->  dsadsadasdsadsadsa\n"
     ]
    }
   ],
   "source": [
    "# 3. Create a class named ‘student’ and inside the class, create a function named ‘fun1’- this\n",
    "# method should accept the user defined input and return that value.\n",
    "# a. Create another method named- message() and that method should print the user\n",
    "# defined input that we have defined in ‘fun1’.\n",
    "\n",
    "class Student:\n",
    "    def __init__(self):\n",
    "        self.data = None\n",
    "        \n",
    "    def fun1(self):\n",
    "        self.data = input('Enter the word: ')\n",
    "        return self.data\n",
    "    \n",
    "    def message(self):\n",
    "        print('message -> ', self.data)\n",
    "        \n",
    "vasi = Student()\n",
    "print(vasi.fun1())\n",
    "vasi.message()"
   ]
  },
  {
   "cell_type": "code",
   "execution_count": 43,
   "id": "7b749347",
   "metadata": {},
   "outputs": [
    {
     "name": "stdout",
     "output_type": "stream",
     "text": [
      "10\n"
     ]
    }
   ],
   "source": [
    "# 4. Create a lambda function that should double or multiply the number (that we will be passing\n",
    "# in the lambda function) by 2. Store the lambda function in a variable named ‘double_num’.\n",
    "\n",
    "double_num = lambda n: n*2\n",
    "print(double_num(5))"
   ]
  },
  {
   "cell_type": "code",
   "execution_count": 49,
   "id": "e9df407c",
   "metadata": {},
   "outputs": [
    {
     "name": "stdout",
     "output_type": "stream",
     "text": [
      "Enter the string: Madam\n",
      "Its a palindrome\n"
     ]
    }
   ],
   "source": [
    "# 5. Take the user input string and check whether that string is palindrome or not.\n",
    "# MAM, DAD, MADAM, RACECAR, NITIN, RADAR, MALAYALAM\n",
    "\n",
    "word = input('Enter the string: ')\n",
    "word = word.lower()\n",
    "\n",
    "if word == word[::-1]:\n",
    "    print('Its a palindrome')\n",
    "else:\n",
    "    print('Not a palindrome')"
   ]
  },
  {
   "cell_type": "code",
   "execution_count": 60,
   "id": "40fd82c4",
   "metadata": {},
   "outputs": [
    {
     "name": "stdout",
     "output_type": "stream",
     "text": [
      "RAHDHAR\n"
     ]
    }
   ],
   "source": [
    "# ZOHO -> 26 15 8 15\n",
    "# OHHO\n",
    "# write a program to convert into palindrome with smallest char change\n",
    "\n",
    "string = 'SRIDHAR'\n",
    "string_list = list(string)\n",
    "start = 0\n",
    "end = len(string) - 1\n",
    "\n",
    "\n",
    "while(start < end):\n",
    "    if(string_list[start] < string_list[end]):\n",
    "        string_list[end] = string_list[start]\n",
    "    else:\n",
    "        string_list[start] = string_list[end]\n",
    "        \n",
    "    start += 1\n",
    "    end -= 1\n",
    "    \n",
    "# 2 pointer algorithm\n",
    "\n",
    "print(''.join(string_list))"
   ]
  },
  {
   "cell_type": "code",
   "execution_count": 61,
   "id": "e5ad1ad9",
   "metadata": {},
   "outputs": [
    {
     "name": "stdout",
     "output_type": "stream",
     "text": [
      "This is function 1 in the Super class.\n"
     ]
    }
   ],
   "source": [
    "# 6. Create a class named ‘Super’ and inside that class define a user-defined function named\n",
    "# fun1.\n",
    "# a. Inside the ‘fun1’ function, pass the message “This is function 1 in the Super class.”\n",
    "# in the print statement.\n",
    "\n",
    "class Super:\n",
    "    def fun1(self):\n",
    "        print('This is function 1 in the Super class.')\n",
    "        \n",
    "s = Super()\n",
    "s.fun1()"
   ]
  },
  {
   "cell_type": "code",
   "execution_count": 63,
   "id": "7c071f1e",
   "metadata": {},
   "outputs": [
    {
     "name": "stdout",
     "output_type": "stream",
     "text": [
      "This is function 1 in the Super class.\n"
     ]
    }
   ],
   "source": [
    "# 7. Create another class named ‘Modified_Super’ and inherit this class from the Super class.\n",
    "# a. Inside the Modified_Super class, create a function named ‘fun1’ and pass the\n",
    "# following message inside the print statement: ‘This is function 1 in the Modified\n",
    "# Super class.’\n",
    "# b. Create another user-defined function named ‘fun2’ and pass the message: ‘This is\n",
    "# the 2nd function from the Modified Super class’ in the print statement.\n",
    "# c. After that, now create an object for the Modified_Super class and call the fun1().\n",
    "\n",
    "\n",
    "class Super:\n",
    "    def fun1(self):\n",
    "        print('This is function 1 in the Super class.')\n",
    "        \n",
    "class ModifiedSuper(Super):\n",
    "    def fun1(self):\n",
    "        print('This is function 1 in the modified Super class.') \n",
    "    \n",
    "    def fun2(self):\n",
    "        print('This is function 2 in the modified Super class.') \n",
    "\n",
    "ms = ModifiedSuper()\n",
    "ms.fun1()"
   ]
  },
  {
   "cell_type": "code",
   "execution_count": 68,
   "id": "c9f632bd",
   "metadata": {},
   "outputs": [
    {
     "name": "stdout",
     "output_type": "stream",
     "text": [
      "This function only has 1 argument\n"
     ]
    }
   ],
   "source": [
    "# 8. Create 2 methods named ‘Hello’. In the 1st Hello method, pass only one argument and pass\n",
    "# this message: ‘This function only has 1 argument’. And in the 2nd Hello method, pass\n",
    "# two arguments and pass this message: ‘This function has 2 arguments’.\n",
    "# a. Try to call both the methods and analyze the output of both the methods.\n",
    "\n",
    "class Hello:\n",
    "        \n",
    "    def hello(self, one, two):\n",
    "        print('This function has 2 arguments')\n",
    "    \n",
    "    def hello(self, one):\n",
    "        print('This function only has 1 argument')\n",
    "        \n",
    "h = Hello()\n",
    "h.hello('one')\n",
    "\n",
    "# Python doesn't support overloading"
   ]
  },
  {
   "cell_type": "code",
   "execution_count": 72,
   "id": "0ddc30df",
   "metadata": {},
   "outputs": [
    {
     "name": "stdout",
     "output_type": "stream",
     "text": [
      "Enter the no of inputs: 5\n",
      "Enter the num to be added: 1\n",
      "Enter the num to be added: 2\n",
      "Enter the num to be added: 3\n",
      "Enter the num to be added: 4\n",
      "Enter the num to be added: 5\n"
     ]
    },
    {
     "data": {
      "text/plain": [
       "15"
      ]
     },
     "execution_count": 72,
     "metadata": {},
     "output_type": "execute_result"
    }
   ],
   "source": [
    "# 9. Create a method named ‘Sum’ that can accept multiple user inputs. Now add those user-\n",
    "# defined input values using for loop and the function should return the addition of the numbers.\n",
    "\n",
    "class Sum:\n",
    "    def get_sum(self):\n",
    "        no_of_inputs = int(input('Enter the no of inputs: '))\n",
    "        total = 0\n",
    "        for i in range(no_of_inputs):\n",
    "            num = int(input('Enter the num to be added: '))\n",
    "            total += num\n",
    "        \n",
    "        return total\n",
    "    \n",
    "s = Sum()\n",
    "s.get_sum()"
   ]
  },
  {
   "cell_type": "code",
   "execution_count": 79,
   "id": "1c905a2e",
   "metadata": {},
   "outputs": [
    {
     "name": "stdout",
     "output_type": "stream",
     "text": [
      "10\n",
      "100\n"
     ]
    }
   ],
   "source": [
    "# 10. Create a class named ‘Encapsulation’:\n",
    "# a. Inside the class, first create a constructor. Inside the constructor, initialize\n",
    "# originalValue variable as 10.\n",
    "# b. After creating the constructor, define a function named ‘Value’ and this function\n",
    "# should return the variable that we have initialized in the constructor.\n",
    "# c. Now create 2nd function named setValue, and pass an argument named\n",
    "# ‘newValue’. The task of this function will be to replace the value of the\n",
    "# originalValue variable by the value of the newValue variable.\n",
    "\n",
    "\n",
    "class Encapsulation:\n",
    "    def __init__(self):\n",
    "        self.__original_value = 10\n",
    "        \n",
    "    def value(self):\n",
    "        return self.__original_value\n",
    "    \n",
    "    def set_value(self, new_value):\n",
    "        self.__original_value = new_value\n",
    "        \n",
    "e = Encapsulation()\n",
    "print(e.value())\n",
    "e.set_value(100)\n",
    "print(e.value())\n",
    "\n",
    "# print(e.__original_value)"
   ]
  },
  {
   "cell_type": "code",
   "execution_count": null,
   "id": "a11a3dff",
   "metadata": {},
   "outputs": [],
   "source": [
    "# matrices\n",
    "# statistics\n",
    "# probability\n",
    "# linear algebra"
   ]
  }
 ],
 "metadata": {
  "kernelspec": {
   "display_name": "Python 3 (ipykernel)",
   "language": "python",
   "name": "python3"
  },
  "language_info": {
   "codemirror_mode": {
    "name": "ipython",
    "version": 3
   },
   "file_extension": ".py",
   "mimetype": "text/x-python",
   "name": "python",
   "nbconvert_exporter": "python",
   "pygments_lexer": "ipython3",
   "version": "3.11.4"
  }
 },
 "nbformat": 4,
 "nbformat_minor": 5
}
