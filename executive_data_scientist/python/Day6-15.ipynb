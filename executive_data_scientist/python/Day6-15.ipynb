{
 "cells": [
  {
   "cell_type": "code",
   "execution_count": 1,
   "id": "830f5524",
   "metadata": {},
   "outputs": [],
   "source": [
    "# datatypes, operators, collections, loops, conditional statements\n",
    "# functions, strings, lambda"
   ]
  },
  {
   "cell_type": "code",
   "execution_count": 2,
   "id": "530cac07",
   "metadata": {},
   "outputs": [],
   "source": [
    "# 3 Paradigms\n",
    "# 1. Procedural Programming\n",
    "# 2. Functional Programming\n",
    "# 3. Object Oriented Programming structure(OOPs)"
   ]
  },
  {
   "cell_type": "code",
   "execution_count": 5,
   "id": "4c0dd9fd",
   "metadata": {},
   "outputs": [
    {
     "name": "stdout",
     "output_type": "stream",
     "text": [
      "Enter the username: Kunal\n",
      "Enter the password: 1234\n",
      "Logged in\n"
     ]
    }
   ],
   "source": [
    "# Procedural Programming\n",
    "username = input('Enter the username: ')\n",
    "password = input('Enter the password: ')\n",
    "\n",
    "# API call -> Application Programming Interface\n",
    "original_username = 'Kunal'\n",
    "original_password = '1234'\n",
    "\n",
    "# ATM check\n",
    "if(username == original_username and password == original_password):\n",
    "    print('Logged in')\n",
    "else:\n",
    "    print('Invalid username or password')\n",
    "    \n",
    "# lines of code\n",
    "\n",
    "username = input('Enter the username: ')\n",
    "password = input('Enter the password: ')\n",
    "\n",
    "# API call -> Application Programming Interface\n",
    "original_username = 'Kunal'\n",
    "original_password = '1234'\n",
    "\n",
    "# ATM check\n",
    "if(username == original_username and password == original_password):\n",
    "    print('Logged in')\n",
    "else:\n",
    "    print('Invalid username or password')"
   ]
  },
  {
   "cell_type": "code",
   "execution_count": 16,
   "id": "01d2f73d",
   "metadata": {},
   "outputs": [
    {
     "name": "stdout",
     "output_type": "stream",
     "text": [
      "Enter the username: kunal\n",
      "Enter the password: 1234\n",
      "False\n",
      "Enter the username: Kunal\n",
      "Enter the password: 1234\n",
      "True\n",
      "Enter the username: xsaxsad\n",
      "Enter the password: dsadsadsa\n",
      "False\n"
     ]
    }
   ],
   "source": [
    "# functions\n",
    "\n",
    "def validate(username, password):\n",
    "    # API call\n",
    "    original_username = 'Kunal'\n",
    "    original_password = '1234'\n",
    "    if(username == original_username and password == original_password):\n",
    "        return True\n",
    "    return False\n",
    "\n",
    "def get_user_input():\n",
    "    username = input('Enter the username: ')\n",
    "    password = input('Enter the password: ')\n",
    "    return (username, password)\n",
    "\n",
    "# username, password = get_user_input()\n",
    "# print(validate(username, password))\n",
    "\n",
    "# username, password = get_user_input()\n",
    "# print(validate(username, password))\n",
    "\n",
    "for i in range(3):\n",
    "    username, password = get_user_input()\n",
    "    print(validate(username, password))"
   ]
  },
  {
   "cell_type": "code",
   "execution_count": 23,
   "id": "2e1886d4",
   "metadata": {},
   "outputs": [
    {
     "name": "stdout",
     "output_type": "stream",
     "text": [
      "Iphone charger 5000 1 5000\n"
     ]
    }
   ],
   "source": [
    "# shopping cart (checkout)\n",
    "item_name = 'Iphone 14'\n",
    "item_price = 70000\n",
    "item_quantity = 3\n",
    "item_total_price = item_price * item_quantity\n",
    "# print(item_name, item_price, item_quantity, item_total_price)\n",
    "\n",
    "item2_name = 'Iphone charger'\n",
    "item2_price = 5000\n",
    "item2_quantity = 1\n",
    "item2_total_price = item2_price * item2_quantity\n",
    "print(item2_name, item2_price, item2_quantity, item2_total_price)"
   ]
  },
  {
   "cell_type": "code",
   "execution_count": 26,
   "id": "a184937d",
   "metadata": {},
   "outputs": [
    {
     "name": "stdout",
     "output_type": "stream",
     "text": [
      "<__main__.Human object at 0x107bea750> <class '__main__.Human'>\n"
     ]
    }
   ],
   "source": [
    "# OOPs\n",
    "# class - a rule (blue print) describes how object should behave and objects props\n",
    "# Object - real time entity\n",
    "# attributes or properties - variables inside a class\n",
    "# behaviors or methods - functions inside a class\n",
    "\n",
    "class Human:\n",
    "    # properties\n",
    "    name = 'vasi'\n",
    "    age = 10\n",
    "    place = 'chennai'\n",
    "    \n",
    "    # methods\n",
    "    def walk():\n",
    "        print('walk')\n",
    "        \n",
    "    def talk():\n",
    "        print('talk')\n",
    "        \n",
    "    def think():\n",
    "        print('think')\n",
    "        \n",
    "    def code():\n",
    "        print('code')\n",
    "        \n",
    "vasanth = Human() # object creation\n",
    "print(vasanth, type(vasanth))\n",
    "\n",
    "virat = Human()\n",
    "sehwag = Human()"
   ]
  },
  {
   "cell_type": "code",
   "execution_count": 115,
   "id": "493becfd",
   "metadata": {},
   "outputs": [
    {
     "name": "stdout",
     "output_type": "stream",
     "text": [
      "Iphone ---> {'name': 'Iphone 14', 'price': 70000, 'quantity': 2}\n",
      "obj   ----> {'name': 'Iphone 14', 'price': 70000, 'quantity': 2}\n",
      "140000\n"
     ]
    }
   ],
   "source": [
    "# OOPs\n",
    "\n",
    "class Item:\n",
    "    \n",
    "    def calculate_total_price(self):\n",
    "        print('obj   ---->', self.__dict__)\n",
    "        return self.price * self.quantity\n",
    "    \n",
    "Iphone = Item()\n",
    "Iphone.name = 'Iphone 14'\n",
    "Iphone.price = 70000\n",
    "Iphone.quantity = 2\n",
    "\n",
    "print('Iphone --->', Iphone.__dict__)\n",
    "# print(Iphone.name, Iphone.price, Iphone.quantity)\n",
    "\n",
    "# Whenever a method is called, the calling object(Iphone) will be passed as a 1st param by default \n",
    "print(Iphone.calculate_total_price())\n",
    "\n",
    "\n",
    "# charger = Item()\n",
    "# charger.name = 'Iphone charger'\n",
    "# charger.price = 5000\n",
    "# charger.quantity = 3\n",
    "# # print(charger.__dict__)\n",
    "# print(charger.calculate_total_price())"
   ]
  },
  {
   "cell_type": "code",
   "execution_count": 46,
   "id": "2caa42a4",
   "metadata": {},
   "outputs": [],
   "source": [
    "# dunder => double underscore\n",
    "# num = 10\n",
    "# print(num > 15)\n",
    "# print(num.__gt__(15))\n",
    "# print(num.__lt__(15))\n",
    "# print(num.__le__(15))\n",
    "# print(num.__ge__(15))"
   ]
  },
  {
   "cell_type": "code",
   "execution_count": 58,
   "id": "c5fb873b",
   "metadata": {},
   "outputs": [
    {
     "name": "stdout",
     "output_type": "stream",
     "text": [
      "210000\n"
     ]
    }
   ],
   "source": [
    "# constructor -> where the memory is created when object is instantiated\n",
    "class Item:\n",
    "    def __init__(self, name, price, quantity):\n",
    "        # print('constructor', self)\n",
    "        self.name = name\n",
    "        self.price = price\n",
    "        self.quantity = quantity\n",
    "    \n",
    "    def calculate_total_price(self):\n",
    "        return self.price * self.quantity\n",
    "    \n",
    "Iphone = Item('Iphone 14', 70000, 3)\n",
    "charger = Item('Iphone charger', 5000, 2)\n",
    "print(Iphone.calculate_total_price())\n",
    "\n",
    "# print(Iphone.__dict__)\n",
    "# print(charger.__dict__)"
   ]
  },
  {
   "cell_type": "code",
   "execution_count": 63,
   "id": "4c35840a",
   "metadata": {},
   "outputs": [
    {
     "name": "stdout",
     "output_type": "stream",
     "text": [
      "10\n",
      "<class 'int'>\n"
     ]
    }
   ],
   "source": [
    "num = 10\n",
    "print(num)\n",
    "print(str(num))\n",
    "# set()\n",
    "# dict()\n",
    "# list()\n",
    "\n",
    "print(type(num))"
   ]
  },
  {
   "cell_type": "code",
   "execution_count": 82,
   "id": "e7777343",
   "metadata": {},
   "outputs": [
    {
     "name": "stdout",
     "output_type": "stream",
     "text": [
      "Something went wrong:  Invalid price -70000. Price should be greater than or equal to 0\n"
     ]
    }
   ],
   "source": [
    "class Item:\n",
    "    def __init__(self, name, price=0, quantity=1):\n",
    "\n",
    "        # assertion\n",
    "        assert price >= 0, f\"Invalid price {price}. Price should be greater than or equal to 0\"\n",
    "        assert quantity > 0, f\"Invalid quantity {quantity}. Quantity should be greater than 0\"\n",
    "\n",
    "        self.name = name\n",
    "        self.price = price\n",
    "        self.quantity = quantity\n",
    "    \n",
    "    def calculate_total_price(self):\n",
    "        return self.price * self.quantity\n",
    "    \n",
    "try:\n",
    "    Iphone = Item('Iphone 14', -70000, 3)\n",
    "    print(Iphone.__dict__)\n",
    "except AssertionError as err:\n",
    "    print('Something went wrong: ', err)"
   ]
  },
  {
   "cell_type": "code",
   "execution_count": 86,
   "id": "48c903eb",
   "metadata": {},
   "outputs": [
    {
     "name": "stdout",
     "output_type": "stream",
     "text": [
      "{'name': 'Iphone 14', 'price': 70000, 'quantity': 1, 'backcase': False}\n",
      "{'name': 'moto g73', 'price': 16000, 'quantity': 1, 'backcase': True}\n",
      "{'name': 'Tomato', 'price': 30, 'quantity': 2, 'backcase': False}\n"
     ]
    }
   ],
   "source": [
    "# Not correct\n",
    "\n",
    "class Item:\n",
    "    def __init__(self, name, price=0, quantity=1, backcase=False):\n",
    "\n",
    "        # assertion\n",
    "        assert price >= 0, f\"Invalid price {price}. Price should be greater than or equal to 0\"\n",
    "        assert quantity > 0, f\"Invalid quantity {quantity}. Quantity should be greater than 0\"\n",
    "\n",
    "        self.name = name\n",
    "        self.price = price\n",
    "        self.quantity = quantity\n",
    "        self.backcase = backcase\n",
    "    \n",
    "    def calculate_total_price(self):\n",
    "        return self.price * self.quantity\n",
    "    \n",
    "Iphone = Item(\"Iphone 14\", 70000, 1)\n",
    "print(Iphone.__dict__)\n",
    "\n",
    "MotoG73 = Item(\"moto g73\", 16000, 1, True)\n",
    "print(MotoG73.__dict__)\n",
    "\n",
    "tomato = Item('Tomato', 30, 2)\n",
    "print(tomato.__dict__)"
   ]
  },
  {
   "cell_type": "code",
   "execution_count": 87,
   "id": "a318053f",
   "metadata": {},
   "outputs": [
    {
     "name": "stdout",
     "output_type": "stream",
     "text": [
      "{'name': 'Iphone 14', 'price': 70000, 'quantity': 1}\n",
      "{'name': 'moto g73', 'price': 16000, 'quantity': 1, 'backcase': True}\n",
      "{'name': 'Tomato', 'price': 30, 'quantity': 2}\n"
     ]
    }
   ],
   "source": [
    "class Item:\n",
    "    def __init__(self, name, price=0, quantity=1):\n",
    "        # assertion\n",
    "        assert price >= 0, f\"Invalid price {price}. Price should be greater than or equal to 0\"\n",
    "        assert quantity > 0, f\"Invalid quantity {quantity}. Quantity should be greater than 0\"\n",
    "\n",
    "        self.name = name\n",
    "        self.price = price\n",
    "        self.quantity = quantity\n",
    "    \n",
    "    def calculate_total_price(self):\n",
    "        return self.price * self.quantity\n",
    "    \n",
    "Iphone = Item(\"Iphone 14\", 70000, 1)\n",
    "print(Iphone.__dict__)\n",
    "\n",
    "MotoG73 = Item(\"moto g73\", 16000, 1)\n",
    "MotoG73.backcase = True\n",
    "print(MotoG73.__dict__)\n",
    "\n",
    "tomato = Item('Tomato', 30, 2)\n",
    "print(tomato.__dict__)"
   ]
  },
  {
   "cell_type": "code",
   "execution_count": 103,
   "id": "7d032f0d",
   "metadata": {},
   "outputs": [
    {
     "name": "stdout",
     "output_type": "stream",
     "text": [
      "35000.0\n",
      "4000.0\n"
     ]
    }
   ],
   "source": [
    "# discount\n",
    "\n",
    "# class property is common for all the objects\n",
    "# if object property is not available, class prop will override object prop\n",
    "\n",
    "class Item:\n",
    "    # class property\n",
    "    discount = 0.2\n",
    "    \n",
    "    def __init__(self, name, price=0, quantity=1):\n",
    "        assert price >= 0, f\"Invalid price {price}. Price should be greater than or equal to 0\"\n",
    "        assert quantity > 0, f\"Invalid quantity {quantity}. Quantity should be greater than 0\"\n",
    "\n",
    "        self.name = name\n",
    "        self.price = price\n",
    "        self.quantity = quantity\n",
    "    \n",
    "    def calculate_total_price(self):\n",
    "        return self.price * self.quantity\n",
    "    \n",
    "    def apply_discount(self):\n",
    "        # self.discount\n",
    "        self.price = self.price - (self.discount * self.price)\n",
    "        \n",
    "Iphone = Item('Iphone 14', 70000, 1)\n",
    "Iphone.discount = 0.5\n",
    "Iphone.apply_discount()\n",
    "print(Iphone.calculate_total_price())\n",
    "\n",
    "charger = Item('Iphone charger', 5000, 1)\n",
    "charger.apply_discount()\n",
    "print(charger.calculate_total_price())"
   ]
  },
  {
   "cell_type": "code",
   "execution_count": 119,
   "id": "75710296",
   "metadata": {},
   "outputs": [
    {
     "name": "stdout",
     "output_type": "stream",
     "text": [
      "MONICA 1234\n"
     ]
    }
   ],
   "source": [
    "# ATM -> properties are public by default \n",
    "class ATM:\n",
    "    original_username = 'MONICA'\n",
    "    original_password = '1234'\n",
    "    \n",
    "    def __init__(self, username, password):\n",
    "        self.username = username\n",
    "        self.password = password\n",
    "        \n",
    "    def validate(self):\n",
    "        if(self.username == ATM.original_username and self.password == ATM.original_password):\n",
    "            return True\n",
    "        return False\n",
    "\n",
    "# monica = ATM('MONICA', '1234')\n",
    "# print(monica.validate())\n",
    "\n",
    "# siva\n",
    "\n",
    "# print(siva.original_username, siva.original_password)\n",
    "# siva = ATM('MONICA', '1234')\n",
    "# print(siva.validate())\n",
    "\n",
    "satyam = ATM('satyam', '1234')\n",
    "print(satyam.original_username, satyam.original_password)"
   ]
  },
  {
   "cell_type": "code",
   "execution_count": null,
   "id": "c02889a4",
   "metadata": {},
   "outputs": [],
   "source": [
    "# 4 pillars of OOPs\n",
    "\n",
    "# Encapsulation\n",
    "# Inheritance\n",
    "# Polymorphism\n",
    "# Abstraction"
   ]
  },
  {
   "cell_type": "code",
   "execution_count": null,
   "id": "6d87814a",
   "metadata": {},
   "outputs": [],
   "source": []
  },
  {
   "cell_type": "code",
   "execution_count": null,
   "id": "4fbd91af",
   "metadata": {},
   "outputs": [],
   "source": []
  },
  {
   "cell_type": "code",
   "execution_count": null,
   "id": "4aa2ba4e",
   "metadata": {},
   "outputs": [],
   "source": []
  },
  {
   "cell_type": "code",
   "execution_count": null,
   "id": "3a6f2b71",
   "metadata": {},
   "outputs": [],
   "source": []
  }
 ],
 "metadata": {
  "kernelspec": {
   "display_name": "Python 3 (ipykernel)",
   "language": "python",
   "name": "python3"
  },
  "language_info": {
   "codemirror_mode": {
    "name": "ipython",
    "version": 3
   },
   "file_extension": ".py",
   "mimetype": "text/x-python",
   "name": "python",
   "nbconvert_exporter": "python",
   "pygments_lexer": "ipython3",
   "version": "3.11.4"
  }
 },
 "nbformat": 4,
 "nbformat_minor": 5
}
