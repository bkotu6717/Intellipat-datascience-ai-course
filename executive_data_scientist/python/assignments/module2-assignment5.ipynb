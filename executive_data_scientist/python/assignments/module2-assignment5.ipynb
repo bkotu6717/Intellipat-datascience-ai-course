{
 "cells": [
  {
   "cell_type": "code",
   "execution_count": 1,
   "id": "de3b3bc0",
   "metadata": {},
   "outputs": [
    {
     "name": "stdout",
     "output_type": "stream",
     "text": [
      "John 10000\n"
     ]
    }
   ],
   "source": [
    "# 1. Create a class named Employee, with a constructor ‘__init__’ method that\n",
    "# accepts name and salary as parameters and set properties named name\n",
    "# and salary.\n",
    "class Employee:\n",
    "    def __init__(self,name, salary):\n",
    "        self.name = name\n",
    "        self.salary = salary\n",
    "        \n",
    "m = Employee(\"John\", 10000)\n",
    "print(m.name, m.salary)"
   ]
  },
  {
   "cell_type": "code",
   "execution_count": 8,
   "id": "c3966a0b",
   "metadata": {},
   "outputs": [
    {
     "name": "stdout",
     "output_type": "stream",
     "text": [
      "John 10000\n"
     ]
    }
   ],
   "source": [
    "# 2. Define __str__ method in Employee class so that when someone tries to\n",
    "# print the object the string Name: employee_name, Salary:\n",
    "# employee_salary is printed with the actual employee name and salary.\n",
    "\n",
    "class Employee:\n",
    "    def __init__(self,name, salary):\n",
    "        self.name = name\n",
    "        self.salary = salary\n",
    "    def __str__(self):\n",
    "        print(self.name, self.salary)\n",
    "    \n",
    "m = Employee(\"John\", 10000)\n",
    "m.__str__()"
   ]
  },
  {
   "cell_type": "code",
   "execution_count": 7,
   "id": "da3c070d",
   "metadata": {},
   "outputs": [
    {
     "name": "stdout",
     "output_type": "stream",
     "text": [
      "5.0\n"
     ]
    }
   ],
   "source": [
    "# 3. Create another class named Calculator, with methods to add, subtract,\n",
    "# multiply and divide two numbers.\n",
    "# 4. These methods take two numbers as parameters.\n",
    "# 5. These methods will be called by a method named execute command.\n",
    "# 6. Execute command takes in 3 parameters command which is string that can\n",
    "# be either ‘add’, ‘sub’, ‘mul’, ‘div’, and two numbers and it will call the\n",
    "# appropriate method based on command parameter.\n",
    "\n",
    "class Calculator:\n",
    "    def add(self,a,b):\n",
    "        print(a+b)\n",
    "\n",
    "    def subtract(self,a,b):\n",
    "        print(a-b)\n",
    "\n",
    "    def multiply(self,a,b):\n",
    "        print(a*b)\n",
    "\n",
    "    def divide(self,a,b):\n",
    "        print(a/b)\n",
    "    \n",
    "    def execute_command(self,a,b,key):\n",
    "        if (key == \"add\"):\n",
    "            self.add(a,b)\n",
    "        elif (key == \"sub\"):\n",
    "            self.subtract(a,b)\n",
    "        elif (key == \"mul\"):\n",
    "            self.multiply(a,b) \n",
    "        elif (key == \"div\"):\n",
    "            self.divide(a,b)\n",
    "    \n",
    "\n",
    "m = Calculator()\n",
    "m.execute_command(10,2,\"div\")"
   ]
  }
 ],
 "metadata": {
  "kernelspec": {
   "display_name": "Python 3 (ipykernel)",
   "language": "python",
   "name": "python3"
  },
  "language_info": {
   "codemirror_mode": {
    "name": "ipython",
    "version": 3
   },
   "file_extension": ".py",
   "mimetype": "text/x-python",
   "name": "python",
   "nbconvert_exporter": "python",
   "pygments_lexer": "ipython3",
   "version": "3.11.4"
  }
 },
 "nbformat": 4,
 "nbformat_minor": 5
}
