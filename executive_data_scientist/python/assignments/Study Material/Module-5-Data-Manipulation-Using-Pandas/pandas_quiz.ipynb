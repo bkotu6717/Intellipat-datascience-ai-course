{
 "cells": [
  {
   "cell_type": "code",
   "execution_count": null,
   "metadata": {},
   "outputs": [],
   "source": [
    "import pandas as pd\n",
    "\n",
    "# 1. How many houses have a waterfront?\n",
    "# A. 140\n",
    "# B. 340\n",
    "# C. 323\n",
    "# D. 163\n",
    "df = pd.read_csv('./pandas-2/housing.csv')\n",
    "water_front_frame = (df['waterfront'].value_counts()[1])\n",
    "print(water_front_frame)"
   ]
  },
  {
   "cell_type": "code",
   "execution_count": null,
   "metadata": {},
   "outputs": [],
   "source": [
    "# 2. Which zip code has the costliest house?\n",
    "# A. 98456\n",
    "# B. 98102\n",
    "# C. 98283\n",
    "# D. 89034\n",
    "\n",
    "# select * from houses where price = (select max(price) from houses)\n",
    "max_price = df['price'].max()\n",
    "# print(max_price)\n",
    "\n",
    "house = ( df[df['price'] == max_price])\n",
    "zip = house['zipcode']\n",
    "\n",
    "# df.to_string(index=False)\n",
    "zip = zip.to_string(index=False)\n",
    "# print(type(zip))\n",
    "print(zip)\n"
   ]
  },
  {
   "cell_type": "code",
   "execution_count": null,
   "metadata": {},
   "outputs": [],
   "source": [
    "# 3. How many houses are having grade 10?\n",
    "# A. 1133\n",
    "# B. 1134\n",
    "# C. 1135\n",
    "# D. 1132\n",
    "\n",
    "# select count(*) from houses where grade = 10\n",
    "df['grade'].value_counts()[[10]]\n"
   ]
  },
  {
   "cell_type": "code",
   "execution_count": null,
   "metadata": {},
   "outputs": [],
   "source": [
    "# 4. How many null values are there in the dataset?\n",
    "# A. 20\n",
    "# B. 19\n",
    "# C. 0\n",
    "# D. 4\n",
    "\n",
    "df.isnull().sum()"
   ]
  },
  {
   "cell_type": "code",
   "execution_count": null,
   "metadata": {},
   "outputs": [],
   "source": [
    "# 5. Does this 9126100861 customer have a waterfront?\n",
    "# A. Yes\n",
    "# B. No\n",
    "\n",
    "data = df[df['id'] == 9126100861]['waterfront']\n",
    "bool(int(data.to_string(index=False)))\n"
   ]
  },
  {
   "cell_type": "code",
   "execution_count": 79,
   "metadata": {},
   "outputs": [
    {
     "data": {
      "text/plain": [
       "510"
      ]
     },
     "execution_count": 79,
     "metadata": {},
     "output_type": "execute_result"
    }
   ],
   "source": [
    "# 6. How many houses have 3 views?\n",
    "# A. 340\n",
    "# B. 550\n",
    "# C. 510\n",
    "\n",
    "# view_df = df[df['view'] == 3]\n",
    "# view_df['view'].count()\n",
    "\n",
    "df['view'].value_counts()[3]\n"
   ]
  },
  {
   "cell_type": "code",
   "execution_count": 80,
   "metadata": {},
   "outputs": [
    {
     "data": {
      "text/plain": [
       "75000"
      ]
     },
     "execution_count": 80,
     "metadata": {},
     "output_type": "execute_result"
    }
   ],
   "source": [
    "# 7. What is the lowest price of the house?\n",
    "# A. 45000\n",
    "# B. 28000\n",
    "# C. 75000\n",
    "# D. 25000\n",
    "\n",
    "df['price'].min()"
   ]
  },
  {
   "cell_type": "code",
   "execution_count": 85,
   "metadata": {},
   "outputs": [
    {
     "data": {
      "text/plain": [
       "'98022'"
      ]
     },
     "execution_count": 85,
     "metadata": {},
     "output_type": "execute_result"
    }
   ],
   "source": [
    "# 8. Which zip code area has the cheapest house?\n",
    "# A. 98000\n",
    "# B. 98022\n",
    "# C. 80000\n",
    "# D. 94500\n",
    "min_price = df['price'].min()\n",
    "data = df[df['price'] == min_price]\n",
    "data['zipcode'].to_string(index=False)"
   ]
  },
  {
   "cell_type": "code",
   "execution_count": 86,
   "metadata": {},
   "outputs": [
    {
     "data": {
      "text/plain": [
       "'98053'"
      ]
     },
     "execution_count": 86,
     "metadata": {},
     "output_type": "execute_result"
    }
   ],
   "source": [
    "# 9. Which area has the biggest sqft_living?\n",
    "# A. 98053\n",
    "# B. 98055\n",
    "# C. 98035\n",
    "# D. None of the above\n",
    "\n",
    "max_sqft = df['sqft_living'].max()\n",
    "data = df[df['sqft_living'] == max_sqft]\n",
    "data['zipcode'].to_string(index=False)"
   ]
  },
  {
   "cell_type": "code",
   "execution_count": 87,
   "metadata": {},
   "outputs": [
    {
     "data": {
      "text/plain": [
       "'1910'"
      ]
     },
     "execution_count": 87,
     "metadata": {},
     "output_type": "execute_result"
    }
   ],
   "source": [
    "# 10. In which year the costliest house has been built?\n",
    "# A. 2000\n",
    "# B. 1992\n",
    "# C. 1911\n",
    "# D. 1910\n",
    "max_price = df['price'].max()\n",
    "data = df[df['price'] == max_price]\n",
    "data['yr_built'].to_string(index=False)\n"
   ]
  },
  {
   "cell_type": "code",
   "execution_count": 88,
   "metadata": {},
   "outputs": [
    {
     "data": {
      "text/plain": [
       "0      1\n",
       "1    1.0\n",
       "2      1\n",
       "dtype: object"
      ]
     },
     "execution_count": 88,
     "metadata": {},
     "output_type": "execute_result"
    }
   ],
   "source": [
    "# 11. Which of the following data types can a Pandas Series have?\n",
    "# A. Int\n",
    "# B. Str\n",
    "# C. Float\n",
    "# D. All of the above\n",
    "\n",
    "pd.Series([1,1.0, '1'])"
   ]
  },
  {
   "cell_type": "code",
   "execution_count": null,
   "metadata": {},
   "outputs": [],
   "source": [
    "# 12. Which of the following is having a one-dimensional array?\n",
    "# A. Series data type\n",
    "# B. DataFrame data type\n",
    "# C. Both of the above\n",
    "# D. None of the above\n",
    "\n",
    "# Ans: A"
   ]
  },
  {
   "cell_type": "code",
   "execution_count": null,
   "metadata": {},
   "outputs": [],
   "source": [
    "# 13. What value will you get on the left side after printing a series format data?\n",
    "# A. Data\n",
    "# B. Value\n",
    "# C. Index\n",
    "# D. All of the above\n",
    "\n",
    "# Ans: C"
   ]
  },
  {
   "cell_type": "code",
   "execution_count": null,
   "metadata": {},
   "outputs": [],
   "source": [
    "# 14. Which of the following is considered as data in pandas?\n",
    "# A. Dictionary\n",
    "# B. Boolean\n",
    "# C. Nd-array\n",
    "# D. All of the above\n",
    "\n",
    "# Ans: D"
   ]
  },
  {
   "cell_type": "code",
   "execution_count": 94,
   "metadata": {},
   "outputs": [
    {
     "data": {
      "text/html": [
       "<div>\n",
       "<style scoped>\n",
       "    .dataframe tbody tr th:only-of-type {\n",
       "        vertical-align: middle;\n",
       "    }\n",
       "\n",
       "    .dataframe tbody tr th {\n",
       "        vertical-align: top;\n",
       "    }\n",
       "\n",
       "    .dataframe thead th {\n",
       "        text-align: right;\n",
       "    }\n",
       "</style>\n",
       "<table border=\"1\" class=\"dataframe\">\n",
       "  <thead>\n",
       "    <tr style=\"text-align: right;\">\n",
       "      <th></th>\n",
       "      <th>a</th>\n",
       "      <th>b</th>\n",
       "      <th>c</th>\n",
       "      <th>d</th>\n",
       "      <th>e</th>\n",
       "      <th>f</th>\n",
       "    </tr>\n",
       "  </thead>\n",
       "  <tbody>\n",
       "    <tr>\n",
       "      <th>0</th>\n",
       "      <td>1.0</td>\n",
       "      <td>2.0</td>\n",
       "      <td>3.0</td>\n",
       "      <td>NaN</td>\n",
       "      <td>NaN</td>\n",
       "      <td>NaN</td>\n",
       "    </tr>\n",
       "    <tr>\n",
       "      <th>1</th>\n",
       "      <td>NaN</td>\n",
       "      <td>NaN</td>\n",
       "      <td>NaN</td>\n",
       "      <td>4.0</td>\n",
       "      <td>5.0</td>\n",
       "      <td>6.0</td>\n",
       "    </tr>\n",
       "  </tbody>\n",
       "</table>\n",
       "</div>"
      ],
      "text/plain": [
       "     a    b    c    d    e    f\n",
       "0  1.0  2.0  3.0  NaN  NaN  NaN\n",
       "1  NaN  NaN  NaN  4.0  5.0  6.0"
      ]
     },
     "execution_count": 94,
     "metadata": {},
     "output_type": "execute_result"
    }
   ],
   "source": [
    "# 15. In what format the keys will get converted into when we convert the dictionary data into\n",
    "# data frame format?\n",
    "# A. Rows\n",
    "# B. Columns\n",
    "# C. Indexes\n",
    "# D. Records\n",
    "\n",
    "pd.DataFrame([{'a': 1, 'b': 2, 'c':3}, {'d': 4, 'e': 5, 'f': 6}])\n",
    "# Ans: B"
   ]
  },
  {
   "cell_type": "code",
   "execution_count": 135,
   "metadata": {},
   "outputs": [
    {
     "ename": "KeyError",
     "evalue": "'grade'",
     "output_type": "error",
     "traceback": [
      "\u001b[0;31m---------------------------------------------------------------------------\u001b[0m",
      "\u001b[0;31mKeyError\u001b[0m                                  Traceback (most recent call last)",
      "\u001b[1;32m/Users/bhaskark/projects/Intellipat-datascience-ai-course/executive_data_scientist/python/assignments/Study Material/Module-5-Data-Manipulation-Using-Pandas/pandas_quiz.ipynb Cell 16\u001b[0m line \u001b[0;36m1\n\u001b[1;32m      <a href='vscode-notebook-cell:/Users/bhaskark/projects/Intellipat-datascience-ai-course/executive_data_scientist/python/assignments/Study%20Material/Module-5-Data-Manipulation-Using-Pandas/pandas_quiz.ipynb#X22sZmlsZQ%3D%3D?line=5'>6</a>\u001b[0m    \u001b[39mreturn\u001b[39;00m col\u001b[39m.\u001b[39msum()\n\u001b[1;32m      <a href='vscode-notebook-cell:/Users/bhaskark/projects/Intellipat-datascience-ai-course/executive_data_scientist/python/assignments/Study%20Material/Module-5-Data-Manipulation-Using-Pandas/pandas_quiz.ipynb#X22sZmlsZQ%3D%3D?line=6'>7</a>\u001b[0m \u001b[39m#    if row['grade'] > 400:\u001b[39;00m\n\u001b[1;32m      <a href='vscode-notebook-cell:/Users/bhaskark/projects/Intellipat-datascience-ai-course/executive_data_scientist/python/assignments/Study%20Material/Module-5-Data-Manipulation-Using-Pandas/pandas_quiz.ipynb#X22sZmlsZQ%3D%3D?line=7'>8</a>\u001b[0m \u001b[39m#     row['grade'] += 2\u001b[39;00m\n\u001b[1;32m      <a href='vscode-notebook-cell:/Users/bhaskark/projects/Intellipat-datascience-ai-course/executive_data_scientist/python/assignments/Study%20Material/Module-5-Data-Manipulation-Using-Pandas/pandas_quiz.ipynb#X22sZmlsZQ%3D%3D?line=8'>9</a>\u001b[0m \u001b[39m#    else:\u001b[39;00m\n\u001b[0;32m   (...)\u001b[0m\n\u001b[1;32m     <a href='vscode-notebook-cell:/Users/bhaskark/projects/Intellipat-datascience-ai-course/executive_data_scientist/python/assignments/Study%20Material/Module-5-Data-Manipulation-Using-Pandas/pandas_quiz.ipynb#X22sZmlsZQ%3D%3D?line=12'>13</a>\u001b[0m \u001b[39m# If the total sqft of the house is greater than 400, increase the grade of the house\u001b[39;00m\n\u001b[1;32m     <a href='vscode-notebook-cell:/Users/bhaskark/projects/Intellipat-datascience-ai-course/executive_data_scientist/python/assignments/Study%20Material/Module-5-Data-Manipulation-Using-Pandas/pandas_quiz.ipynb#X22sZmlsZQ%3D%3D?line=13'>14</a>\u001b[0m \u001b[39m# by 2.\u001b[39;00m\n\u001b[0;32m---> <a href='vscode-notebook-cell:/Users/bhaskark/projects/Intellipat-datascience-ai-course/executive_data_scientist/python/assignments/Study%20Material/Module-5-Data-Manipulation-Using-Pandas/pandas_quiz.ipynb#X22sZmlsZQ%3D%3D?line=14'>15</a>\u001b[0m df \u001b[39m=\u001b[39m df[\u001b[39m'\u001b[39;49m\u001b[39mgrade\u001b[39;49m\u001b[39m'\u001b[39;49m]\u001b[39m.\u001b[39mapply(increase_grade_by)\n\u001b[1;32m     <a href='vscode-notebook-cell:/Users/bhaskark/projects/Intellipat-datascience-ai-course/executive_data_scientist/python/assignments/Study%20Material/Module-5-Data-Manipulation-Using-Pandas/pandas_quiz.ipynb#X22sZmlsZQ%3D%3D?line=15'>16</a>\u001b[0m \u001b[39m# df = increase_grade_by(df)\u001b[39;00m\n\u001b[1;32m     <a href='vscode-notebook-cell:/Users/bhaskark/projects/Intellipat-datascience-ai-course/executive_data_scientist/python/assignments/Study%20Material/Module-5-Data-Manipulation-Using-Pandas/pandas_quiz.ipynb#X22sZmlsZQ%3D%3D?line=16'>17</a>\u001b[0m \u001b[39mprint\u001b[39m(df)\n",
      "File \u001b[0;32m~/Library/Python/3.9/lib/python/site-packages/pandas/core/series.py:1040\u001b[0m, in \u001b[0;36mSeries.__getitem__\u001b[0;34m(self, key)\u001b[0m\n\u001b[1;32m   1037\u001b[0m     \u001b[39mreturn\u001b[39;00m \u001b[39mself\u001b[39m\u001b[39m.\u001b[39m_values[key]\n\u001b[1;32m   1039\u001b[0m \u001b[39melif\u001b[39;00m key_is_scalar:\n\u001b[0;32m-> 1040\u001b[0m     \u001b[39mreturn\u001b[39;00m \u001b[39mself\u001b[39;49m\u001b[39m.\u001b[39;49m_get_value(key)\n\u001b[1;32m   1042\u001b[0m \u001b[39m# Convert generator to list before going through hashable part\u001b[39;00m\n\u001b[1;32m   1043\u001b[0m \u001b[39m# (We will iterate through the generator there to check for slices)\u001b[39;00m\n\u001b[1;32m   1044\u001b[0m \u001b[39mif\u001b[39;00m is_iterator(key):\n",
      "File \u001b[0;32m~/Library/Python/3.9/lib/python/site-packages/pandas/core/series.py:1156\u001b[0m, in \u001b[0;36mSeries._get_value\u001b[0;34m(self, label, takeable)\u001b[0m\n\u001b[1;32m   1153\u001b[0m     \u001b[39mreturn\u001b[39;00m \u001b[39mself\u001b[39m\u001b[39m.\u001b[39m_values[label]\n\u001b[1;32m   1155\u001b[0m \u001b[39m# Similar to Index.get_value, but we do not fall back to positional\u001b[39;00m\n\u001b[0;32m-> 1156\u001b[0m loc \u001b[39m=\u001b[39m \u001b[39mself\u001b[39;49m\u001b[39m.\u001b[39;49mindex\u001b[39m.\u001b[39;49mget_loc(label)\n\u001b[1;32m   1158\u001b[0m \u001b[39mif\u001b[39;00m is_integer(loc):\n\u001b[1;32m   1159\u001b[0m     \u001b[39mreturn\u001b[39;00m \u001b[39mself\u001b[39m\u001b[39m.\u001b[39m_values[loc]\n",
      "File \u001b[0;32m~/Library/Python/3.9/lib/python/site-packages/pandas/core/indexes/range.py:418\u001b[0m, in \u001b[0;36mRangeIndex.get_loc\u001b[0;34m(self, key)\u001b[0m\n\u001b[1;32m    416\u001b[0m         \u001b[39mraise\u001b[39;00m \u001b[39mKeyError\u001b[39;00m(key) \u001b[39mfrom\u001b[39;00m \u001b[39merr\u001b[39;00m\n\u001b[1;32m    417\u001b[0m \u001b[39mif\u001b[39;00m \u001b[39misinstance\u001b[39m(key, Hashable):\n\u001b[0;32m--> 418\u001b[0m     \u001b[39mraise\u001b[39;00m \u001b[39mKeyError\u001b[39;00m(key)\n\u001b[1;32m    419\u001b[0m \u001b[39mself\u001b[39m\u001b[39m.\u001b[39m_check_indexing_error(key)\n\u001b[1;32m    420\u001b[0m \u001b[39mraise\u001b[39;00m \u001b[39mKeyError\u001b[39;00m(key)\n",
      "\u001b[0;31mKeyError\u001b[0m: 'grade'"
     ]
    }
   ],
   "source": [
    "# 16. Write a function to perform the following operation:\n",
    "# Increase the grade of the house by 1 if the sqft of the house is greater than 0 and less than\n",
    "# equal to 400.\n",
    "\n",
    "def increase_grade_by(col):\n",
    "   return col.sum()\n",
    "#    if row['grade'] > 400:\n",
    "#     row['grade'] += 2\n",
    "#    else:\n",
    "#     row['grade'] += 1\n",
    "#    return row\n",
    "\n",
    "# If the total sqft of the house is greater than 400, increase the grade of the house\n",
    "# by 2.\n",
    "df = df.apply(increase_grade_by)\n",
    "# df = increase_grade_by(df)\n",
    "print(df)\n",
    "\n",
    "\n",
    "# with_gt_400_sqft_houses = (df['sqft_living'] > 400)\n",
    "# df.loc[with_gt_400_sqft_houses, 'grade'] += 2\n",
    "# print(df[with_gt_400_sqft_houses]['grade'])\n",
    "\n",
    "\n",
    "# After creating the above function, which syntax will be using when using apply function to run\n",
    "# the above created function in the dataset?\n",
    "\n",
    "# A. data.apply(your_function_name(arg1))\n",
    "# B. data.apply_fun(function_name())\n",
    "# C. data.app(data)\n",
    "# D. None of the above\n",
    "\n",
    "# Ans: A"
   ]
  }
 ],
 "metadata": {
  "kernelspec": {
   "display_name": "Python 3",
   "language": "python",
   "name": "python3"
  },
  "language_info": {
   "codemirror_mode": {
    "name": "ipython",
    "version": 3
   },
   "file_extension": ".py",
   "mimetype": "text/x-python",
   "name": "python",
   "nbconvert_exporter": "python",
   "pygments_lexer": "ipython3",
   "version": "3.9.6"
  }
 },
 "nbformat": 4,
 "nbformat_minor": 2
}
