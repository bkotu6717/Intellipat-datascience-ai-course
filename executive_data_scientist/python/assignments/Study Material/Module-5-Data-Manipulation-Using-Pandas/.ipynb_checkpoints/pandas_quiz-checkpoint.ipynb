{
 "cells": [
  {
   "cell_type": "code",
   "execution_count": 48,
   "metadata": {},
   "outputs": [
    {
     "name": "stdout",
     "output_type": "stream",
     "text": [
      "163\n"
     ]
    }
   ],
   "source": [
    "import pandas as pd\n",
    "\n",
    "# 1. How many houses have a waterfront?\n",
    "# A. 140\n",
    "# B. 340\n",
    "# C. 323\n",
    "# D. 163\n",
    "df = pd.read_csv('./pandas-2/housing.csv')\n",
    "water_front_frame = (df['waterfront'].value_counts()[1])\n",
    "print(water_front_frame)"
   ]
  },
  {
   "cell_type": "code",
   "execution_count": 49,
   "metadata": {},
   "outputs": [
    {
     "name": "stdout",
     "output_type": "stream",
     "text": [
      "98102\n"
     ]
    }
   ],
   "source": [
    "# 2. Which zip code has the costliest house?\n",
    "# A. 98456\n",
    "# B. 98102\n",
    "# C. 98283\n",
    "# D. 89034\n",
    "\n",
    "# select * from houses where price = (select max(price) from houses)\n",
    "max_price = df['price'].max()\n",
    "# print(max_price)\n",
    "\n",
    "house = ( df[df['price'] == max_price])\n",
    "zip = house['zipcode']\n",
    "\n",
    "# df.to_string(index=False)\n",
    "zip = zip.to_string(index=False)\n",
    "# print(type(zip))\n",
    "print(zip)\n"
   ]
  },
  {
   "cell_type": "code",
   "execution_count": 50,
   "metadata": {},
   "outputs": [
    {
     "data": {
      "text/plain": [
       "grade\n",
       "10    1134\n",
       "Name: count, dtype: int64"
      ]
     },
     "execution_count": 50,
     "metadata": {},
     "output_type": "execute_result"
    }
   ],
   "source": [
    "# 3. How many houses are having grade 10?\n",
    "# A. 1133\n",
    "# B. 1134\n",
    "# C. 1135\n",
    "# D. 1132\n",
    "\n",
    "# select count(*) from houses where grade = 10\n",
    "df['grade'].value_counts()[[10]]\n"
   ]
  },
  {
   "cell_type": "code",
   "execution_count": 51,
   "metadata": {},
   "outputs": [
    {
     "data": {
      "text/plain": [
       "id               0\n",
       "date             0\n",
       "price            0\n",
       "bedrooms         0\n",
       "bathrooms        0\n",
       "sqft_living      0\n",
       "sqft_lot         0\n",
       "floors           0\n",
       "waterfront       0\n",
       "view             0\n",
       "condition        0\n",
       "grade            0\n",
       "sqft_above       0\n",
       "sqft_basement    0\n",
       "yr_built         0\n",
       "yr_renovated     0\n",
       "zipcode          0\n",
       "lat              0\n",
       "long             0\n",
       "sqft_living15    0\n",
       "sqft_lot15       0\n",
       "dtype: int64"
      ]
     },
     "execution_count": 51,
     "metadata": {},
     "output_type": "execute_result"
    }
   ],
   "source": [
    "# 4. How many null values are there in the dataset?\n",
    "# A. 20\n",
    "# B. 19\n",
    "# C. 0\n",
    "# D. 4\n",
    "\n",
    "df.isnull().sum()"
   ]
  },
  {
   "cell_type": "code",
   "execution_count": 52,
   "metadata": {},
   "outputs": [
    {
     "data": {
      "text/plain": [
       "False"
      ]
     },
     "execution_count": 52,
     "metadata": {},
     "output_type": "execute_result"
    }
   ],
   "source": [
    "# 5. Does this 9126100861 customer have a waterfront?\n",
    "# A. Yes\n",
    "# B. No\n",
    "\n",
    "data = df[df['id'] == 9126100861]['waterfront']\n",
    "bool(int(data.to_string(index=False)))\n"
   ]
  },
  {
   "cell_type": "code",
   "execution_count": 53,
   "metadata": {},
   "outputs": [
    {
     "data": {
      "text/plain": [
       "510"
      ]
     },
     "execution_count": 53,
     "metadata": {},
     "output_type": "execute_result"
    }
   ],
   "source": [
    "# 6. How many houses have 3 views?\n",
    "# A. 340\n",
    "# B. 550\n",
    "# C. 510\n",
    "\n",
    "# view_df = df[df['view'] == 3]\n",
    "# view_df['view'].count()\n",
    "\n",
    "df['view'].value_counts()[3]\n"
   ]
  },
  {
   "cell_type": "code",
   "execution_count": 54,
   "metadata": {},
   "outputs": [
    {
     "data": {
      "text/plain": [
       "75000"
      ]
     },
     "execution_count": 54,
     "metadata": {},
     "output_type": "execute_result"
    }
   ],
   "source": [
    "# 7. What is the lowest price of the house?\n",
    "# A. 45000\n",
    "# B. 28000\n",
    "# C. 75000\n",
    "# D. 25000\n",
    "\n",
    "df['price'].min()"
   ]
  },
  {
   "cell_type": "code",
   "execution_count": 55,
   "metadata": {},
   "outputs": [
    {
     "data": {
      "text/plain": [
       "'98022'"
      ]
     },
     "execution_count": 55,
     "metadata": {},
     "output_type": "execute_result"
    }
   ],
   "source": [
    "# 8. Which zip code area has the cheapest house?\n",
    "# A. 98000\n",
    "# B. 98022\n",
    "# C. 80000\n",
    "# D. 94500\n",
    "min_price = df['price'].min()\n",
    "data = df[df['price'] == min_price]\n",
    "data['zipcode'].to_string(index=False)"
   ]
  },
  {
   "cell_type": "code",
   "execution_count": 56,
   "metadata": {},
   "outputs": [
    {
     "data": {
      "text/plain": [
       "'98053'"
      ]
     },
     "execution_count": 56,
     "metadata": {},
     "output_type": "execute_result"
    }
   ],
   "source": [
    "# 9. Which area has the biggest sqft_living?\n",
    "# A. 98053\n",
    "# B. 98055\n",
    "# C. 98035\n",
    "# D. None of the above\n",
    "\n",
    "max_sqft = df['sqft_living'].max()\n",
    "data = df[df['sqft_living'] == max_sqft]\n",
    "data['zipcode'].to_string(index=False)"
   ]
  },
  {
   "cell_type": "code",
   "execution_count": 57,
   "metadata": {},
   "outputs": [
    {
     "data": {
      "text/plain": [
       "'1910'"
      ]
     },
     "execution_count": 57,
     "metadata": {},
     "output_type": "execute_result"
    }
   ],
   "source": [
    "# 10. In which year the costliest house has been built?\n",
    "# A. 2000\n",
    "# B. 1992\n",
    "# C. 1911\n",
    "# D. 1910\n",
    "max_price = df['price'].max()\n",
    "data = df[df['price'] == max_price]\n",
    "data['yr_built'].to_string(index=False)\n"
   ]
  },
  {
   "cell_type": "code",
   "execution_count": 58,
   "metadata": {},
   "outputs": [
    {
     "data": {
      "text/plain": [
       "0      1\n",
       "1    1.0\n",
       "2      1\n",
       "dtype: object"
      ]
     },
     "execution_count": 58,
     "metadata": {},
     "output_type": "execute_result"
    }
   ],
   "source": [
    "# 11. Which of the following data types can a Pandas Series have?\n",
    "# A. Int\n",
    "# B. Str\n",
    "# C. Float\n",
    "# D. All of the above\n",
    "\n",
    "pd.Series([1,1.0, '1'])"
   ]
  },
  {
   "cell_type": "code",
   "execution_count": null,
   "metadata": {},
   "outputs": [],
   "source": [
    "# 12. Which of the following is having a one-dimensional array?\n",
    "# A. Series data type\n",
    "# B. DataFrame data type\n",
    "# C. Both of the above\n",
    "# D. None of the above\n",
    "\n",
    "# Ans: A"
   ]
  },
  {
   "cell_type": "code",
   "execution_count": null,
   "metadata": {},
   "outputs": [],
   "source": [
    "# 13. What value will you get on the left side after printing a series format data?\n",
    "# A. Data\n",
    "# B. Value\n",
    "# C. Index\n",
    "# D. All of the above\n",
    "\n",
    "# Ans: C"
   ]
  },
  {
   "cell_type": "code",
   "execution_count": null,
   "metadata": {},
   "outputs": [],
   "source": [
    "# 14. Which of the following is considered as data in pandas?\n",
    "# A. Dictionary\n",
    "# B. Boolean\n",
    "# C. Nd-array\n",
    "# D. All of the above\n",
    "\n",
    "# Ans: D"
   ]
  },
  {
   "cell_type": "code",
   "execution_count": null,
   "metadata": {},
   "outputs": [],
   "source": [
    "# 15. In what format the keys will get converted into when we convert the dictionary data into\n",
    "# data frame format?\n",
    "# A. Rows\n",
    "# B. Columns\n",
    "# C. Indexes\n",
    "# D. Records\n",
    "\n",
    "pd.DataFrame([{'a': 1, 'b': 2, 'c':3}, {'d': 4, 'e': 5, 'f': 6}])\n",
    "# Ans: B"
   ]
  },
  {
   "cell_type": "code",
   "execution_count": null,
   "metadata": {},
   "outputs": [],
   "source": [
    "# 16. Write a function to perform the following operation:\n",
    "# Increase the grade of the house by 1 if the sqft of the house is greater than 0 and less than\n",
    "# equal to 400.\n",
    "\n",
    "def increase_grade_by(x):\n",
    "    if x <= 400:\n",
    "      return x + 1\n",
    "    else:\n",
    "       return x + 2\n",
    "\n",
    "\n",
    "# If the total sqft of the house is greater than 400, increase the grade of the house\n",
    "# by 2.\n",
    "# filter_0_400 = (df['sqft_living'] > 0) & (df['sqft_living'] <= 400)\n",
    "# print(df[filter_0_400])\n",
    "\n",
    "# # df = increase_grade_by(df)\n",
    "# print(df)\n",
    "\n",
    "\n",
    "# After creating the above function, which syntax will be using when using apply function to run\n",
    "# the above created function in the dataset?\n",
    "\n",
    "# A. data.apply(your_function_name(arg1))\n",
    "# B. data.apply_fun(function_name())\n",
    "# C. data.app(data)\n",
    "# D. None of the above\n",
    "\n",
    "# Ans: D"
   ]
  },
  {
   "cell_type": "code",
   "execution_count": null,
   "metadata": {},
   "outputs": [],
   "source": [
    "# 17. How to check the duplicate values on id,grade and location?\n",
    "# A. df.duplicated(subset=['id','zipcode','grade'])\n",
    "# B. df.duplicate(subset=['id','zipcode','grade'])\n",
    "# C. df[df.duplicated(['id','zipcode','grade’])]\n",
    "# D. All of the above\n",
    "\n",
    "# print(df)\n",
    "print(df.duplicated(subset=['price', 'sqft_living']))\n",
    "# ANS: C\n"
   ]
  },
  {
   "cell_type": "code",
   "execution_count": 59,
   "metadata": {},
   "outputs": [
    {
     "data": {
      "text/html": [
       "<div>\n",
       "<style scoped>\n",
       "    .dataframe tbody tr th:only-of-type {\n",
       "        vertical-align: middle;\n",
       "    }\n",
       "\n",
       "    .dataframe tbody tr th {\n",
       "        vertical-align: top;\n",
       "    }\n",
       "\n",
       "    .dataframe thead th {\n",
       "        text-align: right;\n",
       "    }\n",
       "</style>\n",
       "<table border=\"1\" class=\"dataframe\">\n",
       "  <thead>\n",
       "    <tr style=\"text-align: right;\">\n",
       "      <th></th>\n",
       "      <th>sqft_lot</th>\n",
       "      <th>floors</th>\n",
       "      <th>waterfront</th>\n",
       "      <th>view</th>\n",
       "    </tr>\n",
       "  </thead>\n",
       "  <tbody>\n",
       "    <tr>\n",
       "      <th>3</th>\n",
       "      <td>5000</td>\n",
       "      <td>1.0</td>\n",
       "      <td>0</td>\n",
       "      <td>0</td>\n",
       "    </tr>\n",
       "    <tr>\n",
       "      <th>4</th>\n",
       "      <td>8080</td>\n",
       "      <td>1.0</td>\n",
       "      <td>0</td>\n",
       "      <td>0</td>\n",
       "    </tr>\n",
       "    <tr>\n",
       "      <th>5</th>\n",
       "      <td>101930</td>\n",
       "      <td>1.0</td>\n",
       "      <td>0</td>\n",
       "      <td>0</td>\n",
       "    </tr>\n",
       "  </tbody>\n",
       "</table>\n",
       "</div>"
      ],
      "text/plain": [
       "   sqft_lot  floors  waterfront  view\n",
       "3      5000     1.0           0     0\n",
       "4      8080     1.0           0     0\n",
       "5    101930     1.0           0     0"
      ]
     },
     "execution_count": 59,
     "metadata": {},
     "output_type": "execute_result"
    }
   ],
   "source": [
    "# 18. Which of the following code will help to display the 3rd, 4th and 5th rows from the 6th to 9th\n",
    "# columns of data frame data?\n",
    "# A. data.loc[3:6, 6:10]\n",
    "# B. data.iloc[3;6,6;10]\n",
    "# C. data.iloc[3:6,6:10]\n",
    "# D. None of the above\n",
    "\n",
    "df.iloc[3:6, 6:10]\n",
    "# Ans: 3"
   ]
  },
  {
   "cell_type": "code",
   "execution_count": null,
   "metadata": {},
   "outputs": [],
   "source": [
    "df = pd.DataFrame({'A':[34, 78, 54], 'B':[12, 67, 43]}, index=['r1', 'r2', 'r3'])\n",
    "print(df)\n",
    "# A. df.iloc[:'r3']\n",
    "# B. df.loc['r2':'r3']\n",
    "# C. df.iloc['r2':'r3']\n",
    "# D. df.loc[:'r3'\n",
    "df.loc['r2':'r3']\n",
    "# Ans: B"
   ]
  },
  {
   "cell_type": "code",
   "execution_count": null,
   "metadata": {},
   "outputs": [],
   "source": [
    "# 20. Which of the following is/are true about loc in pandas:\n",
    "# A. Add new rows in the data frames\n",
    "# B. To change the values of a row to a particular value\n",
    "# C. To extract values from the particular rows\n",
    "# D. All of the above\n",
    "# Ans: C"
   ]
  },
  {
   "cell_type": "code",
   "execution_count": 61,
   "metadata": {},
   "outputs": [
    {
     "name": "stdout",
     "output_type": "stream",
     "text": [
      "2023-11-30 00:00:00\n"
     ]
    }
   ],
   "source": [
    "# 21. Change the date column in the format (dd/mm/year) using the pandas to_datetime()\n",
    "# Function.\n",
    "# A. pd.to_datetime(data['date'], format='%Y-%m-%d', utc=False, dayfirst=True)\n",
    "# B. pd.to_datetime(data['date'])\n",
    "# C. pd.to_datetime(data['dates'], format='%Y-%m-%d', utc=False, dayfirst=True)\n",
    "# D. pd.to_datetime(data['date'])\n",
    "\n",
    "a = pd.to_datetime('11-30-2023')\n",
    "print(a)\n",
    "\n",
    "# pd.to_datetime(data['date'])"
   ]
  },
  {
   "cell_type": "code",
   "execution_count": null,
   "metadata": {},
   "outputs": [],
   "source": [
    "# 22) Create a separate data frame that satisfies the conditions below. 1. Houses built before 1980 2. Have more than 2 bedrooms 3. Have more than 2 floors.\n",
    "# data.loc[(data[\"yr_built\"] < 1980) | (data['floors'] > 2) | (data['bedrooms'] < 2)]\n",
    "# data.loc[(data[\"yr_built\"] > 1980) & (data['floors'] > 2) & (data['bedrooms'] > 2)]\n",
    "# data.loc[(data[\"yr_built\"] | 1980) & (data['floors'] > 2) | (data['bedrooms'] > 2)]\n",
    "# data.loc[(data[\"yr_built\"] < 1980) & (data['floors'] > 2) & (data['bedrooms'] > 2)]\n",
    "# Ans: D"
   ]
  },
  {
   "cell_type": "code",
   "execution_count": null,
   "metadata": {},
   "outputs": [],
   "source": [
    "# 23. For a given nested list, convert the same into a dataframe.\n",
    "# sample_list = [['Carl', 22],\n",
    "# ['Martha', 25],\n",
    "# ['Calvin', 12],\n",
    "# ['Stuart', 15]\n",
    "# ]\n",
    "# The resulting dataframe must contain the column names as ‘Name’, and ‘Age’ with the\n",
    "# respective values from the sample_list.\n",
    "# A. pd.DataFrame(sample_list)\n",
    "# B. pd.DataFrame(sample_list, column_names=['Name', 'Age'])\n",
    "# C. pd.DataFrame(sample_list, columns=['Name', 'Age'])\n",
    "# D. pd.DataFrame(sample_list, column_name=['Name', 'Age'])\n",
    "\n",
    "sample_list = [['Carl', 22],\n",
    "['Martha', 25],\n",
    "['Calvin', 12],\n",
    "['Stuart', 15]\n",
    "]\n",
    "pd.DataFrame(sample_list, columns=['Name', 'Age'])"
   ]
  },
  {
   "cell_type": "code",
   "execution_count": 62,
   "metadata": {},
   "outputs": [
    {
     "name": "stdout",
     "output_type": "stream",
     "text": [
      "  Cristiano Lionel             Luis         Robert       Zlatan\n",
      "0   Ronaldo  Messi           Suarez    Lewandowski  Ibrahimovic\n",
      "1     Man U    PSG  Atletico Madrid  Bayern Munich     AC Milan\n",
      "2       801    758              509            527          553\n",
      "  First Name    Last Name             Club Goals\n",
      "0  Cristiano      Ronaldo            Man U   801\n",
      "1     Lionel        Messi              PSG   758\n",
      "2       Luis       Suarez  Atletico Madrid   509\n",
      "3     Robert  Lewandowski    Bayern Munich   527\n",
      "4     Zlatan  Ibrahimovic         AC Milan   553\n"
     ]
    }
   ],
   "source": [
    "# 24. For a given dictionary, convert the same into a dataframe.\n",
    "\n",
    "sample_dict = {'Cristiano': ['Ronaldo','Man U', 801],\n",
    "'Lionel': ['Messi','PSG', 758],\n",
    "'Luis': ['Suarez','Atletico Madrid', 509],\n",
    "'Robert': ['Lewandowski','Bayern Munich', 527],\n",
    "'Zlatan': ['Ibrahimovic','AC Milan',553]\n",
    "}\n",
    "\n",
    "# A. df1 = pd.Dataframe(sample_dict)\n",
    "# df1 = df1.transpose()\n",
    "# df1.reset_index(inplace = True)\n",
    "# df1.columns = ['First Name','Last Name', 'Club', 'Goals']\n",
    "\n",
    "# B. \n",
    "df1 = pd.DataFrame(sample_dict)\n",
    "print(df1)\n",
    "df1 = df1.transpose()\n",
    "df1.reset_index(inplace = True)\n",
    "df1.columns = ['First Name','Last Name', 'Club', 'Goals']\n",
    "print(df1)\n",
    "\n",
    "# C. \n",
    "# df1 = pd.DataFrame(sample_dict)\n",
    "# df1.reset_index(inplace = True)\n",
    "# df1.columns = ['First Name','Last Name', 'Club', 'Goals']\n",
    "# print(df1)\n",
    "\n",
    "# D. df1 = pd.DataFrame(sample_dict)\n",
    "# df1 = df1.transpose()\n",
    "# df1.columns = ['First Name','Last Name', 'Club', 'Goals']\n"
   ]
  },
  {
   "cell_type": "code",
   "execution_count": null,
   "metadata": {},
   "outputs": [],
   "source": [
    "# 25. For a given tuple, convert the same into a dataframe.\n",
    "sample_tuple = ([1, 'one', 3],\n",
    "[2, 'two', 3],\n",
    "[3, 'Three', 5],\n",
    "[4, 'Four', 4],\n",
    "[5, 'Five', 4])\n",
    "# A. pd.Dataframe(sample_tuple, columns=['Number', 'Number_text', 'txtlen'])\n",
    "# B. \n",
    "pd.DataFrame(sample_tuple, columns=['Number', 'Number_text', 'txtlen'])\n",
    "# C. pd.dataframe(sample_tuple, columns=['Number', 'Number_text', 'txtlen'])\n",
    "# D. pd.DataFrame(sample_tup, columns=['Number', 'Number_text', 'txtlen'])\n",
    "# Ans: B"
   ]
  },
  {
   "cell_type": "code",
   "execution_count": null,
   "metadata": {},
   "outputs": [],
   "source": [
    "# 26. Create a separate dataframe that contains houses ordered in ascending or descending\n",
    "# order of the prices of each house.\n",
    "\n",
    "# A. ascending = housing.sort_values('price', ascending=False)\n",
    "# descending = housing.sort_values('price', ascending=False)\n",
    "\n",
    "# B. ascending = housing.sort_values('price', ascending=True)\n",
    "# descending = housing.sort_values('price', ascending=False)\n",
    "\n",
    "# C. ascending = housing.sort_values('price', ascending=False)\n",
    "# descending = housing.sort_values('price', ascending=True)\n",
    "\n",
    "# D. ascending = housing.sort_values('price', ascending=True)\n",
    "# descending = housing.sort_values('price', ascending=True)\n",
    "\n",
    "# Ans: B"
   ]
  },
  {
   "cell_type": "code",
   "execution_count": null,
   "metadata": {},
   "outputs": [],
   "source": [
    "# 27. Calculate the mean and standard deviation of all the numerical values in the dataset. For\n",
    "# example - the mean for the bedrooms column is 3.370 and the standard deviation is 0.930.\n",
    "# A. housing.describe()\n",
    "# B. housing.info()\n",
    "# C. housing.corr()\n",
    "# D. housing.std()\n",
    "\n",
    "# Ans: A"
   ]
  },
  {
   "cell_type": "code",
   "execution_count": null,
   "metadata": {},
   "outputs": [],
   "source": [
    "# 28. Perform the following operations on the pandas dataframe.\n",
    "# 1. Get the data starting from the rows 25 to 35.\n",
    "# 2. Get the price of the houses located at the longitude--122.045 latitude- 47.6168.\n",
    "# A. data[25:35], data.loc[(housing[\"lat\"] == 47.6168) | (data[\"long\"] == -122.045)]\n",
    "# B. data[25:35], data.loc[(housing[\"lat\"] == 48.6168) & (data[\"long\"] == -122.045)]\n",
    "# C. data[25:36], data.loc[(housing[\"lat\"] == 47.6168) & (data[\"long\"] == -122.045)]\n",
    "# D. data[24:36], data.loc[(housing[\"lat\"] == 47.6168) & (data[\"long\"] == -122.045)]\n",
    "\n",
    "# Ans: C"
   ]
  },
  {
   "cell_type": "code",
   "execution_count": null,
   "metadata": {},
   "outputs": [],
   "source": [
    "# 29. Create a new column with the floor area(sqft_living, sqft_lot, sqft_above, sqft_basement, all\n",
    "# combined in one column).\n",
    "# A. data['Floor Area'] = data['sqft_living'], data['sqft_lot'], data['sqft_basement'],\n",
    "# data['sqft_above']\n",
    "# B. df['Floor Area'] = data['sqft_living'] + data['sqft_lot'] + data['sqft_basement'] +\n",
    "# data['sqft_above']\n",
    "# C. data['Floor Area'] = data['sqft_living', 'sqft_lot','sqft_basement','sqft_above']\n",
    "# D. data['Floor Area'] = data['sqft_liv', 'sqft_lot','sqft_base','sqft_above']\n",
    "\n",
    "# Ans: B\n"
   ]
  },
  {
   "cell_type": "code",
   "execution_count": null,
   "metadata": {},
   "outputs": [],
   "source": [
    "# 30. Perform the following operations on the dataframes given below.\n",
    "A = pd.DataFrame([['Carl', 22],['Martha', 25],['Calvin', 12],['Stuart', 15]], columns=['Name', 'Age'])\n",
    "B = pd.DataFrame([['Melvin', 25],['Martha', 34],['Lewis', 32],['Leo', 25]], columns=['Name', 'Age'])\n",
    "# 1. Left Outer Join\n",
    "# 2. Outer Join\n",
    "# 3. Inner Join\n",
    "# 4. Right Outer Join\n",
    "\n",
    "# A. inner = pd.merge(A, B, on='Age', how='inner_join')\n",
    "# outer = pd.merge(A, B, on='Age', how='outer_join')\n",
    "# left_outer = pd.merge(A, B, on='Age', how='left_join')\n",
    "# right_outer = pd.merge(A, B, on='Age', how='right_join')\n",
    "\n",
    "# B. inner = pd.merge(A, B, on='Age', how='inner')\n",
    "# outer = pd.merge(A, B, on='Age', how='outer')\n",
    "# left_outer = pd.merge(A, B, on='Age', how='left_outer')\n",
    "# right_outer = pd.merge(A, B, on='Age', how='right_outer')\n",
    "\n",
    "# C. \n",
    "inner = pd.merge(A, B, on='Age', how='inner')\n",
    "outer = pd.merge(A, B, on='Age', how='outer')\n",
    "left_outer = pd.merge(A, B, on='Age', how='left')\n",
    "right_outer = pd.merge(A, B, on='Age', how='right')\n",
    "\n",
    "\n",
    "# D. inner = pd.merge(A, B, on='Age', how='inner')\n",
    "# outer = pd.merge(A, B, on='Age', how='outer')\n",
    "# left_outer = pd.merge(A, B, on='Age', how='outer_left')\n",
    "# right_outer = pd.merge(A, B, on='Age', how='outer_right')"
   ]
  },
  {
   "cell_type": "code",
   "execution_count": 47,
   "metadata": {},
   "outputs": [
    {
     "name": "stdout",
     "output_type": "stream",
     "text": [
      "0.8765965986813173\n"
     ]
    }
   ],
   "source": [
    "# 31. What will be the correlation between the columns sqft_living and sqft_above?\n",
    "# A. 0.702035\n",
    "# B. 0.754665\n",
    "# C. 0.876597\n",
    "# D. 0.303093\n",
    "cor = df['sqft_living'].corr(df['sqft_above'])\n",
    "\n",
    "print(cor)\n",
    "# Ans: C"
   ]
  },
  {
   "cell_type": "code",
   "execution_count": null,
   "metadata": {},
   "outputs": [],
   "source": [
    "# 32. If the correlation between the columns bathrooms and sqft_living is 0.754665, what all\n",
    "# interpretations can be made about the two columns?\n",
    "\n",
    "# A. A positive correlation between the two columns\n",
    "# B. The columns show perfect correlation.\n",
    "# C. A strong negative correlation between the two columns\n",
    "# D. No correlation between the two columns.\n",
    "\n",
    "# Ans: A"
   ]
  }
 ],
 "metadata": {
  "kernelspec": {
   "display_name": "Python 3",
   "language": "python",
   "name": "python3"
  },
  "language_info": {
   "codemirror_mode": {
    "name": "ipython",
    "version": 3
   },
   "file_extension": ".py",
   "mimetype": "text/x-python",
   "name": "python",
   "nbconvert_exporter": "python",
   "pygments_lexer": "ipython3",
   "version": "3.9.6"
  }
 },
 "nbformat": 4,
 "nbformat_minor": 2
}
