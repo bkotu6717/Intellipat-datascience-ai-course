{
 "cells": [
  {
   "cell_type": "code",
   "execution_count": 23,
   "metadata": {},
   "outputs": [
    {
     "name": "stdout",
     "output_type": "stream",
     "text": [
      "1\n",
      "1\n"
     ]
    },
    {
     "data": {
      "text/plain": [
       "array([-561,  361,  -72])"
      ]
     },
     "execution_count": 23,
     "metadata": {},
     "output_type": "execute_result"
    }
   ],
   "source": [
    "import numpy as np\n",
    "import pprint\n",
    "pp = pprint.PrettyPrinter(indent=2)\n",
    "# 17) Given two vectors A and B, find the cross product between the two vectors. A = numpy.array([[4],[12],[29]]) B = numpy.array([[13],[21],[4]])\n",
    "# array([[-560 360 -71]])\n",
    "# array([[-561 360 -72]])\n",
    "# array([[-555 361 -72]])\n",
    "# array([[-561 361 -72]])\n",
    "\n",
    "\n",
    "A = np.array([\n",
    "    [4],[12],[29]\n",
    "]) \n",
    "B = np.array([\n",
    "    [13],[21],[4]\n",
    "])\n",
    "\n",
    "A = np.array([\n",
    "    4,12,29\n",
    "]) \n",
    "B = np.array([\n",
    "    13,21,4\n",
    "])\n",
    "print(A.ndim)\n",
    "print(B.ndim)\n",
    "np.cross(A,B)\n",
    "\n"
   ]
  },
  {
   "cell_type": "code",
   "execution_count": 9,
   "metadata": {},
   "outputs": [
    {
     "data": {
      "text/plain": [
       "array([[1., 1.],\n",
       "       [1., 1.]])"
      ]
     },
     "execution_count": 9,
     "metadata": {},
     "output_type": "execute_result"
    }
   ],
   "source": [
    "\n",
    "A = np.array([1,3,5,7,9,11,13,15,17,19,21,23,25]) \n",
    "B = np.array([0,2,4,6,8,10,12,14,16,18,20, 22, 24])\n",
    "np.corrcoef(A, B)"
   ]
  },
  {
   "cell_type": "code",
   "execution_count": 16,
   "metadata": {},
   "outputs": [
    {
     "data": {
      "text/plain": [
       "[[1, [1, 2]],\n",
       " [2, [[1], [2]]],\n",
       " [3, [[1, 2], [3, 4], [4, 5]]],\n",
       " [4, [1]],\n",
       " [5, [1, 2, 3, 4, 5]]]"
      ]
     },
     "execution_count": 16,
     "metadata": {},
     "output_type": "execute_result"
    }
   ],
   "source": [
    "# 19) Create a nested numpy array from a given dictionary data. sample = {1: [1,2], 2: [[1],[2]], 3: [[1,2], [3,4], [4,5]], 4: [1], 5: [1,2,3,4,5]}\n",
    "\n",
    "\n",
    "# array([[1, list([1, 2])], [2, list([[1], [2]])], [3, list([[1, 2], [3, 4], [4, 5]])], [4, list([1])], [5, list([1, 2, 3, 10, 5])]], dtype=object)\n",
    "# array([[1, list([1, 2])], [2, list([[1], [2]])], [3, list([[1, 2], [1, 4], [4, 5]])], [4, list([1])], [5, list([1, 2, 3, 4, 5])]], dtype=object)\n",
    "# array([[1, list([1, 1])], [2, list([[1], [2]])], [3, list([[1, 2], [3, 4], [4, 5]])], [4, list([1])], [5, list([1, 2, 3, 4, 5])]], dtype=object)\n",
    "# array([[1, list([1, 2])], [2, list([[1], [2]])], [3, list([[1, 2], [3, 4], [4, 5]])], [4, list([1])], [5, list([1, 2, 3, 4, 5])]], dtype=object)\n",
    "\n",
    "sample = {\n",
    "    1: [1,2], \n",
    "    2: [[1],[2]], \n",
    "    3: [[1,2], [3,4], [4,5]], \n",
    "    4: [1], 5: [1,2,3,4,5]\n",
    "}\n",
    "nested_arry = []\n",
    "for k, v in sample.items():\n",
    "    nested_arry.append([k, v])\n",
    "\n",
    "nested_arry\n"
   ]
  },
  {
   "cell_type": "code",
   "execution_count": 29,
   "metadata": {},
   "outputs": [
    {
     "name": "stdout",
     "output_type": "stream",
     "text": [
      "[1, 2, 3, 4, [1, 2], {}]\n",
      "6\n"
     ]
    }
   ],
   "source": [
    "# 20) A 2-dimensional array with 3 rows and 3 columns containing random numbers from 1 to 9 is given \n",
    "# as - arr1= np.array([[3,2,1],[6,4,5],[8,7,9]]) \n",
    "# Find the difference between the maximum element across the columns and the minimum element across the rows.\n",
    "# [7 3 2]\n",
    "# [8 3 2]\n",
    "# [7 1 2]\n",
    "# [7 3 1]\n",
    "\n",
    "arr1= np.array([\n",
    "    [3,2,1],[6,4,5],[8,7,9]\n",
    "    ])\n",
    "arr = [1,2,3,4, [1,2], {}]\n",
    "print(arr)\n",
    "print(len(arr))\n",
    "\n"
   ]
  },
  {
   "cell_type": "code",
   "execution_count": 43,
   "metadata": {},
   "outputs": [
    {
     "name": "stdout",
     "output_type": "stream",
     "text": [
      "<generator object <genexpr> at 0x117a9c3c0>\n",
      "27\n",
      "729\n",
      "1728\n",
      "3375\n"
     ]
    },
    {
     "ename": "StopIteration",
     "evalue": "",
     "output_type": "error",
     "traceback": [
      "\u001b[0;31m---------------------------------------------------------------------------\u001b[0m",
      "\u001b[0;31mStopIteration\u001b[0m                             Traceback (most recent call last)",
      "\u001b[1;32m/Users/bhaskark/projects/Intellipat-datascience-ai-course/executive_data_scientist/Python/assignments/Study Material/Module-4-NumPy/quiz.ipynb Cell 5\u001b[0m line \u001b[0;36m9\n\u001b[1;32m      <a href='vscode-notebook-cell:/Users/bhaskark/projects/Intellipat-datascience-ai-course/executive_data_scientist/Python/assignments/Study%20Material/Module-4-NumPy/quiz.ipynb#W5sZmlsZQ%3D%3D?line=6'>7</a>\u001b[0m \u001b[39mprint\u001b[39m(\u001b[39mnext\u001b[39m(a))\n\u001b[1;32m      <a href='vscode-notebook-cell:/Users/bhaskark/projects/Intellipat-datascience-ai-course/executive_data_scientist/Python/assignments/Study%20Material/Module-4-NumPy/quiz.ipynb#W5sZmlsZQ%3D%3D?line=7'>8</a>\u001b[0m \u001b[39mprint\u001b[39m(\u001b[39mnext\u001b[39m(a))\n\u001b[0;32m----> <a href='vscode-notebook-cell:/Users/bhaskark/projects/Intellipat-datascience-ai-course/executive_data_scientist/Python/assignments/Study%20Material/Module-4-NumPy/quiz.ipynb#W5sZmlsZQ%3D%3D?line=8'>9</a>\u001b[0m \u001b[39mprint\u001b[39m(\u001b[39mnext\u001b[39;49m(a))\n",
      "\u001b[0;31mStopIteration\u001b[0m: "
     ]
    }
   ],
   "source": [
    "List =[3,9,12,15] \n",
    "a=(x**3 for x in List)\n",
    "# print(list(a))\n",
    "print(a)\n",
    "print(next(a))\n",
    "print(next(a))\n",
    "print(next(a))\n",
    "print(next(a))\n",
    "# print(next(a))\n",
    "\n"
   ]
  },
  {
   "cell_type": "code",
   "execution_count": 48,
   "metadata": {},
   "outputs": [
    {
     "data": {
      "text/plain": [
       "array([27, 18, 17])"
      ]
     },
     "execution_count": 48,
     "metadata": {},
     "output_type": "execute_result"
    }
   ],
   "source": [
    "arr=np.array( [ [6,9,12] , [8,3,7] , [9,8,0] ] )\n",
    "np.sum(arr, axis=1)"
   ]
  },
  {
   "cell_type": "code",
   "execution_count": 55,
   "metadata": {},
   "outputs": [
    {
     "data": {
      "text/plain": [
       "array([[1, 2, 5, 6],\n",
       "       [3, 4, 7, 8]])"
      ]
     },
     "execution_count": 55,
     "metadata": {},
     "output_type": "execute_result"
    }
   ],
   "source": [
    "array1 = np.array([[1,2],[3,4]])\n",
    "array2 = np.array([[5,6],[7,8]])\n",
    "np.column_stack([array1, array2])\n",
    "\n",
    "# np.column_stack(array1)"
   ]
  }
 ],
 "metadata": {
  "kernelspec": {
   "display_name": "Python 3",
   "language": "python",
   "name": "python3"
  },
  "language_info": {
   "codemirror_mode": {
    "name": "ipython",
    "version": 3
   },
   "file_extension": ".py",
   "mimetype": "text/x-python",
   "name": "python",
   "nbconvert_exporter": "python",
   "pygments_lexer": "ipython3",
   "version": "3.9.6"
  }
 },
 "nbformat": 4,
 "nbformat_minor": 2
}
