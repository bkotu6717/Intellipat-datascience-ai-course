{
 "cells": [
  {
   "cell_type": "code",
   "execution_count": null,
   "metadata": {},
   "outputs": [],
   "source": [
    "import pandas as pd\n",
    "import matplotlib.pyplot as plt\n",
    "df = pd.read_csv('./home_data.csv')\n",
    "print(df)"
   ]
  },
  {
   "cell_type": "code",
   "execution_count": null,
   "metadata": {},
   "outputs": [],
   "source": [
    "# 1. Which of the following libraries should be imported for creating charts in python?\n",
    "# a. Pandas\n",
    "# b. Random\n",
    "# c. Math\n",
    "# d. Matplotlib\n",
    "\n",
    "# Ans: D"
   ]
  },
  {
   "cell_type": "code",
   "execution_count": null,
   "metadata": {},
   "outputs": [],
   "source": [
    "# 2. How to visualize the correlation pattern in the dataset?\n",
    "# a. Histogram\n",
    "# b. Bar plot\n",
    "# c. Scatterplot\n",
    "# d. Heatmap\n",
    "\n",
    "# Ans: D"
   ]
  },
  {
   "cell_type": "code",
   "execution_count": null,
   "metadata": {},
   "outputs": [],
   "source": [
    "# 3. Which function can we use for plotting the boxplot?\n",
    "# a. sns.box()\n",
    "# b. plt.bplot()\n",
    "# c. sns.boxplot()\n",
    "# d. pl.boxplt()\n",
    "# Ans: c"
   ]
  },
  {
   "cell_type": "code",
   "execution_count": null,
   "metadata": {},
   "outputs": [],
   "source": [
    "# 4. What insights can we extract from the boxplot?\n",
    "# a. 2nd quartile\n",
    "# b. 1st quadrille\n",
    "# c. 3rd quartile\n",
    "# d. All of the above\n",
    "# Ans: D"
   ]
  },
  {
   "cell_type": "code",
   "execution_count": null,
   "metadata": {},
   "outputs": [],
   "source": [
    "# 5. Which visualization is not part of matplotlib?\n",
    "# a. Table plot\n",
    "# b. Area plot\n",
    "# c. Violin plot\n",
    "# d. All of the above\n",
    "\n",
    "# Ans:  D"
   ]
  },
  {
   "cell_type": "code",
   "execution_count": null,
   "metadata": {},
   "outputs": [],
   "source": [
    "# 6. From which visualization we can find the median/mean value of\n",
    "# the data?\n",
    "# a. Bar plot\n",
    "# b. Boxplot\n",
    "# c. Violin plot\n",
    "# d. All of the above\n",
    "\n",
    "# Ans: b"
   ]
  },
  {
   "cell_type": "code",
   "execution_count": null,
   "metadata": {},
   "outputs": [],
   "source": [
    "# 7. Which of the following is correct?\n",
    "# a. plt.scatter(data[‘gender’],data[‘age’])\n",
    "# b. plt.boxpt(data[‘gender’],data[‘age’])\n",
    "# c. plt.scatter(data[‘salary’],data[‘age’])\n",
    "# d. None of the above\n",
    "\n",
    "# Ans: c"
   ]
  },
  {
   "cell_type": "code",
   "execution_count": null,
   "metadata": {},
   "outputs": [],
   "source": [
    "# 8. What error you will get after executing the below\n",
    "# code: data.box('bedrooms','grade')\n",
    "# a. Attribute error\n",
    "# b. Syntax error\n",
    "# c. Runtime error\n",
    "# d. None of the above\n",
    "\n",
    "df.box('bedrooms','grade')\n",
    "# Ans: a"
   ]
  },
  {
   "cell_type": "code",
   "execution_count": null,
   "metadata": {},
   "outputs": [],
   "source": [
    "# 9. Which of the following code you can use for plotting the\n",
    "# pie chart:\n",
    "# a. plt.pie(x)\n",
    "# b. sns.pie(x)\n",
    "# c. Both of the above\n",
    "# d. None of the above\n",
    "\n",
    "# Ans: a"
   ]
  },
  {
   "cell_type": "code",
   "execution_count": null,
   "metadata": {},
   "outputs": [],
   "source": [
    "# 10. What is the correct way of plotting violin plot?\n",
    "\n",
    "import seaborn as sns\n",
    "\n",
    "# a. \n",
    "sns.violinplot(data=df, y = 'price',x = 'waterfront')\n",
    "# b. \n",
    "# sns.violin(data=data, y = 'price',x = 'waterfront')\n",
    "# c. plt.violinplot(data=data, y = 'price',x='waterfront')\n",
    "# d. All of the above\n",
    "\n",
    "# Ans: a"
   ]
  },
  {
   "cell_type": "code",
   "execution_count": null,
   "metadata": {},
   "outputs": [],
   "source": [
    "# 11. Select the incorrect syntax:\n",
    "# a. plt.figsize()\n",
    "# b. plt.figtext()\n",
    "# c. plt.figpic()\n",
    "# d. Both A and C\n",
    "\n",
    "# Ans: c"
   ]
  },
  {
   "cell_type": "code",
   "execution_count": null,
   "metadata": {},
   "outputs": [],
   "source": [
    "# 12. What inference you can extract from the below\n",
    "# graph:\n",
    "# a. The cheapest house is having 3 floors.\n",
    "# b. The costliest house is having 2.5 floors.\n",
    "# c. The maximum number of houses are having 1 floor\n",
    "# only\n",
    "# d. All of the above\n",
    "\n",
    "# Ans: b\n"
   ]
  },
  {
   "cell_type": "code",
   "execution_count": null,
   "metadata": {},
   "outputs": [],
   "source": [
    "# 13. Which of the following statements are correct with respect to the\n",
    "# below image:\n",
    "# a. The maximum number of houses have grades of either 7 or 8.\n",
    "# b. Around 2000 houses are having grades between 6 and 7.\n",
    "# c. Both of the above.\n",
    "# d. None of the above.\n",
    "# Ans: c"
   ]
  },
  {
   "cell_type": "code",
   "execution_count": null,
   "metadata": {},
   "outputs": [],
   "source": [
    "# 14. Which of the following statements is/are correct with respect to the below image:\n",
    "# a. The average-priced house has grades between 10 and 12.\n",
    "# b. The costliest house is having a grade below 10.\n",
    "# c. As the price is getting higher, grades are also getting higher.\n",
    "# d. The average-priced house is having average grades\n",
    "\n",
    "# Ans: c"
   ]
  },
  {
   "cell_type": "code",
   "execution_count": null,
   "metadata": {},
   "outputs": [],
   "source": [
    "# 15. Which statement is correct with respect to the below\n",
    "# image:\n",
    "# a. The maximum number of houses are not having any view.\n",
    "# b. Around 300 houses are having only one view.\n",
    "# c. The 4th category is having the least count of houses.\n",
    "# d. All of the above.\n",
    "\n",
    "# Ans: a"
   ]
  },
  {
   "cell_type": "code",
   "execution_count": null,
   "metadata": {},
   "outputs": [],
   "source": [
    "# 16. Which of the following statements are correct with respect to the below image:\n",
    "# a. All categories of floors are having outliers.\n",
    "# b. We can handle the outliers by replacing them with the mean of the\n",
    "# column. c. We can handle the outliers by replacing them with the mode of\n",
    "# the column.\n",
    "# a. Only a is correct\n",
    "# b. a&c are correct\n",
    "# c. b&c are correct\n",
    "# d. All statements are correct.\n",
    "\n",
    "# Ans: a\n"
   ]
  },
  {
   "cell_type": "code",
   "execution_count": null,
   "metadata": {},
   "outputs": [],
   "source": [
    "# 17. Which statement is correct with respect to the below image:\n",
    "# a. Maximum houses have zip codes between 98100 and 98125.\n",
    "# b. A Smaller number of houses have zip codes between 98075 and 98100.\n",
    "# c. The houses that are having zip codes between 98000 and 98050 are\n",
    "# having the costliest houses.\n",
    "# d. All of the above.\n",
    "\n",
    "# Ans: a"
   ]
  },
  {
   "cell_type": "code",
   "execution_count": null,
   "metadata": {},
   "outputs": [],
   "source": [
    "# 18. Which of the following statements is/are correct with respect to the below image:\n",
    "# a. If the price is getting higher, the area of sqft_living is also\n",
    "# increasing.\n",
    "# b. If the price is getting lower, the area of sqft_living is decreasing.\n",
    "# c. The costliest house has the maximum sqft of living area.\n",
    "# A. A and B\n",
    "# B. A and C\n",
    "# C. B and C\n",
    "# D. Only A\n",
    "# E. Only B\n",
    "# F. Only C\n",
    "\n",
    "# Only and B"
   ]
  },
  {
   "cell_type": "code",
   "execution_count": null,
   "metadata": {},
   "outputs": [],
   "source": [
    "# 19. Which of the following statements are correct with respect to the below image:\n",
    "# a. The interquartile range for the 4th category of view is the highest among\n",
    "# the rest of the views.\n",
    "# b. The houses that are having no view, are having a high probability of having\n",
    "# a cheap house.\n",
    "# c. Both of the above.\n",
    "# d. None of the above.\n",
    "\n",
    "# Ans: c"
   ]
  },
  {
   "cell_type": "code",
   "execution_count": null,
   "metadata": {},
   "outputs": [],
   "source": [
    "# 20. Which of the following statements is/are correct with respect to the below image:\n",
    "# a. The average area of square foot living in 3 number floors is very close to its\n",
    "# 1st quartile value.\n",
    "# b. The 1st quartile value and the minimum square feet of living space are\n",
    "# almost the same.\n",
    "# c. Each category of floors are having outliers.\n",
    "# d. All of the above.\n",
    "\n",
    "# Ans: d"
   ]
  },
  {
   "cell_type": "code",
   "execution_count": null,
   "metadata": {},
   "outputs": [],
   "source": [
    "# 21. Which of the following statements is/are correct with respect to the below image:\n",
    "# a. If the condition is increasing, the price of the house is also increasing.\n",
    "# b. The costliest house is having the 5th category of condition.\n",
    "# c. The 4th category of the condition is having the maximum number of houses.\n",
    "# d. None of the above.\n",
    "# Ans: d"
   ]
  }
 ],
 "metadata": {
  "kernelspec": {
   "display_name": "Python 3",
   "language": "python",
   "name": "python3"
  },
  "language_info": {
   "codemirror_mode": {
    "name": "ipython",
    "version": 3
   },
   "file_extension": ".py",
   "mimetype": "text/x-python",
   "name": "python",
   "nbconvert_exporter": "python",
   "pygments_lexer": "ipython3",
   "version": "3.9.6"
  }
 },
 "nbformat": 4,
 "nbformat_minor": 2
}
