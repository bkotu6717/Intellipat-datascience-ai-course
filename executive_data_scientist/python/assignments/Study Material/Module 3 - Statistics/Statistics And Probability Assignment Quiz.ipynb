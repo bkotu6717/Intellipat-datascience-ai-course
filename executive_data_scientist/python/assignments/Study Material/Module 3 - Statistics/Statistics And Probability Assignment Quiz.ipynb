{
 "cells": [
  {
   "cell_type": "code",
   "execution_count": 4,
   "metadata": {},
   "outputs": [
    {
     "name": "stdout",
     "output_type": "stream",
     "text": [
      "28.49491182649983 811.9599999999999\n"
     ]
    }
   ],
   "source": [
    "# 1) Given a sample, find the standard deviation and variance of the same. \n",
    "import numpy as np\n",
    "Sample = [42, 61, 39, 70, 8, 30, 52, 28, 95, 86, 35, 77, 80, 86, 1, 84, 90, 57, 45, 6, 1, 56, 60, 83, 24, 63, 93, 59, 92, 53]\n",
    "sample = np.array(Sample)\n",
    "print(sample.std(), sample.var())\n",
    "\n",
    "\n",
    "# 28.49, 811.95\n",
    "# 28.94, 819.15\n",
    "# 24.89, 811.59\n",
    "# 28.44, 800.49"
   ]
  },
  {
   "cell_type": "code",
   "execution_count": 9,
   "metadata": {},
   "outputs": [
    {
     "name": "stdout",
     "output_type": "stream",
     "text": [
      "87\n"
     ]
    },
    {
     "data": {
      "text/plain": [
       "38.25"
      ]
     },
     "execution_count": 9,
     "metadata": {},
     "output_type": "execute_result"
    }
   ],
   "source": [
    "# 2) For a given unsorted array, find the range of the array, and the Interquartile range(IQR) of the array. \n",
    "\n",
    "array = np.array([17, 27, 80, 39, 72, 95, 52, 85, 8, 64, 36, 15, 62, 76, 66, 67, 59, 92])\n",
    "print(array.max() - array.min())\n",
    "np.percentile(array, 75) - np.percentile(array, 25)\n",
    "\n",
    "# 95, 35.28\n",
    "# 87, 46.25\n",
    "# 95, 26.25\n",
    "# 87, 38.25\n"
   ]
  },
  {
   "cell_type": "code",
   "execution_count": null,
   "metadata": {},
   "outputs": [],
   "source": [
    "3) In a skewed distribution, \n",
    "If the mean and median of a sample is 56, and 63 and the mode of the same is 65. \n",
    "The distribution graph of the sample will be ___?\n",
    "\n",
    "Unskewed\n",
    "Positively Skewed\n",
    "None of the Above\n",
    "Negatively Skewed\n",
    "1\n",
    "\n",
    "56 63 65\n",
    "\n",
    "Negatively skewed\n"
   ]
  },
  {
   "cell_type": "code",
   "execution_count": null,
   "metadata": {},
   "outputs": [],
   "source": [
    "4) If the IQR range of the sample is \n",
    "4.5, and Q1 and Q3 values are 4, 8.25 respectively. \n",
    "Which of the following are suspected outliers in the sample?\n",
    "9 , 2\n",
    "-1, 13\n",
    "-4, 15\n",
    "12, 3\n",
    "\n",
    "# Ans: -4, 15\n",
    "\n",
    "# Calculateyourupperfence = Q3 + (1.5 * IQR)\n",
    "# Calculateyourlowerfence = Q1 – (1.5 * IQR)"
   ]
  },
  {
   "cell_type": "code",
   "execution_count": 16,
   "metadata": {},
   "outputs": [
    {
     "ename": "TypeError",
     "evalue": "interval() missing 1 required positional argument: 'confidence'",
     "output_type": "error",
     "traceback": [
      "\u001b[0;31m---------------------------------------------------------------------------\u001b[0m",
      "\u001b[0;31mTypeError\u001b[0m                                 Traceback (most recent call last)",
      "\u001b[1;32m/Users/bhaskark/projects/Intellipat-datascience-ai-course/executive_data_scientist/Python/assignments/Study Material/Module 3 - Statistics/Statistics And Probability Assignment Quiz.ipynb Cell 5\u001b[0m line \u001b[0;36m1\n\u001b[1;32m      <a href='vscode-notebook-cell:/Users/bhaskark/projects/Intellipat-datascience-ai-course/executive_data_scientist/Python/assignments/Study%20Material/Module%203%20-%20Statistics/Statistics%20And%20Probability%20Assignment%20Quiz.ipynb#W4sZmlsZQ%3D%3D?line=2'>3</a>\u001b[0m \u001b[39mimport\u001b[39;00m \u001b[39mscipy\u001b[39;00m\u001b[39m.\u001b[39;00m\u001b[39mstats\u001b[39;00m \u001b[39mas\u001b[39;00m \u001b[39mst\u001b[39;00m\n\u001b[1;32m      <a href='vscode-notebook-cell:/Users/bhaskark/projects/Intellipat-datascience-ai-course/executive_data_scientist/Python/assignments/Study%20Material/Module%203%20-%20Statistics/Statistics%20And%20Probability%20Assignment%20Quiz.ipynb#W4sZmlsZQ%3D%3D?line=4'>5</a>\u001b[0m \u001b[39m# (54.500 , 68.649)\u001b[39;00m\n\u001b[1;32m      <a href='vscode-notebook-cell:/Users/bhaskark/projects/Intellipat-datascience-ai-course/executive_data_scientist/Python/assignments/Study%20Material/Module%203%20-%20Statistics/Statistics%20And%20Probability%20Assignment%20Quiz.ipynb#W4sZmlsZQ%3D%3D?line=5'>6</a>\u001b[0m \u001b[39m# (45.450 , 67.599)\u001b[39;00m\n\u001b[1;32m      <a href='vscode-notebook-cell:/Users/bhaskark/projects/Intellipat-datascience-ai-course/executive_data_scientist/Python/assignments/Study%20Material/Module%203%20-%20Statistics/Statistics%20And%20Probability%20Assignment%20Quiz.ipynb#W4sZmlsZQ%3D%3D?line=6'>7</a>\u001b[0m \u001b[39m# (40.500 , 63.659)\u001b[39;00m\n\u001b[1;32m      <a href='vscode-notebook-cell:/Users/bhaskark/projects/Intellipat-datascience-ai-course/executive_data_scientist/Python/assignments/Study%20Material/Module%203%20-%20Statistics/Statistics%20And%20Probability%20Assignment%20Quiz.ipynb#W4sZmlsZQ%3D%3D?line=7'>8</a>\u001b[0m \u001b[39m# (50.400 , 69.699)\u001b[39;00m\n\u001b[0;32m---> <a href='vscode-notebook-cell:/Users/bhaskark/projects/Intellipat-datascience-ai-course/executive_data_scientist/Python/assignments/Study%20Material/Module%203%20-%20Statistics/Statistics%20And%20Probability%20Assignment%20Quiz.ipynb#W4sZmlsZQ%3D%3D?line=9'>10</a>\u001b[0m st\u001b[39m.\u001b[39;49mnorm\u001b[39m.\u001b[39;49minterval(alpha\u001b[39m=\u001b[39;49m\u001b[39m0.95\u001b[39;49m, df\u001b[39m=\u001b[39;49m\u001b[39mlen\u001b[39;49m(Sample)\u001b[39m-\u001b[39;49m\u001b[39m1\u001b[39;49m, loc\u001b[39m=\u001b[39;49mnp\u001b[39m.\u001b[39;49mmean(Sample), scale\u001b[39m=\u001b[39;49mst\u001b[39m.\u001b[39;49msem(Sample))\n\u001b[1;32m     <a href='vscode-notebook-cell:/Users/bhaskark/projects/Intellipat-datascience-ai-course/executive_data_scientist/Python/assignments/Study%20Material/Module%203%20-%20Statistics/Statistics%20And%20Probability%20Assignment%20Quiz.ipynb#W4sZmlsZQ%3D%3D?line=12'>13</a>\u001b[0m \u001b[39mimport\u001b[39;00m \u001b[39mnumpy\u001b[39;00m \u001b[39mas\u001b[39;00m \u001b[39mnp\u001b[39;00m\n\u001b[1;32m     <a href='vscode-notebook-cell:/Users/bhaskark/projects/Intellipat-datascience-ai-course/executive_data_scientist/Python/assignments/Study%20Material/Module%203%20-%20Statistics/Statistics%20And%20Probability%20Assignment%20Quiz.ipynb#W4sZmlsZQ%3D%3D?line=13'>14</a>\u001b[0m \u001b[39mimport\u001b[39;00m \u001b[39mscipy\u001b[39;00m\u001b[39m.\u001b[39;00m\u001b[39mstats\u001b[39;00m\n",
      "\u001b[0;31mTypeError\u001b[0m: interval() missing 1 required positional argument: 'confidence'"
     ]
    }
   ],
   "source": [
    "# 6) Calculate the 95% confidence interval of the given sample using the t-distribution. \n",
    "Sample = [78,65, 20, 69, 36, 81, 85, 71, 44, 71, 47, 37, 89, 25, 73, 55, 80, 52, 46, 77]\n",
    "import scipy.stats as st\n",
    "\n",
    "# (54.500 , 68.649)\n",
    "# (45.450 , 67.599)\n",
    "# (40.500 , 63.659)\n",
    "# (50.400 , 69.699)\n",
    "\n",
    "\n",
    "import numpy as np\n",
    "import scipy.stats\n",
    "\n",
    "def mean_confidence_interval(data, confidence=0.95):\n",
    "    a = 1.0 * np.array(data)\n",
    "    n = len(a)\n",
    "    m, se = np.mean(a), scipy.stats.sem(a)\n",
    "    h = se * scipy.stats.t.ppf((1 + confidence) / 2., n-1)\n",
    "    return m, m-h, m+h\n",
    "\n",
    "Sample = [78, 65, 20, 69, 36, 81, 85, 71, 44, 71, 47, 37, 89, 25, 73, 55, 80, 52, 46, 77]\n",
    "\n",
    "mean_confidence_interval(Sample)"
   ]
  },
  {
   "cell_type": "code",
   "execution_count": 18,
   "metadata": {},
   "outputs": [
    {
     "data": {
      "text/plain": [
       "(1.0308547928995084, 0.3026089188995713)"
      ]
     },
     "execution_count": 18,
     "metadata": {},
     "output_type": "execute_result"
    }
   ],
   "source": [
    "from statsmodels.stats.weightstats import ztest as ztest\n",
    "\n",
    "#enter IQ levels for 20 patients\n",
    "Sample = [88, 92, 84, 64, 96, 97, 67, 97, 96, 99,115, 119, 119, 129, 130, 142, 102, 123, 134, 105]\n",
    "\n",
    "#perform one sample z-test\n",
    "ztest(Sample, value=100)\n",
    "\n",
    "# (1.5976240527147705, 0.1101266701438426)"
   ]
  }
 ],
 "metadata": {
  "kernelspec": {
   "display_name": "Python 3",
   "language": "python",
   "name": "python3"
  },
  "language_info": {
   "codemirror_mode": {
    "name": "ipython",
    "version": 3
   },
   "file_extension": ".py",
   "mimetype": "text/x-python",
   "name": "python",
   "nbconvert_exporter": "python",
   "pygments_lexer": "ipython3",
   "version": "3.9.6"
  }
 },
 "nbformat": 4,
 "nbformat_minor": 2
}
