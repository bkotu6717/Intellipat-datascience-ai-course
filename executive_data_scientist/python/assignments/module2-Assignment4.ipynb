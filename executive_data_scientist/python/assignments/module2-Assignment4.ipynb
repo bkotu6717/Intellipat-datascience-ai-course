{
 "cells": [
  {
   "cell_type": "code",
   "execution_count": 5,
   "id": "b0b836b0",
   "metadata": {},
   "outputs": [
    {
     "name": "stdout",
     "output_type": "stream",
     "text": [
      "10\n"
     ]
    }
   ],
   "source": [
    "# 1. Create a class named parent_Class and inside the class, initialize a global\n",
    "# variable num as 10\n",
    "# a. Create another class named child_Class and this class should be\n",
    "# inherited from the parent class.\n",
    "# b. Now create an object for the child_Class and with the help of\n",
    "# child_Class object, display the value of ‘num’.\n",
    "\n",
    "class parent_Class:\n",
    "    num = 10\n",
    "\n",
    "class child_Class(parent_Class):\n",
    "    pass\n",
    "    \n",
    "\n",
    "a = child_Class()\n",
    "print(a.num)"
   ]
  },
  {
   "cell_type": "code",
   "execution_count": 1,
   "id": "8bc520c8",
   "metadata": {},
   "outputs": [
    {
     "name": "stdout",
     "output_type": "stream",
     "text": [
      "From class A\n"
     ]
    }
   ],
   "source": [
    "# 2. Create three classes named A, B and C\n",
    "# a. Inside the A class, create a constructor. Inside the constructor, initialize\n",
    "# 2 global variables name and age.\n",
    "# b. After initializing the global variables inside the constructor, now create a\n",
    "# function named ‘details’ and that function should return the ‘name’ variable.\n",
    "# c. Inside the B class, create a constructor. Inside the constructor, initialize 2\n",
    "# global variables name and id.\n",
    "# d. After initializing the global variables inside the constructor, now create a\n",
    "# function named ‘details’ and that function should return the ‘name’ variable.\n",
    "# e. The C class should inherit from class A, and B. Inside the class C,\n",
    "# create a constructor, and inside the constructor, call the constructor of\n",
    "# class A.\n",
    "# f. Now, create a method inside the class C, as get_details, and this function\n",
    "# should return the value of name.\n",
    "# g. Atlast, create an object of class C, and with the help of the object, call\n",
    "# the get_details().\n",
    "\n",
    "class A:\n",
    "    def __init__(self):\n",
    "        self.name = \"From class A\"\n",
    "        self.age = 0\n",
    "    \n",
    "    def details(self):\n",
    "        return self.name\n",
    "\n",
    "class B:\n",
    "    def __init__(self):\n",
    "        self.name = \"From class B\"\n",
    "        self.id = 1\n",
    "        \n",
    "    def details(self):\n",
    "        return self.name\n",
    "    \n",
    "class C(A,B):\n",
    "    def __init__(self):\n",
    "        super().__init__()\n",
    "        \n",
    "    def get_details(self):\n",
    "        return(self.name)\n",
    "    \n",
    "m= C()\n",
    "print(m.name)     "
   ]
  },
  {
   "cell_type": "code",
   "execution_count": 2,
   "id": "a751cee8",
   "metadata": {},
   "outputs": [
    {
     "name": "stdout",
     "output_type": "stream",
     "text": [
      "this is the first function from Sub 1 Class\n",
      "this is the second function from the Sub 2 class\n",
      "This is the final method from the super class\n"
     ]
    }
   ],
   "source": [
    "# 3. Create a class named ‘Sub1’, inside the class, generate a user defined\n",
    "# function named ‘first’ and inside the function, pass the following statement\n",
    "# in the print()- ‘This is the first function from Sub 1 class’.\n",
    "# a. Now create another class named ‘Sub2’, and inside the class, create a\n",
    "# function named ‘second’, and pass the following message in the print()-\n",
    "# ‘This is the second function from the Sub 2 class’.\n",
    "# b. After that, create another class named ‘Super’ and inside that class,\n",
    "# create a method named ‘final’, and pass the below message in the print()-\n",
    "# ‘This is the final method from the super class’.\n",
    "# c. Now, create an object for the Super class and call all the 3 user defined\n",
    "# methods, i.e., first(), second(), and final().\n",
    "class Sub1:\n",
    "    def first(self):\n",
    "        print(\"this is the first function from Sub 1 Class\")\n",
    "    \n",
    "class Sub2:\n",
    "    def second(self):\n",
    "        print(\"This is the second function from the Sub 2 class\")\n",
    "        \n",
    "class Super(Sub1,Sub2):\n",
    "    def final(self):\n",
    "        print(\"This is the final method from the super class\")\n",
    "        \n",
    "m = Super()\n",
    "m.first()\n",
    "m.second()\n",
    "m.final()"
   ]
  },
  {
   "cell_type": "code",
   "execution_count": 5,
   "id": "c0c0bcdc",
   "metadata": {},
   "outputs": [
    {
     "name": "stdout",
     "output_type": "stream",
     "text": [
      "This is the message from the fun1\n"
     ]
    }
   ],
   "source": [
    "# 4. Create a class named ‘Parent’, and inside the class, create a function\n",
    "# named ‘fun1’ and pass the following message in the print()- ‘This is the\n",
    "# message from the fun1’.\n",
    "# a. Now create a class named ‘Child1’ and inside the class, create a\n",
    "# method named ‘fun2’ and pass the following message in the print()- ‘This is\n",
    "# the message from the fun2’.\n",
    "# b. After that, create another class named ‘Child2’ and inside the class,\n",
    "# create a method named ‘fun3’ and pass the following message in the\n",
    "# print()- ‘This is the message from the fun3’.\n",
    "# c. Now, create an object of Child2 class and with the help of the object, call\n",
    "# the ‘fun1’ method from the ‘Parent’ class.\n",
    "\n",
    "class Parent:\n",
    "    def fun1(self):\n",
    "        print(\"This is the message from the fun1\")\n",
    "\n",
    "class Child1(Parent):\n",
    "    def fun2(self):\n",
    "        print(\"this is the message from the fun2\")\n",
    "    \n",
    "class Child2(Parent):\n",
    "    def fun3(self):\n",
    "        print(\"This is the message from the fun3\")\n",
    "    \n",
    "m = Child2()\n",
    "m.fun1()"
   ]
  },
  {
   "cell_type": "code",
   "execution_count": 7,
   "id": "727303f3",
   "metadata": {},
   "outputs": [
    {
     "name": "stdout",
     "output_type": "stream",
     "text": [
      "This is the message from the fun1\n",
      "This is the message from the fun2\n",
      "This is the message from the fun3\n"
     ]
    }
   ],
   "source": [
    "# 5. Create a class named ‘Parent’, and inside the class, create a function\n",
    "# named ‘fun1’ and pass the following message in the print()- ‘This is the\n",
    "# message from the fun1’.\n",
    "# a. Now create a class named ‘Child’ and inside the class, create a method\n",
    "# named ‘fun2’ and pass the following message in the print()- ‘This is the\n",
    "# message from the fun2’.\n",
    "# b. After that, create another class named ‘Hybrid’ and inside the class,\n",
    "# create a method named ‘fun3’ and pass the following message in the\n",
    "# print()- ‘This is the message from the fun3’.\n",
    "# c. Now create an object of Hybrid class and with the help of the object, call\n",
    "# the ‘fun1’, ‘fun2’ and ‘fun3’ methods\n",
    "\n",
    "class Parent:\n",
    "    def fun1(self):\n",
    "        print(\"This is the message from the fun1\")\n",
    "        \n",
    "class Child(Parent):\n",
    "    def fun2(self):\n",
    "        print(\"This is the message from the fun2\")\n",
    "    \n",
    "class Hybrid(Child):\n",
    "    def fun3(self):\n",
    "        print(\"This is the message from the fun3\")\n",
    "    \n",
    "m = Hybrid()\n",
    "m.fun1()\n",
    "m.fun2()\n",
    "m.fun3()\n"
   ]
  },
  {
   "cell_type": "code",
   "execution_count": null,
   "id": "48e16f35",
   "metadata": {},
   "outputs": [],
   "source": []
  }
 ],
 "metadata": {
  "kernelspec": {
   "display_name": "Python 3 (ipykernel)",
   "language": "python",
   "name": "python3"
  },
  "language_info": {
   "codemirror_mode": {
    "name": "ipython",
    "version": 3
   },
   "file_extension": ".py",
   "mimetype": "text/x-python",
   "name": "python",
   "nbconvert_exporter": "python",
   "pygments_lexer": "ipython3",
   "version": "3.11.4"
  }
 },
 "nbformat": 4,
 "nbformat_minor": 5
}
