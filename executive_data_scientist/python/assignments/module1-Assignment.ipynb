{
 "cells": [
  {
   "cell_type": "code",
   "execution_count": 4,
   "id": "375b0cd0",
   "metadata": {},
   "outputs": [
    {
     "name": "stdout",
     "output_type": "stream",
     "text": [
      "Enter the value of a:10\n",
      "Enter the value of b:20\n",
      "a is less than b\n"
     ]
    }
   ],
   "source": [
    "#Assignment1\n",
    "# Input the values of a and b as 10 and 20 respectively. Now check if a is\n",
    "# greater or b is greater using if condition. Think about all the edge cases,\n",
    "# and print the statements accordingly.\n",
    "\n",
    "a = input(\"Enter the value of a: \")\n",
    "b = input(\"Enter the value of b: \")\n",
    "\n",
    "if a > b:\n",
    "    print(\"a is greater than b\")\n",
    "elif a == b:\n",
    "    print(\"a is equal to b\")\n",
    "else:\n",
    "    print(\"a is less than b\")"
   ]
  },
  {
   "cell_type": "code",
   "execution_count": 20,
   "id": "9c58d7da",
   "metadata": {},
   "outputs": [
    {
     "name": "stdout",
     "output_type": "stream",
     "text": [
      "Enter first number: 10\n",
      "Enter second number: 3\n",
      "Enter third number: 2\n",
      "10 is the greatest\n"
     ]
    }
   ],
   "source": [
    "#Assignment-2-Conditional-Statements\n",
    "#Take three user inputs and print the greatest number from those \n",
    "#using if-else condition. Edge cases, if any, should also be handled.\n",
    "a = int(input(\"Enter first number: \"))\n",
    "b = int(input(\"Enter second number: \"))\n",
    "c = int(input(\"Enter third number: \"))\n",
    "if a>b and a>c:\n",
    "    print(f\"{a} is the greatest\")\n",
    "elif b>a and b>c:\n",
    "    print(f\"{b} is the greatest\")\n",
    "elif c>a and c>b:\n",
    "    print(f\"{c} is the greatest\")    \n",
    "else:\n",
    "    print(\"all are equal\")"
   ]
  },
  {
   "cell_type": "code",
   "execution_count": 1,
   "id": "8d0ded9d",
   "metadata": {},
   "outputs": [
    {
     "name": "stdout",
     "output_type": "stream",
     "text": [
      "1\n",
      "2\n",
      "3\n",
      "4\n",
      "5\n",
      "6\n",
      "7\n",
      "8\n",
      "9\n",
      "10\n"
     ]
    }
   ],
   "source": [
    "#Assignment-1 Loops\n",
    "#Print the numbers from 1 to 10 using while loop\n",
    "for i in range(1,11):\n",
    "    print(i)"
   ]
  },
  {
   "cell_type": "code",
   "execution_count": 10,
   "id": "f62457f7",
   "metadata": {},
   "outputs": [
    {
     "name": "stdout",
     "output_type": "stream",
     "text": [
      "10\n",
      "4\n",
      "26\n",
      "4\n",
      "24\n",
      "54\n"
     ]
    }
   ],
   "source": [
    "#Assignment-2 Loops\n",
    "# Create a list that has 10, 23, 4, 26, 4, 75, 24, 54 values and with the help\n",
    "# of while loop fetch the even numbers and print the numbers\n",
    "nums = [10,23,4,26,4,75,24,54]\n",
    "i=0\n",
    "while(i<len(nums)):\n",
    "    if(nums[i]%2==0):print(nums[i])\n",
    "    i +=1\n"
   ]
  },
  {
   "cell_type": "code",
   "execution_count": 19,
   "id": "7dbdd494",
   "metadata": {},
   "outputs": [
    {
     "name": "stdout",
     "output_type": "stream",
     "text": [
      "Enter number of elements : 3\n",
      "2\n",
      "5\n",
      "10\n",
      "2 is prime\n",
      "5 is prime\n"
     ]
    }
   ],
   "source": [
    "#Assignment-3 Loop\n",
    "import math\n",
    "# Create an array that has user defined inputs and with the help of for loop,\n",
    "# fetch all the prime numbers and print the numbers.\n",
    "lst = []\n",
    " \n",
    "# number of elements as input\n",
    "n = int(input(\"Enter number of elements : \"))\n",
    " \n",
    "# iterating till the range\n",
    "for i in range(0, n):\n",
    "    ele = int(input())\n",
    "    # adding the element\n",
    "    lst.append(ele)  \n",
    "\n",
    "for i in lst:\n",
    "    flag = True\n",
    "    for j in range(2, math.ceil(math.sqrt(i))):\n",
    "        if i%j == 0: flag = False\n",
    "    if flag:\n",
    "        print(f\"{i} is prime\")"
   ]
  },
  {
   "cell_type": "code",
   "execution_count": 24,
   "id": "c22ec658",
   "metadata": {},
   "outputs": [
    {
     "name": "stdout",
     "output_type": "stream",
     "text": [
      "Enter year: 2015\n",
      "2015 is not a leap year\n"
     ]
    }
   ],
   "source": [
    "#Case study 1\n",
    "# 1. Create a list containing squares of numbers from 1 to 10 (HINT: use List\n",
    "# Comprehension).\n",
    "\n",
    "nums = [1,2,3,4,5,6,7,8,9,10]\n",
    "lst = [x*x for x in nums]\n",
    "    \n",
    "# 2. Write a function to check if the year number is a leap year.\n",
    "\n",
    "year = int(input(\"Enter year: \"))\n",
    "if year%4 ==0:\n",
    "    print(f\"{year} is a leap year\")\n",
    "else:\n",
    "    print(f\"{year} is not a leap year\")\n",
    "# 3. Write a function to take an array and return another array that contains the\n",
    "# members of the first array that are even.\n",
    "lst1 = [int(item) for item in input(\"Enter the list items : \").split()]\n",
    "lst2 = [x for x in lst1 if x%2 == 0]\n",
    "# 4. Write a function that takes 2 arrays and prints the members of the first\n",
    "# array that are present in the second array. (HINT: use Membership\n",
    "# Comprehension)\n",
    "lst1 = input(\"Enter the list items : \").split()\n",
    "lst2 = input(\"Enter the list items : \").split()\n",
    "common = [x for x in lst1 if x in lst2]\n",
    "print(common)\n"
   ]
  },
  {
   "cell_type": "code",
   "execution_count": 19,
   "id": "467ff606",
   "metadata": {},
   "outputs": [
    {
     "name": "stdout",
     "output_type": "stream",
     "text": [
      "(10, 20, 30, 40, 50, 60, 10, 20, 30, 40, 50, 60, 10, 20, 30, 40, 50, 60)\n",
      "(10, 20, 30, 40, 50, 60, 10, 20, 30, 40, 50, 60, 10, 20, 30, 40, 50, 60)\n",
      "30\n",
      "(10, 20, 30)\n",
      "(40, 50, 60)\n",
      "dict_keys(['Fruit', 'Cost'])\n",
      "dict_values([['Apple', 'Banana', 'Mango'], [85, 54, 120, 70]])\n",
      "{1, 'a'}\n"
     ]
    }
   ],
   "source": [
    "#Case study 2\n",
    "# 1. Create 1st tuple with values -> (10, 20, 30), 2nd tuple with values -> (40,\n",
    "# 50, 60):\n",
    "t1 = (10,20,30)\n",
    "t2 = (40,50,60)\n",
    "# a. Concatenate the two tuples and store it in “t_combine”\n",
    "t_combine = t1+t2\n",
    "# b. Repeat the elements of “t_combine” 3 times\n",
    "print(t)\n",
    "t_combine=t_combine*3\n",
    "print(t)\n",
    "# c. Access the 3rd element from “t_combine”\n",
    "print(t_combine[2])\n",
    "# d. Access the first three elements from “t_combine”\n",
    "print(t_combine[0:3])\n",
    "# e. Access the last three elements from “t_combine”\n",
    "print(t_combine[-3:])\n",
    "# 2. Create a list ‘my_list’ with these elements:\n",
    "# a. First element is a tuple with values 1, 2, 3\n",
    "# b. Second element is a tuple with values “a”, “b”, “c”\n",
    "# c. Third element is a tuple with values True, False\n",
    "my_list = [(1,2,3),(\"a\",\"b\",\"c\"),(True,False)]\n",
    "# 3. Append a new tuple – (1, ‘a’, True) to ‘my_list’:\n",
    "my_list.append((1,'a',True))\n",
    "# a. Append a new list – *“sparta”, 123+ to my_list\n",
    "my_list.append([\"sparta\",123])\n",
    "# 4. Create a dictionary ‘fruit’ where:\n",
    "# a. The first key is ‘Fruit’ and the values are (“Apple”, “Banana”, “Mango”,\n",
    "# “Guava”)\n",
    "# b. The second key is ‘Cost’ and the values are (85, 54, 120, 70)\n",
    "# c. Extract all the keys from ‘fruit’\n",
    "# d. Extract all the values from ‘fruit’\n",
    "fruit ={\n",
    "    \"Fruit\":[\"Apple\",\"Banana\",\"Mango\"],\n",
    "    \"Cost\":[85,54,120,70],\n",
    "}\n",
    "print(fruit.keys())\n",
    "print(fruit.values())\n",
    "# 5. Create a set named ‘my_set’ with values (1, 1, “a”, “a”, True, True) and\n",
    "# print the result.\n",
    "my_set = {1, 1, \"a\",\"a\", True, True}\n",
    "print(my_set) #Only 1 and \"a\" are printed."
   ]
  }
 ],
 "metadata": {
  "kernelspec": {
   "display_name": "Python 3 (ipykernel)",
   "language": "python",
   "name": "python3"
  },
  "language_info": {
   "codemirror_mode": {
    "name": "ipython",
    "version": 3
   },
   "file_extension": ".py",
   "mimetype": "text/x-python",
   "name": "python",
   "nbconvert_exporter": "python",
   "pygments_lexer": "ipython3",
   "version": "3.11.4"
  }
 },
 "nbformat": 4,
 "nbformat_minor": 5
}
