{
 "cells": [
  {
   "cell_type": "code",
   "execution_count": null,
   "metadata": {},
   "outputs": [],
   "source": [
    "import statistics as st\n",
    "import random\n",
    "sample = [random.randint(1, 100) for x in range(1, 100)]\n",
    "print(sample)\n",
    "\n",
    "print('mean: ', st.mean(sample))\n",
    "print('median: ', st.median(sample))\n",
    "print('mode: ', st.mode(sample))\n",
    "print('standard deviation: ', st.stdev(sample))\n",
    "print('variance: ', st.variance(sample))\n",
    "\n"
   ]
  },
  {
   "cell_type": "code",
   "execution_count": null,
   "metadata": {},
   "outputs": [],
   "source": [
    "# Binomial probability distribution fuction\n",
    "from scipy.stats import binom\n",
    "import matplotlib.pyplot as plt\n",
    "n = 10 # number of events\n",
    "p = 0.4 # probability of getting head\n",
    "r = list(range(n+1)) # number of favourable outcomes\n",
    "mean, var = binom.stats(n, p)\n",
    "print(\"mean and variance: \", mean, var)\n",
    "dist = list(binom.pmf(x, n, p) for x in r)\n",
    "plt.plot(r, dist)\n",
    "plt.show()"
   ]
  },
  {
   "cell_type": "code",
   "execution_count": null,
   "metadata": {},
   "outputs": [],
   "source": [
    "# Poisson probability distribution\n",
    "from scipy.stats import poisson\n",
    "import matplotlib.pyplot as plt\n",
    "\n",
    "sample = [x for x in range(0,6)]\n",
    "sample = poisson.pmf(3, sample)\n",
    "plt.plot(sample)\n",
    "plt.show()"
   ]
  },
  {
   "cell_type": "code",
   "execution_count": null,
   "metadata": {},
   "outputs": [],
   "source": [
    "# Gaussian/Normal probability distribution\n",
    "from scipy.stats import norm\n",
    "import numpy as np\n",
    "mean = 5\n",
    "std_dev = 50\n",
    "sample = np.linspace(-100, 100, 1000)\n",
    "f = norm(mean, std_dev)\n",
    "dist = f.pdf(sample)\n",
    "plt.plot(dist)\n",
    "plt.show()"
   ]
  },
  {
   "cell_type": "code",
   "execution_count": 52,
   "metadata": {},
   "outputs": [
    {
     "data": {
      "image/png": "[encoded data removed]",
      "text/plain": [
       "<Figure size 640x480 with 1 Axes>"
      ]
     },
     "metadata": {},
     "output_type": "display_data"
    }
   ],
   "source": [
    "# Central limit theorem\n",
    "# Thousand sample means with each sample having 100 random values between -10 and 10\n",
    "import matplotlib.pyplot as plt\n",
    "data = [np.mean(np.random.randint(-10, 10, 100)) for i in range(1000)]\n",
    "\n",
    "# Plotting the means that gives the normal distribution\n",
    "plt.hist(data)\n",
    "plt.show()\n"
   ]
  },
  {
   "cell_type": "code",
   "execution_count": 54,
   "metadata": {},
   "outputs": [
    {
     "data": {
      "text/plain": [
       "(2.3481954013214263, 5.4518045986785735)"
      ]
     },
     "execution_count": 54,
     "metadata": {},
     "output_type": "execute_result"
    }
   ],
   "source": [
    "# Confidence interval\n",
    "import numpy as np \n",
    "import scipy.stats as st \n",
    "  \n",
    "# define sample data \n",
    "gfg_data = [1, 1, 1, 2, 2, 2, 3, 3, 3, \n",
    "            3, 3, 4, 4, 5, 5, 5, 6, \n",
    "            7, 8, 10] \n",
    "  \n",
    "# create 99% confidence interval \n",
    "st.t.interval(confidence=0.99, \n",
    "              df=len(gfg_data)-1, \n",
    "              loc=np.mean(gfg_data),  \n",
    "              scale=st.sem(gfg_data)) "
   ]
  },
  {
   "cell_type": "code",
   "execution_count": 76,
   "metadata": {},
   "outputs": [
    {
     "data": {
      "text/plain": [
       "TtestResult(statistic=-1.4193363838131408, pvalue=0.16646110875174477, df=29)"
      ]
     },
     "execution_count": 76,
     "metadata": {},
     "output_type": "execute_result"
    }
   ],
   "source": [
    "# One sample t-test / one-tailed t-test\n",
    "from scipy.stats import ttest_1samp\n",
    "from random import sample\n",
    "population_mean = 165\n",
    "sample_data = sample(range(145, 180), 30)\n",
    "sample_mean = np.mean(sample_data)\n",
    "\n",
    "ttest_1samp(a=sample_data, popmean=165)\n",
    "\n",
    "# Since the p value is more than 0.05, we can reject the null hypothesis\n"
   ]
  },
  {
   "cell_type": "code",
   "execution_count": 82,
   "metadata": {},
   "outputs": [
    {
     "name": "stdout",
     "output_type": "stream",
     "text": [
      "157.88888888888889 154.27222222222224\n"
     ]
    },
    {
     "data": {
      "text/plain": [
       "TtestResult(statistic=-1.269984318155295, pvalue=0.20916239768961117, df=57.99221552959344)"
      ]
     },
     "execution_count": 82,
     "metadata": {},
     "output_type": "execute_result"
    }
   ],
   "source": [
    "# Two sample t-test / Two tailed t-test\n",
    "from scipy.stats import ttest_ind\n",
    "from random import sample\n",
    "sample_1 = sample(range(140, 184), 30)\n",
    "sample_2 = sample(range(140, 184), 30)\n",
    "print(np.var(sample_1), np.var(sample_2))\n",
    "# ttest_ind(sample_1, sample_2, equal_var=True)\n",
    "ttest_ind(sample_1, sample_2, equal_var=False)\n",
    "\n"
   ]
  },
  {
   "cell_type": "code",
   "execution_count": 83,
   "metadata": {},
   "outputs": [
    {
     "data": {
      "text/plain": [
       "TtestResult(statistic=-3.8203873135731126, pvalue=0.0006500634386439201, df=29)"
      ]
     },
     "execution_count": 83,
     "metadata": {},
     "output_type": "execute_result"
    }
   ],
   "source": [
    "# Paired t_test\n",
    "from scipy.stats import ttest_rel\n",
    "from random import sample\n",
    "sample_1 = sample(range(135, 170), 30)\n",
    "sample_2 = sample(range(145, 180), 30)\n",
    "ttest_rel(sample_1, sample_2)"
   ]
  },
  {
   "cell_type": "code",
   "execution_count": 84,
   "metadata": {},
   "outputs": [
    {
     "name": "stdout",
     "output_type": "stream",
     "text": [
      "Degree of freedom 1: 24\n",
      "Degree of freedom 2: 19\n",
      "F-statistic: 1.3008773026586795\n",
      "p-value: 0.7183229669590911\n"
     ]
    }
   ],
   "source": [
    "# F-Test\n",
    "# Compare variances of two populations where the groups are taken from equal or not\n",
    "import numpy as np\n",
    "import scipy.stats as stats\n",
    " \n",
    "# Create the data for two groups\n",
    "group1 = np.random.rand(25)\n",
    "group2 = np.random.rand(20)\n",
    " \n",
    "# Calculate the sample variances\n",
    "variance1 = np.var(group1, ddof=1)\n",
    "variance2 = np.var(group2, ddof=1)\n",
    " \n",
    "# Calculate the F-statistic\n",
    "f_value = variance1 / variance2\n",
    " \n",
    "# Calculate the degrees of freedom\n",
    "df1 = len(group1) - 1\n",
    "df2 = len(group2) - 1\n",
    " \n",
    "# Calculate the p-value\n",
    "p_value = stats.f.cdf(f_value, df1, df2)\n",
    " \n",
    "# Print the results\n",
    "print('Degree of freedom 1:',df1)\n",
    "print('Degree of freedom 2:',df2)\n",
    "print(\"F-statistic:\", f_value)\n",
    "print(\"p-value:\", p_value)\n",
    "\n"
   ]
  },
  {
   "cell_type": "code",
   "execution_count": 85,
   "metadata": {},
   "outputs": [
    {
     "data": {
      "text/plain": [
       "F_onewayResult(statistic=3.607745851211369, pvalue=0.01706368322371624)"
      ]
     },
     "execution_count": 85,
     "metadata": {},
     "output_type": "execute_result"
    }
   ],
   "source": [
    "# Anova test\n",
    "from random import sample\n",
    "from scipy.stats import f_oneway\n",
    "\n",
    "# One way anova-test\n",
    "    # We have to check if the effect of 4 different performace enhancers on an electric vehicle is same or not\n",
    "\n",
    "\n",
    "sample_1 = sample(range(0,100), 20)\n",
    "sample_2 = sample(range(0,95), 20)\n",
    "sample_3 = sample(range(0,120), 20)\n",
    "sample_4 = sample(range(0,145), 20)\n",
    "f_oneway(sample_1, sample_2, sample_3, sample_4)\n",
    "\n",
    "\n",
    "\n"
   ]
  },
  {
   "cell_type": "code",
   "execution_count": 94,
   "metadata": {},
   "outputs": [
    {
     "name": "stdout",
     "output_type": "stream",
     "text": [
      "                             df     sum_sq   mean_sq         F    PR(>F)\n",
      "C(Fertilizer)               1.0   0.033333  0.033333  0.012069  0.913305\n",
      "C(Watering)                 1.0   1.421614  1.421614  0.514722  0.479045\n",
      "C(Fertilizer):C(Watering)   1.0   0.223698  0.223698  0.080994  0.778049\n",
      "Residual                   28.0  77.333333  2.761905       NaN       NaN\n"
     ]
    }
   ],
   "source": [
    "# Two way anova-test\n",
    "# We have to check how 2 factors will affect the response variable\n",
    "\n",
    "\n",
    "# Importing libraries \n",
    "import statsmodels.api as sm \n",
    "from statsmodels.formula.api import ols \n",
    "import pandas as pd\n",
    "  \n",
    "# Create a dataframe \n",
    "dataframe = pd.DataFrame({'Fertilizer': np.repeat(['daily', 'weekly'], 15), \n",
    "                          'Watering': np.repeat(['daily', 'weekly'], 15), \n",
    "                          'height': [14, 16, 15, 15, 16, 13, 12, 11, \n",
    "                                     14, 15, 16, 16, 17, 18, 14, 13,  \n",
    "                                     14, 14, 14, 15, 16, 16, 17, 18, \n",
    "                                     14, 13, 14, 14, 14, 15]}) \n",
    "# print(dataframe)\n",
    "    \n",
    "# Performing two-way ANOVA \n",
    "model = ols('height ~ C(Fertilizer) + C(Watering) + C(Fertilizer):C(Watering)', \n",
    "            data=dataframe).fit() \n",
    "result = sm.stats.anova_lm(model, type=2) \n",
    "  \n",
    "# Print the result \n",
    "print(result) "
   ]
  },
  {
   "cell_type": "code",
   "execution_count": 95,
   "metadata": {},
   "outputs": [
    {
     "data": {
      "text/plain": [
       "(-0.24253562503633297, 0.8083651559145103)"
      ]
     },
     "execution_count": 95,
     "metadata": {},
     "output_type": "execute_result"
    }
   ],
   "source": [
    "# Z-test\n",
    "\n",
    "# Sample size > 30\n",
    "# is to compare the means of the population where the variances are known and \n",
    "# the sample sizes are large compared to t-test\n",
    "\n",
    "# Assumptions\n",
    "    # Standard deviations and variancs are known\n",
    "    # Population size should be 10 times as much as the sample size\n",
    "    # Samples are drawn at random from population\n",
    "# One sample z-test for mean\n",
    "\n",
    "from random import sample\n",
    "from statsmodels.stats.weightstats import ztest\n",
    "\n",
    "sample_data = sample(range(30, 80), 50)\n",
    "ztest(sample_data, value=55)"
   ]
  },
  {
   "cell_type": "code",
   "execution_count": 99,
   "metadata": {},
   "outputs": [
    {
     "data": {
      "text/plain": [
       "(0.38438550187985765, 0.7006927445364217)"
      ]
     },
     "execution_count": 99,
     "metadata": {},
     "output_type": "execute_result"
    }
   ],
   "source": [
    "# Two sample z-test\n",
    "    # - see if means are equal\n",
    "\n",
    "from random import sample\n",
    "from statsmodels.stats.weightstats import ztest\n",
    "\n",
    "sample_data = sample(range(130, 185), 50)\n",
    "\n",
    "sample_data_2 = sample(range(130, 185), 50)\n",
    "\n",
    "ztest(sample_data, sample_data_2, value=0)"
   ]
  },
  {
   "cell_type": "code",
   "execution_count": null,
   "metadata": {},
   "outputs": [],
   "source": [
    "# One sample z-test for proportion\n"
   ]
  },
  {
   "cell_type": "code",
   "execution_count": 100,
   "metadata": {},
   "outputs": [
    {
     "name": "stdout",
     "output_type": "stream",
     "text": [
      "p value is 0.1031971404730939\n",
      "Independent (H0 holds true)\n"
     ]
    }
   ],
   "source": [
    "# Chi-Square test\n",
    "\n",
    "# For categorical data that can be used to check the goodness of fit or test of independence\n",
    "# Assumptions\n",
    "    # - the featuers are cateogorical in nature\n",
    "    # the samples are taken at random\n",
    "    # Minimum of five observations expected in each group\n",
    "\n",
    "\n",
    "from scipy.stats import chi2_contingency\n",
    " \n",
    "# defining the table\n",
    "data = [[207, 282, 241], [234, 242, 232]]\n",
    "stat, p, dof, expected = chi2_contingency(data)\n",
    " \n",
    "# interpret p-value\n",
    "alpha = 0.05\n",
    "print(\"p value is \" + str(p))\n",
    "if p <= alpha:\n",
    "    print('Dependent (reject H0)')\n",
    "else:\n",
    "    print('Independent (H0 holds true)') "
   ]
  }
 ],
 "metadata": {
  "kernelspec": {
   "display_name": "Python 3",
   "language": "python",
   "name": "python3"
  },
  "language_info": {
   "codemirror_mode": {
    "name": "ipython",
    "version": 3
   },
   "file_extension": ".py",
   "mimetype": "text/x-python",
   "name": "python",
   "nbconvert_exporter": "python",
   "pygments_lexer": "ipython3",
   "version": "3.9.6"
  }
 },
 "nbformat": 4,
 "nbformat_minor": 2
}
