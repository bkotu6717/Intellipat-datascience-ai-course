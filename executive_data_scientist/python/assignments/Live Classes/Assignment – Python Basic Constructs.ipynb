{
 "cells": [
  {
   "cell_type": "code",
   "execution_count": 99,
   "metadata": {},
   "outputs": [
    {
     "name": "stdout",
     "output_type": "stream",
     "text": [
      "1050.0\n"
     ]
    }
   ],
   "source": [
    "# Q1. Using Python script as a calculator\n",
    "# Create the variables n, r, p and assign them values 10, 5, and 100 respectively. Then\n",
    "# evaluate the following expression in the Python console.\n",
    "# 𝐴 = 𝑝 (1 + 𝑟/ 100)n\n",
    "# a. 100\n",
    "# b. 162.89\n",
    "# c. 189\n",
    "# d. None of the above\n",
    "n, r, p = 10, 5, 100\n",
    "A = p*(1+(r/100))*n\n",
    "print(A)\n",
    "\n",
    "# Ans: D"
   ]
  },
  {
   "cell_type": "code",
   "execution_count": 100,
   "metadata": {},
   "outputs": [
    {
     "name": "stdout",
     "output_type": "stream",
     "text": [
      "There are 10 students in the class, with 20 who play at least one sport.\n",
      "There are 20 students in the class, with 10 who play at least one sport.\n"
     ]
    }
   ],
   "source": [
    "# Q2. In a given string format operation, how will you print the given string.\n",
    "A = 10\n",
    "B = 20\n",
    "string = \"There are {} students in the class, with {} who play at least one sport.\"\n",
    "# a.\n",
    "print(string.format(A,B))\n",
    "# b. print(string+a+b)\n",
    "# c. \n",
    "print(string.format(B, A))\n",
    "# d. None of the above\n",
    "\n",
    "# Ans: A, C"
   ]
  },
  {
   "cell_type": "code",
   "execution_count": 101,
   "metadata": {},
   "outputs": [
    {
     "name": "stdout",
     "output_type": "stream",
     "text": [
      "It goes without saying, \"Time is Money\", and none can deny it.\n"
     ]
    }
   ],
   "source": [
    "# Q3. In a given sample string, How do you print a double quoted string in between a\n",
    "# regular\n",
    "# string using the escape character?\n",
    "# Sample output = It goes without saying, “Time is Money”, and none can deny it.\n",
    "# a. \n",
    "print(\"It goes without saying, \\\"Time is Money\\\", and none can deny it.\")\n",
    "# b. print(\"It goes without saying, \\Time is Money\\, and none can deny it.\")\n",
    "# c. print(\"It goes without saying\" + \"Time is Money\" + \"and none can deny it.\")\n",
    "# d. None of the above.\n",
    "\n",
    "# Ans: a"
   ]
  },
  {
   "cell_type": "code",
   "execution_count": 102,
   "metadata": {},
   "outputs": [
    {
     "data": {
      "text/plain": [
       "3.3333333333"
      ]
     },
     "execution_count": 102,
     "metadata": {},
     "output_type": "execute_result"
    }
   ],
   "source": [
    "# Q4. What will be the output of the following code?\n",
    "x = lambda a,b: a//b\n",
    "x(10,3)\n",
    "# a. \n",
    "3.3333333333\n",
    "# b. 3\n",
    "# c. 30\n",
    "# d. 1000\n",
    "\n",
    "# Ans: b"
   ]
  },
  {
   "cell_type": "code",
   "execution_count": 103,
   "metadata": {},
   "outputs": [
    {
     "name": "stdout",
     "output_type": "stream",
     "text": [
      "Greater\n"
     ]
    }
   ],
   "source": [
    "# Q5. What will be the output of the following code?\n",
    "A = 10\n",
    "B = 12\n",
    "print(\"Smaller\") if A == B else print(\"Greater\") if A < B else print(\"True\")\n",
    "# a. True\n",
    "# b. Smaller\n",
    "# c. \n",
    "# Greater\n",
    "# d. None of the above\n",
    "\n",
    "# Ans: c"
   ]
  },
  {
   "cell_type": "code",
   "execution_count": 104,
   "metadata": {},
   "outputs": [
    {
     "name": "stdout",
     "output_type": "stream",
     "text": [
      "[2, 7, 3, 5, 4, 6]\n",
      "[2 7 3 5 4 6]\n"
     ]
    }
   ],
   "source": [
    "# Q6. What will be the output of the following code?\n",
    "import os\n",
    "import numpy as np\n",
    "my_list1 = [2,7,3,5,4,6]\n",
    "print(my_list1)\n",
    "arr_1 = np.array(my_list1, dtype=int)\n",
    "print(arr_1)\n",
    "\n",
    "# a. [2 7 3 5 4 6]\n",
    "# b. TypeError\n",
    "# c. NameError: name 'numpy' is not defined\n",
    "# d. None of the above\n",
    "\n",
    "# Ans: a"
   ]
  },
  {
   "cell_type": "code",
   "execution_count": 105,
   "metadata": {},
   "outputs": [
    {
     "data": {
      "text/plain": [
       "'Learn'"
      ]
     },
     "execution_count": 105,
     "metadata": {},
     "output_type": "execute_result"
    }
   ],
   "source": [
    "# Q7. Create a string called ‘string’ with the value as “Machine Learning”. Which code(s)\n",
    "# is/are appropriate to slice the substring “Learn”?\n",
    "\n",
    "string = 'Machine Learning'\n",
    "# a. string[slice(13,8,1)]\n",
    "# b. string[slice(1,8,1)]\n",
    "# c. string[8:14]\n",
    "# d. \n",
    "string[slice(8,13,1)]\n",
    "\n",
    "# Ans: d"
   ]
  },
  {
   "cell_type": "code",
   "execution_count": 106,
   "metadata": {},
   "outputs": [
    {
     "name": "stdout",
     "output_type": "stream",
     "text": [
      "2\n"
     ]
    }
   ],
   "source": [
    "# Q8. Create a sequence of numbers from 10 to 25 and increment by 4. What is the index\n",
    "# of the\n",
    "# value 18?\n",
    "# a. 3\n",
    "# b. \n",
    "2\n",
    "# c. 0\n",
    "# d. 1\n",
    "list = range(10, 25, 4)\n",
    "print(list.index(18))\n",
    "\n",
    "# Ans: b"
   ]
  },
  {
   "cell_type": "code",
   "execution_count": 107,
   "metadata": {},
   "outputs": [
    {
     "name": "stdout",
     "output_type": "stream",
     "text": [
      "20 625\n"
     ]
    }
   ],
   "source": [
    "# Q9. Which of the following is true with respect to the below codes?\n",
    "num1 = 5 * 4\n",
    "num2 = pow(5, 4)\n",
    "print(num1, num2)\n",
    "\n",
    "# a. num1 = num2\n",
    "# b. num1 ≠ num2\n",
    "# c. num1 < num2\n",
    "# d. num1 > num2\n",
    "\n",
    "# Ans: b and c"
   ]
  },
  {
   "cell_type": "code",
   "execution_count": 108,
   "metadata": {},
   "outputs": [],
   "source": [
    "# Q10.A Python NameError exception is raised when: -\n",
    "# a. Trying to access a variable which has not been defined\n",
    "# b. Trying to access a key in a dictionary that does not exist\n",
    "# c. Accessing a column with misspelled column name\n",
    "# d. Accessing the function from a module that has not been imported\n",
    "\n",
    "# Ans: a"
   ]
  },
  {
   "cell_type": "code",
   "execution_count": 109,
   "metadata": {},
   "outputs": [],
   "source": [
    "# Q11.What type of exception will be raised for the code given below?\n",
    "\n",
    "x = 'string'\n",
    "# int(x)\n",
    "# a. NameError\n",
    "# b. KeyError\n",
    "# c. ValueError\n",
    "# d. AttributeError\n",
    "\n",
    "# Ans: c"
   ]
  },
  {
   "cell_type": "code",
   "execution_count": 110,
   "metadata": {},
   "outputs": [],
   "source": [
    "# Q12.A FileNotFoundError exception is raised by operating system errors when: -\n",
    "\n",
    "# a. Trying to create a file or directory which already exists\n",
    "# b. A file or directory is requested but does not exist in the working directory\n",
    "# c. Trying to run an operation without the adequate access rights\n",
    "# d. A directory operation, os.listdir() is requested on something which is not a\n",
    "# directory\n",
    "\n",
    "# Ans: b"
   ]
  },
  {
   "cell_type": "code",
   "execution_count": 111,
   "metadata": {},
   "outputs": [
    {
     "name": "stdout",
     "output_type": "stream",
     "text": [
      "<class 'str'>\n"
     ]
    }
   ],
   "source": [
    "# Q13.Consider a variable Z. The value of Z is \"ID-5632\". Data type of Z is: -\n",
    "# a. Complex\n",
    "# b. Character\n",
    "# c. Integer\n",
    "# d. Boolean\n",
    "\n",
    "z = 'ID-5632'\n",
    "print(type(z))\n",
    "\n",
    "# Ans: b\n",
    "# <class 'str'>"
   ]
  },
  {
   "cell_type": "code",
   "execution_count": 112,
   "metadata": {},
   "outputs": [],
   "source": [
    "# Q14.Which of the following variable(s) are character data type?\n",
    "# a. K= “4”\n",
    "# b. J= “Welcome”\n",
    "# c. L= “?”\n",
    "# d. All of the above\n",
    "\n",
    "# Ans: D"
   ]
  },
  {
   "cell_type": "code",
   "execution_count": 113,
   "metadata": {},
   "outputs": [],
   "source": [
    "# Q15.Choose the symbol/s that does not have the ability to convert any values to string?\n",
    "# a. ( )\n",
    "# b. “ ”\n",
    "# c. {}\n",
    "# d. #\n",
    "\n",
    "# Ans: a, c, d"
   ]
  },
  {
   "cell_type": "code",
   "execution_count": 114,
   "metadata": {},
   "outputs": [
    {
     "name": "stdout",
     "output_type": "stream",
     "text": [
      "{'India': 'Delhi', 'China': 'Beijing', 'Japan': 'Tokyo', 'Qatar': 'Doha', 'France': 'Paris'}\n"
     ]
    }
   ],
   "source": [
    "# Q16.Create a dictionary ‘Country’ that maps the following countries to their capitals\n",
    "# respectively:\n",
    "# Country India China Japan Qatar France\n",
    "# State Delhi Beijing Tokyo Doha Marseilles\n",
    "\n",
    "country_capitals = {\n",
    "    'India': 'Delhi',\n",
    "    'China': 'Beijing',\n",
    "    'Japan': 'Tokyo',\n",
    "    'Qatar': 'Doha',\n",
    "    'France': 'Marseilles'\n",
    "}\n",
    "\n",
    "# Find 2 commands to replace “Marseilles” with “Paris” is:\n",
    "country_capitals['France'] = 'Paris'\n",
    "country_capitals.update({'France': 'Paris'})\n",
    "\n",
    "print(country_capitals)"
   ]
  },
  {
   "cell_type": "code",
   "execution_count": 115,
   "metadata": {},
   "outputs": [],
   "source": [
    "# Q17. Create the tuples given below\n",
    "tuple_1 = (1,5,6,7,8)\n",
    "tuple_2 = (8,9,4)\n",
    "# Identify which of the following code does not work on a tuple.\n",
    "# a. sum(tuple_1)\n",
    "# b. len(tuple_2)\n",
    "# c. tuple_2 + tuple_1\n",
    "# d. tuple_1[3] = 45\n",
    "\n",
    "# Ans: d\n",
    "# tuple_1[3] = 45\n"
   ]
  },
  {
   "cell_type": "code",
   "execution_count": 116,
   "metadata": {},
   "outputs": [
    {
     "name": "stdout",
     "output_type": "stream",
     "text": [
      "6\n"
     ]
    }
   ],
   "source": [
    "# Q18. How many elements in the following data structure?\n",
    "s = {1,2,3,4,5,6}\n",
    "\n",
    "print(len(s))"
   ]
  },
  {
   "cell_type": "code",
   "execution_count": 117,
   "metadata": {},
   "outputs": [
    {
     "name": "stdout",
     "output_type": "stream",
     "text": [
      "3 4 5\n",
      "8 6 10\n",
      "5 12 13\n",
      "15 8 17\n",
      "12 16 20\n"
     ]
    }
   ],
   "source": [
    "# Q19.Write a function which finds all pythagorean triplets of triangles whose sides are no\n",
    "# greater than a natural number N.\n",
    "\n",
    "# Python3 program to generate pythagorean  \n",
    "# triplets smaller than a given limit \n",
    "# Python3 program to generate pythagorean  \n",
    "# triplets smaller than a given limit \n",
    "  \n",
    "# Function to generate pythagorean  \n",
    "# triplets smaller than limit \n",
    "def pythagoreanTriplets(limits) : \n",
    "    c, m = 0, 2\n",
    "  \n",
    "    # Limiting c would limit  \n",
    "    # all a, b and c \n",
    "    while c < limits : \n",
    "          \n",
    "        # Now loop on n from 1 to m-1 \n",
    "        for n in range(1, m) : \n",
    "            a = m * m - n * n \n",
    "            b = 2 * m * n \n",
    "            c = m * m + n * n \n",
    "  \n",
    "            # if c is greater than \n",
    "            # limit then break it \n",
    "            if c > limits : \n",
    "                break\n",
    "  \n",
    "            print(a, b, c) \n",
    "  \n",
    "        m = m + 1\n",
    "  \n",
    "  \n",
    "# Driver Code \n",
    "if __name__ == '__main__' : \n",
    "      \n",
    "    limit = 20\n",
    "    pythagoreanTriplets(limit)\n",
    "    "
   ]
  }
 ],
 "metadata": {
  "kernelspec": {
   "display_name": "Python 3",
   "language": "python",
   "name": "python3"
  },
  "language_info": {
   "codemirror_mode": {
    "name": "ipython",
    "version": 3
   },
   "file_extension": ".py",
   "mimetype": "text/x-python",
   "name": "python",
   "nbconvert_exporter": "python",
   "pygments_lexer": "ipython3",
   "version": "3.9.6"
  }
 },
 "nbformat": 4,
 "nbformat_minor": 2
}
