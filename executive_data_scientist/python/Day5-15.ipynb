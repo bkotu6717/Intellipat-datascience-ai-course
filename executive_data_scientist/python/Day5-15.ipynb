{
 "cells": [
  {
   "cell_type": "code",
   "execution_count": 43,
   "id": "c7d789b1",
   "metadata": {},
   "outputs": [
    {
     "name": "stdout",
     "output_type": "stream",
     "text": [
      "Enter the number to be tested: 10\n",
      "Not a prime number\n"
     ]
    }
   ],
   "source": [
    "# hands-on\n",
    "# 1. is prime?\n",
    "\n",
    "import math\n",
    "\n",
    "def check_prime(num):\n",
    "    # always handle base condition at the top\n",
    "    if(num < 2): return -1\n",
    "    for i in range(2, math.ceil(math.sqrt(num))):\n",
    "        if(num % i == 0):\n",
    "            return False\n",
    "    return True\n",
    "\n",
    "from time import time\n",
    "\n",
    "\n",
    "num = int(input('Enter the number to be tested: '))\n",
    "\n",
    "# start = time()\n",
    "result = check_prime(num)\n",
    "if(result == True): print('Prime number')\n",
    "elif(result == -1): print('Invalid number')\n",
    "else: print('Not a prime number')\n",
    "end = time()\n",
    "\n",
    "# print('time taken', end-start)"
   ]
  },
  {
   "cell_type": "code",
   "execution_count": 50,
   "id": "c1bd35f6",
   "metadata": {},
   "outputs": [
    {
     "name": "stdout",
     "output_type": "stream",
     "text": [
      "[2, 3, 4, 5, 7, 9, 11, 13, 17, 19, 23, 25, 29, 31, 37, 41, 43, 47, 49, 53, 59, 61, 67, 71, 73, 79, 83, 89, 97]\n"
     ]
    }
   ],
   "source": [
    "# find prime numbers upto 100\n",
    "# [2, 3, 5, 7, 11, 13, 17, 19, 23, .......]\n",
    "\n",
    "\n",
    "def check_prime(num):\n",
    "    # always handle base condition at the top\n",
    "    if(num < 2): return -1\n",
    "    for i in range(2, math.ceil(math.sqrt(num))):\n",
    "        if(num % i == 0):\n",
    "            return False\n",
    "    return True\n",
    "\n",
    "num = 100\n",
    "prime_nos = []\n",
    "for i in range(2, num):\n",
    "    if(check_prime(i)):\n",
    "        prime_nos.append(i)\n",
    "print(prime_nos)"
   ]
  },
  {
   "cell_type": "markdown",
   "id": "abdc8783",
   "metadata": {},
   "source": []
  },
  {
   "cell_type": "code",
   "execution_count": 68,
   "id": "24c5435f",
   "metadata": {},
   "outputs": [
    {
     "name": "stdout",
     "output_type": "stream",
     "text": [
      "Enter the number to be checked: 24\n",
      "not an armstrong number\n"
     ]
    }
   ],
   "source": [
    "# armstrong number\n",
    "# 153 -> 1**3 + 5**3 + 3**3 = 1 + 125 + 27 = 153 -> armstrong number\n",
    "# 24 -> 2**2 + 4**2 = 4 + 16 = 20 -> not an armstrong number\n",
    "\n",
    "num = int(input('Enter the number to be checked: '))\n",
    "original_num = num\n",
    "total = 0\n",
    "count = len(str(num))\n",
    "\n",
    "while(num > 0):\n",
    "    digit = (num % 10)\n",
    "    total += digit ** count\n",
    "    num = num // 10\n",
    "\n",
    "if(total == original_num):\n",
    "    print('armstrong number')\n",
    "else:\n",
    "    print('not an armstrong number')"
   ]
  },
  {
   "cell_type": "code",
   "execution_count": 73,
   "id": "d7bb636a",
   "metadata": {},
   "outputs": [
    {
     "name": "stdout",
     "output_type": "stream",
     "text": [
      "[5, 19, 77, 83, 89, 123, 154, 264]\n",
      "max no 264\n",
      "min no 5\n"
     ]
    }
   ],
   "source": [
    "# max num in the list\n",
    "nums = [5, 89, 19, 264, 154, 77, 123, 83]\n",
    "# print(max(nums))\n",
    "\n",
    "# time consuming\n",
    "# nums.sort()\n",
    "# print(nums)\n",
    "# print('max no', nums[-1])\n",
    "# print('min no', nums[0])"
   ]
  },
  {
   "cell_type": "code",
   "execution_count": 80,
   "id": "95aaae00",
   "metadata": {},
   "outputs": [
    {
     "name": "stdout",
     "output_type": "stream",
     "text": [
      "264\n",
      "1\n"
     ]
    }
   ],
   "source": [
    "# max num in the list\n",
    "nums = [5, 89, 19, 264, 154, 77, 1, 123, 83]\n",
    "current_max = nums[0]\n",
    "current_min = nums[0]\n",
    "\n",
    "for num in nums:\n",
    "    if(num > current_max):\n",
    "        current_max = num\n",
    "        \n",
    "    if(num < current_min):\n",
    "        current_min = num\n",
    "\n",
    "print(current_max)\n",
    "print(current_min)"
   ]
  },
  {
   "cell_type": "code",
   "execution_count": 86,
   "id": "861793a9",
   "metadata": {},
   "outputs": [
    {
     "name": "stdout",
     "output_type": "stream",
     "text": [
      "0\n",
      "1\n",
      "1\n",
      "2\n",
      "3\n",
      "5\n",
      "8\n",
      "13\n",
      "21\n",
      "34\n"
     ]
    }
   ],
   "source": [
    "# fibonacci series -> 0, 1, 1, 2, 3, 5, 8, 13, 21,.....\n",
    "\n",
    "num = 10\n",
    "\n",
    "n1 = 0\n",
    "n2 = 1\n",
    "\n",
    "if(num == 1):\n",
    "    print(n1)\n",
    "else:\n",
    "    while(num > 0):\n",
    "        print(n1)\n",
    "        temp = n1 + n2\n",
    "        n1 = n2\n",
    "        n2 = temp\n",
    "        num -= 1"
   ]
  },
  {
   "cell_type": "code",
   "execution_count": 95,
   "id": "8420926e",
   "metadata": {},
   "outputs": [
    {
     "name": "stdout",
     "output_type": "stream",
     "text": [
      "pair -> 2 5\n",
      "pair -> 3 4\n"
     ]
    }
   ],
   "source": [
    "# find the two sum\n",
    "nums = [1, 2, 3, 4, 5, 7, 9]\n",
    "target = 7\n",
    "\n",
    "# solution 1: brute force\n",
    "# for i in range(len(nums)):\n",
    "#     for j in range(i+1, len(nums)):\n",
    "#         if(nums[i] + nums[j] == target):\n",
    "#             print('pair ->', nums[i], nums[j])\n",
    "\n",
    "\n",
    "# solution 2: good solution\n",
    "# hash_set = set()\n",
    "\n",
    "# for num in nums:\n",
    "#     diff = target - num\n",
    "#     if(diff in hash_set):\n",
    "#         print(num, diff)\n",
    "#     else:\n",
    "#         hash_set.add(num)\n",
    "\n",
    "# best solution\n",
    "left = 0\n",
    "right = len(nums) - 1\n",
    "\n",
    "while(left < right):\n",
    "    if(nums[left] + nums[right] > target):\n",
    "        right -= 1\n",
    "    elif(nums[left] + nums[right] < target):\n",
    "        left += 1\n",
    "    else:\n",
    "        print('pair ->', nums[left], nums[right])\n",
    "        left += 1\n",
    "        right -= 1"
   ]
  },
  {
   "cell_type": "code",
   "execution_count": 98,
   "id": "85bebf1f",
   "metadata": {},
   "outputs": [
    {
     "name": "stdout",
     "output_type": "stream",
     "text": [
      "['name', 'age', 'place']\n",
      "['vasanth', 10, 'chennai']\n"
     ]
    }
   ],
   "source": [
    "person = {\n",
    "    'name': 'vasanth',\n",
    "    'age': 10,\n",
    "    'place': 'chennai'\n",
    "}\n",
    "\n",
    "print(list(person.keys()))\n",
    "print(list(person.values()))"
   ]
  },
  {
   "cell_type": "code",
   "execution_count": 105,
   "id": "1da79f0d",
   "metadata": {},
   "outputs": [
    {
     "name": "stdout",
     "output_type": "stream",
     "text": [
      "{'name': 'vasanth', 'age': 10, 'place': 'chennai'}\n"
     ]
    }
   ],
   "source": [
    "keys = ['name', 'age', 'place', 'country']\n",
    "values = ['vasanth', 10, 'chennai']\n",
    "\n",
    "data = []\n",
    "\n",
    "if len(keys) < len(values):\n",
    "    data = keys\n",
    "else:\n",
    "    data = values\n",
    "    \n",
    "# dict -> person\n",
    "person = dict()\n",
    "for i in range(len(data)):\n",
    "    person[keys[i]] = values[i]\n",
    "    \n",
    "print(person)"
   ]
  },
  {
   "cell_type": "code",
   "execution_count": 115,
   "id": "06a437d4",
   "metadata": {},
   "outputs": [
    {
     "name": "stdout",
     "output_type": "stream",
     "text": [
      "{'name': 'vasanth', 'age': 10, 'place': 'chennai', 'country': 'india'}\n"
     ]
    }
   ],
   "source": [
    "# zip\n",
    "\n",
    "keys = ['name', 'age', 'place', 'country']\n",
    "values = ['vasanth', 10, 'chennai', 'india']\n",
    "person = dict()\n",
    "\n",
    "for key, value in zip(keys, values):\n",
    "    person[key] = value\n",
    "    \n",
    "print(person)"
   ]
  },
  {
   "cell_type": "code",
   "execution_count": 119,
   "id": "9dde37c5",
   "metadata": {},
   "outputs": [
    {
     "name": "stdout",
     "output_type": "stream",
     "text": [
      "Counter({'A': 3, 'N': 2, 'J': 1})\n"
     ]
    }
   ],
   "source": [
    "# character frequency\n",
    "# ANJANA -> {'A': 3, 'N':2, 'J': 1 }\n",
    "\n",
    "from collections import Counter\n",
    "\n",
    "name = 'ANJANA'\n",
    "\n",
    "# char_map = dict()\n",
    "# for char in name:\n",
    "#     if(char in char_map):\n",
    "#         char_map[char] += 1\n",
    "#     else:\n",
    "#         char_map[char] = 1\n",
    "# print(char_map)\n",
    "\n",
    "print(Counter(name))"
   ]
  },
  {
   "cell_type": "code",
   "execution_count": 120,
   "id": "3647e53f",
   "metadata": {},
   "outputs": [
    {
     "name": "stdout",
     "output_type": "stream",
     "text": [
      "[5, 10, 15, 20, 25, 30, 35, 40, 45, 50, 55, 60, 65, 70, 75, 80, 85, 90, 95, 100]\n"
     ]
    }
   ],
   "source": [
    "# create nums starts from 5 to 100 -> 5, 10, 15, 20, .... upto 100\n",
    "nums = []\n",
    "for i in range(5, 101, 5):\n",
    "    nums.append(i)\n",
    "    \n",
    "print(nums)"
   ]
  },
  {
   "cell_type": "code",
   "execution_count": 121,
   "id": "f21cc043",
   "metadata": {},
   "outputs": [
    {
     "name": "stdout",
     "output_type": "stream",
     "text": [
      "[0, 2, 4, 6, 8, 10, 12, 14, 16, 18, 20, 22, 24, 26, 28, 30, 32, 34, 36, 38, 40, 42, 44, 46, 48, 50, 52, 54, 56, 58, 60, 62, 64, 66, 68, 70, 72, 74, 76, 78, 80, 82, 84, 86, 88, 90, 92, 94, 96, 98, 100]\n"
     ]
    }
   ],
   "source": [
    "# even nos upto 100\n",
    "nums = []\n",
    "for i in range(0, 101, 2):\n",
    "    nums.append(i)\n",
    "print(nums)"
   ]
  },
  {
   "cell_type": "code",
   "execution_count": 122,
   "id": "00543585",
   "metadata": {},
   "outputs": [
    {
     "name": "stdout",
     "output_type": "stream",
     "text": [
      "[0, 2, 4, 6, 8, 10, 12, 14, 16, 18, 20, 22, 24, 26, 28, 30, 32, 34, 36, 38, 40, 42, 44, 46, 48, 50, 52, 54, 56, 58, 60, 62, 64, 66, 68, 70, 72, 74, 76, 78, 80, 82, 84, 86, 88, 90, 92, 94, 96, 98, 100]\n"
     ]
    }
   ],
   "source": [
    "# composition\n",
    "nums = [ i for i in range(0, 101, 2)]\n",
    "print(nums)"
   ]
  },
  {
   "cell_type": "code",
   "execution_count": 123,
   "id": "e3446827",
   "metadata": {},
   "outputs": [
    {
     "name": "stdout",
     "output_type": "stream",
     "text": [
      "[0, 1, 2, 0, 1, 2, 0, 1, 2, 0, 1, 2, 0, 1, 2, 0, 1, 2, 0, 1, 2, 0, 1, 2, 0, 1, 2, 0, 1, 2, 0, 1, 2, 0, 1, 2, 0, 1, 2, 0, 1, 2, 0, 1, 2, 0, 1, 2, 0, 1, 2, 0, 1, 2, 0, 1, 2, 0, 1, 2, 0, 1, 2, 0, 1, 2, 0, 1, 2, 0, 1, 2, 0, 1, 2, 0, 1, 2, 0, 1, 2, 0, 1, 2, 0, 1, 2, 0, 1, 2, 0, 1, 2, 0, 1, 2, 0, 1, 2, 0]\n"
     ]
    }
   ],
   "source": [
    "nums = [ i % 3 for i in range(100)]\n",
    "print(nums)"
   ]
  },
  {
   "cell_type": "code",
   "execution_count": null,
   "id": "3f9f5c6f",
   "metadata": {},
   "outputs": [],
   "source": []
  }
 ],
 "metadata": {
  "kernelspec": {
   "display_name": "Python 3 (ipykernel)",
   "language": "python",
   "name": "python3"
  },
  "language_info": {
   "codemirror_mode": {
    "name": "ipython",
    "version": 3
   },
   "file_extension": ".py",
   "mimetype": "text/x-python",
   "name": "python",
   "nbconvert_exporter": "python",
   "pygments_lexer": "ipython3",
   "version": "3.11.4"
  }
 },
 "nbformat": 4,
 "nbformat_minor": 5
}
