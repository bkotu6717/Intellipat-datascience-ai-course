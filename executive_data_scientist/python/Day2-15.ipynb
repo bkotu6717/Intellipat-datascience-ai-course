{
 "cells": [
  {
   "cell_type": "code",
   "execution_count": 10,
   "id": "e961ab44",
   "metadata": {},
   "outputs": [
    {
     "name": "stdout",
     "output_type": "stream",
     "text": [
      "100000\n"
     ]
    }
   ],
   "source": [
    "# Assignment operators -> =\n",
    "num = 10\n",
    "# print(num, id(num))\n",
    "# num = num + 5\n",
    "# num += 5\n",
    "# num -= 5 # num = num - 5\n",
    "# num *= 5\n",
    "# num /= 5\n",
    "# num //= 5\n",
    "# num %= 5\n",
    "# num **= 5\n",
    "\n",
    "print(num)"
   ]
  },
  {
   "cell_type": "code",
   "execution_count": 40,
   "id": "2e29690d",
   "metadata": {},
   "outputs": [],
   "source": [
    "# comparison operators -> >, >=, <, <=, ==, != (always comparison ops -> BOOLEAN)\n",
    "# print(10 > 10)\n",
    "# print(10 < 5)\n",
    "# print(10 >= 10)\n",
    "# print(10 <= 5)\n",
    "# print(10 == 10) # compare left with right\n",
    "# print(10 != 5) # not equal\n",
    "\n",
    "# print(10 == '10')\n",
    "\n",
    "num = 10\n",
    "# print(num + '10') # error \n",
    "# print('10' + '15') # 1015\n",
    "\n",
    "# exceptional\n",
    "# print(num + True)\n",
    "\n",
    "# True -> 1\n",
    "# False -> 0\n",
    "\n",
    "# type casting -> converts 1 datatype into another datatype\n",
    "# print(int(True))\n",
    "# print(int(False))\n",
    "\n",
    "# 0 -> False\n",
    "# print(bool(0))\n",
    "# print(bool(-103))\n",
    "\n",
    "# print('10' + True) # error"
   ]
  },
  {
   "cell_type": "code",
   "execution_count": 60,
   "id": "4d0dd026",
   "metadata": {},
   "outputs": [
    {
     "name": "stdout",
     "output_type": "stream",
     "text": [
      "False\n",
      "True\n"
     ]
    }
   ],
   "source": [
    "# logical operator -> and, or, not\n",
    "# voter_id = True\n",
    "# age = 19\n",
    "\n",
    "# print(age >= 18 and voter_id == True) # both condition should satisfy\n",
    "\n",
    "# bus = True\n",
    "# train = False\n",
    "# print(bus == True or train == True)\n",
    "\n",
    "# if(bus == True):\n",
    "#     print('reached office by bus')\n",
    "# if(train == True):\n",
    "#     print('reached ofz by train')\n",
    "\n",
    "# not -> True to False or False to True\n",
    "# print(not(10 > 5)) # not(True) -> False\n",
    "# print(not(10 < 5))"
   ]
  },
  {
   "cell_type": "code",
   "execution_count": 72,
   "id": "d2d2f538",
   "metadata": {},
   "outputs": [
    {
     "name": "stdout",
     "output_type": "stream",
     "text": [
      "1955609087472 1955609087056\n",
      "True\n"
     ]
    }
   ],
   "source": [
    "# identity operator -> is, is not -> compares address\n",
    "num1 = 1000\n",
    "num2 = 1000\n",
    "print(id(num1), id(num2))\n",
    "# print(num1 == num2) # value\n",
    "# print(num1 is num2) # address\n",
    "print(num1  is not num2)"
   ]
  },
  {
   "cell_type": "code",
   "execution_count": 83,
   "id": "4d2b375f",
   "metadata": {},
   "outputs": [
    {
     "name": "stdout",
     "output_type": "stream",
     "text": [
      "True\n",
      "False\n"
     ]
    }
   ],
   "source": [
    "# membership operator -> in, not in\n",
    "word = '2023'\n",
    "news = 'World cup winner of 2023 is India'\n",
    "print(word in news) # case sensitive\n",
    "print(word not in news)\n",
    "\n",
    "# num = 10\n",
    "# num2 = 1010\n",
    "# print(num in num2)"
   ]
  },
  {
   "cell_type": "code",
   "execution_count": 110,
   "id": "3d952479",
   "metadata": {},
   "outputs": [
    {
     "name": "stdout",
     "output_type": "stream",
     "text": [
      "-2\n"
     ]
    }
   ],
   "source": [
    "# bitwise operator -> &, |, ^\n",
    "\n",
    "# & -> and\n",
    "# print(13 & 21)\n",
    "\n",
    "# | -> or\n",
    "# print(13 | 21)\n",
    "\n",
    "# ^ -> XOR\n",
    "# print(13 ^ 21)\n",
    "\n",
    "# left shift operator -> <<\n",
    "# print(2 << 1)  # left * 2^(right)\n",
    "# print(2 << 2)\n",
    "# print(2 << 3)\n",
    "# print(13 << 7)\n",
    "\n",
    "# right shift\n",
    "# print(8 >> 1)\n",
    "# print(9 >> 2) # left // 2^(right)\n",
    "# print(125 >> 3)\n",
    "\n",
    "# print(-8 >> 2)"
   ]
  },
  {
   "cell_type": "code",
   "execution_count": 112,
   "id": "8c7efcc1",
   "metadata": {},
   "outputs": [
    {
     "name": "stdout",
     "output_type": "stream",
     "text": [
      "-3\n",
      "1\n"
     ]
    }
   ],
   "source": [
    "print(~2)\n",
    "print(~-2)"
   ]
  },
  {
   "cell_type": "code",
   "execution_count": 130,
   "id": "867232e4",
   "metadata": {},
   "outputs": [
    {
     "name": "stdout",
     "output_type": "stream",
     "text": [
      "Johhny Johhny yes papa\n",
      "Eating sugar no papa\n",
      "Telling lies no papa\n",
      "Open your mouth hahahah\n"
     ]
    }
   ],
   "source": [
    "# strings\n",
    "# print('sachin tendulkar')\n",
    "# print(\"sachin tendulkar\")\n",
    "\n",
    "# sachin is a 'good' cricketer\n",
    "# print(\"sachin is a 'good' cricketer\")\n",
    "\n",
    "# sachin is a \"good\" cricketer\n",
    "# print('sachin is a \"good\" cricketer')\n",
    "\n",
    "# 'sachin' is a \"good\" cricketer\n",
    "# print(\"\"\" 'sachin's is a \"good\" cricketer \"\"\")\n",
    "# print(''' 'sachin' is a \"good\" cricketer ''')\n",
    "\n",
    "# Poem\n",
    "# Johhny Johhny yes papa\n",
    "# Eating sugar no papa\n",
    "# Telling lies no papa\n",
    "# Open your mouth hahahah\n",
    "\n",
    "# \"\"\" \"\"\" -> multiline strings\n",
    "print('''Johhny Johhny yes papa\n",
    "Eating sugar no papa\n",
    "Telling lies no papa\n",
    "Open your mouth hahahah''')"
   ]
  },
  {
   "cell_type": "code",
   "execution_count": 148,
   "id": "d5a420c8",
   "metadata": {},
   "outputs": [
    {
     "name": "stdout",
     "output_type": "stream",
     "text": [
      "Rohit Sharma is a good cricketer. Dhoni is the captain of India\n"
     ]
    }
   ],
   "source": [
    "first_name = 'Rohit'\n",
    "last_name = 'Sharma'\n",
    "captain = 'Dhoni'\n",
    "\n",
    "# Rohit Sharma is a good cricketer. \n",
    "# print('first_name last_name is a good cricketer')\n",
    "# print(first_name + \" \" + last_name + ' is a good cricketer. ' + captain + ' is the captain of India')\n",
    "\n",
    "# formatted strings -> f\n",
    "print(f\"{first_name} {last_name} is a good cricketer. {captain} is the captain of India\")"
   ]
  },
  {
   "cell_type": "code",
   "execution_count": 147,
   "id": "2ca24b5d",
   "metadata": {},
   "outputs": [
    {
     "name": "stdout",
     "output_type": "stream",
     "text": [
      "Enter the name: vasab\n",
      "Enter the age: dasda\n",
      "name -> vasab\n",
      "age -> dasda\n"
     ]
    }
   ],
   "source": [
    "# input\n",
    "name = input('Enter the name: ')\n",
    "age = input('Enter the age: ')\n",
    "\n",
    "print('name ->', name)\n",
    "print('age ->', age)"
   ]
  },
  {
   "cell_type": "code",
   "execution_count": 152,
   "id": "aa77be49",
   "metadata": {},
   "outputs": [
    {
     "name": "stdout",
     "output_type": "stream",
     "text": [
      "Enter the num1: 10\n",
      "Enter the num2: 15\n",
      "<class 'str'> <class 'str'>\n",
      "<class 'int'> <class 'int'>\n",
      "25\n"
     ]
    }
   ],
   "source": [
    "\n",
    "# by default input datatype is -> str\n",
    "num1 = input('Enter the num1: ')\n",
    "num2 = input('Enter the num2: ')\n",
    "print(type(num1), type(num2))\n",
    "\n",
    "num1 = int(num1)\n",
    "num2 = int(num2)\n",
    "print(type(num1), type(num2))\n",
    "print(num1 + num2)"
   ]
  },
  {
   "cell_type": "code",
   "execution_count": 157,
   "id": "eaa9b4a1",
   "metadata": {},
   "outputs": [
    {
     "name": "stdout",
     "output_type": "stream",
     "text": [
      "Enter the num1: True\n"
     ]
    },
    {
     "ename": "ValueError",
     "evalue": "invalid literal for int() with base 10: 'True'",
     "output_type": "error",
     "traceback": [
      "\u001b[1;31m---------------------------------------------------------------------------\u001b[0m",
      "\u001b[1;31mValueError\u001b[0m                                Traceback (most recent call last)",
      "Input \u001b[1;32mIn [157]\u001b[0m, in \u001b[0;36m<cell line: 1>\u001b[1;34m()\u001b[0m\n\u001b[1;32m----> 1\u001b[0m num1 \u001b[38;5;241m=\u001b[39m \u001b[38;5;28;43mint\u001b[39;49m\u001b[43m(\u001b[49m\u001b[38;5;28;43minput\u001b[39;49m\u001b[43m(\u001b[49m\u001b[38;5;124;43m'\u001b[39;49m\u001b[38;5;124;43mEnter the num1: \u001b[39;49m\u001b[38;5;124;43m'\u001b[39;49m\u001b[43m)\u001b[49m\u001b[43m)\u001b[49m\n\u001b[0;32m      2\u001b[0m num2 \u001b[38;5;241m=\u001b[39m \u001b[38;5;28mint\u001b[39m(\u001b[38;5;28minput\u001b[39m(\u001b[38;5;124m'\u001b[39m\u001b[38;5;124mEnter the num2: \u001b[39m\u001b[38;5;124m'\u001b[39m))\n\u001b[0;32m      3\u001b[0m \u001b[38;5;28mprint\u001b[39m(num1 \u001b[38;5;241m+\u001b[39m num2)\n",
      "\u001b[1;31mValueError\u001b[0m: invalid literal for int() with base 10: 'True'"
     ]
    }
   ],
   "source": [
    "num1 = int(input('Enter the num1: '))\n",
    "num2 = int(input('Enter the num2: '))\n",
    "print(num1 + num2)"
   ]
  },
  {
   "cell_type": "code",
   "execution_count": 173,
   "id": "92a47f7f",
   "metadata": {},
   "outputs": [
    {
     "name": "stdout",
     "output_type": "stream",
     "text": [
      "sachin-tendulkar-1-10 rohit\n"
     ]
    }
   ],
   "source": [
    "# print(sep = ' ', end='\\n')\n",
    "print('sachin','tendulkar',1,10, sep='-', end=' ')\n",
    "print('rohit')"
   ]
  },
  {
   "cell_type": "code",
   "execution_count": 185,
   "id": "834cd84d",
   "metadata": {},
   "outputs": [
    {
     "name": "stdout",
     "output_type": "stream",
     "text": [
      "T I K N A\n"
     ]
    }
   ],
   "source": [
    "name = 'ANKIT'\n",
    "# print(name, len(name)) # len -> length\n",
    "# print(name[0], name[1], name[2], name[3], name[4], name[5]) # index error\n",
    "print(name[-1], name[-2], name[-3], name[-4], name[-5])"
   ]
  },
  {
   "cell_type": "code",
   "execution_count": 191,
   "id": "51ddacbb",
   "metadata": {},
   "outputs": [
    {
     "name": "stdout",
     "output_type": "stream",
     "text": [
      "1955610100144\n",
      "vasi 1955610100912\n"
     ]
    }
   ],
   "source": [
    "# strings are immutable\n",
    "name = 'DEMIN'\n",
    "print(id(name))\n",
    "# print(name[0])\n",
    "# name[0] = 'JURISH' # immutable\n",
    "name = 'vasi'\n",
    "print(name, id(name))"
   ]
  },
  {
   "cell_type": "code",
   "execution_count": 212,
   "id": "a130e8f5",
   "metadata": {},
   "outputs": [
    {
     "name": "stdout",
     "output_type": "stream",
     "text": [
      "JerryEMINDDDD\n"
     ]
    }
   ],
   "source": [
    "# python methods\n",
    "# replace\n",
    "name = \"DDEMINDDDD\"\n",
    "# print(id(name))\n",
    "# print(name.replace('DD', 'Jerry', 1)) # 2 -> count"
   ]
  },
  {
   "cell_type": "code",
   "execution_count": 201,
   "id": "925115d1",
   "metadata": {},
   "outputs": [
    {
     "name": "stdout",
     "output_type": "stream",
     "text": [
      "Ishita\n"
     ]
    }
   ],
   "source": [
    "name = 'ishita'\n",
    "# print(name.lower())\n",
    "# print(name.upper())\n",
    "# print(name.capitalize())"
   ]
  },
  {
   "cell_type": "code",
   "execution_count": 217,
   "id": "ebbc1a98",
   "metadata": {},
   "outputs": [
    {
     "name": "stdout",
     "output_type": "stream",
     "text": [
      "mmmmmhttps://google.co\n"
     ]
    }
   ],
   "source": [
    "# strip\n",
    "# game = '             God of war               '\n",
    "# print(game, len(game))\n",
    "# print(game.strip(), len(game.strip())) # removes ' ' infront and end of string by default\n",
    "\n",
    "url = 'mmmmmhttps://google.commmmmmm'\n",
    "# print(url.strip('m'))\n",
    "# print(url.lstrip('m'))\n",
    "# print(url.rstrip('m'))"
   ]
  },
  {
   "cell_type": "code",
   "execution_count": 226,
   "id": "1afa6391",
   "metadata": {},
   "outputs": [
    {
     "name": "stdout",
     "output_type": "stream",
     "text": [
      "smit krithiga souvit\n"
     ]
    }
   ],
   "source": [
    "# data scientists\n",
    "name1 = 'Smit'\n",
    "name2 = 'krithiga'\n",
    "name3 = 'souvit'\n",
    "name4 = 'prashant'\n",
    "\n",
    "\n",
    "data_scientists = ['smit', 'krithiga', 'souvit', 'prashant', 10]\n",
    "print(data_scientists[0], data_scientists[1], data_scientists[2])"
   ]
  },
  {
   "cell_type": "code",
   "execution_count": null,
   "id": "e09e2e33",
   "metadata": {},
   "outputs": [],
   "source": [
    "# COLLECTIONS -> LIST, TUPLE, SET, DICTIONARY\n"
   ]
  }
 ],
 "metadata": {
  "kernelspec": {
   "display_name": "Python 3 (ipykernel)",
   "language": "python",
   "name": "python3"
  },
  "language_info": {
   "codemirror_mode": {
    "name": "ipython",
    "version": 3
   },
   "file_extension": ".py",
   "mimetype": "text/x-python",
   "name": "python",
   "nbconvert_exporter": "python",
   "pygments_lexer": "ipython3",
   "version": "3.9.12"
  }
 },
 "nbformat": 4,
 "nbformat_minor": 5
}
