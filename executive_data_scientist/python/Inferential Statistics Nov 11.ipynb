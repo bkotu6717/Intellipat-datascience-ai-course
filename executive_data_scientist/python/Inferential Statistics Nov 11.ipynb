{
 "cells": [
  {
   "cell_type": "code",
   "execution_count": 1,
   "id": "0f7b53ab",
   "metadata": {},
   "outputs": [],
   "source": [
    "#!pip install scipy\n",
    "import scipy.stats as st\n",
    "import statistics as s\n",
    "import numpy as np\n",
    "import matplotlib.pyplot as plt"
   ]
  },
  {
   "cell_type": "code",
   "execution_count": 2,
   "id": "cce2f242",
   "metadata": {},
   "outputs": [],
   "source": [
    "height=[178,171,167,172,183,189,178,171,159,178,184,170,172,210,157,167,172]"
   ]
  },
  {
   "cell_type": "code",
   "execution_count": 4,
   "id": "98dada4f",
   "metadata": {},
   "outputs": [
    {
     "data": {
      "text/plain": [
       "17"
      ]
     },
     "execution_count": 4,
     "metadata": {},
     "output_type": "execute_result"
    }
   ],
   "source": [
    "len(height)"
   ]
  },
  {
   "cell_type": "code",
   "execution_count": 7,
   "id": "7c125eb9",
   "metadata": {},
   "outputs": [
    {
     "data": {
      "text/plain": [
       "175.1764705882353"
      ]
     },
     "execution_count": 7,
     "metadata": {},
     "output_type": "execute_result"
    }
   ],
   "source": [
    "sample_mean=np.mean(height)\n",
    "sample_mean"
   ]
  },
  {
   "cell_type": "code",
   "execution_count": 17,
   "id": "3b37bf7a",
   "metadata": {},
   "outputs": [
    {
     "data": {
      "text/plain": [
       "2.9608167768639735"
      ]
     },
     "execution_count": 17,
     "metadata": {},
     "output_type": "execute_result"
    }
   ],
   "source": [
    "sample_std=np.std(height)\n",
    "sample_std\n",
    "\n",
    "sample_std/np.sqrt(17-1)"
   ]
  },
  {
   "cell_type": "code",
   "execution_count": 18,
   "id": "6b4e704e",
   "metadata": {},
   "outputs": [
    {
     "data": {
      "text/plain": [
       "2.960816776863974"
      ]
     },
     "execution_count": 18,
     "metadata": {},
     "output_type": "execute_result"
    }
   ],
   "source": [
    "## Standard error of mean\n",
    "std_err=st.sem(height)\n",
    "std_err"
   ]
  },
  {
   "cell_type": "code",
   "execution_count": 30,
   "id": "fc2d8331",
   "metadata": {},
   "outputs": [
    {
     "data": {
      "text/plain": [
       "1.2815515655446004"
      ]
     },
     "execution_count": 30,
     "metadata": {},
     "output_type": "execute_result"
    }
   ],
   "source": [
    "z_value=st.norm.ppf(0.90)\n",
    "z_value"
   ]
  },
  {
   "cell_type": "code",
   "execution_count": 31,
   "id": "7fe4ef81",
   "metadata": {},
   "outputs": [
    {
     "name": "stdout",
     "output_type": "stream",
     "text": [
      "171.38203121255455 178.97090996391606\n"
     ]
    }
   ],
   "source": [
    "LCI=sample_mean-(z_value*std_err) ### Lower confidence Internval\n",
    "UCI=sample_mean+(z_value*std_err)### Upper confidence Internval\n",
    "\n",
    "print(LCI,UCI)"
   ]
  },
  {
   "cell_type": "code",
   "execution_count": 33,
   "id": "d881792f",
   "metadata": {},
   "outputs": [],
   "source": [
    "#at 95% confidence:   171.3 ---- 178.0\n",
    "#at 95% confidence:   170.3 ---- 180.0\n",
    "#at 99% confidence:   168 --------182"
   ]
  },
  {
   "cell_type": "code",
   "execution_count": null,
   "id": "cf13dc36",
   "metadata": {},
   "outputs": [],
   "source": [
    "95% 6.5-8.5\n",
    "\n",
    "99% 5.5 - 9.5"
   ]
  },
  {
   "cell_type": "code",
   "execution_count": 39,
   "id": "48c1a786",
   "metadata": {},
   "outputs": [
    {
     "data": {
      "text/plain": [
       "<Figure size 720x360 with 0 Axes>"
      ]
     },
     "metadata": {},
     "output_type": "display_data"
    },
    {
     "data": {
      "image/png": "[encoded data removed]",
      "text/plain": [
       "<Figure size 360x360 with 1 Axes>"
      ]
     },
     "metadata": {
      "needs_background": "light"
     },
     "output_type": "display_data"
    }
   ],
   "source": [
    "import seaborn as sns\n",
    "\n",
    "plt.figure(figsize=(10,5))\n",
    "sns.displot(height)\n",
    "plt.axvline(x=sample_mean,color=\"green\")\n",
    "plt.axvline(x=LCI,color=\"red\")\n",
    "plt.axvline(x=UCI,color=\"red\")\n",
    "plt.show()\n"
   ]
  }
 ],
 "metadata": {
  "kernelspec": {
   "display_name": "Python 3 (ipykernel)",
   "language": "python",
   "name": "python3"
  },
  "language_info": {
   "codemirror_mode": {
    "name": "ipython",
    "version": 3
   },
   "file_extension": ".py",
   "mimetype": "text/x-python",
   "name": "python",
   "nbconvert_exporter": "python",
   "pygments_lexer": "ipython3",
   "version": "3.9.7"
  }
 },
 "nbformat": 4,
 "nbformat_minor": 5
}
