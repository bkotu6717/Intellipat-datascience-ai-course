{
 "cells": [
  {
   "cell_type": "markdown",
   "id": "af414428",
   "metadata": {},
   "source": [
    "# stats basic Handson/ casestudy"
   ]
  },
  {
   "cell_type": "code",
   "execution_count": 2,
   "id": "e2a48c8a",
   "metadata": {},
   "outputs": [],
   "source": [
    "import numpy as np\n",
    "import pandas as pd\n",
    "import matplotlib.pyplot as plt"
   ]
  },
  {
   "cell_type": "code",
   "execution_count": 17,
   "id": "56488adf",
   "metadata": {},
   "outputs": [
    {
     "name": "stdout",
     "output_type": "stream",
     "text": [
      "           Region\n",
      "1  SouthernEurope\n"
     ]
    }
   ],
   "source": [
    "df=pd.read_csv(\"country_profile_variables.csv\")\n",
    "print(df.iloc[1:2, 1:2])"
   ]
  },
  {
   "cell_type": "code",
   "execution_count": null,
   "id": "0bb80325",
   "metadata": {},
   "outputs": [],
   "source": [
    "df"
   ]
  },
  {
   "cell_type": "code",
   "execution_count": null,
   "id": "2992d9c9",
   "metadata": {},
   "outputs": [],
   "source": [
    "# data Cleansing\n",
    "# null values\n",
    "df.isnull().sum()"
   ]
  },
  {
   "cell_type": "code",
   "execution_count": null,
   "id": "9ca8dd97",
   "metadata": {},
   "outputs": [],
   "source": [
    "# duplicate values\n",
    "df.duplicated().sum()"
   ]
  },
  {
   "cell_type": "markdown",
   "id": "9025f9f5",
   "metadata": {},
   "source": [
    "# let's perform the statistics topics practically"
   ]
  },
  {
   "cell_type": "code",
   "execution_count": null,
   "id": "a7e8a906",
   "metadata": {},
   "outputs": [],
   "source": [
    "# central Tendencies:\n",
    "#     mean\n",
    "#     median\n",
    "#     mode\n",
    "# variation:\n",
    "#     range\n",
    "#     percentile\n",
    "#     quartiles\n",
    "#     IQR\n",
    "#     variance\n",
    "#     standard deviation\n",
    "# correlation\n",
    "# probability"
   ]
  },
  {
   "cell_type": "code",
   "execution_count": null,
   "id": "f62da53b",
   "metadata": {},
   "outputs": [],
   "source": [
    "df[\"Population in thousands (2017)\"]"
   ]
  },
  {
   "cell_type": "markdown",
   "id": "491af050",
   "metadata": {},
   "source": [
    "# central Tendencies:"
   ]
  },
  {
   "cell_type": "code",
   "execution_count": null,
   "id": "ea64b1fd",
   "metadata": {},
   "outputs": [],
   "source": [
    "#mean\n",
    "sum(df[\"Population in thousands (2017)\"])/len(df[\"Population in thousands (2017)\"])"
   ]
  },
  {
   "cell_type": "code",
   "execution_count": null,
   "id": "ba67de29",
   "metadata": {},
   "outputs": [],
   "source": [
    "# python function\n",
    "df[\"Population in thousands (2017)\"].mean()"
   ]
  },
  {
   "cell_type": "code",
   "execution_count": null,
   "id": "d7ac4d7f",
   "metadata": {},
   "outputs": [],
   "source": [
    "# Median"
   ]
  },
  {
   "cell_type": "code",
   "execution_count": null,
   "id": "ed6e4162",
   "metadata": {},
   "outputs": [],
   "source": [
    "new_df=df[\"Population in thousands (2017)\"].sort_values().reset_index()"
   ]
  },
  {
   "cell_type": "code",
   "execution_count": null,
   "id": "69b95e83",
   "metadata": {},
   "outputs": [],
   "source": [
    "n=229\n",
    "new_df"
   ]
  },
  {
   "cell_type": "code",
   "execution_count": null,
   "id": "5af38a5f",
   "metadata": {},
   "outputs": [],
   "source": [
    "(n+1)/2 # 115th term is median which means 114th index"
   ]
  },
  {
   "cell_type": "code",
   "execution_count": null,
   "id": "5436a90a",
   "metadata": {},
   "outputs": [],
   "source": [
    "new_df.loc[114,\"Population in thousands (2017)\"]"
   ]
  },
  {
   "cell_type": "code",
   "execution_count": null,
   "id": "60e77bc2",
   "metadata": {},
   "outputs": [],
   "source": [
    "# python function\n",
    "df[\"Population in thousands (2017)\"].median()"
   ]
  },
  {
   "cell_type": "code",
   "execution_count": null,
   "id": "d5d68423",
   "metadata": {},
   "outputs": [],
   "source": [
    "#mode\n",
    "df[\"Population in thousands (2017)\"].value_counts().head(15)"
   ]
  },
  {
   "cell_type": "code",
   "execution_count": null,
   "id": "ae43bdc5",
   "metadata": {},
   "outputs": [],
   "source": [
    "2890,55,11 ,56 ,276,2930,1,108 ,283 ,105 ,35#mode"
   ]
  },
  {
   "cell_type": "code",
   "execution_count": null,
   "id": "c0ed958e",
   "metadata": {},
   "outputs": [],
   "source": [
    "df[\"Population in thousands (2017)\"].mode()"
   ]
  },
  {
   "cell_type": "markdown",
   "id": "f4b8035c",
   "metadata": {},
   "source": [
    "# variation:"
   ]
  },
  {
   "cell_type": "code",
   "execution_count": null,
   "id": "dc0362cb",
   "metadata": {},
   "outputs": [],
   "source": [
    "# Range\n",
    "maxi=df[\"Population in thousands (2017)\"].max()"
   ]
  },
  {
   "cell_type": "code",
   "execution_count": null,
   "id": "15e30267",
   "metadata": {},
   "outputs": [],
   "source": [
    "mini=df[\"Population in thousands (2017)\"].min()"
   ]
  },
  {
   "cell_type": "code",
   "execution_count": null,
   "id": "b4fb204b",
   "metadata": {},
   "outputs": [],
   "source": [
    "Range=maxi-mini"
   ]
  },
  {
   "cell_type": "code",
   "execution_count": null,
   "id": "20936c4f",
   "metadata": {},
   "outputs": [],
   "source": [
    "Range"
   ]
  },
  {
   "cell_type": "code",
   "execution_count": null,
   "id": "eb18b77c",
   "metadata": {},
   "outputs": [],
   "source": [
    "# Percentile"
   ]
  },
  {
   "cell_type": "code",
   "execution_count": null,
   "id": "271da6c3",
   "metadata": {},
   "outputs": [],
   "source": [
    "df[\"Population in thousands (2017)\"].quantile(0.90)#percentile"
   ]
  },
  {
   "cell_type": "code",
   "execution_count": null,
   "id": "4176bae2",
   "metadata": {},
   "outputs": [],
   "source": [
    "df[\"Population in thousands quantile(2017)\"].quantile(0.20)#percentile"
   ]
  },
  {
   "cell_type": "code",
   "execution_count": null,
   "id": "8cedd86f",
   "metadata": {},
   "outputs": [],
   "source": [
    "df[\"Population in thousands (2017)\"].quantile(0.50)#percentile or quartile"
   ]
  },
  {
   "cell_type": "code",
   "execution_count": null,
   "id": "68520509",
   "metadata": {},
   "outputs": [],
   "source": [
    "# Quartiles\n",
    "Q1=df[\"Population in thousands (2017)\"].quantile(0.25)\n",
    "Q2=df[\"Population in thousands (2017)\"].quantile(0.50)\n",
    "Q3=df[\"Population in thousands (2017)\"].quantile(0.75)"
   ]
  },
  {
   "cell_type": "code",
   "execution_count": null,
   "id": "841b0625",
   "metadata": {},
   "outputs": [],
   "source": [
    "Q1,Q2,Q3"
   ]
  },
  {
   "cell_type": "code",
   "execution_count": null,
   "id": "ef82c9f6",
   "metadata": {},
   "outputs": [],
   "source": [
    "checking at what percentile 2890 is lies"
   ]
  },
  {
   "cell_type": "code",
   "execution_count": null,
   "id": "c148181c",
   "metadata": {},
   "outputs": [],
   "source": [
    "len(df[df[\"Population in thousands (2017)\"]<=2890])"
   ]
  },
  {
   "cell_type": "code",
   "execution_count": null,
   "id": "afe2a1c6",
   "metadata": {},
   "outputs": [],
   "source": [
    "len(df)"
   ]
  },
  {
   "cell_type": "code",
   "execution_count": null,
   "id": "de652f31",
   "metadata": {},
   "outputs": [],
   "source": [
    "(92/229)*100"
   ]
  },
  {
   "cell_type": "code",
   "execution_count": null,
   "id": "8d432996",
   "metadata": {},
   "outputs": [],
   "source": [
    "# IQR - interquartile Range\n",
    "IQR=Q3-Q1\n",
    "IQR"
   ]
  },
  {
   "cell_type": "code",
   "execution_count": null,
   "id": "7d7a6e15",
   "metadata": {},
   "outputs": [],
   "source": [
    "plt.boxplot(df[\"Individuals using the Internet (per 100 inhabitants)\"])\n",
    "plt.show()"
   ]
  },
  {
   "cell_type": "code",
   "execution_count": null,
   "id": "eeb235b1",
   "metadata": {},
   "outputs": [],
   "source": [
    "Q1=df[\"Individuals using the Internet (per 100 inhabitants)\"].quantile(0.25)\n",
    "Q3=df[\"Individuals using the Internet (per 100 inhabitants)\"].quantile(0.75)"
   ]
  },
  {
   "cell_type": "code",
   "execution_count": null,
   "id": "e7cc1313",
   "metadata": {},
   "outputs": [],
   "source": [
    "IQR=Q3-Q1\n",
    "print(Q1,Q3,IQR)"
   ]
  },
  {
   "cell_type": "code",
   "execution_count": null,
   "id": "be8cc387",
   "metadata": {},
   "outputs": [],
   "source": [
    "UW=Q3+1.5*IQR\n",
    "LW=Q1-1.5*IQR"
   ]
  },
  {
   "cell_type": "code",
   "execution_count": null,
   "id": "6b00faeb",
   "metadata": {},
   "outputs": [],
   "source": [
    "UW"
   ]
  },
  {
   "cell_type": "code",
   "execution_count": null,
   "id": "8ff78897",
   "metadata": {},
   "outputs": [],
   "source": [
    "LW"
   ]
  },
  {
   "cell_type": "code",
   "execution_count": null,
   "id": "4eaaee59",
   "metadata": {},
   "outputs": [],
   "source": [
    "df=df[(df[\"Individuals using the Internet (per 100 inhabitants)\"]>=LW) & (df[\"Individuals using the Internet (per 100 inhabitants)\"]<=UW)]"
   ]
  },
  {
   "cell_type": "code",
   "execution_count": null,
   "id": "056aa10d",
   "metadata": {},
   "outputs": [],
   "source": [
    "df"
   ]
  },
  {
   "cell_type": "code",
   "execution_count": null,
   "id": "eb73a9bc",
   "metadata": {},
   "outputs": [],
   "source": [
    "#  variance and standard deviation"
   ]
  },
  {
   "cell_type": "code",
   "execution_count": null,
   "id": "9478de90",
   "metadata": {},
   "outputs": [],
   "source": [
    "v=df[\"Individuals using the Internet (per 100 inhabitants)\"].var()"
   ]
  },
  {
   "cell_type": "code",
   "execution_count": null,
   "id": "57dec3b9",
   "metadata": {},
   "outputs": [],
   "source": [
    "v"
   ]
  },
  {
   "cell_type": "code",
   "execution_count": null,
   "id": "ceac3293",
   "metadata": {},
   "outputs": [],
   "source": [
    "np.sqrt(v)#standard deviation"
   ]
  },
  {
   "cell_type": "code",
   "execution_count": null,
   "id": "94a296e8",
   "metadata": {},
   "outputs": [],
   "source": [
    "df[\"Individuals using the Internet (per 100 inhabitants)\"].std()"
   ]
  },
  {
   "cell_type": "code",
   "execution_count": null,
   "id": "55cd05da",
   "metadata": {},
   "outputs": [],
   "source": [
    "# correlation"
   ]
  },
  {
   "cell_type": "code",
   "execution_count": null,
   "id": "5b47b693",
   "metadata": {},
   "outputs": [],
   "source": [
    "new_df=df[[\"Population in thousands (2017)\",\"Population density (per km2, 2017)\",\"Sex ratio (m per 100 f, 2017)\"]]"
   ]
  },
  {
   "cell_type": "code",
   "execution_count": null,
   "id": "4134fefa",
   "metadata": {},
   "outputs": [],
   "source": [
    "new_df.info()"
   ]
  },
  {
   "cell_type": "code",
   "execution_count": null,
   "id": "a775bd09",
   "metadata": {},
   "outputs": [],
   "source": [
    "new_df.corr()"
   ]
  },
  {
   "cell_type": "code",
   "execution_count": null,
   "id": "691a0c54",
   "metadata": {},
   "outputs": [],
   "source": [
    "df[\"Population in thousands (2017)\"]"
   ]
  },
  {
   "cell_type": "code",
   "execution_count": null,
   "id": "5ae1bae4",
   "metadata": {},
   "outputs": [],
   "source": [
    "randomly I have to choose a row, what is the probability that the row i will chose will have population more than 10000"
   ]
  },
  {
   "cell_type": "code",
   "execution_count": null,
   "id": "ef2cde47",
   "metadata": {},
   "outputs": [],
   "source": [
    "len(df[df[\"Population in thousands (2017)\"]>10000]) #fav outcoms"
   ]
  },
  {
   "cell_type": "code",
   "execution_count": null,
   "id": "f7202a3c",
   "metadata": {},
   "outputs": [],
   "source": [
    "P=65/205"
   ]
  },
  {
   "cell_type": "code",
   "execution_count": null,
   "id": "24ac3c91",
   "metadata": {},
   "outputs": [],
   "source": [
    "P"
   ]
  },
  {
   "cell_type": "code",
   "execution_count": null,
   "id": "34388262",
   "metadata": {},
   "outputs": [],
   "source": [
    "31% chances that the choosen row wil have population more than 10000"
   ]
  }
 ],
 "metadata": {
  "kernelspec": {
   "display_name": "Python 3 (ipykernel)",
   "language": "python",
   "name": "python3"
  },
  "language_info": {
   "codemirror_mode": {
    "name": "ipython",
    "version": 3
   },
   "file_extension": ".py",
   "mimetype": "text/x-python",
   "name": "python",
   "nbconvert_exporter": "python",
   "pygments_lexer": "ipython3",
   "version": "3.9.6"
  }
 },
 "nbformat": 4,
 "nbformat_minor": 5
}
