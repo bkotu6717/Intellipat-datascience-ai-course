{
 "cells": [
  {
   "cell_type": "code",
   "execution_count": null,
   "id": "e5e1a6e4-18f6-4ca6-a86d-94bda8e78aaa",
   "metadata": {},
   "outputs": [],
   "source": [
    "# 1) Given a sample, find the standard deviation and variance of the same. Sample = [42 61 39 70 8 30 52 28 95 86 35 77 80 86 1 84 90 57 45 6 1 56 60 83 24 63 93 59 92 53]\n",
    "# 24.89, 811.59\n",
    "# 28.94, 819.15\n",
    "# 28.44, 800.49\n",
    "# 28.49, 811.95"
   ]
  },
  {
   "cell_type": "code",
   "execution_count": 8,
   "id": "35c7d164-c9a4-49d9-8407-48fdd59e84cc",
   "metadata": {},
   "outputs": [
    {
     "name": "stdout",
     "output_type": "stream",
     "text": [
      "28.49491182649983\n",
      "811.9599999999999\n"
     ]
    }
   ],
   "source": [
    "import numpy as np\n",
    "Sample = [42, 61, 39, 70, 8, 30, 52, 28, 95, 86, 35, 77, 80, 86, 1, 84, 90, 57, 45, 6, 1, 56, 60, 83, 24, 63, 93, 59, 92, 53]\n",
    "# print(np.mean(Sample))\n",
    "print(np.std(Sample))\n",
    "print(np.var(Sample))\n"
   ]
  },
  {
   "cell_type": "code",
   "execution_count": null,
   "id": "bb23c051-efdd-4017-acad-a4000d4f16c3",
   "metadata": {},
   "outputs": [],
   "source": [
    "# 2) For a given unsorted array, find the range of the array, and the Interquartile range(IQR) of the array. array = numpy.array([17, 27, 80, 39, 72, 95, 52, 85, 8, 64, 36, 15, 62, 76, 66, 67, 59, 92])\n",
    "# 95, 35.28\n",
    "# 87, 46.25\n",
    "# 95, 26.25\n",
    "# 87, 38.25"
   ]
  },
  {
   "cell_type": "code",
   "execution_count": 21,
   "id": "200ef052-dbdf-43af-834c-1bba8f2eec9b",
   "metadata": {},
   "outputs": [
    {
     "name": "stdout",
     "output_type": "stream",
     "text": [
      "87\n",
      "38.25\n"
     ]
    }
   ],
   "source": [
    "\n",
    "# Import the numpy library as np \n",
    "\n",
    "\n",
    "# import numpy as np \n",
    "# from scipy import stats\n",
    "\n",
    "data = np.array([17, 27, 80, 39, 72, 95, 52, 85, 8, 64, 36, 15, 62, 76, 66, 67, 59, 92])\n",
    "# x = stats.iqr(data)\n",
    "\n",
    "r = np.ptp(data)\n",
    "print(r)\n",
    "\n",
    "# First quartile (Q1) \n",
    "Q1 = np.median(data[:10]) \n",
    "\n",
    "# Third quartile (Q3) \n",
    "Q3 = np.median(data[10:]) \n",
    "\n",
    "# Interquartile range (IQR) \n",
    "IQR = Q3 - Q1 \n",
    "\n",
    "# print(x)\n",
    "\n",
    "q75, q25 = np.percentile(data, [75 ,25])\n",
    "iqr = q75 - q25\n",
    "\n",
    "print(iqr)\n"
   ]
  },
  {
   "cell_type": "code",
   "execution_count": 23,
   "id": "c058f3d4-4bd4-48a8-816a-d87713ed9edc",
   "metadata": {},
   "outputs": [
    {
     "name": "stdout",
     "output_type": "stream",
     "text": [
      "-2.75 15.0\n"
     ]
    }
   ],
   "source": [
    "# Calculate your IQR = Q3 – Q1.\n",
    "# Calculate your upper fence = Q3 + (1.5 * IQR)\n",
    "# Calculate your lower fence = Q1 – (1.5 * IQR)\n",
    "\n",
    "IQR= 4.5\n",
    "Q1, Q3 = 4, 8.25\n",
    "upperfence = Q3 + (1.5 * IQR)\n",
    "lowerfence = Q1 - (1.5 * IQR)\n",
    "print(lowerfence, upperfence)"
   ]
  },
  {
   "cell_type": "code",
   "execution_count": null,
   "id": "44823c0d-0989-435c-9a61-049f00937962",
   "metadata": {},
   "outputs": [],
   "source": [
    "# 4) If the IQR range of the sample is 4.5, and Q1 and Q3 values are 4, 8.25 respectively. Which of the following are suspected outliers in the sample?\n",
    "# -4, 15\n",
    "# 9 , 2\n",
    "# -1, 13\n",
    "# 12, 3"
   ]
  },
  {
   "cell_type": "code",
   "execution_count": null,
   "id": "b7ba5d0f-be9d-45d0-8ca8-d41f0726bccf",
   "metadata": {},
   "outputs": [],
   "source": [
    "# 5) In a normal distribution curve ___?\n",
    "# The mean and median are less than the mode\n",
    "# The mean and median are greater than the IQR range\n",
    "# The AUC value is 1\n",
    "# The graph is asymmetrical with negatively skewed or positively skewed distribution\n",
    "\n",
    "# AUC\n"
   ]
  },
  {
   "cell_type": "code",
   "execution_count": 6,
   "id": "6329f032-3075-4e42-a814-8d286b109259",
   "metadata": {},
   "outputs": [
    {
     "name": "stdout",
     "output_type": "stream",
     "text": [
      "(50.400470937660145, 69.69952906233985)\n"
     ]
    }
   ],
   "source": [
    "# 6) Calculate the 95% confidence interval of the given sample using the t-distribution. \n",
    "# Sample = [78 65 20 69 36 81 85 71 44 71 47 37 89 25 73 55 80 52 46 77].\n",
    "# (45.450 , 67.599)\n",
    "# (40.500 , 63.659)\n",
    "# (50.400 , 69.699)\n",
    "# (54.500 , 68.649)\n",
    "\n",
    "import numpy as np \n",
    "import scipy.stats as st \n",
    "\n",
    "# define sample data \n",
    "gfg_data = [78, 65, 20, 69, 36, 81, 85, 71, 44, 71, 47, 37, 89, 25, 73, 55, 80, 52, 46, 77]\n",
    "\n",
    "# create 90% confidence interval \n",
    "data = st.t.interval(confidence=0.95, df=len(gfg_data)-1, \n",
    "\t\t\tloc=np.mean(gfg_data), \n",
    "\t\t\tscale=st.sem(gfg_data))\n",
    "print(data)\n",
    "# (50.400470937660145, 69.69952906233985)\n"
   ]
  },
  {
   "cell_type": "code",
   "execution_count": 9,
   "id": "f8da7b63-ca85-428c-9e50-8a1719eef374",
   "metadata": {},
   "outputs": [
    {
     "data": {
      "text/plain": [
       "(1.0308547928995084, 0.3026089188995713)"
      ]
     },
     "execution_count": 9,
     "metadata": {},
     "output_type": "execute_result"
    }
   ],
   "source": [
    "# If the mean value is 100 and standard deviation is 15 for a normally distributed sample.\n",
    "# Calculate the p-value from the given sample after performing the one sample z-test on the\n",
    "# following data.\n",
    "# Sample = [88, 92, 84, 64, 96, 97, 67, 97, 96, 99,115, 119, 119, 129, 130, 142, 102, 123, 134, 105]\n",
    "\n",
    "from statsmodels.stats.weightstats import ztest as ztest\n",
    "\n",
    "data = [88, 92, 84, 64, 96, 97, 67, 97, 96, 99,115, 119, 119, 129, 130, 142, 102, 123, 134, 105]\n",
    "\n",
    "#perform one sample z-test\n",
    "ztest(data, value=100)\n",
    "\n",
    "# 0.30\n",
    "\n",
    "\n"
   ]
  },
  {
   "cell_type": "code",
   "execution_count": 11,
   "id": "57453870-0f61-4e56-9ff4-2718def6c1b2",
   "metadata": {},
   "outputs": [
    {
     "name": "stdout",
     "output_type": "stream",
     "text": [
      "-5.304483619392325 0.0004909393164477487\n"
     ]
    }
   ],
   "source": [
    "# Find t-statistic for the following samples given that the mean of the distribution is 8. \n",
    "data = [5, 3, 3, 5, 5, 6, 6, 7, 3, 8]\n",
    "\n",
    "import scipy.stats as st \n",
    "t_statistic, p_value = st.ttest_1samp(a=data, popmean=8) \n",
    "print(t_statistic , p_value)\n",
    "\n",
    "# -5.3045\n",
    "\n"
   ]
  },
  {
   "cell_type": "code",
   "execution_count": null,
   "id": "c4249e41-a09d-484f-b314-d1d91b68374f",
   "metadata": {},
   "outputs": [],
   "source": [
    "# There are two machines for spray coating at desired thickness. Their variability should be\n",
    "# similar if they need to be used for the same applications. To test this, various samples were\n",
    "# collected from both machines and the sample covariance of machine 1 and 2 are 1.84 and 6.36\n",
    "# respectively. Comment on whether these machines can be used for the same application if the\n",
    "# machines were truly built to have the same variance. Perform the test at 95% significance given n1\n",
    "# = 24 n2 = 25\n",
    "\n",
    "# Ans: Reject null hypothesis, variance of both the machines are different\n",
    "# Since the co-variance refers to direction of spread and there is lot of difference between both the machine variances, \n",
    "# the both the machines can not used for same application\n"
   ]
  },
  {
   "cell_type": "code",
   "execution_count": 14,
   "id": "d1fd9022-fad5-45f6-8c85-3c0f4076928d",
   "metadata": {},
   "outputs": [
    {
     "name": "stdout",
     "output_type": "stream",
     "text": [
      "12.440000000000001 6.409999999999999\n"
     ]
    },
    {
     "data": {
      "text/plain": [
       "TtestResult(statistic=-2.2802345265391493, pvalue=0.03634126906747281, df=16.329017262411426)"
      ]
     },
     "execution_count": 14,
     "metadata": {},
     "output_type": "execute_result"
    }
   ],
   "source": [
    "\n",
    "\n",
    "# Find t-statistic for the following sample sets assuming their means are same:\n",
    "\n",
    "# Sample set 1: [-3 3 5 9 2 5 10 5 2 6],\n",
    "\n",
    "# Sample set 2: [ 6 7 8 7 3 12 7 10 6 11].\n",
    "# Python program to display variance of data groups\n",
    "\n",
    "                \n",
    "# Import library\n",
    "import scipy.stats as stats\n",
    "import numpy as np\n",
    "\n",
    "# Creating data groups\n",
    "data_group1 = np.array([-3, 3, 5, 9, 2, 5, 10, 5, 2, 6])\n",
    "data_group2 = np.array([ 6, 7, 8, 7, 3, 12, 7, 10, 6, 11])\n",
    "\n",
    "# Print the variance of both data groups\n",
    "print(np.var(data_group1), np.var(data_group2))\n",
    "\n",
    "# perform two sample T-test\n",
    "\n",
    "\n",
    "# Perform the two sample t-test with equal variances\n",
    "stats.ttest_ind(a=data_group1, b=data_group2, equal_var=False)\n",
    "\n",
    "\n"
   ]
  },
  {
   "cell_type": "code",
   "execution_count": 18,
   "id": "58af22d3-7bb0-418a-be05-74344fd480ac",
   "metadata": {},
   "outputs": [
    {
     "name": "stdout",
     "output_type": "stream",
     "text": [
      "[9.89, 12.34, 3.25, 4.41, 6.17, 14.01] [9.32, 9.45, 8.39, 7.82, 9.48, 9.75]\n",
      "Degree of freedom 1: 5\n",
      "Degree of freedom 2: 5\n",
      "F-statistic: 33.840575141421056\n",
      "p-value: 0.999264982781807\n"
     ]
    }
   ],
   "source": [
    "# Find F-statistic value for the following sample sets generated from the same\n",
    "# Distribution.\n",
    "group1 = [9.89, 12.34, 3.25, 4.41, 6.17, 14.01]\n",
    "group2 = [9.32, 9.45, 8.39, 7.82, 9.48, 9.75]\n",
    "print(group1, group2)\n",
    "\n",
    "import numpy as np\n",
    "import scipy.stats as stats\n",
    "\n",
    "\n",
    "# Calculate the sample variances\n",
    "variance1 = np.var(group1, ddof=1)\n",
    "variance2 = np.var(group2, ddof=1)\n",
    "\n",
    "# Calculate the F-statistic\n",
    "f_value = variance1 / variance2\n",
    "\n",
    "# Calculate the degrees of freedom\n",
    "df1 = len(group1) - 1\n",
    "df2 = len(group2) - 1\n",
    "\n",
    "# Calculate the p-value\n",
    "p_value = stats.f.cdf(f_value, df1, df2)\n",
    "\n",
    "# Print the results\n",
    "print('Degree of freedom 1:',df1)\n",
    "print('Degree of freedom 2:',df2)\n",
    "print(\"F-statistic:\", f_value)\n",
    "print(\"p-value:\", p_value)\n",
    "\n",
    "\n"
   ]
  },
  {
   "cell_type": "code",
   "execution_count": null,
   "id": "3a291013-58cb-42ad-954e-6fcde9b38cb2",
   "metadata": {},
   "outputs": [],
   "source": []
  },
  {
   "cell_type": "code",
   "execution_count": null,
   "id": "3c6d536b-1f48-44ae-be5f-59104e93d2d1",
   "metadata": {},
   "outputs": [],
   "source": []
  }
 ],
 "metadata": {
  "kernelspec": {
   "display_name": "Python 3 (ipykernel)",
   "language": "python",
   "name": "python3"
  },
  "language_info": {
   "codemirror_mode": {
    "name": "ipython",
    "version": 3
   },
   "file_extension": ".py",
   "mimetype": "text/x-python",
   "name": "python",
   "nbconvert_exporter": "python",
   "pygments_lexer": "ipython3",
   "version": "3.10.12"
  }
 },
 "nbformat": 4,
 "nbformat_minor": 5
}
